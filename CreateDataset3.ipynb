{
 "cells": [
  {
   "attachments": {},
   "cell_type": "markdown",
   "metadata": {},
   "source": [
    "# Prediction of Hospital Readmissions\n",
    "\n",
    "This notebook's goal is to reproduce the claims from Zebin and Chaussalet's paper, 'Design and implementation of a deep recurrent model for prediction of readadmission in urgent care using electronic health records'.\n",
    "\n"
   ]
  },
  {
   "attachments": {},
   "cell_type": "markdown",
   "metadata": {},
   "source": [
    "## Claims\n",
    "\n",
    "When predicting ICU readmissions:\n",
    "\n",
    "1. LSTM+CNN produced higher accuracy than logistic regression, random forest, and SVM.\n",
    "2. LSTM+CNN produced higher precision than logistic regression, random forest, and SVM.\n",
    "3. LSTM+CNN produced higher recall than logistic regression and SVM"
   ]
  },
  {
   "cell_type": "code",
   "execution_count": 1,
   "metadata": {},
   "outputs": [],
   "source": [
    "import numpy as np\n",
    "import pandas as pd"
   ]
  },
  {
   "cell_type": "code",
   "execution_count": 2,
   "metadata": {},
   "outputs": [
    {
     "data": {
      "text/html": [
       "<div>\n",
       "<style scoped>\n",
       "    .dataframe tbody tr th:only-of-type {\n",
       "        vertical-align: middle;\n",
       "    }\n",
       "\n",
       "    .dataframe tbody tr th {\n",
       "        vertical-align: top;\n",
       "    }\n",
       "\n",
       "    .dataframe thead th {\n",
       "        text-align: right;\n",
       "    }\n",
       "</style>\n",
       "<table border=\"1\" class=\"dataframe\">\n",
       "  <thead>\n",
       "    <tr style=\"text-align: right;\">\n",
       "      <th></th>\n",
       "      <th>ROW_ID</th>\n",
       "      <th>SUBJECT_ID</th>\n",
       "      <th>GENDER</th>\n",
       "      <th>DOB</th>\n",
       "      <th>DOD</th>\n",
       "      <th>DOD_HOSP</th>\n",
       "      <th>DOD_SSN</th>\n",
       "      <th>EXPIRE_FLAG</th>\n",
       "    </tr>\n",
       "  </thead>\n",
       "  <tbody>\n",
       "    <tr>\n",
       "      <th>0</th>\n",
       "      <td>234</td>\n",
       "      <td>249</td>\n",
       "      <td>F</td>\n",
       "      <td>2075-03-13 00:00:00</td>\n",
       "      <td>NaN</td>\n",
       "      <td>NaN</td>\n",
       "      <td>NaN</td>\n",
       "      <td>0</td>\n",
       "    </tr>\n",
       "  </tbody>\n",
       "</table>\n",
       "</div>"
      ],
      "text/plain": [
       "   ROW_ID  SUBJECT_ID GENDER                  DOB  DOD DOD_HOSP DOD_SSN   \n",
       "0     234         249      F  2075-03-13 00:00:00  NaN      NaN     NaN  \\\n",
       "\n",
       "   EXPIRE_FLAG  \n",
       "0            0  "
      ]
     },
     "execution_count": 2,
     "metadata": {},
     "output_type": "execute_result"
    }
   ],
   "source": [
    "patients = pd.read_csv('./mimic-iii/PATIENTS.csv')\n",
    "patients.head(1)"
   ]
  },
  {
   "cell_type": "code",
   "execution_count": 3,
   "metadata": {},
   "outputs": [
    {
     "data": {
      "text/html": [
       "<div>\n",
       "<style scoped>\n",
       "    .dataframe tbody tr th:only-of-type {\n",
       "        vertical-align: middle;\n",
       "    }\n",
       "\n",
       "    .dataframe tbody tr th {\n",
       "        vertical-align: top;\n",
       "    }\n",
       "\n",
       "    .dataframe thead th {\n",
       "        text-align: right;\n",
       "    }\n",
       "</style>\n",
       "<table border=\"1\" class=\"dataframe\">\n",
       "  <thead>\n",
       "    <tr style=\"text-align: right;\">\n",
       "      <th></th>\n",
       "      <th>ROW_ID</th>\n",
       "      <th>SUBJECT_ID</th>\n",
       "      <th>HADM_ID</th>\n",
       "      <th>ADMITTIME</th>\n",
       "      <th>DISCHTIME</th>\n",
       "      <th>DEATHTIME</th>\n",
       "      <th>ADMISSION_TYPE</th>\n",
       "      <th>ADMISSION_LOCATION</th>\n",
       "      <th>DISCHARGE_LOCATION</th>\n",
       "      <th>INSURANCE</th>\n",
       "      <th>LANGUAGE</th>\n",
       "      <th>RELIGION</th>\n",
       "      <th>MARITAL_STATUS</th>\n",
       "      <th>ETHNICITY</th>\n",
       "      <th>EDREGTIME</th>\n",
       "      <th>EDOUTTIME</th>\n",
       "      <th>DIAGNOSIS</th>\n",
       "      <th>HOSPITAL_EXPIRE_FLAG</th>\n",
       "      <th>HAS_CHARTEVENTS_DATA</th>\n",
       "    </tr>\n",
       "  </thead>\n",
       "  <tbody>\n",
       "    <tr>\n",
       "      <th>0</th>\n",
       "      <td>21</td>\n",
       "      <td>22</td>\n",
       "      <td>165315</td>\n",
       "      <td>2196-04-09 12:26:00</td>\n",
       "      <td>2196-04-10 15:54:00</td>\n",
       "      <td>NaN</td>\n",
       "      <td>EMERGENCY</td>\n",
       "      <td>EMERGENCY ROOM ADMIT</td>\n",
       "      <td>DISC-TRAN CANCER/CHLDRN H</td>\n",
       "      <td>Private</td>\n",
       "      <td>NaN</td>\n",
       "      <td>UNOBTAINABLE</td>\n",
       "      <td>MARRIED</td>\n",
       "      <td>WHITE</td>\n",
       "      <td>2196-04-09 10:06:00</td>\n",
       "      <td>2196-04-09 13:24:00</td>\n",
       "      <td>BENZODIAZEPINE OVERDOSE</td>\n",
       "      <td>0</td>\n",
       "      <td>1</td>\n",
       "    </tr>\n",
       "  </tbody>\n",
       "</table>\n",
       "</div>"
      ],
      "text/plain": [
       "   ROW_ID  SUBJECT_ID  HADM_ID            ADMITTIME            DISCHTIME   \n",
       "0      21          22   165315  2196-04-09 12:26:00  2196-04-10 15:54:00  \\\n",
       "\n",
       "  DEATHTIME ADMISSION_TYPE    ADMISSION_LOCATION         DISCHARGE_LOCATION   \n",
       "0       NaN      EMERGENCY  EMERGENCY ROOM ADMIT  DISC-TRAN CANCER/CHLDRN H  \\\n",
       "\n",
       "  INSURANCE LANGUAGE      RELIGION MARITAL_STATUS ETHNICITY   \n",
       "0   Private      NaN  UNOBTAINABLE        MARRIED     WHITE  \\\n",
       "\n",
       "             EDREGTIME            EDOUTTIME                DIAGNOSIS   \n",
       "0  2196-04-09 10:06:00  2196-04-09 13:24:00  BENZODIAZEPINE OVERDOSE  \\\n",
       "\n",
       "   HOSPITAL_EXPIRE_FLAG  HAS_CHARTEVENTS_DATA  \n",
       "0                     0                     1  "
      ]
     },
     "execution_count": 3,
     "metadata": {},
     "output_type": "execute_result"
    }
   ],
   "source": [
    "admissions = pd.read_csv('./mimic-iii/ADMISSIONS.csv')\n",
    "admissions.head(1)"
   ]
  },
  {
   "cell_type": "code",
   "execution_count": 4,
   "metadata": {},
   "outputs": [
    {
     "data": {
      "text/html": [
       "<div>\n",
       "<style scoped>\n",
       "    .dataframe tbody tr th:only-of-type {\n",
       "        vertical-align: middle;\n",
       "    }\n",
       "\n",
       "    .dataframe tbody tr th {\n",
       "        vertical-align: top;\n",
       "    }\n",
       "\n",
       "    .dataframe thead th {\n",
       "        text-align: right;\n",
       "    }\n",
       "</style>\n",
       "<table border=\"1\" class=\"dataframe\">\n",
       "  <thead>\n",
       "    <tr style=\"text-align: right;\">\n",
       "      <th></th>\n",
       "      <th>ROW_ID</th>\n",
       "      <th>SUBJECT_ID</th>\n",
       "      <th>HADM_ID</th>\n",
       "      <th>ICUSTAY_ID</th>\n",
       "      <th>DBSOURCE</th>\n",
       "      <th>EVENTTYPE</th>\n",
       "      <th>PREV_CAREUNIT</th>\n",
       "      <th>CURR_CAREUNIT</th>\n",
       "      <th>PREV_WARDID</th>\n",
       "      <th>CURR_WARDID</th>\n",
       "      <th>INTIME</th>\n",
       "      <th>OUTTIME</th>\n",
       "      <th>LOS</th>\n",
       "    </tr>\n",
       "  </thead>\n",
       "  <tbody>\n",
       "    <tr>\n",
       "      <th>0</th>\n",
       "      <td>657</td>\n",
       "      <td>111</td>\n",
       "      <td>192123</td>\n",
       "      <td>254245.0</td>\n",
       "      <td>carevue</td>\n",
       "      <td>transfer</td>\n",
       "      <td>CCU</td>\n",
       "      <td>MICU</td>\n",
       "      <td>7.0</td>\n",
       "      <td>23.0</td>\n",
       "      <td>2142-04-29 15:27:11</td>\n",
       "      <td>2142-05-04 20:38:33</td>\n",
       "      <td>125.19</td>\n",
       "    </tr>\n",
       "  </tbody>\n",
       "</table>\n",
       "</div>"
      ],
      "text/plain": [
       "   ROW_ID  SUBJECT_ID  HADM_ID  ICUSTAY_ID DBSOURCE EVENTTYPE PREV_CAREUNIT   \n",
       "0     657         111   192123    254245.0  carevue  transfer           CCU  \\\n",
       "\n",
       "  CURR_CAREUNIT  PREV_WARDID  CURR_WARDID               INTIME   \n",
       "0          MICU          7.0         23.0  2142-04-29 15:27:11  \\\n",
       "\n",
       "               OUTTIME     LOS  \n",
       "0  2142-05-04 20:38:33  125.19  "
      ]
     },
     "execution_count": 4,
     "metadata": {},
     "output_type": "execute_result"
    }
   ],
   "source": [
    "transfers = pd.read_csv('./mimic-iii/TRANSFERS.csv')\n",
    "transfers.head(1)"
   ]
  },
  {
   "cell_type": "code",
   "execution_count": 5,
   "metadata": {},
   "outputs": [
    {
     "data": {
      "text/html": [
       "<div>\n",
       "<style scoped>\n",
       "    .dataframe tbody tr th:only-of-type {\n",
       "        vertical-align: middle;\n",
       "    }\n",
       "\n",
       "    .dataframe tbody tr th {\n",
       "        vertical-align: top;\n",
       "    }\n",
       "\n",
       "    .dataframe thead th {\n",
       "        text-align: right;\n",
       "    }\n",
       "</style>\n",
       "<table border=\"1\" class=\"dataframe\">\n",
       "  <thead>\n",
       "    <tr style=\"text-align: right;\">\n",
       "      <th></th>\n",
       "      <th>ROW_ID</th>\n",
       "      <th>SUBJECT_ID</th>\n",
       "      <th>HADM_ID</th>\n",
       "      <th>ICUSTAY_ID</th>\n",
       "      <th>DBSOURCE</th>\n",
       "      <th>FIRST_CAREUNIT</th>\n",
       "      <th>LAST_CAREUNIT</th>\n",
       "      <th>FIRST_WARDID</th>\n",
       "      <th>LAST_WARDID</th>\n",
       "      <th>INTIME</th>\n",
       "      <th>OUTTIME</th>\n",
       "      <th>LOS</th>\n",
       "    </tr>\n",
       "  </thead>\n",
       "  <tbody>\n",
       "    <tr>\n",
       "      <th>0</th>\n",
       "      <td>365</td>\n",
       "      <td>268</td>\n",
       "      <td>110404</td>\n",
       "      <td>280836</td>\n",
       "      <td>carevue</td>\n",
       "      <td>MICU</td>\n",
       "      <td>MICU</td>\n",
       "      <td>52</td>\n",
       "      <td>52</td>\n",
       "      <td>2198-02-14 23:27:38</td>\n",
       "      <td>2198-02-18 05:26:11</td>\n",
       "      <td>3.249</td>\n",
       "    </tr>\n",
       "  </tbody>\n",
       "</table>\n",
       "</div>"
      ],
      "text/plain": [
       "   ROW_ID  SUBJECT_ID  HADM_ID  ICUSTAY_ID DBSOURCE FIRST_CAREUNIT   \n",
       "0     365         268   110404      280836  carevue           MICU  \\\n",
       "\n",
       "  LAST_CAREUNIT  FIRST_WARDID  LAST_WARDID               INTIME   \n",
       "0          MICU            52           52  2198-02-14 23:27:38  \\\n",
       "\n",
       "               OUTTIME    LOS  \n",
       "0  2198-02-18 05:26:11  3.249  "
      ]
     },
     "execution_count": 5,
     "metadata": {},
     "output_type": "execute_result"
    }
   ],
   "source": [
    "icustays = pd.read_csv('./mimic-iii/ICUSTAYS.csv')\n",
    "icustays.head(1)\n"
   ]
  },
  {
   "cell_type": "code",
   "execution_count": 6,
   "metadata": {},
   "outputs": [],
   "source": [
    "# print(len(icustays.groupby(['HADM_ID'])))\n",
    "# test = (icustays.groupby(['HADM_ID']).size() > 1).reset_index()\n",
    "# test[test[0]==True]"
   ]
  },
  {
   "attachments": {},
   "cell_type": "markdown",
   "metadata": {},
   "source": [
    "## Example\n",
    "\n",
    "Patient with `SUBJECT_ID = 250`"
   ]
  },
  {
   "cell_type": "code",
   "execution_count": 7,
   "metadata": {},
   "outputs": [],
   "source": [
    "# patients[patients['SUBJECT_ID'] == 250]"
   ]
  },
  {
   "cell_type": "code",
   "execution_count": 8,
   "metadata": {},
   "outputs": [],
   "source": [
    "# admissions[admissions['SUBJECT_ID'] == 250]"
   ]
  },
  {
   "cell_type": "code",
   "execution_count": 9,
   "metadata": {},
   "outputs": [],
   "source": [
    "# transfers[transfers['SUBJECT_ID'] == 250]"
   ]
  },
  {
   "attachments": {},
   "cell_type": "markdown",
   "metadata": {},
   "source": [
    "## Create Dataset"
   ]
  },
  {
   "attachments": {},
   "cell_type": "markdown",
   "metadata": {},
   "source": [
    "SUBJECT_ID exmaples  291, 283, 250"
   ]
  },
  {
   "cell_type": "code",
   "execution_count": 10,
   "metadata": {},
   "outputs": [],
   "source": [
    "patients['DOB'] = pd.to_datetime(patients['DOB'], errors='coerce')\n",
    "patients['DOD'] = pd.to_datetime(patients['DOD'], errors='coerce')\n",
    "patients['DOD_HOSP'] = pd.to_datetime(patients['DOD_HOSP'], errors='coerce')\n",
    "patients['DOD_SSN'] = pd.to_datetime(patients['DOD_SSN'], errors='coerce')\n",
    "patients = patients.drop('ROW_ID', axis=1)"
   ]
  },
  {
   "cell_type": "code",
   "execution_count": 11,
   "metadata": {},
   "outputs": [],
   "source": [
    "admissions['ADMITTIME'] = pd.to_datetime(admissions['ADMITTIME'], errors='coerce')\n",
    "admissions['DISCHTIME'] = pd.to_datetime(admissions['DISCHTIME'], errors='coerce')\n",
    "admissions['DEATHTIME'] = pd.to_datetime(admissions['DEATHTIME'], errors='coerce')\n",
    "admissions = admissions.drop('ROW_ID', axis=1)"
   ]
  },
  {
   "cell_type": "code",
   "execution_count": 12,
   "metadata": {},
   "outputs": [],
   "source": [
    "transfers['INTIME'] = pd.to_datetime(transfers['INTIME'], errors='coerce')\n",
    "transfers['OUTTIME'] = pd.to_datetime(transfers['OUTTIME'], errors='coerce')\n",
    "transfers = transfers.drop('ROW_ID', axis=1)"
   ]
  },
  {
   "cell_type": "code",
   "execution_count": 13,
   "metadata": {},
   "outputs": [],
   "source": [
    "icustays['INTIME'] = pd.to_datetime(icustays['INTIME'], errors='coerce')\n",
    "icustays['OUTTIME'] = pd.to_datetime(icustays['OUTTIME'], errors='coerce')\n",
    "icustays = icustays.drop('ROW_ID', axis=1)"
   ]
  },
  {
   "attachments": {},
   "cell_type": "markdown",
   "metadata": {},
   "source": [
    "## Goal: Find cases of readmission\n",
    "\n",
    "1. Transferred & returned               = 3555\n",
    "2. Transferred & died                   = 1974\n",
    "3. Discharged & returned < 30 days      = 3205\n",
    "4. Discharged & died < 30 days          = 2556\n"
   ]
  },
  {
   "cell_type": "code",
   "execution_count": 14,
   "metadata": {},
   "outputs": [
    {
     "data": {
      "text/plain": [
       "array(['EMERGENCY', 'ELECTIVE', 'NEWBORN', 'URGENT'], dtype=object)"
      ]
     },
     "execution_count": 14,
     "metadata": {},
     "output_type": "execute_result"
    }
   ],
   "source": [
    "admissions_type = admissions['ADMISSION_TYPE'].unique()\n",
    "admissions_type"
   ]
  },
  {
   "attachments": {},
   "cell_type": "markdown",
   "metadata": {},
   "source": [
    "### Define death\n",
    "\n",
    "```python\n",
    "patients['EXPIRE_FLAG'] == 1\n",
    "```\n",
    "\n",
    "### Define death in hospital\n",
    "\n",
    "```python\n",
    "admissions['HOSPITAL_EXPIRE_FLAG'] == 1\n",
    "```\n",
    "\n",
    "### Define death in ICU (merge addmissions & icustays)\n",
    "\n",
    "```python\n",
    "dataset['DEATH_IN_ICU'] = (admissions['DEATHTIME'] > icustays['INTIME']) & (admissions['DEATHTIME'] < icustays['OUTTIME']).astype(int)\n",
    "```"
   ]
  },
  {
   "cell_type": "code",
   "execution_count": 15,
   "metadata": {},
   "outputs": [],
   "source": [
    "# There will be duplicate SUBJECT_ID\n",
    "dataset = pd.merge(admissions[['SUBJECT_ID', 'HADM_ID', 'ADMITTIME', 'DISCHTIME', 'DEATHTIME','HOSPITAL_EXPIRE_FLAG']], icustays[['SUBJECT_ID', 'HADM_ID', 'INTIME', 'OUTTIME']], 'inner',on=['SUBJECT_ID', 'HADM_ID'])\n",
    "# HADM_ID where patient died in ICU\n",
    "dataset['DEATH_IN_ICU'] = ((dataset['DEATHTIME'] > dataset['INTIME']) & (dataset['DEATHTIME'] < dataset['OUTTIME'])).astype(int)"
   ]
  },
  {
   "cell_type": "code",
   "execution_count": 16,
   "metadata": {},
   "outputs": [
    {
     "data": {
      "text/plain": [
       "3746"
      ]
     },
     "execution_count": 16,
     "metadata": {},
     "output_type": "execute_result"
    }
   ],
   "source": [
    "np.sum(icustays.duplicated(subset=['HADM_ID']).astype(int))"
   ]
  },
  {
   "attachments": {},
   "cell_type": "markdown",
   "metadata": {},
   "source": [
    "### 1. Transferred & Returned\n",
    "\n",
    "```python\n",
    "dataset['TRANSFERRED_RETURNED'] = icustays.duplicated(subset=['HADM_ID']).astype(int)\n",
    "```"
   ]
  },
  {
   "cell_type": "code",
   "execution_count": 17,
   "metadata": {},
   "outputs": [],
   "source": [
    "# HADM_ID where patient has multiple ICUSTAY_ID\n",
    "tnr = icustays[['SUBJECT_ID', 'HADM_ID', 'ICUSTAY_ID', 'INTIME']]\n",
    "tnr = tnr.sort_values(['HADM_ID','INTIME'])\n",
    "tnr['TRANSFERRED_RETURNED'] = (tnr.duplicated(subset=['HADM_ID'])).astype(int)\n",
    "tnr = tnr[tnr['TRANSFERRED_RETURNED'] == 1]\n"
   ]
  },
  {
   "attachments": {},
   "cell_type": "markdown",
   "metadata": {},
   "source": [
    "### 2. Transferred & Died\n",
    "\n",
    "```python\n",
    "dataset['TRANSFERRED_DEATH'] = admissions['HOSPITAL_EXPIRE_FLAG'] and not dataset['DEATH_IN_ICU']\n",
    "```"
   ]
  },
  {
   "cell_type": "code",
   "execution_count": 18,
   "metadata": {},
   "outputs": [],
   "source": [
    "# HADM_ID where patient died outside ICU, but still in hospital\n",
    "tnd = dataset.copy()\n",
    "tnd['TRANSFERRED_DEATH'] = (tnd['HOSPITAL_EXPIRE_FLAG'] & ~tnd['DEATH_IN_ICU']).astype(int)"
   ]
  },
  {
   "attachments": {},
   "cell_type": "markdown",
   "metadata": {},
   "source": [
    "### 3. Discharged & Returned < 30\n",
    "\n",
    "This is the wrong way. This labels the return visit instead of discharged visit\n",
    "\n",
    "```python\n",
    "sort admissions by SUBJECT_ID, ADMITTIME\n",
    "shifted = admissions.shift(1)\n",
    "shifted['DISCHTIME'] = pd.to_datetime(shifted['DISCHTIME'], errors='coerce')\n",
    "dataset['DISCHARGED_RETURNED'] = (shifted['SUBJECT_ID'] == admissions['SUBJECT_ID']) & (admissions['ADMITTIME'] - shifted['DISCHTIME'] <= np.timedelta64(30, 'D')) \n",
    "```"
   ]
  },
  {
   "cell_type": "code",
   "execution_count": 19,
   "metadata": {},
   "outputs": [],
   "source": [
    "dnr = admissions[['SUBJECT_ID', 'HADM_ID', 'ADMITTIME', 'DISCHTIME']].copy()\n",
    "dnr.sort_values(by=['SUBJECT_ID', 'DISCHTIME'], ignore_index=True, inplace=True)\n",
    "shifted = dnr.shift(-1)\n",
    "shifted['ADMITTIME'] = pd.to_datetime(shifted['ADMITTIME'], errors='coerce')\n",
    "shifted['DISCHTIME'] = pd.to_datetime(shifted['DISCHTIME'], errors='coerce')\n",
    "dnr['DISCHARGED_RETURNED'] = ((shifted['SUBJECT_ID'] == dnr['SUBJECT_ID']) & (shifted['ADMITTIME'] - dnr['DISCHTIME'] <= np.timedelta64(30, 'D'))).astype(int)"
   ]
  },
  {
   "attachments": {},
   "cell_type": "markdown",
   "metadata": {},
   "source": [
    "### 4. Discharged & Died < 30 (merge patients, addmisions)\n",
    "\n",
    "Need last discharged visit HADM_ID\n",
    "\n",
    "```python\n",
    "dataset['DISCHARGED_DEATH'] = patients['EXPIRE_FLAG'] & not admissions['HOSPITAL_EXPIRE_FLAG'] & (patients['DOD'] - admissions['DISCHTIME'] <= np.timedelta64(30, 'D')) \n",
    "```"
   ]
  },
  {
   "cell_type": "code",
   "execution_count": 20,
   "metadata": {},
   "outputs": [],
   "source": [
    "dnd = pd.merge(patients[['SUBJECT_ID', 'DOD', 'EXPIRE_FLAG']],admissions[['SUBJECT_ID', 'HADM_ID','DISCHTIME','HOSPITAL_EXPIRE_FLAG']],'inner',on='SUBJECT_ID')\n",
    "dnd['DISCHARGED_DEATH'] = ((dnd['EXPIRE_FLAG']==1) & (dnd['HOSPITAL_EXPIRE_FLAG']==0) & (dnd['DOD'] - dnd['DISCHTIME'] <= np.timedelta64(30, 'D')) ).astype(int)"
   ]
  },
  {
   "cell_type": "code",
   "execution_count": 21,
   "metadata": {},
   "outputs": [
    {
     "data": {
      "text/html": [
       "<div>\n",
       "<style scoped>\n",
       "    .dataframe tbody tr th:only-of-type {\n",
       "        vertical-align: middle;\n",
       "    }\n",
       "\n",
       "    .dataframe tbody tr th {\n",
       "        vertical-align: top;\n",
       "    }\n",
       "\n",
       "    .dataframe thead th {\n",
       "        text-align: right;\n",
       "    }\n",
       "</style>\n",
       "<table border=\"1\" class=\"dataframe\">\n",
       "  <thead>\n",
       "    <tr style=\"text-align: right;\">\n",
       "      <th></th>\n",
       "      <th>SUBJECT_ID</th>\n",
       "      <th>HADM_ID</th>\n",
       "      <th>ADMITTIME</th>\n",
       "      <th>DISCHTIME</th>\n",
       "      <th>DEATHTIME</th>\n",
       "      <th>ADMISSION_TYPE</th>\n",
       "      <th>ADMISSION_LOCATION</th>\n",
       "      <th>DISCHARGE_LOCATION</th>\n",
       "      <th>INSURANCE</th>\n",
       "      <th>LANGUAGE</th>\n",
       "      <th>RELIGION</th>\n",
       "      <th>MARITAL_STATUS</th>\n",
       "      <th>ETHNICITY</th>\n",
       "      <th>EDREGTIME</th>\n",
       "      <th>EDOUTTIME</th>\n",
       "      <th>DIAGNOSIS</th>\n",
       "      <th>HOSPITAL_EXPIRE_FLAG</th>\n",
       "      <th>HAS_CHARTEVENTS_DATA</th>\n",
       "    </tr>\n",
       "  </thead>\n",
       "  <tbody>\n",
       "    <tr>\n",
       "      <th>0</th>\n",
       "      <td>22</td>\n",
       "      <td>165315</td>\n",
       "      <td>2196-04-09 12:26:00</td>\n",
       "      <td>2196-04-10 15:54:00</td>\n",
       "      <td>NaT</td>\n",
       "      <td>EMERGENCY</td>\n",
       "      <td>EMERGENCY ROOM ADMIT</td>\n",
       "      <td>DISC-TRAN CANCER/CHLDRN H</td>\n",
       "      <td>Private</td>\n",
       "      <td>NaN</td>\n",
       "      <td>UNOBTAINABLE</td>\n",
       "      <td>MARRIED</td>\n",
       "      <td>WHITE</td>\n",
       "      <td>2196-04-09 10:06:00</td>\n",
       "      <td>2196-04-09 13:24:00</td>\n",
       "      <td>BENZODIAZEPINE OVERDOSE</td>\n",
       "      <td>0</td>\n",
       "      <td>1</td>\n",
       "    </tr>\n",
       "  </tbody>\n",
       "</table>\n",
       "</div>"
      ],
      "text/plain": [
       "   SUBJECT_ID  HADM_ID           ADMITTIME           DISCHTIME DEATHTIME   \n",
       "0          22   165315 2196-04-09 12:26:00 2196-04-10 15:54:00       NaT  \\\n",
       "\n",
       "  ADMISSION_TYPE    ADMISSION_LOCATION         DISCHARGE_LOCATION INSURANCE   \n",
       "0      EMERGENCY  EMERGENCY ROOM ADMIT  DISC-TRAN CANCER/CHLDRN H   Private  \\\n",
       "\n",
       "  LANGUAGE      RELIGION MARITAL_STATUS ETHNICITY            EDREGTIME   \n",
       "0      NaN  UNOBTAINABLE        MARRIED     WHITE  2196-04-09 10:06:00  \\\n",
       "\n",
       "             EDOUTTIME                DIAGNOSIS  HOSPITAL_EXPIRE_FLAG   \n",
       "0  2196-04-09 13:24:00  BENZODIAZEPINE OVERDOSE                     0  \\\n",
       "\n",
       "   HAS_CHARTEVENTS_DATA  \n",
       "0                     1  "
      ]
     },
     "execution_count": 21,
     "metadata": {},
     "output_type": "execute_result"
    }
   ],
   "source": [
    "admissions.head(1)"
   ]
  },
  {
   "attachments": {},
   "cell_type": "markdown",
   "metadata": {},
   "source": [
    "## merge"
   ]
  },
  {
   "cell_type": "code",
   "execution_count": 22,
   "metadata": {},
   "outputs": [],
   "source": [
    "dataset4 = admissions[['SUBJECT_ID', 'HADM_ID']].merge(tnr[['SUBJECT_ID', 'HADM_ID', 'ICUSTAY_ID', 'TRANSFERRED_RETURNED']], how='left', on=['SUBJECT_ID', 'HADM_ID'])\n",
    "dataset4 = dataset4.merge(tnd[['SUBJECT_ID', 'HADM_ID','TRANSFERRED_DEATH']], how='left', on=['SUBJECT_ID', 'HADM_ID'])\n",
    "dataset4 = dataset4.merge(dnr[['SUBJECT_ID', 'HADM_ID','DISCHARGED_RETURNED']], how='left', on=['SUBJECT_ID', 'HADM_ID'])\n",
    "dataset4 = dataset4.merge(dnd[['SUBJECT_ID', 'DISCHARGED_DEATH']], how='left', on=['SUBJECT_ID'])\n",
    "dataset4 = dataset4[(dataset4['TRANSFERRED_RETURNED'] == 1) | (dataset4['TRANSFERRED_DEATH'] == 1) | (dataset4['DISCHARGED_RETURNED'] == 1) | (dataset4['DISCHARGED_DEATH'] == 1)]\n",
    "dataset4 = dataset4.drop_duplicates(subset='HADM_ID')"
   ]
  },
  {
   "cell_type": "code",
   "execution_count": 23,
   "metadata": {},
   "outputs": [
    {
     "data": {
      "text/html": [
       "<div>\n",
       "<style scoped>\n",
       "    .dataframe tbody tr th:only-of-type {\n",
       "        vertical-align: middle;\n",
       "    }\n",
       "\n",
       "    .dataframe tbody tr th {\n",
       "        vertical-align: top;\n",
       "    }\n",
       "\n",
       "    .dataframe thead th {\n",
       "        text-align: right;\n",
       "    }\n",
       "</style>\n",
       "<table border=\"1\" class=\"dataframe\">\n",
       "  <thead>\n",
       "    <tr style=\"text-align: right;\">\n",
       "      <th></th>\n",
       "      <th>SUBJECT_ID</th>\n",
       "      <th>HADM_ID</th>\n",
       "      <th>ICUSTAY_ID</th>\n",
       "      <th>TRANSFERRED_RETURNED</th>\n",
       "      <th>TRANSFERRED_DEATH</th>\n",
       "      <th>DISCHARGED_RETURNED</th>\n",
       "      <th>DISCHARGED_DEATH</th>\n",
       "    </tr>\n",
       "  </thead>\n",
       "  <tbody>\n",
       "    <tr>\n",
       "      <th>19</th>\n",
       "      <td>36</td>\n",
       "      <td>182104</td>\n",
       "      <td>NaN</td>\n",
       "      <td>0</td>\n",
       "      <td>0</td>\n",
       "      <td>1</td>\n",
       "      <td>0</td>\n",
       "    </tr>\n",
       "    <tr>\n",
       "      <th>31</th>\n",
       "      <td>41</td>\n",
       "      <td>101757</td>\n",
       "      <td>237024.0</td>\n",
       "      <td>1</td>\n",
       "      <td>0</td>\n",
       "      <td>0</td>\n",
       "      <td>0</td>\n",
       "    </tr>\n",
       "    <tr>\n",
       "      <th>38</th>\n",
       "      <td>357</td>\n",
       "      <td>145674</td>\n",
       "      <td>NaN</td>\n",
       "      <td>0</td>\n",
       "      <td>0</td>\n",
       "      <td>1</td>\n",
       "      <td>0</td>\n",
       "    </tr>\n",
       "    <tr>\n",
       "      <th>58</th>\n",
       "      <td>358</td>\n",
       "      <td>110872</td>\n",
       "      <td>244658.0</td>\n",
       "      <td>1</td>\n",
       "      <td>0</td>\n",
       "      <td>0</td>\n",
       "      <td>0</td>\n",
       "    </tr>\n",
       "    <tr>\n",
       "      <th>64</th>\n",
       "      <td>361</td>\n",
       "      <td>148959</td>\n",
       "      <td>257948.0</td>\n",
       "      <td>1</td>\n",
       "      <td>0</td>\n",
       "      <td>0</td>\n",
       "      <td>0</td>\n",
       "    </tr>\n",
       "  </tbody>\n",
       "</table>\n",
       "</div>"
      ],
      "text/plain": [
       "    SUBJECT_ID  HADM_ID  ICUSTAY_ID  TRANSFERRED_RETURNED  TRANSFERRED_DEATH   \n",
       "19          36   182104         NaN                     0                  0  \\\n",
       "31          41   101757    237024.0                     1                  0   \n",
       "38         357   145674         NaN                     0                  0   \n",
       "58         358   110872    244658.0                     1                  0   \n",
       "64         361   148959    257948.0                     1                  0   \n",
       "\n",
       "    DISCHARGED_RETURNED  DISCHARGED_DEATH  \n",
       "19                    1                 0  \n",
       "31                    0                 0  \n",
       "38                    1                 0  \n",
       "58                    0                 0  \n",
       "64                    0                 0  "
      ]
     },
     "execution_count": 23,
     "metadata": {},
     "output_type": "execute_result"
    }
   ],
   "source": [
    "dataset4 = dataset4.drop_duplicates(subset='HADM_ID')\n",
    "dataset4.loc[dataset4['TRANSFERRED_RETURNED'].isnull(), 'TRANSFERRED_RETURNED'] = 0\n",
    "dataset4['TRANSFERRED_RETURNED'] = dataset4['TRANSFERRED_RETURNED'].astype(int)\n",
    "dataset4.loc[dataset4['TRANSFERRED_DEATH'].isnull(), 'TRANSFERRED_DEATH'] = 0\n",
    "dataset4['TRANSFERRED_DEATH'] = dataset4['TRANSFERRED_DEATH'].astype(int)\n",
    "dataset4.head()"
   ]
  },
  {
   "attachments": {},
   "cell_type": "markdown",
   "metadata": {},
   "source": [
    "## Age"
   ]
  },
  {
   "cell_type": "code",
   "execution_count": 24,
   "metadata": {},
   "outputs": [],
   "source": [
    "remove_age = pd.merge(admissions[['SUBJECT_ID', 'HADM_ID', 'ADMITTIME']], patients[['SUBJECT_ID', 'DOB']], how='inner', on='SUBJECT_ID')"
   ]
  },
  {
   "cell_type": "code",
   "execution_count": 25,
   "metadata": {},
   "outputs": [],
   "source": [
    "remove_age['AGE'] = ((pd.to_datetime(remove_age['ADMITTIME']).dt.date - pd.to_datetime(remove_age['DOB']).dt.date) / np.timedelta64(1, 'Y')).astype(int)"
   ]
  },
  {
   "cell_type": "code",
   "execution_count": 26,
   "metadata": {},
   "outputs": [],
   "source": [
    "remove_age['UNDER_18'] = (remove_age['AGE'] < 18).astype(int)\n"
   ]
  },
  {
   "cell_type": "code",
   "execution_count": 27,
   "metadata": {},
   "outputs": [],
   "source": [
    "dataset4 = pd.merge(dataset4, remove_age[['HADM_ID', 'AGE']], 'inner',on='HADM_ID')"
   ]
  },
  {
   "cell_type": "code",
   "execution_count": 28,
   "metadata": {},
   "outputs": [],
   "source": [
    "dataset4 = dataset4[dataset4['AGE'] >= 18]"
   ]
  },
  {
   "attachments": {},
   "cell_type": "markdown",
   "metadata": {},
   "source": [
    "## Goal: Find cases of readmission\n",
    "\n",
    "1. Transferred & returned               = 3555\n",
    "2. Transferred & died                   = 1974\n",
    "3. Discharged & returned < 30 days      = 3205\n",
    "4. Discharged & died < 30 days          = 2556"
   ]
  },
  {
   "cell_type": "code",
   "execution_count": 29,
   "metadata": {},
   "outputs": [
    {
     "name": "stdout",
     "output_type": "stream",
     "text": [
      "3151\n",
      "2024\n",
      "3159\n",
      "3171\n"
     ]
    }
   ],
   "source": [
    "print(np.sum(dataset4['TRANSFERRED_RETURNED']))\n",
    "print(np.sum(dataset4['TRANSFERRED_DEATH']))\n",
    "print(np.sum(dataset4['DISCHARGED_RETURNED']))\n",
    "print(np.sum(dataset4['DISCHARGED_DEATH']))"
   ]
  },
  {
   "cell_type": "code",
   "execution_count": null,
   "metadata": {},
   "outputs": [],
   "source": []
  },
  {
   "cell_type": "code",
   "execution_count": null,
   "metadata": {},
   "outputs": [],
   "source": []
  },
  {
   "cell_type": "code",
   "execution_count": 30,
   "metadata": {},
   "outputs": [],
   "source": [
    "admissions_subset = admissions[['SUBJECT_ID', 'HADM_ID', 'ADMITTIME', 'DISCHTIME', 'DEATHTIME']]\n",
    "patients_subset = patients[['SUBJECT_ID','GENDER','DOB','DOD','EXPIRE_FLAG']]\n",
    "dataset = pd.merge(admissions_subset, patients_subset, how='left', on='SUBJECT_ID')"
   ]
  },
  {
   "cell_type": "code",
   "execution_count": 31,
   "metadata": {},
   "outputs": [],
   "source": [
    "# Remove under 18\n",
    "dataset['AGE'] = ((pd.to_datetime(dataset['ADMITTIME']).dt.date - pd.to_datetime(dataset['DOB']).dt.date) / np.timedelta64(1, 'Y')).astype(int)\n",
    "dataset = dataset[dataset['AGE'] >= 18]"
   ]
  },
  {
   "cell_type": "code",
   "execution_count": 32,
   "metadata": {},
   "outputs": [],
   "source": [
    "icustays_subset = icustays[['SUBJECT_ID', 'HADM_ID', 'ICUSTAY_ID', 'INTIME', 'OUTTIME', 'LOS']]\n",
    "dataset = pd.merge(dataset, icustays_subset, how='left', on=['SUBJECT_ID','HADM_ID'])\n",
    "dataset = dataset.sort_values(by=['SUBJECT_ID', 'DISCHTIME'], ignore_index=True)\n",
    "#dataset = dataset.reindex()"
   ]
  },
  {
   "cell_type": "code",
   "execution_count": 33,
   "metadata": {},
   "outputs": [
    {
     "data": {
      "text/html": [
       "<div>\n",
       "<style scoped>\n",
       "    .dataframe tbody tr th:only-of-type {\n",
       "        vertical-align: middle;\n",
       "    }\n",
       "\n",
       "    .dataframe tbody tr th {\n",
       "        vertical-align: top;\n",
       "    }\n",
       "\n",
       "    .dataframe thead th {\n",
       "        text-align: right;\n",
       "    }\n",
       "</style>\n",
       "<table border=\"1\" class=\"dataframe\">\n",
       "  <thead>\n",
       "    <tr style=\"text-align: right;\">\n",
       "      <th></th>\n",
       "      <th>SUBJECT_ID</th>\n",
       "      <th>HADM_ID</th>\n",
       "      <th>ADMITTIME</th>\n",
       "      <th>DISCHTIME</th>\n",
       "      <th>DEATHTIME</th>\n",
       "      <th>GENDER</th>\n",
       "      <th>DOB</th>\n",
       "      <th>DOD</th>\n",
       "      <th>EXPIRE_FLAG</th>\n",
       "      <th>AGE</th>\n",
       "      <th>ICUSTAY_ID</th>\n",
       "      <th>INTIME</th>\n",
       "      <th>OUTTIME</th>\n",
       "      <th>LOS</th>\n",
       "    </tr>\n",
       "  </thead>\n",
       "  <tbody>\n",
       "    <tr>\n",
       "      <th>0</th>\n",
       "      <td>3</td>\n",
       "      <td>145834</td>\n",
       "      <td>2101-10-20 19:08:00</td>\n",
       "      <td>2101-10-31 13:58:00</td>\n",
       "      <td>NaT</td>\n",
       "      <td>M</td>\n",
       "      <td>2025-04-11</td>\n",
       "      <td>2102-06-14</td>\n",
       "      <td>1</td>\n",
       "      <td>76</td>\n",
       "      <td>211552.0</td>\n",
       "      <td>2101-10-20 19:10:11</td>\n",
       "      <td>2101-10-26 20:43:09</td>\n",
       "      <td>6.0646</td>\n",
       "    </tr>\n",
       "    <tr>\n",
       "      <th>1</th>\n",
       "      <td>4</td>\n",
       "      <td>185777</td>\n",
       "      <td>2191-03-16 00:28:00</td>\n",
       "      <td>2191-03-23 18:41:00</td>\n",
       "      <td>NaT</td>\n",
       "      <td>F</td>\n",
       "      <td>2143-05-12</td>\n",
       "      <td>NaT</td>\n",
       "      <td>0</td>\n",
       "      <td>47</td>\n",
       "      <td>294638.0</td>\n",
       "      <td>2191-03-16 00:29:31</td>\n",
       "      <td>2191-03-17 16:46:31</td>\n",
       "      <td>1.6785</td>\n",
       "    </tr>\n",
       "    <tr>\n",
       "      <th>2</th>\n",
       "      <td>6</td>\n",
       "      <td>107064</td>\n",
       "      <td>2175-05-30 07:15:00</td>\n",
       "      <td>2175-06-15 16:00:00</td>\n",
       "      <td>NaT</td>\n",
       "      <td>F</td>\n",
       "      <td>2109-06-21</td>\n",
       "      <td>NaT</td>\n",
       "      <td>0</td>\n",
       "      <td>65</td>\n",
       "      <td>228232.0</td>\n",
       "      <td>2175-05-30 21:30:54</td>\n",
       "      <td>2175-06-03 13:39:54</td>\n",
       "      <td>3.6729</td>\n",
       "    </tr>\n",
       "  </tbody>\n",
       "</table>\n",
       "</div>"
      ],
      "text/plain": [
       "   SUBJECT_ID  HADM_ID           ADMITTIME           DISCHTIME DEATHTIME   \n",
       "0           3   145834 2101-10-20 19:08:00 2101-10-31 13:58:00       NaT  \\\n",
       "1           4   185777 2191-03-16 00:28:00 2191-03-23 18:41:00       NaT   \n",
       "2           6   107064 2175-05-30 07:15:00 2175-06-15 16:00:00       NaT   \n",
       "\n",
       "  GENDER        DOB        DOD  EXPIRE_FLAG  AGE  ICUSTAY_ID   \n",
       "0      M 2025-04-11 2102-06-14            1   76    211552.0  \\\n",
       "1      F 2143-05-12        NaT            0   47    294638.0   \n",
       "2      F 2109-06-21        NaT            0   65    228232.0   \n",
       "\n",
       "               INTIME             OUTTIME     LOS  \n",
       "0 2101-10-20 19:10:11 2101-10-26 20:43:09  6.0646  \n",
       "1 2191-03-16 00:29:31 2191-03-17 16:46:31  1.6785  \n",
       "2 2175-05-30 21:30:54 2175-06-03 13:39:54  3.6729  "
      ]
     },
     "execution_count": 33,
     "metadata": {},
     "output_type": "execute_result"
    }
   ],
   "source": [
    "dataset.head(3)"
   ]
  },
  {
   "cell_type": "code",
   "execution_count": 34,
   "metadata": {},
   "outputs": [],
   "source": [
    "# cases of returning to ICU\n",
    "dataset['RETURNED_AFTER_TRANSFER'] = dataset.duplicated(subset=['HADM_ID']).astype(int)"
   ]
  },
  {
   "cell_type": "code",
   "execution_count": 35,
   "metadata": {},
   "outputs": [],
   "source": [
    "shifted = dataset.shift(1)\n",
    "dataset['RETURNED_AFTER_DISCHARGE'] = ((shifted['SUBJECT_ID'] == dataset['SUBJECT_ID']) & (dataset['DISCHTIME'] - shifted['ADMITTIME'] <= np.timedelta64(30, 'D'))).astype(int)"
   ]
  },
  {
   "cell_type": "code",
   "execution_count": 36,
   "metadata": {},
   "outputs": [],
   "source": [
    "dataset['DEATH_AFTER_TRANSFER'] = ((~dataset['DEATHTIME'].isnull())  & ((dataset['DEATHTIME'] > dataset['OUTTIME']) | (dataset['DEATHTIME'] < dataset['INTIME']))).astype(int)\n"
   ]
  },
  {
   "cell_type": "code",
   "execution_count": 37,
   "metadata": {},
   "outputs": [],
   "source": [
    "dataset['DEATH_AFTER_DISCHARGE'] = ((~dataset['DOD'].isnull())  & (dataset['DOD'] - dataset['DISCHTIME'] <= np.timedelta64(30, 'D')) & (dataset['DOD'] - dataset['DISCHTIME'] > np.timedelta64(0, 'D'))).astype(int)\n"
   ]
  },
  {
   "cell_type": "code",
   "execution_count": 38,
   "metadata": {},
   "outputs": [
    {
     "name": "stdout",
     "output_type": "stream",
     "text": [
      "Returned after transfer:\t 3637\n",
      "Returned after discharge:\t 4020\n",
      "Died after transfer:\t\t 2090\n",
      "Died after discharge:\t\t 2436\n"
     ]
    }
   ],
   "source": [
    "print('Returned after transfer:\\t', np.sum(dataset['RETURNED_AFTER_TRANSFER']))\n",
    "print('Returned after discharge:\\t', np.sum(dataset['RETURNED_AFTER_DISCHARGE']))\n",
    "print('Died after transfer:\\t\\t', np.sum(dataset['DEATH_AFTER_TRANSFER']))\n",
    "print('Died after discharge:\\t\\t', np.sum(dataset['DEATH_AFTER_DISCHARGE']))\n"
   ]
  },
  {
   "cell_type": "code",
   "execution_count": 39,
   "metadata": {},
   "outputs": [
    {
     "name": "stdout",
     "output_type": "stream",
     "text": [
      "ICU stays:\t 50766\n",
      "Patients:\t 38552\n"
     ]
    }
   ],
   "source": [
    "print('ICU stays:\\t', len(dataset['HADM_ID'].unique()))\n",
    "print('Patients:\\t', len(dataset['SUBJECT_ID'].unique()))"
   ]
  },
  {
   "cell_type": "code",
   "execution_count": 40,
   "metadata": {},
   "outputs": [
    {
     "data": {
      "text/html": [
       "<div>\n",
       "<style scoped>\n",
       "    .dataframe tbody tr th:only-of-type {\n",
       "        vertical-align: middle;\n",
       "    }\n",
       "\n",
       "    .dataframe tbody tr th {\n",
       "        vertical-align: top;\n",
       "    }\n",
       "\n",
       "    .dataframe thead th {\n",
       "        text-align: right;\n",
       "    }\n",
       "</style>\n",
       "<table border=\"1\" class=\"dataframe\">\n",
       "  <thead>\n",
       "    <tr style=\"text-align: right;\">\n",
       "      <th></th>\n",
       "      <th>SUBJECT_ID</th>\n",
       "      <th>HADM_ID</th>\n",
       "      <th>ADMITTIME</th>\n",
       "      <th>DISCHTIME</th>\n",
       "      <th>DEATHTIME</th>\n",
       "      <th>GENDER</th>\n",
       "      <th>DOB</th>\n",
       "      <th>DOD</th>\n",
       "      <th>EXPIRE_FLAG</th>\n",
       "      <th>AGE</th>\n",
       "      <th>ICUSTAY_ID</th>\n",
       "      <th>INTIME</th>\n",
       "      <th>OUTTIME</th>\n",
       "      <th>LOS</th>\n",
       "      <th>RETURNED_AFTER_TRANSFER</th>\n",
       "      <th>RETURNED_AFTER_DISCHARGE</th>\n",
       "      <th>DEATH_AFTER_TRANSFER</th>\n",
       "      <th>DEATH_AFTER_DISCHARGE</th>\n",
       "    </tr>\n",
       "  </thead>\n",
       "  <tbody>\n",
       "    <tr>\n",
       "      <th>0</th>\n",
       "      <td>3</td>\n",
       "      <td>145834</td>\n",
       "      <td>2101-10-20 19:08:00</td>\n",
       "      <td>2101-10-31 13:58:00</td>\n",
       "      <td>NaT</td>\n",
       "      <td>M</td>\n",
       "      <td>2025-04-11</td>\n",
       "      <td>2102-06-14</td>\n",
       "      <td>1</td>\n",
       "      <td>76</td>\n",
       "      <td>211552.0</td>\n",
       "      <td>2101-10-20 19:10:11</td>\n",
       "      <td>2101-10-26 20:43:09</td>\n",
       "      <td>6.0646</td>\n",
       "      <td>0</td>\n",
       "      <td>0</td>\n",
       "      <td>0</td>\n",
       "      <td>0</td>\n",
       "    </tr>\n",
       "    <tr>\n",
       "      <th>1</th>\n",
       "      <td>4</td>\n",
       "      <td>185777</td>\n",
       "      <td>2191-03-16 00:28:00</td>\n",
       "      <td>2191-03-23 18:41:00</td>\n",
       "      <td>NaT</td>\n",
       "      <td>F</td>\n",
       "      <td>2143-05-12</td>\n",
       "      <td>NaT</td>\n",
       "      <td>0</td>\n",
       "      <td>47</td>\n",
       "      <td>294638.0</td>\n",
       "      <td>2191-03-16 00:29:31</td>\n",
       "      <td>2191-03-17 16:46:31</td>\n",
       "      <td>1.6785</td>\n",
       "      <td>0</td>\n",
       "      <td>0</td>\n",
       "      <td>0</td>\n",
       "      <td>0</td>\n",
       "    </tr>\n",
       "    <tr>\n",
       "      <th>2</th>\n",
       "      <td>6</td>\n",
       "      <td>107064</td>\n",
       "      <td>2175-05-30 07:15:00</td>\n",
       "      <td>2175-06-15 16:00:00</td>\n",
       "      <td>NaT</td>\n",
       "      <td>F</td>\n",
       "      <td>2109-06-21</td>\n",
       "      <td>NaT</td>\n",
       "      <td>0</td>\n",
       "      <td>65</td>\n",
       "      <td>228232.0</td>\n",
       "      <td>2175-05-30 21:30:54</td>\n",
       "      <td>2175-06-03 13:39:54</td>\n",
       "      <td>3.6729</td>\n",
       "      <td>0</td>\n",
       "      <td>0</td>\n",
       "      <td>0</td>\n",
       "      <td>0</td>\n",
       "    </tr>\n",
       "    <tr>\n",
       "      <th>3</th>\n",
       "      <td>9</td>\n",
       "      <td>150750</td>\n",
       "      <td>2149-11-09 13:06:00</td>\n",
       "      <td>2149-11-14 10:15:00</td>\n",
       "      <td>2149-11-14 10:15:00</td>\n",
       "      <td>M</td>\n",
       "      <td>2108-01-26</td>\n",
       "      <td>2149-11-14</td>\n",
       "      <td>1</td>\n",
       "      <td>41</td>\n",
       "      <td>220597.0</td>\n",
       "      <td>2149-11-09 13:07:02</td>\n",
       "      <td>2149-11-14 20:52:14</td>\n",
       "      <td>5.3231</td>\n",
       "      <td>0</td>\n",
       "      <td>0</td>\n",
       "      <td>0</td>\n",
       "      <td>0</td>\n",
       "    </tr>\n",
       "    <tr>\n",
       "      <th>4</th>\n",
       "      <td>11</td>\n",
       "      <td>194540</td>\n",
       "      <td>2178-04-16 06:18:00</td>\n",
       "      <td>2178-05-11 19:00:00</td>\n",
       "      <td>NaT</td>\n",
       "      <td>F</td>\n",
       "      <td>2128-02-22</td>\n",
       "      <td>2178-11-14</td>\n",
       "      <td>1</td>\n",
       "      <td>50</td>\n",
       "      <td>229441.0</td>\n",
       "      <td>2178-04-16 06:19:32</td>\n",
       "      <td>2178-04-17 20:21:05</td>\n",
       "      <td>1.5844</td>\n",
       "      <td>0</td>\n",
       "      <td>0</td>\n",
       "      <td>0</td>\n",
       "      <td>0</td>\n",
       "    </tr>\n",
       "  </tbody>\n",
       "</table>\n",
       "</div>"
      ],
      "text/plain": [
       "   SUBJECT_ID  HADM_ID           ADMITTIME           DISCHTIME   \n",
       "0           3   145834 2101-10-20 19:08:00 2101-10-31 13:58:00  \\\n",
       "1           4   185777 2191-03-16 00:28:00 2191-03-23 18:41:00   \n",
       "2           6   107064 2175-05-30 07:15:00 2175-06-15 16:00:00   \n",
       "3           9   150750 2149-11-09 13:06:00 2149-11-14 10:15:00   \n",
       "4          11   194540 2178-04-16 06:18:00 2178-05-11 19:00:00   \n",
       "\n",
       "            DEATHTIME GENDER        DOB        DOD  EXPIRE_FLAG  AGE   \n",
       "0                 NaT      M 2025-04-11 2102-06-14            1   76  \\\n",
       "1                 NaT      F 2143-05-12        NaT            0   47   \n",
       "2                 NaT      F 2109-06-21        NaT            0   65   \n",
       "3 2149-11-14 10:15:00      M 2108-01-26 2149-11-14            1   41   \n",
       "4                 NaT      F 2128-02-22 2178-11-14            1   50   \n",
       "\n",
       "   ICUSTAY_ID              INTIME             OUTTIME     LOS   \n",
       "0    211552.0 2101-10-20 19:10:11 2101-10-26 20:43:09  6.0646  \\\n",
       "1    294638.0 2191-03-16 00:29:31 2191-03-17 16:46:31  1.6785   \n",
       "2    228232.0 2175-05-30 21:30:54 2175-06-03 13:39:54  3.6729   \n",
       "3    220597.0 2149-11-09 13:07:02 2149-11-14 20:52:14  5.3231   \n",
       "4    229441.0 2178-04-16 06:19:32 2178-04-17 20:21:05  1.5844   \n",
       "\n",
       "   RETURNED_AFTER_TRANSFER  RETURNED_AFTER_DISCHARGE  DEATH_AFTER_TRANSFER   \n",
       "0                        0                         0                     0  \\\n",
       "1                        0                         0                     0   \n",
       "2                        0                         0                     0   \n",
       "3                        0                         0                     0   \n",
       "4                        0                         0                     0   \n",
       "\n",
       "   DEATH_AFTER_DISCHARGE  \n",
       "0                      0  \n",
       "1                      0  \n",
       "2                      0  \n",
       "3                      0  \n",
       "4                      0  "
      ]
     },
     "execution_count": 40,
     "metadata": {},
     "output_type": "execute_result"
    }
   ],
   "source": [
    "dataset.head()"
   ]
  },
  {
   "cell_type": "code",
   "execution_count": null,
   "metadata": {},
   "outputs": [],
   "source": []
  }
 ],
 "metadata": {
  "kernelspec": {
   "display_name": ".venv",
   "language": "python",
   "name": "python3"
  },
  "language_info": {
   "codemirror_mode": {
    "name": "ipython",
    "version": 3
   },
   "file_extension": ".py",
   "mimetype": "text/x-python",
   "name": "python",
   "nbconvert_exporter": "python",
   "pygments_lexer": "ipython3",
   "version": "3.10.9"
  },
  "orig_nbformat": 4
 },
 "nbformat": 4,
 "nbformat_minor": 2
}
