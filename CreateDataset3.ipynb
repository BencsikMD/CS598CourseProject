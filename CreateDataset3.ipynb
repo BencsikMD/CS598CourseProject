{
 "cells": [
  {
   "attachments": {},
   "cell_type": "markdown",
   "metadata": {},
   "source": [
    "# Prediction of Hospital Readmissions\n",
    "\n",
    "This notebook's goal is to reproduce the claims from Zebin and Chaussalet's paper, 'Design and implementation of a deep recurrent model for prediction of readadmission in urgent care using electronic health records'.\n",
    "\n"
   ]
  },
  {
   "attachments": {},
   "cell_type": "markdown",
   "metadata": {},
   "source": [
    "## Claims\n",
    "\n",
    "When predicting ICU readmissions:\n",
    "\n",
    "1. LSTM+CNN produced higher accuracy than logistic regression, random forest, and SVM.\n",
    "2. LSTM+CNN produced higher precision than logistic regression, random forest, and SVM.\n",
    "3. LSTM+CNN produced higher recall than logistic regression and SVM"
   ]
  },
  {
   "cell_type": "code",
   "execution_count": 1,
   "metadata": {},
   "outputs": [],
   "source": [
    "import numpy as np\n",
    "import pandas as pd"
   ]
  },
  {
   "cell_type": "code",
   "execution_count": 2,
   "metadata": {},
   "outputs": [
    {
     "data": {
      "text/html": [
       "<div>\n",
       "<style scoped>\n",
       "    .dataframe tbody tr th:only-of-type {\n",
       "        vertical-align: middle;\n",
       "    }\n",
       "\n",
       "    .dataframe tbody tr th {\n",
       "        vertical-align: top;\n",
       "    }\n",
       "\n",
       "    .dataframe thead th {\n",
       "        text-align: right;\n",
       "    }\n",
       "</style>\n",
       "<table border=\"1\" class=\"dataframe\">\n",
       "  <thead>\n",
       "    <tr style=\"text-align: right;\">\n",
       "      <th></th>\n",
       "      <th>ROW_ID</th>\n",
       "      <th>SUBJECT_ID</th>\n",
       "      <th>GENDER</th>\n",
       "      <th>DOB</th>\n",
       "      <th>DOD</th>\n",
       "      <th>DOD_HOSP</th>\n",
       "      <th>DOD_SSN</th>\n",
       "      <th>EXPIRE_FLAG</th>\n",
       "    </tr>\n",
       "  </thead>\n",
       "  <tbody>\n",
       "    <tr>\n",
       "      <th>0</th>\n",
       "      <td>234</td>\n",
       "      <td>249</td>\n",
       "      <td>F</td>\n",
       "      <td>2075-03-13 00:00:00</td>\n",
       "      <td>NaN</td>\n",
       "      <td>NaN</td>\n",
       "      <td>NaN</td>\n",
       "      <td>0</td>\n",
       "    </tr>\n",
       "  </tbody>\n",
       "</table>\n",
       "</div>"
      ],
      "text/plain": [
       "   ROW_ID  SUBJECT_ID GENDER                  DOB  DOD DOD_HOSP DOD_SSN   \n",
       "0     234         249      F  2075-03-13 00:00:00  NaN      NaN     NaN  \\\n",
       "\n",
       "   EXPIRE_FLAG  \n",
       "0            0  "
      ]
     },
     "execution_count": 2,
     "metadata": {},
     "output_type": "execute_result"
    }
   ],
   "source": [
    "patients = pd.read_csv('./mimic-iii/PATIENTS.csv')\n",
    "patients.head(1)"
   ]
  },
  {
   "cell_type": "code",
   "execution_count": 3,
   "metadata": {},
   "outputs": [
    {
     "data": {
      "text/html": [
       "<div>\n",
       "<style scoped>\n",
       "    .dataframe tbody tr th:only-of-type {\n",
       "        vertical-align: middle;\n",
       "    }\n",
       "\n",
       "    .dataframe tbody tr th {\n",
       "        vertical-align: top;\n",
       "    }\n",
       "\n",
       "    .dataframe thead th {\n",
       "        text-align: right;\n",
       "    }\n",
       "</style>\n",
       "<table border=\"1\" class=\"dataframe\">\n",
       "  <thead>\n",
       "    <tr style=\"text-align: right;\">\n",
       "      <th></th>\n",
       "      <th>ROW_ID</th>\n",
       "      <th>SUBJECT_ID</th>\n",
       "      <th>HADM_ID</th>\n",
       "      <th>ADMITTIME</th>\n",
       "      <th>DISCHTIME</th>\n",
       "      <th>DEATHTIME</th>\n",
       "      <th>ADMISSION_TYPE</th>\n",
       "      <th>ADMISSION_LOCATION</th>\n",
       "      <th>DISCHARGE_LOCATION</th>\n",
       "      <th>INSURANCE</th>\n",
       "      <th>LANGUAGE</th>\n",
       "      <th>RELIGION</th>\n",
       "      <th>MARITAL_STATUS</th>\n",
       "      <th>ETHNICITY</th>\n",
       "      <th>EDREGTIME</th>\n",
       "      <th>EDOUTTIME</th>\n",
       "      <th>DIAGNOSIS</th>\n",
       "      <th>HOSPITAL_EXPIRE_FLAG</th>\n",
       "      <th>HAS_CHARTEVENTS_DATA</th>\n",
       "    </tr>\n",
       "  </thead>\n",
       "  <tbody>\n",
       "    <tr>\n",
       "      <th>0</th>\n",
       "      <td>21</td>\n",
       "      <td>22</td>\n",
       "      <td>165315</td>\n",
       "      <td>2196-04-09 12:26:00</td>\n",
       "      <td>2196-04-10 15:54:00</td>\n",
       "      <td>NaN</td>\n",
       "      <td>EMERGENCY</td>\n",
       "      <td>EMERGENCY ROOM ADMIT</td>\n",
       "      <td>DISC-TRAN CANCER/CHLDRN H</td>\n",
       "      <td>Private</td>\n",
       "      <td>NaN</td>\n",
       "      <td>UNOBTAINABLE</td>\n",
       "      <td>MARRIED</td>\n",
       "      <td>WHITE</td>\n",
       "      <td>2196-04-09 10:06:00</td>\n",
       "      <td>2196-04-09 13:24:00</td>\n",
       "      <td>BENZODIAZEPINE OVERDOSE</td>\n",
       "      <td>0</td>\n",
       "      <td>1</td>\n",
       "    </tr>\n",
       "  </tbody>\n",
       "</table>\n",
       "</div>"
      ],
      "text/plain": [
       "   ROW_ID  SUBJECT_ID  HADM_ID            ADMITTIME            DISCHTIME   \n",
       "0      21          22   165315  2196-04-09 12:26:00  2196-04-10 15:54:00  \\\n",
       "\n",
       "  DEATHTIME ADMISSION_TYPE    ADMISSION_LOCATION         DISCHARGE_LOCATION   \n",
       "0       NaN      EMERGENCY  EMERGENCY ROOM ADMIT  DISC-TRAN CANCER/CHLDRN H  \\\n",
       "\n",
       "  INSURANCE LANGUAGE      RELIGION MARITAL_STATUS ETHNICITY   \n",
       "0   Private      NaN  UNOBTAINABLE        MARRIED     WHITE  \\\n",
       "\n",
       "             EDREGTIME            EDOUTTIME                DIAGNOSIS   \n",
       "0  2196-04-09 10:06:00  2196-04-09 13:24:00  BENZODIAZEPINE OVERDOSE  \\\n",
       "\n",
       "   HOSPITAL_EXPIRE_FLAG  HAS_CHARTEVENTS_DATA  \n",
       "0                     0                     1  "
      ]
     },
     "execution_count": 3,
     "metadata": {},
     "output_type": "execute_result"
    }
   ],
   "source": [
    "admissions = pd.read_csv('./mimic-iii/ADMISSIONS.csv')\n",
    "admissions.head(1)"
   ]
  },
  {
   "cell_type": "code",
   "execution_count": 4,
   "metadata": {},
   "outputs": [
    {
     "data": {
      "text/html": [
       "<div>\n",
       "<style scoped>\n",
       "    .dataframe tbody tr th:only-of-type {\n",
       "        vertical-align: middle;\n",
       "    }\n",
       "\n",
       "    .dataframe tbody tr th {\n",
       "        vertical-align: top;\n",
       "    }\n",
       "\n",
       "    .dataframe thead th {\n",
       "        text-align: right;\n",
       "    }\n",
       "</style>\n",
       "<table border=\"1\" class=\"dataframe\">\n",
       "  <thead>\n",
       "    <tr style=\"text-align: right;\">\n",
       "      <th></th>\n",
       "      <th>ROW_ID</th>\n",
       "      <th>SUBJECT_ID</th>\n",
       "      <th>HADM_ID</th>\n",
       "      <th>ICUSTAY_ID</th>\n",
       "      <th>DBSOURCE</th>\n",
       "      <th>EVENTTYPE</th>\n",
       "      <th>PREV_CAREUNIT</th>\n",
       "      <th>CURR_CAREUNIT</th>\n",
       "      <th>PREV_WARDID</th>\n",
       "      <th>CURR_WARDID</th>\n",
       "      <th>INTIME</th>\n",
       "      <th>OUTTIME</th>\n",
       "      <th>LOS</th>\n",
       "    </tr>\n",
       "  </thead>\n",
       "  <tbody>\n",
       "    <tr>\n",
       "      <th>0</th>\n",
       "      <td>657</td>\n",
       "      <td>111</td>\n",
       "      <td>192123</td>\n",
       "      <td>254245.0</td>\n",
       "      <td>carevue</td>\n",
       "      <td>transfer</td>\n",
       "      <td>CCU</td>\n",
       "      <td>MICU</td>\n",
       "      <td>7.0</td>\n",
       "      <td>23.0</td>\n",
       "      <td>2142-04-29 15:27:11</td>\n",
       "      <td>2142-05-04 20:38:33</td>\n",
       "      <td>125.19</td>\n",
       "    </tr>\n",
       "  </tbody>\n",
       "</table>\n",
       "</div>"
      ],
      "text/plain": [
       "   ROW_ID  SUBJECT_ID  HADM_ID  ICUSTAY_ID DBSOURCE EVENTTYPE PREV_CAREUNIT   \n",
       "0     657         111   192123    254245.0  carevue  transfer           CCU  \\\n",
       "\n",
       "  CURR_CAREUNIT  PREV_WARDID  CURR_WARDID               INTIME   \n",
       "0          MICU          7.0         23.0  2142-04-29 15:27:11  \\\n",
       "\n",
       "               OUTTIME     LOS  \n",
       "0  2142-05-04 20:38:33  125.19  "
      ]
     },
     "execution_count": 4,
     "metadata": {},
     "output_type": "execute_result"
    }
   ],
   "source": [
    "transfers = pd.read_csv('./mimic-iii/TRANSFERS.csv')\n",
    "transfers.head(1)"
   ]
  },
  {
   "cell_type": "code",
   "execution_count": 5,
   "metadata": {},
   "outputs": [
    {
     "data": {
      "text/html": [
       "<div>\n",
       "<style scoped>\n",
       "    .dataframe tbody tr th:only-of-type {\n",
       "        vertical-align: middle;\n",
       "    }\n",
       "\n",
       "    .dataframe tbody tr th {\n",
       "        vertical-align: top;\n",
       "    }\n",
       "\n",
       "    .dataframe thead th {\n",
       "        text-align: right;\n",
       "    }\n",
       "</style>\n",
       "<table border=\"1\" class=\"dataframe\">\n",
       "  <thead>\n",
       "    <tr style=\"text-align: right;\">\n",
       "      <th></th>\n",
       "      <th>ROW_ID</th>\n",
       "      <th>SUBJECT_ID</th>\n",
       "      <th>HADM_ID</th>\n",
       "      <th>ICUSTAY_ID</th>\n",
       "      <th>DBSOURCE</th>\n",
       "      <th>FIRST_CAREUNIT</th>\n",
       "      <th>LAST_CAREUNIT</th>\n",
       "      <th>FIRST_WARDID</th>\n",
       "      <th>LAST_WARDID</th>\n",
       "      <th>INTIME</th>\n",
       "      <th>OUTTIME</th>\n",
       "      <th>LOS</th>\n",
       "    </tr>\n",
       "  </thead>\n",
       "  <tbody>\n",
       "    <tr>\n",
       "      <th>0</th>\n",
       "      <td>365</td>\n",
       "      <td>268</td>\n",
       "      <td>110404</td>\n",
       "      <td>280836</td>\n",
       "      <td>carevue</td>\n",
       "      <td>MICU</td>\n",
       "      <td>MICU</td>\n",
       "      <td>52</td>\n",
       "      <td>52</td>\n",
       "      <td>2198-02-14 23:27:38</td>\n",
       "      <td>2198-02-18 05:26:11</td>\n",
       "      <td>3.249</td>\n",
       "    </tr>\n",
       "  </tbody>\n",
       "</table>\n",
       "</div>"
      ],
      "text/plain": [
       "   ROW_ID  SUBJECT_ID  HADM_ID  ICUSTAY_ID DBSOURCE FIRST_CAREUNIT   \n",
       "0     365         268   110404      280836  carevue           MICU  \\\n",
       "\n",
       "  LAST_CAREUNIT  FIRST_WARDID  LAST_WARDID               INTIME   \n",
       "0          MICU            52           52  2198-02-14 23:27:38  \\\n",
       "\n",
       "               OUTTIME    LOS  \n",
       "0  2198-02-18 05:26:11  3.249  "
      ]
     },
     "execution_count": 5,
     "metadata": {},
     "output_type": "execute_result"
    }
   ],
   "source": [
    "icustays = pd.read_csv('./mimic-iii/ICUSTAYS.csv')\n",
    "icustays.head(1)\n"
   ]
  },
  {
   "cell_type": "code",
   "execution_count": 6,
   "metadata": {},
   "outputs": [],
   "source": [
    "# print(len(icustays.groupby(['HADM_ID'])))\n",
    "# test = (icustays.groupby(['HADM_ID']).size() > 1).reset_index()\n",
    "# test[test[0]==True]"
   ]
  },
  {
   "attachments": {},
   "cell_type": "markdown",
   "metadata": {},
   "source": [
    "## NOTE: Organ Donors\n",
    "\n",
    "There are some cases where a patient as multiple inconsistent death times in duplicated records. Either the patient has 2 different death times or the admit and discharge times do not align with death time.\n",
    "It appears that the organ donor collection is processed under a different HADM_ID number and the entries are inconsistent."
   ]
  },
  {
   "cell_type": "code",
   "execution_count": 7,
   "metadata": {},
   "outputs": [
    {
     "data": {
      "text/html": [
       "<div>\n",
       "<style scoped>\n",
       "    .dataframe tbody tr th:only-of-type {\n",
       "        vertical-align: middle;\n",
       "    }\n",
       "\n",
       "    .dataframe tbody tr th {\n",
       "        vertical-align: top;\n",
       "    }\n",
       "\n",
       "    .dataframe thead th {\n",
       "        text-align: right;\n",
       "    }\n",
       "</style>\n",
       "<table border=\"1\" class=\"dataframe\">\n",
       "  <thead>\n",
       "    <tr style=\"text-align: right;\">\n",
       "      <th></th>\n",
       "      <th>ROW_ID</th>\n",
       "      <th>SUBJECT_ID</th>\n",
       "      <th>HADM_ID</th>\n",
       "      <th>ADMITTIME</th>\n",
       "      <th>DISCHTIME</th>\n",
       "      <th>DEATHTIME</th>\n",
       "      <th>ADMISSION_TYPE</th>\n",
       "      <th>ADMISSION_LOCATION</th>\n",
       "      <th>DISCHARGE_LOCATION</th>\n",
       "      <th>INSURANCE</th>\n",
       "      <th>LANGUAGE</th>\n",
       "      <th>RELIGION</th>\n",
       "      <th>MARITAL_STATUS</th>\n",
       "      <th>ETHNICITY</th>\n",
       "      <th>EDREGTIME</th>\n",
       "      <th>EDOUTTIME</th>\n",
       "      <th>DIAGNOSIS</th>\n",
       "      <th>HOSPITAL_EXPIRE_FLAG</th>\n",
       "      <th>HAS_CHARTEVENTS_DATA</th>\n",
       "    </tr>\n",
       "  </thead>\n",
       "  <tbody>\n",
       "    <tr>\n",
       "      <th>43</th>\n",
       "      <td>533</td>\n",
       "      <td>417</td>\n",
       "      <td>178013</td>\n",
       "      <td>2177-03-22 22:24:00</td>\n",
       "      <td>2177-03-23 07:20:00</td>\n",
       "      <td>2177-03-23 07:20:00</td>\n",
       "      <td>EMERGENCY</td>\n",
       "      <td>EMERGENCY ROOM ADMIT</td>\n",
       "      <td>DEAD/EXPIRED</td>\n",
       "      <td>Private</td>\n",
       "      <td>NaN</td>\n",
       "      <td>UNOBTAINABLE</td>\n",
       "      <td>MARRIED</td>\n",
       "      <td>WHITE</td>\n",
       "      <td>2177-03-22 22:01:00</td>\n",
       "      <td>2177-03-23 00:20:00</td>\n",
       "      <td>SUBARACHNOID HEMORRHAGE</td>\n",
       "      <td>1</td>\n",
       "      <td>1</td>\n",
       "    </tr>\n",
       "    <tr>\n",
       "      <th>44</th>\n",
       "      <td>534</td>\n",
       "      <td>417</td>\n",
       "      <td>102633</td>\n",
       "      <td>2177-03-23 16:17:00</td>\n",
       "      <td>2177-03-23 07:20:00</td>\n",
       "      <td>2177-03-23 07:20:00</td>\n",
       "      <td>URGENT</td>\n",
       "      <td>PHYS REFERRAL/NORMAL DELI</td>\n",
       "      <td>DEAD/EXPIRED</td>\n",
       "      <td>Private</td>\n",
       "      <td>NaN</td>\n",
       "      <td>UNOBTAINABLE</td>\n",
       "      <td>MARRIED</td>\n",
       "      <td>WHITE</td>\n",
       "      <td>NaN</td>\n",
       "      <td>NaN</td>\n",
       "      <td>ORGAN DONOR ACCOUNT</td>\n",
       "      <td>1</td>\n",
       "      <td>1</td>\n",
       "    </tr>\n",
       "  </tbody>\n",
       "</table>\n",
       "</div>"
      ],
      "text/plain": [
       "    ROW_ID  SUBJECT_ID  HADM_ID            ADMITTIME            DISCHTIME   \n",
       "43     533         417   178013  2177-03-22 22:24:00  2177-03-23 07:20:00  \\\n",
       "44     534         417   102633  2177-03-23 16:17:00  2177-03-23 07:20:00   \n",
       "\n",
       "              DEATHTIME ADMISSION_TYPE         ADMISSION_LOCATION   \n",
       "43  2177-03-23 07:20:00      EMERGENCY       EMERGENCY ROOM ADMIT  \\\n",
       "44  2177-03-23 07:20:00         URGENT  PHYS REFERRAL/NORMAL DELI   \n",
       "\n",
       "   DISCHARGE_LOCATION INSURANCE LANGUAGE      RELIGION MARITAL_STATUS   \n",
       "43       DEAD/EXPIRED   Private      NaN  UNOBTAINABLE        MARRIED  \\\n",
       "44       DEAD/EXPIRED   Private      NaN  UNOBTAINABLE        MARRIED   \n",
       "\n",
       "   ETHNICITY            EDREGTIME            EDOUTTIME   \n",
       "43     WHITE  2177-03-22 22:01:00  2177-03-23 00:20:00  \\\n",
       "44     WHITE                  NaN                  NaN   \n",
       "\n",
       "                  DIAGNOSIS  HOSPITAL_EXPIRE_FLAG  HAS_CHARTEVENTS_DATA  \n",
       "43  SUBARACHNOID HEMORRHAGE                     1                     1  \n",
       "44      ORGAN DONOR ACCOUNT                     1                     1  "
      ]
     },
     "execution_count": 7,
     "metadata": {},
     "output_type": "execute_result"
    }
   ],
   "source": [
    "# addmissions where DEATH IN HOSPITAL\n",
    "organ = admissions[admissions['HOSPITAL_EXPIRE_FLAG']==1].reset_index(drop=True)\n",
    "\n",
    "organ[organ.duplicated('SUBJECT_ID',keep=False)].sort_values('SUBJECT_ID').head(2)"
   ]
  },
  {
   "attachments": {},
   "cell_type": "markdown",
   "metadata": {},
   "source": [
    "## Example\n",
    "\n",
    "Patient with `SUBJECT_ID = 250`"
   ]
  },
  {
   "cell_type": "code",
   "execution_count": 8,
   "metadata": {},
   "outputs": [],
   "source": [
    "# patients[patients['SUBJECT_ID'] == 250]"
   ]
  },
  {
   "cell_type": "code",
   "execution_count": 9,
   "metadata": {},
   "outputs": [],
   "source": [
    "# admissions[admissions['SUBJECT_ID'] == 250]"
   ]
  },
  {
   "cell_type": "code",
   "execution_count": 10,
   "metadata": {},
   "outputs": [],
   "source": [
    "# transfers[transfers['SUBJECT_ID'] == 250]"
   ]
  },
  {
   "attachments": {},
   "cell_type": "markdown",
   "metadata": {},
   "source": [
    "## Create Dataset"
   ]
  },
  {
   "attachments": {},
   "cell_type": "markdown",
   "metadata": {},
   "source": [
    "SUBJECT_ID exmaples  291, 283, 250"
   ]
  },
  {
   "cell_type": "code",
   "execution_count": 11,
   "metadata": {},
   "outputs": [],
   "source": [
    "patients['DOB'] = pd.to_datetime(patients['DOB'], errors='coerce')\n",
    "patients['DOD'] = pd.to_datetime(patients['DOD'], errors='coerce')\n",
    "patients['DOD_HOSP'] = pd.to_datetime(patients['DOD_HOSP'], errors='coerce')\n",
    "patients['DOD_SSN'] = pd.to_datetime(patients['DOD_SSN'], errors='coerce')\n",
    "patients = patients.drop('ROW_ID', axis=1)"
   ]
  },
  {
   "cell_type": "code",
   "execution_count": 12,
   "metadata": {},
   "outputs": [],
   "source": [
    "admissions['ADMITTIME'] = pd.to_datetime(admissions['ADMITTIME'], errors='coerce')\n",
    "admissions['DISCHTIME'] = pd.to_datetime(admissions['DISCHTIME'], errors='coerce')\n",
    "admissions['DEATHTIME'] = pd.to_datetime(admissions['DEATHTIME'], errors='coerce')\n",
    "admissions = admissions.drop('ROW_ID', axis=1)"
   ]
  },
  {
   "cell_type": "code",
   "execution_count": 13,
   "metadata": {},
   "outputs": [],
   "source": [
    "transfers['INTIME'] = pd.to_datetime(transfers['INTIME'], errors='coerce')\n",
    "transfers['OUTTIME'] = pd.to_datetime(transfers['OUTTIME'], errors='coerce')\n",
    "transfers = transfers.drop('ROW_ID', axis=1)"
   ]
  },
  {
   "cell_type": "code",
   "execution_count": 14,
   "metadata": {},
   "outputs": [],
   "source": [
    "icustays['INTIME'] = pd.to_datetime(icustays['INTIME'], errors='coerce')\n",
    "icustays['OUTTIME'] = pd.to_datetime(icustays['OUTTIME'], errors='coerce')\n",
    "icustays = icustays.drop('ROW_ID', axis=1)"
   ]
  },
  {
   "attachments": {},
   "cell_type": "markdown",
   "metadata": {},
   "source": [
    "## Goal: Find cases of readmission\n",
    "\n",
    "1. Transferred & returned               = 3555\n",
    "2. Transferred & died                   = 1974\n",
    "3. Discharged & returned < 30 days      = 3205\n",
    "4. Discharged & died < 30 days          = 2556\n"
   ]
  },
  {
   "cell_type": "code",
   "execution_count": 15,
   "metadata": {},
   "outputs": [
    {
     "data": {
      "text/plain": [
       "array(['EMERGENCY', 'ELECTIVE', 'NEWBORN', 'URGENT'], dtype=object)"
      ]
     },
     "execution_count": 15,
     "metadata": {},
     "output_type": "execute_result"
    }
   ],
   "source": [
    "admissions_type = admissions['ADMISSION_TYPE'].unique()\n",
    "admissions_type"
   ]
  },
  {
   "attachments": {},
   "cell_type": "markdown",
   "metadata": {},
   "source": [
    "### 1. Transferred & Returned\n",
    "\n",
    "```python\n",
    "dataset['TRANSFERRED_RETURNED'] = icustays.duplicated(subset=['HADM_ID']).astype(int)\n",
    "```"
   ]
  },
  {
   "cell_type": "code",
   "execution_count": 16,
   "metadata": {},
   "outputs": [
    {
     "data": {
      "text/plain": [
       "3746"
      ]
     },
     "execution_count": 16,
     "metadata": {},
     "output_type": "execute_result"
    }
   ],
   "source": [
    "np.sum(icustays.duplicated(subset=['HADM_ID']).astype(int))"
   ]
  },
  {
   "cell_type": "code",
   "execution_count": 17,
   "metadata": {},
   "outputs": [
    {
     "name": "stdout",
     "output_type": "stream",
     "text": [
      "(3746, 5)\n"
     ]
    },
    {
     "data": {
      "text/html": [
       "<div>\n",
       "<style scoped>\n",
       "    .dataframe tbody tr th:only-of-type {\n",
       "        vertical-align: middle;\n",
       "    }\n",
       "\n",
       "    .dataframe tbody tr th {\n",
       "        vertical-align: top;\n",
       "    }\n",
       "\n",
       "    .dataframe thead th {\n",
       "        text-align: right;\n",
       "    }\n",
       "</style>\n",
       "<table border=\"1\" class=\"dataframe\">\n",
       "  <thead>\n",
       "    <tr style=\"text-align: right;\">\n",
       "      <th></th>\n",
       "      <th>SUBJECT_ID</th>\n",
       "      <th>HADM_ID</th>\n",
       "      <th>ICUSTAY_ID</th>\n",
       "      <th>INTIME</th>\n",
       "      <th>TRANSFERRED_RETURNED</th>\n",
       "    </tr>\n",
       "  </thead>\n",
       "  <tbody>\n",
       "    <tr>\n",
       "      <th>0</th>\n",
       "      <td>29971</td>\n",
       "      <td>100021</td>\n",
       "      <td>220579</td>\n",
       "      <td>2109-08-28 10:21:05</td>\n",
       "      <td>1</td>\n",
       "    </tr>\n",
       "    <tr>\n",
       "      <th>1</th>\n",
       "      <td>58947</td>\n",
       "      <td>100037</td>\n",
       "      <td>221136</td>\n",
       "      <td>2183-04-20 13:16:43</td>\n",
       "      <td>1</td>\n",
       "    </tr>\n",
       "    <tr>\n",
       "      <th>2</th>\n",
       "      <td>1549</td>\n",
       "      <td>100055</td>\n",
       "      <td>245659</td>\n",
       "      <td>2150-07-08 12:49:43</td>\n",
       "      <td>1</td>\n",
       "    </tr>\n",
       "    <tr>\n",
       "      <th>3</th>\n",
       "      <td>73946</td>\n",
       "      <td>100104</td>\n",
       "      <td>240176</td>\n",
       "      <td>2201-06-26 23:55:21</td>\n",
       "      <td>1</td>\n",
       "    </tr>\n",
       "    <tr>\n",
       "      <th>4</th>\n",
       "      <td>3278</td>\n",
       "      <td>100130</td>\n",
       "      <td>284185</td>\n",
       "      <td>2109-07-28 16:35:00</td>\n",
       "      <td>1</td>\n",
       "    </tr>\n",
       "  </tbody>\n",
       "</table>\n",
       "</div>"
      ],
      "text/plain": [
       "   SUBJECT_ID  HADM_ID  ICUSTAY_ID              INTIME  TRANSFERRED_RETURNED\n",
       "0       29971   100021      220579 2109-08-28 10:21:05                     1\n",
       "1       58947   100037      221136 2183-04-20 13:16:43                     1\n",
       "2        1549   100055      245659 2150-07-08 12:49:43                     1\n",
       "3       73946   100104      240176 2201-06-26 23:55:21                     1\n",
       "4        3278   100130      284185 2109-07-28 16:35:00                     1"
      ]
     },
     "execution_count": 17,
     "metadata": {},
     "output_type": "execute_result"
    }
   ],
   "source": [
    "# HADM_ID where patient has multiple ICUSTAY_ID\n",
    "tnr = icustays[['SUBJECT_ID', 'HADM_ID', 'ICUSTAY_ID', 'INTIME']]\n",
    "tnr = tnr.sort_values(['HADM_ID','INTIME'])\n",
    "tnr['TRANSFERRED_RETURNED'] = (tnr.duplicated(subset=['HADM_ID'])).astype(int)\n",
    "#print(tnr[tnr.duplicated(subset=['HADM_ID'],keep=False)].head(10))\n",
    "tnr = tnr[tnr['TRANSFERRED_RETURNED'] == 1].reset_index(drop=True)\n",
    "print(tnr.shape)\n",
    "tnr.head()"
   ]
  },
  {
   "cell_type": "markdown",
   "metadata": {},
   "source": [
    "### 2. Transferred & Died\n",
    "\n",
    "```python\n",
    "dataset['TRANSFERRED_DEATH'] = admissions['HOSPITAL_EXPIRE_FLAG'] and not dataset['DEATH_IN_ICU']\n",
    "```"
   ]
  },
  {
   "attachments": {},
   "cell_type": "markdown",
   "metadata": {},
   "source": [
    "### Define death\n",
    "\n",
    "```python\n",
    "patients['EXPIRE_FLAG'] == 1\n",
    "```\n",
    "\n",
    "### Define death in hospital\n",
    "\n",
    "```python\n",
    "admissions['HOSPITAL_EXPIRE_FLAG'] == 1\n",
    "```\n",
    "\n",
    "### Define death in ICU (merge addmissions & icustays)\n",
    "\n",
    "```python\n",
    "dataset['DEATH_IN_ICU'] = (admissions['DEATHTIME'] > icustays['INTIME']) & (admissions['DEATHTIME'] < icustays['OUTTIME']).astype(int)\n",
    "```"
   ]
  },
  {
   "cell_type": "code",
   "execution_count": 18,
   "metadata": {},
   "outputs": [
    {
     "data": {
      "text/plain": [
       "(61532, 11)"
      ]
     },
     "execution_count": 18,
     "metadata": {},
     "output_type": "execute_result"
    }
   ],
   "source": [
    "# (tnr.duplicated(subset=['HADM_ID'], keep='last')).astype(int)\n",
    "icustays.shape"
   ]
  },
  {
   "cell_type": "code",
   "execution_count": 19,
   "metadata": {},
   "outputs": [
    {
     "data": {
      "text/plain": [
       "(57786, 11)"
      ]
     },
     "execution_count": 19,
     "metadata": {},
     "output_type": "execute_result"
    }
   ],
   "source": [
    "icustays.sort_values('INTIME').drop_duplicates('HADM_ID',keep='last').shape"
   ]
  },
  {
   "cell_type": "code",
   "execution_count": 20,
   "metadata": {},
   "outputs": [
    {
     "data": {
      "text/plain": [
       "(5813, 18)"
      ]
     },
     "execution_count": 20,
     "metadata": {},
     "output_type": "execute_result"
    }
   ],
   "source": [
    "# addmissions where DEATH IN HOSPITAL\n",
    "temp = admissions[admissions['HOSPITAL_EXPIRE_FLAG']==1].reset_index(drop=True)\n",
    "temp = temp[(temp['DIAGNOSIS'] != 'ORGAN DONOR ACCOUNT') & (temp['DIAGNOSIS'] != 'DONOR ACCOUNT') & (temp['DIAGNOSIS'] != 'ORGAN DONOR') & (temp['DIAGNOSIS'].notnull())].reset_index(drop=True)\n",
    "#temp[temp['DIAGNOSIS'] == 'ORGAN DONOR ACCOUNT'].shape\n",
    "#temp[temp['DIAGNOSIS'].isnull()] # 1 of these\n",
    "#temp[temp['DIAGNOSIS'] != 'ORGAN DONOR ACCOUNT'].shape\n",
    "# 'DONOR ACCOUNT'\t\n",
    "# 'ORGAN DONOR ACCOUNT'\n",
    "# 'ORGAN DONOR'\n",
    "\n",
    "# a = temp[temp.duplicated('SUBJECT_ID',keep=False)].sort_values('SUBJECT_ID')\n",
    "# a[(a['DIAGNOSIS'] != 'ORGAN DONOR ACCOUNT')]\n",
    "temp.shape"
   ]
  },
  {
   "attachments": {},
   "cell_type": "markdown",
   "metadata": {},
   "source": [
    "This should be transferred death, but my number doesn't match paper. It looks like the paper is creating duplicates."
   ]
  },
  {
   "cell_type": "code",
   "execution_count": 25,
   "metadata": {},
   "outputs": [
    {
     "data": {
      "text/plain": [
       "1298"
      ]
     },
     "execution_count": 25,
     "metadata": {},
     "output_type": "execute_result"
    }
   ],
   "source": [
    "tnd = pd.merge(temp, icustays.sort_values('INTIME').drop_duplicates('HADM_ID',keep='last'), 'left' ,on=['SUBJECT_ID', 'HADM_ID'])\n",
    "tnd['TRANSFERRED_DEATH'] = ((tnd['DEATHTIME'].notnull()) & ((tnd['DEATHTIME'] < tnd['INTIME']) | (tnd['DEATHTIME'] > tnd['OUTTIME']))).astype(int)\n",
    "tnd = tnd[['SUBJECT_ID', 'HADM_ID', 'ADMITTIME', 'DISCHTIME', 'DEATHTIME','HOSPITAL_EXPIRE_FLAG', 'INTIME', 'OUTTIME', 'TRANSFERRED_DEATH']]\n",
    "np.sum(tnd['TRANSFERRED_DEATH'])\n"
   ]
  },
  {
   "cell_type": "code",
   "execution_count": 23,
   "metadata": {},
   "outputs": [
    {
     "data": {
      "text/plain": [
       "1303"
      ]
     },
     "execution_count": 23,
     "metadata": {},
     "output_type": "execute_result"
    }
   ],
   "source": [
    "5813-4510"
   ]
  },
  {
   "attachments": {},
   "cell_type": "markdown",
   "metadata": {},
   "source": [
    "HOSPITAL_EXPIRE_FLAG compares to DEATHTIME within admit times"
   ]
  },
  {
   "cell_type": "code",
   "execution_count": 85,
   "metadata": {},
   "outputs": [
    {
     "data": {
      "text/plain": [
       "(0, 18)"
      ]
     },
     "execution_count": 85,
     "metadata": {},
     "output_type": "execute_result"
    }
   ],
   "source": [
    "admissions[ (admissions['HOSPITAL_EXPIRE_FLAG']==0) & (admissions['DEATHTIME'].notnull()) & (admissions['DEATHTIME'] >= admissions['ADMITTIME']) & (admissions['DEATHTIME'] <= admissions['DISCHTIME'])]"
   ]
  },
  {
   "cell_type": "code",
   "execution_count": null,
   "metadata": {},
   "outputs": [],
   "source": []
  },
  {
   "attachments": {},
   "cell_type": "markdown",
   "metadata": {},
   "source": [
    "This is the code that the paper used. It creates duplicates. The merge is improper. I need to show a proof of this."
   ]
  },
  {
   "cell_type": "code",
   "execution_count": 36,
   "metadata": {},
   "outputs": [
    {
     "data": {
      "text/plain": [
       "2096"
      ]
     },
     "execution_count": 36,
     "metadata": {},
     "output_type": "execute_result"
    }
   ],
   "source": [
    "asdf = pd.merge(admissions, icustays, 'inner' ,on=['SUBJECT_ID', 'HADM_ID'])\n",
    "asdf['TRANSFERRED_DEATH'] = ((asdf['DEATHTIME'].notnull()) & ((asdf['DEATHTIME'] < asdf['INTIME']) | (asdf['DEATHTIME'] > asdf['OUTTIME']))).astype(int)\n",
    "asdf = asdf[['SUBJECT_ID', 'HADM_ID', 'ADMITTIME', 'DISCHTIME', 'DEATHTIME','HOSPITAL_EXPIRE_FLAG', 'INTIME', 'OUTTIME', 'TRANSFERRED_DEATH']]\n",
    "np.sum(asdf['TRANSFERRED_DEATH'])"
   ]
  },
  {
   "cell_type": "code",
   "execution_count": 37,
   "metadata": {},
   "outputs": [
    {
     "data": {
      "text/html": [
       "<div>\n",
       "<style scoped>\n",
       "    .dataframe tbody tr th:only-of-type {\n",
       "        vertical-align: middle;\n",
       "    }\n",
       "\n",
       "    .dataframe tbody tr th {\n",
       "        vertical-align: top;\n",
       "    }\n",
       "\n",
       "    .dataframe thead th {\n",
       "        text-align: right;\n",
       "    }\n",
       "</style>\n",
       "<table border=\"1\" class=\"dataframe\">\n",
       "  <thead>\n",
       "    <tr style=\"text-align: right;\">\n",
       "      <th></th>\n",
       "      <th>SUBJECT_ID</th>\n",
       "      <th>HADM_ID</th>\n",
       "      <th>ADMITTIME</th>\n",
       "      <th>DISCHTIME</th>\n",
       "      <th>DEATHTIME</th>\n",
       "      <th>HOSPITAL_EXPIRE_FLAG</th>\n",
       "      <th>INTIME</th>\n",
       "      <th>OUTTIME</th>\n",
       "      <th>TRANSFERRED_DEATH</th>\n",
       "    </tr>\n",
       "  </thead>\n",
       "  <tbody>\n",
       "    <tr>\n",
       "      <th>485</th>\n",
       "      <td>188</td>\n",
       "      <td>132401</td>\n",
       "      <td>2161-11-01 17:48:00</td>\n",
       "      <td>2162-01-17 05:50:00</td>\n",
       "      <td>2162-01-17 05:50:00</td>\n",
       "      <td>1</td>\n",
       "      <td>2161-12-09 17:03:04</td>\n",
       "      <td>2161-12-17 21:04:31</td>\n",
       "      <td>1</td>\n",
       "    </tr>\n",
       "    <tr>\n",
       "      <th>486</th>\n",
       "      <td>188</td>\n",
       "      <td>132401</td>\n",
       "      <td>2161-11-01 17:48:00</td>\n",
       "      <td>2162-01-17 05:50:00</td>\n",
       "      <td>2162-01-17 05:50:00</td>\n",
       "      <td>1</td>\n",
       "      <td>2162-01-10 16:36:40</td>\n",
       "      <td>2162-01-16 18:35:07</td>\n",
       "      <td>1</td>\n",
       "    </tr>\n",
       "    <tr>\n",
       "      <th>383</th>\n",
       "      <td>377</td>\n",
       "      <td>139824</td>\n",
       "      <td>2168-03-04 13:56:00</td>\n",
       "      <td>2168-04-04 10:47:00</td>\n",
       "      <td>2168-04-04 10:47:00</td>\n",
       "      <td>1</td>\n",
       "      <td>2168-03-04 13:57:00</td>\n",
       "      <td>2168-03-15 16:33:00</td>\n",
       "      <td>1</td>\n",
       "    </tr>\n",
       "    <tr>\n",
       "      <th>384</th>\n",
       "      <td>377</td>\n",
       "      <td>139824</td>\n",
       "      <td>2168-03-04 13:56:00</td>\n",
       "      <td>2168-04-04 10:47:00</td>\n",
       "      <td>2168-04-04 10:47:00</td>\n",
       "      <td>1</td>\n",
       "      <td>2168-03-21 13:13:00</td>\n",
       "      <td>2168-03-23 16:27:00</td>\n",
       "      <td>1</td>\n",
       "    </tr>\n",
       "    <tr>\n",
       "      <th>385</th>\n",
       "      <td>377</td>\n",
       "      <td>139824</td>\n",
       "      <td>2168-03-04 13:56:00</td>\n",
       "      <td>2168-04-04 10:47:00</td>\n",
       "      <td>2168-04-04 10:47:00</td>\n",
       "      <td>1</td>\n",
       "      <td>2168-03-26 08:03:00</td>\n",
       "      <td>2168-04-03 15:03:00</td>\n",
       "      <td>1</td>\n",
       "    </tr>\n",
       "    <tr>\n",
       "      <th>427</th>\n",
       "      <td>408</td>\n",
       "      <td>173910</td>\n",
       "      <td>2188-10-27 21:25:00</td>\n",
       "      <td>2189-01-11 20:19:00</td>\n",
       "      <td>2189-01-11 20:19:00</td>\n",
       "      <td>1</td>\n",
       "      <td>2188-10-27 21:27:14</td>\n",
       "      <td>2188-10-30 19:54:32</td>\n",
       "      <td>1</td>\n",
       "    </tr>\n",
       "    <tr>\n",
       "      <th>428</th>\n",
       "      <td>408</td>\n",
       "      <td>173910</td>\n",
       "      <td>2188-10-27 21:25:00</td>\n",
       "      <td>2189-01-11 20:19:00</td>\n",
       "      <td>2189-01-11 20:19:00</td>\n",
       "      <td>1</td>\n",
       "      <td>2188-11-19 12:30:24</td>\n",
       "      <td>2188-11-26 11:26:04</td>\n",
       "      <td>1</td>\n",
       "    </tr>\n",
       "    <tr>\n",
       "      <th>1257</th>\n",
       "      <td>766</td>\n",
       "      <td>183370</td>\n",
       "      <td>2178-03-03 23:18:00</td>\n",
       "      <td>2178-03-27 04:41:00</td>\n",
       "      <td>2178-03-27 04:41:00</td>\n",
       "      <td>1</td>\n",
       "      <td>2178-03-03 23:19:45</td>\n",
       "      <td>2178-03-05 11:40:21</td>\n",
       "      <td>1</td>\n",
       "    </tr>\n",
       "    <tr>\n",
       "      <th>1258</th>\n",
       "      <td>766</td>\n",
       "      <td>183370</td>\n",
       "      <td>2178-03-03 23:18:00</td>\n",
       "      <td>2178-03-27 04:41:00</td>\n",
       "      <td>2178-03-27 04:41:00</td>\n",
       "      <td>1</td>\n",
       "      <td>2178-03-07 14:17:44</td>\n",
       "      <td>2178-03-12 13:48:25</td>\n",
       "      <td>1</td>\n",
       "    </tr>\n",
       "    <tr>\n",
       "      <th>966</th>\n",
       "      <td>834</td>\n",
       "      <td>153730</td>\n",
       "      <td>2166-06-17 03:00:00</td>\n",
       "      <td>2166-09-12 11:30:00</td>\n",
       "      <td>2166-09-12 11:30:00</td>\n",
       "      <td>1</td>\n",
       "      <td>2166-08-19 06:00:00</td>\n",
       "      <td>2166-08-31 18:55:00</td>\n",
       "      <td>1</td>\n",
       "    </tr>\n",
       "    <tr>\n",
       "      <th>964</th>\n",
       "      <td>834</td>\n",
       "      <td>153730</td>\n",
       "      <td>2166-06-17 03:00:00</td>\n",
       "      <td>2166-09-12 11:30:00</td>\n",
       "      <td>2166-09-12 11:30:00</td>\n",
       "      <td>1</td>\n",
       "      <td>2166-06-20 11:14:00</td>\n",
       "      <td>2166-06-30 18:29:00</td>\n",
       "      <td>1</td>\n",
       "    </tr>\n",
       "    <tr>\n",
       "      <th>965</th>\n",
       "      <td>834</td>\n",
       "      <td>153730</td>\n",
       "      <td>2166-06-17 03:00:00</td>\n",
       "      <td>2166-09-12 11:30:00</td>\n",
       "      <td>2166-09-12 11:30:00</td>\n",
       "      <td>1</td>\n",
       "      <td>2166-07-07 14:01:00</td>\n",
       "      <td>2166-08-10 14:01:00</td>\n",
       "      <td>1</td>\n",
       "    </tr>\n",
       "    <tr>\n",
       "      <th>680</th>\n",
       "      <td>914</td>\n",
       "      <td>168503</td>\n",
       "      <td>2178-04-01 15:56:00</td>\n",
       "      <td>2178-06-04 21:17:00</td>\n",
       "      <td>2178-06-04 21:17:00</td>\n",
       "      <td>1</td>\n",
       "      <td>2178-04-01 15:57:23</td>\n",
       "      <td>2178-04-17 22:31:49</td>\n",
       "      <td>1</td>\n",
       "    </tr>\n",
       "    <tr>\n",
       "      <th>681</th>\n",
       "      <td>914</td>\n",
       "      <td>168503</td>\n",
       "      <td>2178-04-01 15:56:00</td>\n",
       "      <td>2178-06-04 21:17:00</td>\n",
       "      <td>2178-06-04 21:17:00</td>\n",
       "      <td>1</td>\n",
       "      <td>2178-04-22 16:40:37</td>\n",
       "      <td>2178-05-19 17:17:13</td>\n",
       "      <td>1</td>\n",
       "    </tr>\n",
       "    <tr>\n",
       "      <th>1027</th>\n",
       "      <td>975</td>\n",
       "      <td>175734</td>\n",
       "      <td>2142-05-15 16:16:00</td>\n",
       "      <td>2142-06-21 14:38:00</td>\n",
       "      <td>2142-06-21 14:38:00</td>\n",
       "      <td>1</td>\n",
       "      <td>2142-06-13 12:04:35</td>\n",
       "      <td>2142-06-17 20:52:50</td>\n",
       "      <td>1</td>\n",
       "    </tr>\n",
       "    <tr>\n",
       "      <th>1026</th>\n",
       "      <td>975</td>\n",
       "      <td>175734</td>\n",
       "      <td>2142-05-15 16:16:00</td>\n",
       "      <td>2142-06-21 14:38:00</td>\n",
       "      <td>2142-06-21 14:38:00</td>\n",
       "      <td>1</td>\n",
       "      <td>2142-06-02 17:42:04</td>\n",
       "      <td>2142-06-07 16:57:32</td>\n",
       "      <td>1</td>\n",
       "    </tr>\n",
       "    <tr>\n",
       "      <th>1025</th>\n",
       "      <td>975</td>\n",
       "      <td>175734</td>\n",
       "      <td>2142-05-15 16:16:00</td>\n",
       "      <td>2142-06-21 14:38:00</td>\n",
       "      <td>2142-06-21 14:38:00</td>\n",
       "      <td>1</td>\n",
       "      <td>2142-05-15 16:18:42</td>\n",
       "      <td>2142-06-01 00:35:55</td>\n",
       "      <td>1</td>\n",
       "    </tr>\n",
       "    <tr>\n",
       "      <th>1896</th>\n",
       "      <td>1264</td>\n",
       "      <td>169492</td>\n",
       "      <td>2127-12-19 21:48:00</td>\n",
       "      <td>2128-01-13 07:42:00</td>\n",
       "      <td>2128-01-13 07:42:00</td>\n",
       "      <td>1</td>\n",
       "      <td>2128-01-01 06:56:00</td>\n",
       "      <td>2128-01-09 13:03:00</td>\n",
       "      <td>1</td>\n",
       "    </tr>\n",
       "    <tr>\n",
       "      <th>1895</th>\n",
       "      <td>1264</td>\n",
       "      <td>169492</td>\n",
       "      <td>2127-12-19 21:48:00</td>\n",
       "      <td>2128-01-13 07:42:00</td>\n",
       "      <td>2128-01-13 07:42:00</td>\n",
       "      <td>1</td>\n",
       "      <td>2127-12-19 21:49:00</td>\n",
       "      <td>2127-12-24 13:39:00</td>\n",
       "      <td>1</td>\n",
       "    </tr>\n",
       "    <tr>\n",
       "      <th>2041</th>\n",
       "      <td>1371</td>\n",
       "      <td>109490</td>\n",
       "      <td>2197-02-19 21:28:00</td>\n",
       "      <td>2197-03-15 20:57:00</td>\n",
       "      <td>2197-03-15 20:57:00</td>\n",
       "      <td>1</td>\n",
       "      <td>2197-03-06 16:09:51</td>\n",
       "      <td>2197-03-07 17:32:43</td>\n",
       "      <td>1</td>\n",
       "    </tr>\n",
       "  </tbody>\n",
       "</table>\n",
       "</div>"
      ],
      "text/plain": [
       "      SUBJECT_ID  HADM_ID           ADMITTIME           DISCHTIME   \n",
       "485          188   132401 2161-11-01 17:48:00 2162-01-17 05:50:00  \\\n",
       "486          188   132401 2161-11-01 17:48:00 2162-01-17 05:50:00   \n",
       "383          377   139824 2168-03-04 13:56:00 2168-04-04 10:47:00   \n",
       "384          377   139824 2168-03-04 13:56:00 2168-04-04 10:47:00   \n",
       "385          377   139824 2168-03-04 13:56:00 2168-04-04 10:47:00   \n",
       "427          408   173910 2188-10-27 21:25:00 2189-01-11 20:19:00   \n",
       "428          408   173910 2188-10-27 21:25:00 2189-01-11 20:19:00   \n",
       "1257         766   183370 2178-03-03 23:18:00 2178-03-27 04:41:00   \n",
       "1258         766   183370 2178-03-03 23:18:00 2178-03-27 04:41:00   \n",
       "966          834   153730 2166-06-17 03:00:00 2166-09-12 11:30:00   \n",
       "964          834   153730 2166-06-17 03:00:00 2166-09-12 11:30:00   \n",
       "965          834   153730 2166-06-17 03:00:00 2166-09-12 11:30:00   \n",
       "680          914   168503 2178-04-01 15:56:00 2178-06-04 21:17:00   \n",
       "681          914   168503 2178-04-01 15:56:00 2178-06-04 21:17:00   \n",
       "1027         975   175734 2142-05-15 16:16:00 2142-06-21 14:38:00   \n",
       "1026         975   175734 2142-05-15 16:16:00 2142-06-21 14:38:00   \n",
       "1025         975   175734 2142-05-15 16:16:00 2142-06-21 14:38:00   \n",
       "1896        1264   169492 2127-12-19 21:48:00 2128-01-13 07:42:00   \n",
       "1895        1264   169492 2127-12-19 21:48:00 2128-01-13 07:42:00   \n",
       "2041        1371   109490 2197-02-19 21:28:00 2197-03-15 20:57:00   \n",
       "\n",
       "               DEATHTIME  HOSPITAL_EXPIRE_FLAG              INTIME   \n",
       "485  2162-01-17 05:50:00                     1 2161-12-09 17:03:04  \\\n",
       "486  2162-01-17 05:50:00                     1 2162-01-10 16:36:40   \n",
       "383  2168-04-04 10:47:00                     1 2168-03-04 13:57:00   \n",
       "384  2168-04-04 10:47:00                     1 2168-03-21 13:13:00   \n",
       "385  2168-04-04 10:47:00                     1 2168-03-26 08:03:00   \n",
       "427  2189-01-11 20:19:00                     1 2188-10-27 21:27:14   \n",
       "428  2189-01-11 20:19:00                     1 2188-11-19 12:30:24   \n",
       "1257 2178-03-27 04:41:00                     1 2178-03-03 23:19:45   \n",
       "1258 2178-03-27 04:41:00                     1 2178-03-07 14:17:44   \n",
       "966  2166-09-12 11:30:00                     1 2166-08-19 06:00:00   \n",
       "964  2166-09-12 11:30:00                     1 2166-06-20 11:14:00   \n",
       "965  2166-09-12 11:30:00                     1 2166-07-07 14:01:00   \n",
       "680  2178-06-04 21:17:00                     1 2178-04-01 15:57:23   \n",
       "681  2178-06-04 21:17:00                     1 2178-04-22 16:40:37   \n",
       "1027 2142-06-21 14:38:00                     1 2142-06-13 12:04:35   \n",
       "1026 2142-06-21 14:38:00                     1 2142-06-02 17:42:04   \n",
       "1025 2142-06-21 14:38:00                     1 2142-05-15 16:18:42   \n",
       "1896 2128-01-13 07:42:00                     1 2128-01-01 06:56:00   \n",
       "1895 2128-01-13 07:42:00                     1 2127-12-19 21:49:00   \n",
       "2041 2197-03-15 20:57:00                     1 2197-03-06 16:09:51   \n",
       "\n",
       "                 OUTTIME  TRANSFERRED_DEATH  \n",
       "485  2161-12-17 21:04:31                  1  \n",
       "486  2162-01-16 18:35:07                  1  \n",
       "383  2168-03-15 16:33:00                  1  \n",
       "384  2168-03-23 16:27:00                  1  \n",
       "385  2168-04-03 15:03:00                  1  \n",
       "427  2188-10-30 19:54:32                  1  \n",
       "428  2188-11-26 11:26:04                  1  \n",
       "1257 2178-03-05 11:40:21                  1  \n",
       "1258 2178-03-12 13:48:25                  1  \n",
       "966  2166-08-31 18:55:00                  1  \n",
       "964  2166-06-30 18:29:00                  1  \n",
       "965  2166-08-10 14:01:00                  1  \n",
       "680  2178-04-17 22:31:49                  1  \n",
       "681  2178-05-19 17:17:13                  1  \n",
       "1027 2142-06-17 20:52:50                  1  \n",
       "1026 2142-06-07 16:57:32                  1  \n",
       "1025 2142-06-01 00:35:55                  1  \n",
       "1896 2128-01-09 13:03:00                  1  \n",
       "1895 2127-12-24 13:39:00                  1  \n",
       "2041 2197-03-07 17:32:43                  1  "
      ]
     },
     "execution_count": 37,
     "metadata": {},
     "output_type": "execute_result"
    }
   ],
   "source": [
    "dups = asdf[asdf['TRANSFERRED_DEATH']==1].sort_values('SUBJECT_ID')\n",
    "dups[dups.duplicated('HADM_ID',keep=False)].head(20)"
   ]
  },
  {
   "cell_type": "code",
   "execution_count": null,
   "metadata": {},
   "outputs": [],
   "source": []
  },
  {
   "cell_type": "code",
   "execution_count": null,
   "metadata": {},
   "outputs": [],
   "source": []
  },
  {
   "cell_type": "code",
   "execution_count": null,
   "metadata": {},
   "outputs": [],
   "source": []
  },
  {
   "cell_type": "code",
   "execution_count": null,
   "metadata": {},
   "outputs": [],
   "source": []
  },
  {
   "cell_type": "markdown",
   "metadata": {},
   "source": []
  },
  {
   "cell_type": "code",
   "execution_count": 15,
   "metadata": {},
   "outputs": [
    {
     "data": {
      "text/html": [
       "<div>\n",
       "<style scoped>\n",
       "    .dataframe tbody tr th:only-of-type {\n",
       "        vertical-align: middle;\n",
       "    }\n",
       "\n",
       "    .dataframe tbody tr th {\n",
       "        vertical-align: top;\n",
       "    }\n",
       "\n",
       "    .dataframe thead th {\n",
       "        text-align: right;\n",
       "    }\n",
       "</style>\n",
       "<table border=\"1\" class=\"dataframe\">\n",
       "  <thead>\n",
       "    <tr style=\"text-align: right;\">\n",
       "      <th></th>\n",
       "      <th>SUBJECT_ID</th>\n",
       "      <th>HADM_ID</th>\n",
       "      <th>ADMITTIME</th>\n",
       "      <th>DISCHTIME</th>\n",
       "      <th>DEATHTIME</th>\n",
       "      <th>HOSPITAL_EXPIRE_FLAG</th>\n",
       "      <th>INTIME</th>\n",
       "      <th>OUTTIME</th>\n",
       "      <th>DEATH_IN_ICU</th>\n",
       "    </tr>\n",
       "  </thead>\n",
       "  <tbody>\n",
       "    <tr>\n",
       "      <th>0</th>\n",
       "      <td>22</td>\n",
       "      <td>165315</td>\n",
       "      <td>2196-04-09 12:26:00</td>\n",
       "      <td>2196-04-10 15:54:00</td>\n",
       "      <td>NaT</td>\n",
       "      <td>0</td>\n",
       "      <td>2196-04-09 12:27:00</td>\n",
       "      <td>2196-04-10 15:54:00</td>\n",
       "      <td>0</td>\n",
       "    </tr>\n",
       "    <tr>\n",
       "      <th>1</th>\n",
       "      <td>23</td>\n",
       "      <td>152223</td>\n",
       "      <td>2153-09-03 07:15:00</td>\n",
       "      <td>2153-09-08 19:10:00</td>\n",
       "      <td>NaT</td>\n",
       "      <td>0</td>\n",
       "      <td>2153-09-03 09:38:55</td>\n",
       "      <td>2153-09-04 15:59:11</td>\n",
       "      <td>0</td>\n",
       "    </tr>\n",
       "    <tr>\n",
       "      <th>2</th>\n",
       "      <td>23</td>\n",
       "      <td>124321</td>\n",
       "      <td>2157-10-18 19:34:00</td>\n",
       "      <td>2157-10-25 14:00:00</td>\n",
       "      <td>NaT</td>\n",
       "      <td>0</td>\n",
       "      <td>2157-10-21 11:40:38</td>\n",
       "      <td>2157-10-22 16:08:48</td>\n",
       "      <td>0</td>\n",
       "    </tr>\n",
       "    <tr>\n",
       "      <th>3</th>\n",
       "      <td>24</td>\n",
       "      <td>161859</td>\n",
       "      <td>2139-06-06 16:14:00</td>\n",
       "      <td>2139-06-09 12:48:00</td>\n",
       "      <td>NaT</td>\n",
       "      <td>0</td>\n",
       "      <td>2139-06-06 16:15:36</td>\n",
       "      <td>2139-06-07 04:33:25</td>\n",
       "      <td>0</td>\n",
       "    </tr>\n",
       "    <tr>\n",
       "      <th>4</th>\n",
       "      <td>25</td>\n",
       "      <td>129635</td>\n",
       "      <td>2160-11-02 02:06:00</td>\n",
       "      <td>2160-11-05 14:55:00</td>\n",
       "      <td>NaT</td>\n",
       "      <td>0</td>\n",
       "      <td>2160-11-02 03:16:23</td>\n",
       "      <td>2160-11-05 16:23:27</td>\n",
       "      <td>0</td>\n",
       "    </tr>\n",
       "  </tbody>\n",
       "</table>\n",
       "</div>"
      ],
      "text/plain": [
       "   SUBJECT_ID  HADM_ID           ADMITTIME           DISCHTIME DEATHTIME   \n",
       "0          22   165315 2196-04-09 12:26:00 2196-04-10 15:54:00       NaT  \\\n",
       "1          23   152223 2153-09-03 07:15:00 2153-09-08 19:10:00       NaT   \n",
       "2          23   124321 2157-10-18 19:34:00 2157-10-25 14:00:00       NaT   \n",
       "3          24   161859 2139-06-06 16:14:00 2139-06-09 12:48:00       NaT   \n",
       "4          25   129635 2160-11-02 02:06:00 2160-11-05 14:55:00       NaT   \n",
       "\n",
       "   HOSPITAL_EXPIRE_FLAG              INTIME             OUTTIME  DEATH_IN_ICU  \n",
       "0                     0 2196-04-09 12:27:00 2196-04-10 15:54:00             0  \n",
       "1                     0 2153-09-03 09:38:55 2153-09-04 15:59:11             0  \n",
       "2                     0 2157-10-21 11:40:38 2157-10-22 16:08:48             0  \n",
       "3                     0 2139-06-06 16:15:36 2139-06-07 04:33:25             0  \n",
       "4                     0 2160-11-02 03:16:23 2160-11-05 16:23:27             0  "
      ]
     },
     "execution_count": 15,
     "metadata": {},
     "output_type": "execute_result"
    }
   ],
   "source": [
    "# There will be duplicate SUBJECT_ID\n",
    "tnd = pd.merge(admissions[['SUBJECT_ID', 'HADM_ID', 'ADMITTIME', 'DISCHTIME', 'DEATHTIME','HOSPITAL_EXPIRE_FLAG']], icustays[['SUBJECT_ID', 'HADM_ID', 'INTIME', 'OUTTIME']], 'inner',on=['SUBJECT_ID', 'HADM_ID'])\n",
    "# HADM_ID where patient died in ICU\n",
    "tnd['DEATH_IN_ICU'] = ((tnd['DEATHTIME'].notnull()) & (tnd['DEATHTIME'] >= tnd['INTIME']) & (tnd['DEATHTIME'] <= tnd['OUTTIME'])).astype(int)\n",
    "tnd.head()"
   ]
  },
  {
   "cell_type": "code",
   "execution_count": 18,
   "metadata": {},
   "outputs": [
    {
     "data": {
      "text/html": [
       "<div>\n",
       "<style scoped>\n",
       "    .dataframe tbody tr th:only-of-type {\n",
       "        vertical-align: middle;\n",
       "    }\n",
       "\n",
       "    .dataframe tbody tr th {\n",
       "        vertical-align: top;\n",
       "    }\n",
       "\n",
       "    .dataframe thead th {\n",
       "        text-align: right;\n",
       "    }\n",
       "</style>\n",
       "<table border=\"1\" class=\"dataframe\">\n",
       "  <thead>\n",
       "    <tr style=\"text-align: right;\">\n",
       "      <th></th>\n",
       "      <th>SUBJECT_ID</th>\n",
       "      <th>HADM_ID</th>\n",
       "      <th>ADMITTIME</th>\n",
       "      <th>DISCHTIME</th>\n",
       "      <th>DEATHTIME</th>\n",
       "      <th>HOSPITAL_EXPIRE_FLAG</th>\n",
       "      <th>INTIME</th>\n",
       "      <th>OUTTIME</th>\n",
       "      <th>DEATH_IN_ICU</th>\n",
       "      <th>TRANSFERRED_DEATH</th>\n",
       "    </tr>\n",
       "  </thead>\n",
       "  <tbody>\n",
       "    <tr>\n",
       "      <th>0</th>\n",
       "      <td>56</td>\n",
       "      <td>181711</td>\n",
       "      <td>2104-01-02 02:01:00</td>\n",
       "      <td>2104-01-08 10:30:00</td>\n",
       "      <td>2104-01-08 10:30:00</td>\n",
       "      <td>1</td>\n",
       "      <td>2104-01-02 02:02:39</td>\n",
       "      <td>2104-01-03 22:25:29</td>\n",
       "      <td>0</td>\n",
       "      <td>1</td>\n",
       "    </tr>\n",
       "    <tr>\n",
       "      <th>1</th>\n",
       "      <td>61</td>\n",
       "      <td>189535</td>\n",
       "      <td>2119-01-04 18:12:00</td>\n",
       "      <td>2119-02-03 01:35:00</td>\n",
       "      <td>2119-02-03 01:35:00</td>\n",
       "      <td>1</td>\n",
       "      <td>2119-01-20 15:58:00</td>\n",
       "      <td>2119-01-22 16:11:10</td>\n",
       "      <td>0</td>\n",
       "      <td>1</td>\n",
       "    </tr>\n",
       "    <tr>\n",
       "      <th>2</th>\n",
       "      <td>91</td>\n",
       "      <td>121205</td>\n",
       "      <td>2177-04-23 00:08:00</td>\n",
       "      <td>2177-05-10 15:16:00</td>\n",
       "      <td>2177-05-10 15:16:00</td>\n",
       "      <td>1</td>\n",
       "      <td>2177-04-27 02:08:00</td>\n",
       "      <td>2177-04-27 14:03:00</td>\n",
       "      <td>0</td>\n",
       "      <td>1</td>\n",
       "    </tr>\n",
       "    <tr>\n",
       "      <th>3</th>\n",
       "      <td>101</td>\n",
       "      <td>175533</td>\n",
       "      <td>2196-09-26 18:36:00</td>\n",
       "      <td>2196-10-12 13:17:00</td>\n",
       "      <td>2196-10-12 13:17:00</td>\n",
       "      <td>1</td>\n",
       "      <td>2196-09-26 18:37:40</td>\n",
       "      <td>2196-10-06 16:01:56</td>\n",
       "      <td>0</td>\n",
       "      <td>1</td>\n",
       "    </tr>\n",
       "    <tr>\n",
       "      <th>4</th>\n",
       "      <td>103</td>\n",
       "      <td>133550</td>\n",
       "      <td>2144-08-30 23:09:00</td>\n",
       "      <td>2144-09-01 14:28:00</td>\n",
       "      <td>2144-09-01 14:28:00</td>\n",
       "      <td>1</td>\n",
       "      <td>2144-08-30 23:12:13</td>\n",
       "      <td>2144-08-31 17:32:16</td>\n",
       "      <td>0</td>\n",
       "      <td>1</td>\n",
       "    </tr>\n",
       "  </tbody>\n",
       "</table>\n",
       "</div>"
      ],
      "text/plain": [
       "   SUBJECT_ID  HADM_ID           ADMITTIME           DISCHTIME   \n",
       "0          56   181711 2104-01-02 02:01:00 2104-01-08 10:30:00  \\\n",
       "1          61   189535 2119-01-04 18:12:00 2119-02-03 01:35:00   \n",
       "2          91   121205 2177-04-23 00:08:00 2177-05-10 15:16:00   \n",
       "3         101   175533 2196-09-26 18:36:00 2196-10-12 13:17:00   \n",
       "4         103   133550 2144-08-30 23:09:00 2144-09-01 14:28:00   \n",
       "\n",
       "            DEATHTIME  HOSPITAL_EXPIRE_FLAG              INTIME   \n",
       "0 2104-01-08 10:30:00                     1 2104-01-02 02:02:39  \\\n",
       "1 2119-02-03 01:35:00                     1 2119-01-20 15:58:00   \n",
       "2 2177-05-10 15:16:00                     1 2177-04-27 02:08:00   \n",
       "3 2196-10-12 13:17:00                     1 2196-09-26 18:37:40   \n",
       "4 2144-09-01 14:28:00                     1 2144-08-30 23:12:13   \n",
       "\n",
       "              OUTTIME  DEATH_IN_ICU  TRANSFERRED_DEATH  \n",
       "0 2104-01-03 22:25:29             0                  1  \n",
       "1 2119-01-22 16:11:10             0                  1  \n",
       "2 2177-04-27 14:03:00             0                  1  \n",
       "3 2196-10-06 16:01:56             0                  1  \n",
       "4 2144-08-31 17:32:16             0                  1  "
      ]
     },
     "execution_count": 18,
     "metadata": {},
     "output_type": "execute_result"
    }
   ],
   "source": [
    "# HADM_ID where patient died outside ICU, but still in hospital\n",
    "# = dataset.copy()\n",
    "tnd['TRANSFERRED_DEATH'] = ((tnd['HOSPITAL_EXPIRE_FLAG']==1) & (tnd['DEATH_IN_ICU']==0)).astype(int)\n",
    "tnd = (tnd[tnd['TRANSFERRED_DEATH'] == 1]).reset_index(drop=True)\n",
    "tnd.head()"
   ]
  },
  {
   "attachments": {},
   "cell_type": "markdown",
   "metadata": {},
   "source": [
    "### 3. Discharged & Returned < 30\n",
    "\n",
    "This is the wrong way. This labels the return visit instead of discharged visit\n",
    "\n",
    "```python\n",
    "sort admissions by SUBJECT_ID, ADMITTIME\n",
    "shifted = admissions.shift(1)\n",
    "shifted['DISCHTIME'] = pd.to_datetime(shifted['DISCHTIME'], errors='coerce')\n",
    "dataset['DISCHARGED_RETURNED'] = (shifted['SUBJECT_ID'] == admissions['SUBJECT_ID']) & (admissions['ADMITTIME'] - shifted['DISCHTIME'] <= np.timedelta64(30, 'D')) \n",
    "```"
   ]
  },
  {
   "cell_type": "code",
   "execution_count": 19,
   "metadata": {},
   "outputs": [
    {
     "data": {
      "text/html": [
       "<div>\n",
       "<style scoped>\n",
       "    .dataframe tbody tr th:only-of-type {\n",
       "        vertical-align: middle;\n",
       "    }\n",
       "\n",
       "    .dataframe tbody tr th {\n",
       "        vertical-align: top;\n",
       "    }\n",
       "\n",
       "    .dataframe thead th {\n",
       "        text-align: right;\n",
       "    }\n",
       "</style>\n",
       "<table border=\"1\" class=\"dataframe\">\n",
       "  <thead>\n",
       "    <tr style=\"text-align: right;\">\n",
       "      <th></th>\n",
       "      <th>SUBJECT_ID</th>\n",
       "      <th>HADM_ID</th>\n",
       "      <th>ADMITTIME</th>\n",
       "      <th>DISCHTIME</th>\n",
       "      <th>DISCHARGED_RETURNED</th>\n",
       "    </tr>\n",
       "  </thead>\n",
       "  <tbody>\n",
       "    <tr>\n",
       "      <th>0</th>\n",
       "      <td>36</td>\n",
       "      <td>182104</td>\n",
       "      <td>2131-04-30 07:15:00</td>\n",
       "      <td>2131-05-08 14:00:00</td>\n",
       "      <td>1</td>\n",
       "    </tr>\n",
       "    <tr>\n",
       "      <th>1</th>\n",
       "      <td>68</td>\n",
       "      <td>170467</td>\n",
       "      <td>2173-12-15 16:16:00</td>\n",
       "      <td>2174-01-03 18:30:00</td>\n",
       "      <td>1</td>\n",
       "    </tr>\n",
       "    <tr>\n",
       "      <th>2</th>\n",
       "      <td>103</td>\n",
       "      <td>130744</td>\n",
       "      <td>2144-08-12 17:37:00</td>\n",
       "      <td>2144-08-20 11:15:00</td>\n",
       "      <td>1</td>\n",
       "    </tr>\n",
       "    <tr>\n",
       "      <th>3</th>\n",
       "      <td>105</td>\n",
       "      <td>161160</td>\n",
       "      <td>2189-01-28 16:57:00</td>\n",
       "      <td>2189-02-02 16:40:00</td>\n",
       "      <td>1</td>\n",
       "    </tr>\n",
       "    <tr>\n",
       "      <th>4</th>\n",
       "      <td>109</td>\n",
       "      <td>164029</td>\n",
       "      <td>2140-01-19 13:25:00</td>\n",
       "      <td>2140-01-21 13:25:00</td>\n",
       "      <td>1</td>\n",
       "    </tr>\n",
       "  </tbody>\n",
       "</table>\n",
       "</div>"
      ],
      "text/plain": [
       "   SUBJECT_ID  HADM_ID           ADMITTIME           DISCHTIME   \n",
       "0          36   182104 2131-04-30 07:15:00 2131-05-08 14:00:00  \\\n",
       "1          68   170467 2173-12-15 16:16:00 2174-01-03 18:30:00   \n",
       "2         103   130744 2144-08-12 17:37:00 2144-08-20 11:15:00   \n",
       "3         105   161160 2189-01-28 16:57:00 2189-02-02 16:40:00   \n",
       "4         109   164029 2140-01-19 13:25:00 2140-01-21 13:25:00   \n",
       "\n",
       "   DISCHARGED_RETURNED  \n",
       "0                    1  \n",
       "1                    1  \n",
       "2                    1  \n",
       "3                    1  \n",
       "4                    1  "
      ]
     },
     "execution_count": 19,
     "metadata": {},
     "output_type": "execute_result"
    }
   ],
   "source": [
    "dnr = admissions[['SUBJECT_ID', 'HADM_ID', 'ADMITTIME', 'DISCHTIME']].copy()\n",
    "dnr.sort_values(by=['SUBJECT_ID', 'DISCHTIME'], ignore_index=True, inplace=True)\n",
    "shifted = (dnr.copy()).shift(-1)\n",
    "dnr['ADMITTIME'] = pd.to_datetime(dnr['ADMITTIME'], errors='coerce')\n",
    "dnr['DISCHTIME'] = pd.to_datetime(dnr['DISCHTIME'], errors='coerce')\n",
    "shifted['ADMITTIME'] = pd.to_datetime(shifted['ADMITTIME'], errors='coerce')\n",
    "shifted['DISCHTIME'] = pd.to_datetime(shifted['DISCHTIME'], errors='coerce')\n",
    "dnr['DISCHARGED_RETURNED'] = ((shifted['SUBJECT_ID'] == dnr['SUBJECT_ID']) & (shifted['HADM_ID'] != dnr['HADM_ID']) & (shifted['ADMITTIME'] - dnr['DISCHTIME'] <= np.timedelta64(30, 'D'))).astype(int)\n",
    "dnr = dnr[dnr['DISCHARGED_RETURNED'] == 1].reset_index(drop=True)\n",
    "dnr.head()"
   ]
  },
  {
   "attachments": {},
   "cell_type": "markdown",
   "metadata": {},
   "source": [
    "### 4. Discharged & Died < 30 (merge patients, addmisions)\n",
    "\n",
    "Need last discharged visit HADM_ID\n",
    "\n",
    "```python\n",
    "dataset['DISCHARGED_DEATH'] = patients['EXPIRE_FLAG'] & not admissions['HOSPITAL_EXPIRE_FLAG'] & (patients['DOD'] - admissions['DISCHTIME'] <= np.timedelta64(30, 'D')) \n",
    "```"
   ]
  },
  {
   "cell_type": "code",
   "execution_count": 20,
   "metadata": {},
   "outputs": [
    {
     "data": {
      "text/html": [
       "<div>\n",
       "<style scoped>\n",
       "    .dataframe tbody tr th:only-of-type {\n",
       "        vertical-align: middle;\n",
       "    }\n",
       "\n",
       "    .dataframe tbody tr th {\n",
       "        vertical-align: top;\n",
       "    }\n",
       "\n",
       "    .dataframe thead th {\n",
       "        text-align: right;\n",
       "    }\n",
       "</style>\n",
       "<table border=\"1\" class=\"dataframe\">\n",
       "  <thead>\n",
       "    <tr style=\"text-align: right;\">\n",
       "      <th></th>\n",
       "      <th>SUBJECT_ID</th>\n",
       "      <th>DOD</th>\n",
       "      <th>EXPIRE_FLAG</th>\n",
       "      <th>HADM_ID</th>\n",
       "      <th>DISCHTIME</th>\n",
       "      <th>HOSPITAL_EXPIRE_FLAG</th>\n",
       "      <th>DISCHARGED_DEATH</th>\n",
       "    </tr>\n",
       "  </thead>\n",
       "  <tbody>\n",
       "    <tr>\n",
       "      <th>0</th>\n",
       "      <td>668</td>\n",
       "      <td>2183-07-10</td>\n",
       "      <td>1</td>\n",
       "      <td>166245</td>\n",
       "      <td>2183-07-07 16:30:00</td>\n",
       "      <td>0</td>\n",
       "      <td>1</td>\n",
       "    </tr>\n",
       "    <tr>\n",
       "      <th>1</th>\n",
       "      <td>670</td>\n",
       "      <td>2161-02-15</td>\n",
       "      <td>1</td>\n",
       "      <td>176690</td>\n",
       "      <td>2161-02-13 15:45:00</td>\n",
       "      <td>0</td>\n",
       "      <td>1</td>\n",
       "    </tr>\n",
       "    <tr>\n",
       "      <th>2</th>\n",
       "      <td>700</td>\n",
       "      <td>2115-05-04</td>\n",
       "      <td>1</td>\n",
       "      <td>199309</td>\n",
       "      <td>2115-05-02 16:30:00</td>\n",
       "      <td>0</td>\n",
       "      <td>1</td>\n",
       "    </tr>\n",
       "    <tr>\n",
       "      <th>3</th>\n",
       "      <td>711</td>\n",
       "      <td>2185-05-26</td>\n",
       "      <td>1</td>\n",
       "      <td>158767</td>\n",
       "      <td>2185-05-16 17:10:00</td>\n",
       "      <td>0</td>\n",
       "      <td>1</td>\n",
       "    </tr>\n",
       "    <tr>\n",
       "      <th>4</th>\n",
       "      <td>735</td>\n",
       "      <td>2128-07-04</td>\n",
       "      <td>1</td>\n",
       "      <td>140547</td>\n",
       "      <td>2128-06-10 17:30:00</td>\n",
       "      <td>0</td>\n",
       "      <td>1</td>\n",
       "    </tr>\n",
       "  </tbody>\n",
       "</table>\n",
       "</div>"
      ],
      "text/plain": [
       "   SUBJECT_ID        DOD  EXPIRE_FLAG  HADM_ID           DISCHTIME   \n",
       "0         668 2183-07-10            1   166245 2183-07-07 16:30:00  \\\n",
       "1         670 2161-02-15            1   176690 2161-02-13 15:45:00   \n",
       "2         700 2115-05-04            1   199309 2115-05-02 16:30:00   \n",
       "3         711 2185-05-26            1   158767 2185-05-16 17:10:00   \n",
       "4         735 2128-07-04            1   140547 2128-06-10 17:30:00   \n",
       "\n",
       "   HOSPITAL_EXPIRE_FLAG  DISCHARGED_DEATH  \n",
       "0                     0                 1  \n",
       "1                     0                 1  \n",
       "2                     0                 1  \n",
       "3                     0                 1  \n",
       "4                     0                 1  "
      ]
     },
     "execution_count": 20,
     "metadata": {},
     "output_type": "execute_result"
    }
   ],
   "source": [
    "dnd = pd.merge(patients[['SUBJECT_ID', 'DOD', 'EXPIRE_FLAG']],admissions[['SUBJECT_ID', 'HADM_ID','DISCHTIME','HOSPITAL_EXPIRE_FLAG']],'inner',on='SUBJECT_ID')\n",
    "dnd['DISCHARGED_DEATH'] = ((dnd['EXPIRE_FLAG']==1) & (dnd['HOSPITAL_EXPIRE_FLAG']==0) & (dnd['DOD'] - dnd['DISCHTIME'] <= np.timedelta64(30, 'D')) ).astype(int)\n",
    "dnd = dnd[dnd['DISCHARGED_DEATH'] == 1].reset_index(drop=True)\n",
    "dnd.head()"
   ]
  },
  {
   "cell_type": "code",
   "execution_count": 21,
   "metadata": {},
   "outputs": [
    {
     "data": {
      "text/html": [
       "<div>\n",
       "<style scoped>\n",
       "    .dataframe tbody tr th:only-of-type {\n",
       "        vertical-align: middle;\n",
       "    }\n",
       "\n",
       "    .dataframe tbody tr th {\n",
       "        vertical-align: top;\n",
       "    }\n",
       "\n",
       "    .dataframe thead th {\n",
       "        text-align: right;\n",
       "    }\n",
       "</style>\n",
       "<table border=\"1\" class=\"dataframe\">\n",
       "  <thead>\n",
       "    <tr style=\"text-align: right;\">\n",
       "      <th></th>\n",
       "      <th>SUBJECT_ID</th>\n",
       "      <th>HADM_ID</th>\n",
       "      <th>ADMITTIME</th>\n",
       "      <th>DISCHTIME</th>\n",
       "      <th>DEATHTIME</th>\n",
       "      <th>ADMISSION_TYPE</th>\n",
       "      <th>ADMISSION_LOCATION</th>\n",
       "      <th>DISCHARGE_LOCATION</th>\n",
       "      <th>INSURANCE</th>\n",
       "      <th>LANGUAGE</th>\n",
       "      <th>RELIGION</th>\n",
       "      <th>MARITAL_STATUS</th>\n",
       "      <th>ETHNICITY</th>\n",
       "      <th>EDREGTIME</th>\n",
       "      <th>EDOUTTIME</th>\n",
       "      <th>DIAGNOSIS</th>\n",
       "      <th>HOSPITAL_EXPIRE_FLAG</th>\n",
       "      <th>HAS_CHARTEVENTS_DATA</th>\n",
       "    </tr>\n",
       "  </thead>\n",
       "  <tbody>\n",
       "    <tr>\n",
       "      <th>0</th>\n",
       "      <td>22</td>\n",
       "      <td>165315</td>\n",
       "      <td>2196-04-09 12:26:00</td>\n",
       "      <td>2196-04-10 15:54:00</td>\n",
       "      <td>NaT</td>\n",
       "      <td>EMERGENCY</td>\n",
       "      <td>EMERGENCY ROOM ADMIT</td>\n",
       "      <td>DISC-TRAN CANCER/CHLDRN H</td>\n",
       "      <td>Private</td>\n",
       "      <td>NaN</td>\n",
       "      <td>UNOBTAINABLE</td>\n",
       "      <td>MARRIED</td>\n",
       "      <td>WHITE</td>\n",
       "      <td>2196-04-09 10:06:00</td>\n",
       "      <td>2196-04-09 13:24:00</td>\n",
       "      <td>BENZODIAZEPINE OVERDOSE</td>\n",
       "      <td>0</td>\n",
       "      <td>1</td>\n",
       "    </tr>\n",
       "  </tbody>\n",
       "</table>\n",
       "</div>"
      ],
      "text/plain": [
       "   SUBJECT_ID  HADM_ID           ADMITTIME           DISCHTIME DEATHTIME   \n",
       "0          22   165315 2196-04-09 12:26:00 2196-04-10 15:54:00       NaT  \\\n",
       "\n",
       "  ADMISSION_TYPE    ADMISSION_LOCATION         DISCHARGE_LOCATION INSURANCE   \n",
       "0      EMERGENCY  EMERGENCY ROOM ADMIT  DISC-TRAN CANCER/CHLDRN H   Private  \\\n",
       "\n",
       "  LANGUAGE      RELIGION MARITAL_STATUS ETHNICITY            EDREGTIME   \n",
       "0      NaN  UNOBTAINABLE        MARRIED     WHITE  2196-04-09 10:06:00  \\\n",
       "\n",
       "             EDOUTTIME                DIAGNOSIS  HOSPITAL_EXPIRE_FLAG   \n",
       "0  2196-04-09 13:24:00  BENZODIAZEPINE OVERDOSE                     0  \\\n",
       "\n",
       "   HAS_CHARTEVENTS_DATA  \n",
       "0                     1  "
      ]
     },
     "execution_count": 21,
     "metadata": {},
     "output_type": "execute_result"
    }
   ],
   "source": [
    "admissions.head(1)"
   ]
  },
  {
   "attachments": {},
   "cell_type": "markdown",
   "metadata": {},
   "source": [
    "## merge"
   ]
  },
  {
   "cell_type": "code",
   "execution_count": 22,
   "metadata": {},
   "outputs": [],
   "source": [
    "dataset4 = admissions[['SUBJECT_ID', 'HADM_ID']].merge(tnr[['SUBJECT_ID', 'HADM_ID', 'ICUSTAY_ID', 'TRANSFERRED_RETURNED']], how='left', on=['SUBJECT_ID', 'HADM_ID'])\n",
    "\n",
    "dataset4 = dataset4.merge(tnd[['SUBJECT_ID', 'HADM_ID','TRANSFERRED_DEATH']], how='left', on=['SUBJECT_ID', 'HADM_ID'])\n",
    "dataset4 = dataset4.merge(dnr[['SUBJECT_ID', 'HADM_ID','DISCHARGED_RETURNED']], how='left', on=['SUBJECT_ID', 'HADM_ID'])\n",
    "dataset4 = dataset4.merge(dnd[['SUBJECT_ID', 'DISCHARGED_DEATH']], how='left', on=['SUBJECT_ID'])\n",
    "dataset4 = dataset4[(dataset4['TRANSFERRED_RETURNED'] == 1) | (dataset4['TRANSFERRED_DEATH'] == 1) | (dataset4['DISCHARGED_RETURNED'] == 1) | (dataset4['DISCHARGED_DEATH'] == 1)]\n",
    "# dataset4 = dataset4.drop_duplicates(subset='HADM_ID')"
   ]
  },
  {
   "cell_type": "code",
   "execution_count": 23,
   "metadata": {},
   "outputs": [
    {
     "data": {
      "text/html": [
       "<div>\n",
       "<style scoped>\n",
       "    .dataframe tbody tr th:only-of-type {\n",
       "        vertical-align: middle;\n",
       "    }\n",
       "\n",
       "    .dataframe tbody tr th {\n",
       "        vertical-align: top;\n",
       "    }\n",
       "\n",
       "    .dataframe thead th {\n",
       "        text-align: right;\n",
       "    }\n",
       "</style>\n",
       "<table border=\"1\" class=\"dataframe\">\n",
       "  <thead>\n",
       "    <tr style=\"text-align: right;\">\n",
       "      <th></th>\n",
       "      <th>SUBJECT_ID</th>\n",
       "      <th>HADM_ID</th>\n",
       "      <th>ICUSTAY_ID</th>\n",
       "      <th>TRANSFERRED_RETURNED</th>\n",
       "      <th>TRANSFERRED_DEATH</th>\n",
       "      <th>DISCHARGED_RETURNED</th>\n",
       "      <th>DISCHARGED_DEATH</th>\n",
       "    </tr>\n",
       "  </thead>\n",
       "  <tbody>\n",
       "    <tr>\n",
       "      <th>15</th>\n",
       "      <td>36</td>\n",
       "      <td>182104</td>\n",
       "      <td>NaN</td>\n",
       "      <td>0</td>\n",
       "      <td>0</td>\n",
       "      <td>1</td>\n",
       "      <td>0</td>\n",
       "    </tr>\n",
       "    <tr>\n",
       "      <th>21</th>\n",
       "      <td>41</td>\n",
       "      <td>101757</td>\n",
       "      <td>237024.0</td>\n",
       "      <td>1</td>\n",
       "      <td>0</td>\n",
       "      <td>0</td>\n",
       "      <td>0</td>\n",
       "    </tr>\n",
       "    <tr>\n",
       "      <th>23</th>\n",
       "      <td>357</td>\n",
       "      <td>145674</td>\n",
       "      <td>NaN</td>\n",
       "      <td>0</td>\n",
       "      <td>0</td>\n",
       "      <td>1</td>\n",
       "      <td>0</td>\n",
       "    </tr>\n",
       "    <tr>\n",
       "      <th>27</th>\n",
       "      <td>358</td>\n",
       "      <td>110872</td>\n",
       "      <td>244658.0</td>\n",
       "      <td>1</td>\n",
       "      <td>0</td>\n",
       "      <td>0</td>\n",
       "      <td>0</td>\n",
       "    </tr>\n",
       "    <tr>\n",
       "      <th>31</th>\n",
       "      <td>361</td>\n",
       "      <td>148959</td>\n",
       "      <td>257948.0</td>\n",
       "      <td>1</td>\n",
       "      <td>0</td>\n",
       "      <td>0</td>\n",
       "      <td>0</td>\n",
       "    </tr>\n",
       "  </tbody>\n",
       "</table>\n",
       "</div>"
      ],
      "text/plain": [
       "    SUBJECT_ID  HADM_ID  ICUSTAY_ID  TRANSFERRED_RETURNED  TRANSFERRED_DEATH   \n",
       "15          36   182104         NaN                     0                  0  \\\n",
       "21          41   101757    237024.0                     1                  0   \n",
       "23         357   145674         NaN                     0                  0   \n",
       "27         358   110872    244658.0                     1                  0   \n",
       "31         361   148959    257948.0                     1                  0   \n",
       "\n",
       "    DISCHARGED_RETURNED  DISCHARGED_DEATH  \n",
       "15                    1                 0  \n",
       "21                    0                 0  \n",
       "23                    1                 0  \n",
       "27                    0                 0  \n",
       "31                    0                 0  "
      ]
     },
     "execution_count": 23,
     "metadata": {},
     "output_type": "execute_result"
    }
   ],
   "source": [
    "# dataset4 = dataset4.drop_duplicates(subset='HADM_ID')\n",
    "dataset4.loc[dataset4['TRANSFERRED_RETURNED'].isnull(), 'TRANSFERRED_RETURNED'] = 0\n",
    "dataset4['TRANSFERRED_RETURNED'] = dataset4['TRANSFERRED_RETURNED'].astype(int)\n",
    "dataset4.loc[dataset4['TRANSFERRED_DEATH'].isnull(), 'TRANSFERRED_DEATH'] = 0\n",
    "dataset4['TRANSFERRED_DEATH'] = dataset4['TRANSFERRED_DEATH'].astype(int)\n",
    "dataset4.loc[dataset4['DISCHARGED_RETURNED'].isnull(), 'DISCHARGED_RETURNED'] = 0\n",
    "dataset4['DISCHARGED_RETURNED'] = dataset4['DISCHARGED_RETURNED'].astype(int)\n",
    "dataset4.loc[dataset4['DISCHARGED_DEATH'].isnull(), 'DISCHARGED_DEATH'] = 0\n",
    "dataset4['DISCHARGED_DEATH'] = dataset4['DISCHARGED_DEATH'].astype(int)\n",
    "dataset4.head()"
   ]
  },
  {
   "attachments": {},
   "cell_type": "markdown",
   "metadata": {},
   "source": [
    "## Age"
   ]
  },
  {
   "cell_type": "code",
   "execution_count": 24,
   "metadata": {},
   "outputs": [],
   "source": [
    "remove_age = pd.merge(admissions[['SUBJECT_ID', 'HADM_ID', 'ADMITTIME']], patients[['SUBJECT_ID', 'DOB']], how='inner', on='SUBJECT_ID')"
   ]
  },
  {
   "cell_type": "code",
   "execution_count": 25,
   "metadata": {},
   "outputs": [],
   "source": [
    "remove_age['AGE'] = ((pd.to_datetime(remove_age['ADMITTIME']).dt.date - pd.to_datetime(remove_age['DOB']).dt.date) / np.timedelta64(1, 'Y')).astype(int)"
   ]
  },
  {
   "cell_type": "code",
   "execution_count": 26,
   "metadata": {},
   "outputs": [],
   "source": [
    "remove_age['UNDER_18'] = (remove_age['AGE'] < 18).astype(int)\n"
   ]
  },
  {
   "cell_type": "code",
   "execution_count": 27,
   "metadata": {},
   "outputs": [],
   "source": [
    "dataset4 = pd.merge(dataset4, remove_age[['HADM_ID', 'AGE']], 'inner',on='HADM_ID')"
   ]
  },
  {
   "cell_type": "code",
   "execution_count": 28,
   "metadata": {},
   "outputs": [],
   "source": [
    "dataset4 = dataset4[dataset4['AGE'] >= 18]"
   ]
  },
  {
   "attachments": {},
   "cell_type": "markdown",
   "metadata": {},
   "source": [
    "## Goal: Find cases of readmission\n",
    "\n",
    "1. Transferred & returned               = 3555\n",
    "2. Transferred & died                   = 1974\n",
    "3. Discharged & returned < 30 days      = 3205\n",
    "4. Discharged & died < 30 days          = 2556"
   ]
  },
  {
   "cell_type": "code",
   "execution_count": 29,
   "metadata": {},
   "outputs": [
    {
     "name": "stdout",
     "output_type": "stream",
     "text": [
      "4227\n",
      "2498\n",
      "3366\n",
      "4253\n"
     ]
    }
   ],
   "source": [
    "print(np.sum(dataset4['TRANSFERRED_RETURNED']))\n",
    "print(np.sum(dataset4['TRANSFERRED_DEATH']))\n",
    "print(np.sum(dataset4['DISCHARGED_RETURNED']))\n",
    "print(np.sum(dataset4['DISCHARGED_DEATH']))"
   ]
  },
  {
   "cell_type": "code",
   "execution_count": null,
   "metadata": {},
   "outputs": [],
   "source": []
  }
 ],
 "metadata": {
  "kernelspec": {
   "display_name": ".venv",
   "language": "python",
   "name": "python3"
  },
  "language_info": {
   "codemirror_mode": {
    "name": "ipython",
    "version": 3
   },
   "file_extension": ".py",
   "mimetype": "text/x-python",
   "name": "python",
   "nbconvert_exporter": "python",
   "pygments_lexer": "ipython3",
   "version": "3.10.9"
  },
  "orig_nbformat": 4
 },
 "nbformat": 4,
 "nbformat_minor": 2
}
