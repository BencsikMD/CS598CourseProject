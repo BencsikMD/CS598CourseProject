{
 "cells": [
  {
   "attachments": {},
   "cell_type": "markdown",
   "metadata": {},
   "source": [
    "# Prediction of Hospital Readmissions\n",
    "\n",
    "This notebook's goal is to reproduce the claims from Zebin and Chaussalet's paper, 'Design and implementation of a deep recurrent model for prediction of readadmission in urgent care using electronic health records'.\n",
    "\n"
   ]
  },
  {
   "attachments": {},
   "cell_type": "markdown",
   "metadata": {},
   "source": [
    "## Claims\n",
    "\n",
    "When predicting ICU readmissions:\n",
    "\n",
    "1. LSTM+CNN produced higher accuracy than logistic regression, random forest, and SVM.\n",
    "2. LSTM+CNN produced higher precision than logistic regression, random forest, and SVM.\n",
    "3. LSTM+CNN produced higher recall than logistic regression and SVM"
   ]
  },
  {
   "cell_type": "code",
   "execution_count": 1,
   "metadata": {},
   "outputs": [],
   "source": [
    "import numpy as np\n",
    "import pandas as pd"
   ]
  },
  {
   "cell_type": "code",
   "execution_count": 2,
   "metadata": {},
   "outputs": [
    {
     "data": {
      "text/html": [
       "<div>\n",
       "<style scoped>\n",
       "    .dataframe tbody tr th:only-of-type {\n",
       "        vertical-align: middle;\n",
       "    }\n",
       "\n",
       "    .dataframe tbody tr th {\n",
       "        vertical-align: top;\n",
       "    }\n",
       "\n",
       "    .dataframe thead th {\n",
       "        text-align: right;\n",
       "    }\n",
       "</style>\n",
       "<table border=\"1\" class=\"dataframe\">\n",
       "  <thead>\n",
       "    <tr style=\"text-align: right;\">\n",
       "      <th></th>\n",
       "      <th>ROW_ID</th>\n",
       "      <th>SUBJECT_ID</th>\n",
       "      <th>GENDER</th>\n",
       "      <th>DOB</th>\n",
       "      <th>DOD</th>\n",
       "      <th>DOD_HOSP</th>\n",
       "      <th>DOD_SSN</th>\n",
       "      <th>EXPIRE_FLAG</th>\n",
       "    </tr>\n",
       "  </thead>\n",
       "  <tbody>\n",
       "    <tr>\n",
       "      <th>0</th>\n",
       "      <td>234</td>\n",
       "      <td>249</td>\n",
       "      <td>F</td>\n",
       "      <td>2075-03-13 00:00:00</td>\n",
       "      <td>NaN</td>\n",
       "      <td>NaN</td>\n",
       "      <td>NaN</td>\n",
       "      <td>0</td>\n",
       "    </tr>\n",
       "  </tbody>\n",
       "</table>\n",
       "</div>"
      ],
      "text/plain": [
       "   ROW_ID  SUBJECT_ID GENDER                  DOB  DOD DOD_HOSP DOD_SSN   \n",
       "0     234         249      F  2075-03-13 00:00:00  NaN      NaN     NaN  \\\n",
       "\n",
       "   EXPIRE_FLAG  \n",
       "0            0  "
      ]
     },
     "execution_count": 2,
     "metadata": {},
     "output_type": "execute_result"
    }
   ],
   "source": [
    "patients = pd.read_csv('./mimic-iii/PATIENTS.csv')\n",
    "patients.head(1)"
   ]
  },
  {
   "cell_type": "code",
   "execution_count": 3,
   "metadata": {},
   "outputs": [
    {
     "name": "stdout",
     "output_type": "stream",
     "text": [
      "(58976, 19)\n"
     ]
    },
    {
     "data": {
      "text/html": [
       "<div>\n",
       "<style scoped>\n",
       "    .dataframe tbody tr th:only-of-type {\n",
       "        vertical-align: middle;\n",
       "    }\n",
       "\n",
       "    .dataframe tbody tr th {\n",
       "        vertical-align: top;\n",
       "    }\n",
       "\n",
       "    .dataframe thead th {\n",
       "        text-align: right;\n",
       "    }\n",
       "</style>\n",
       "<table border=\"1\" class=\"dataframe\">\n",
       "  <thead>\n",
       "    <tr style=\"text-align: right;\">\n",
       "      <th></th>\n",
       "      <th>ROW_ID</th>\n",
       "      <th>SUBJECT_ID</th>\n",
       "      <th>HADM_ID</th>\n",
       "      <th>ADMITTIME</th>\n",
       "      <th>DISCHTIME</th>\n",
       "      <th>DEATHTIME</th>\n",
       "      <th>ADMISSION_TYPE</th>\n",
       "      <th>ADMISSION_LOCATION</th>\n",
       "      <th>DISCHARGE_LOCATION</th>\n",
       "      <th>INSURANCE</th>\n",
       "      <th>LANGUAGE</th>\n",
       "      <th>RELIGION</th>\n",
       "      <th>MARITAL_STATUS</th>\n",
       "      <th>ETHNICITY</th>\n",
       "      <th>EDREGTIME</th>\n",
       "      <th>EDOUTTIME</th>\n",
       "      <th>DIAGNOSIS</th>\n",
       "      <th>HOSPITAL_EXPIRE_FLAG</th>\n",
       "      <th>HAS_CHARTEVENTS_DATA</th>\n",
       "    </tr>\n",
       "  </thead>\n",
       "  <tbody>\n",
       "    <tr>\n",
       "      <th>0</th>\n",
       "      <td>21</td>\n",
       "      <td>22</td>\n",
       "      <td>165315</td>\n",
       "      <td>2196-04-09 12:26:00</td>\n",
       "      <td>2196-04-10 15:54:00</td>\n",
       "      <td>NaN</td>\n",
       "      <td>EMERGENCY</td>\n",
       "      <td>EMERGENCY ROOM ADMIT</td>\n",
       "      <td>DISC-TRAN CANCER/CHLDRN H</td>\n",
       "      <td>Private</td>\n",
       "      <td>NaN</td>\n",
       "      <td>UNOBTAINABLE</td>\n",
       "      <td>MARRIED</td>\n",
       "      <td>WHITE</td>\n",
       "      <td>2196-04-09 10:06:00</td>\n",
       "      <td>2196-04-09 13:24:00</td>\n",
       "      <td>BENZODIAZEPINE OVERDOSE</td>\n",
       "      <td>0</td>\n",
       "      <td>1</td>\n",
       "    </tr>\n",
       "  </tbody>\n",
       "</table>\n",
       "</div>"
      ],
      "text/plain": [
       "   ROW_ID  SUBJECT_ID  HADM_ID            ADMITTIME            DISCHTIME   \n",
       "0      21          22   165315  2196-04-09 12:26:00  2196-04-10 15:54:00  \\\n",
       "\n",
       "  DEATHTIME ADMISSION_TYPE    ADMISSION_LOCATION         DISCHARGE_LOCATION   \n",
       "0       NaN      EMERGENCY  EMERGENCY ROOM ADMIT  DISC-TRAN CANCER/CHLDRN H  \\\n",
       "\n",
       "  INSURANCE LANGUAGE      RELIGION MARITAL_STATUS ETHNICITY   \n",
       "0   Private      NaN  UNOBTAINABLE        MARRIED     WHITE  \\\n",
       "\n",
       "             EDREGTIME            EDOUTTIME                DIAGNOSIS   \n",
       "0  2196-04-09 10:06:00  2196-04-09 13:24:00  BENZODIAZEPINE OVERDOSE  \\\n",
       "\n",
       "   HOSPITAL_EXPIRE_FLAG  HAS_CHARTEVENTS_DATA  \n",
       "0                     0                     1  "
      ]
     },
     "execution_count": 3,
     "metadata": {},
     "output_type": "execute_result"
    }
   ],
   "source": [
    "admissions = pd.read_csv('./mimic-iii/ADMISSIONS.csv')\n",
    "print(admissions.shape)\n",
    "admissions.head(1)"
   ]
  },
  {
   "cell_type": "code",
   "execution_count": 4,
   "metadata": {},
   "outputs": [
    {
     "data": {
      "text/html": [
       "<div>\n",
       "<style scoped>\n",
       "    .dataframe tbody tr th:only-of-type {\n",
       "        vertical-align: middle;\n",
       "    }\n",
       "\n",
       "    .dataframe tbody tr th {\n",
       "        vertical-align: top;\n",
       "    }\n",
       "\n",
       "    .dataframe thead th {\n",
       "        text-align: right;\n",
       "    }\n",
       "</style>\n",
       "<table border=\"1\" class=\"dataframe\">\n",
       "  <thead>\n",
       "    <tr style=\"text-align: right;\">\n",
       "      <th></th>\n",
       "      <th>ROW_ID</th>\n",
       "      <th>SUBJECT_ID</th>\n",
       "      <th>HADM_ID</th>\n",
       "      <th>ICUSTAY_ID</th>\n",
       "      <th>DBSOURCE</th>\n",
       "      <th>EVENTTYPE</th>\n",
       "      <th>PREV_CAREUNIT</th>\n",
       "      <th>CURR_CAREUNIT</th>\n",
       "      <th>PREV_WARDID</th>\n",
       "      <th>CURR_WARDID</th>\n",
       "      <th>INTIME</th>\n",
       "      <th>OUTTIME</th>\n",
       "      <th>LOS</th>\n",
       "    </tr>\n",
       "  </thead>\n",
       "  <tbody>\n",
       "    <tr>\n",
       "      <th>0</th>\n",
       "      <td>657</td>\n",
       "      <td>111</td>\n",
       "      <td>192123</td>\n",
       "      <td>254245.0</td>\n",
       "      <td>carevue</td>\n",
       "      <td>transfer</td>\n",
       "      <td>CCU</td>\n",
       "      <td>MICU</td>\n",
       "      <td>7.0</td>\n",
       "      <td>23.0</td>\n",
       "      <td>2142-04-29 15:27:11</td>\n",
       "      <td>2142-05-04 20:38:33</td>\n",
       "      <td>125.19</td>\n",
       "    </tr>\n",
       "  </tbody>\n",
       "</table>\n",
       "</div>"
      ],
      "text/plain": [
       "   ROW_ID  SUBJECT_ID  HADM_ID  ICUSTAY_ID DBSOURCE EVENTTYPE PREV_CAREUNIT   \n",
       "0     657         111   192123    254245.0  carevue  transfer           CCU  \\\n",
       "\n",
       "  CURR_CAREUNIT  PREV_WARDID  CURR_WARDID               INTIME   \n",
       "0          MICU          7.0         23.0  2142-04-29 15:27:11  \\\n",
       "\n",
       "               OUTTIME     LOS  \n",
       "0  2142-05-04 20:38:33  125.19  "
      ]
     },
     "execution_count": 4,
     "metadata": {},
     "output_type": "execute_result"
    }
   ],
   "source": [
    "transfers = pd.read_csv('./mimic-iii/TRANSFERS.csv')\n",
    "transfers.head(1)"
   ]
  },
  {
   "cell_type": "code",
   "execution_count": 5,
   "metadata": {},
   "outputs": [
    {
     "data": {
      "text/html": [
       "<div>\n",
       "<style scoped>\n",
       "    .dataframe tbody tr th:only-of-type {\n",
       "        vertical-align: middle;\n",
       "    }\n",
       "\n",
       "    .dataframe tbody tr th {\n",
       "        vertical-align: top;\n",
       "    }\n",
       "\n",
       "    .dataframe thead th {\n",
       "        text-align: right;\n",
       "    }\n",
       "</style>\n",
       "<table border=\"1\" class=\"dataframe\">\n",
       "  <thead>\n",
       "    <tr style=\"text-align: right;\">\n",
       "      <th></th>\n",
       "      <th>ROW_ID</th>\n",
       "      <th>SUBJECT_ID</th>\n",
       "      <th>HADM_ID</th>\n",
       "      <th>ICUSTAY_ID</th>\n",
       "      <th>DBSOURCE</th>\n",
       "      <th>FIRST_CAREUNIT</th>\n",
       "      <th>LAST_CAREUNIT</th>\n",
       "      <th>FIRST_WARDID</th>\n",
       "      <th>LAST_WARDID</th>\n",
       "      <th>INTIME</th>\n",
       "      <th>OUTTIME</th>\n",
       "      <th>LOS</th>\n",
       "    </tr>\n",
       "  </thead>\n",
       "  <tbody>\n",
       "    <tr>\n",
       "      <th>0</th>\n",
       "      <td>365</td>\n",
       "      <td>268</td>\n",
       "      <td>110404</td>\n",
       "      <td>280836</td>\n",
       "      <td>carevue</td>\n",
       "      <td>MICU</td>\n",
       "      <td>MICU</td>\n",
       "      <td>52</td>\n",
       "      <td>52</td>\n",
       "      <td>2198-02-14 23:27:38</td>\n",
       "      <td>2198-02-18 05:26:11</td>\n",
       "      <td>3.249</td>\n",
       "    </tr>\n",
       "  </tbody>\n",
       "</table>\n",
       "</div>"
      ],
      "text/plain": [
       "   ROW_ID  SUBJECT_ID  HADM_ID  ICUSTAY_ID DBSOURCE FIRST_CAREUNIT   \n",
       "0     365         268   110404      280836  carevue           MICU  \\\n",
       "\n",
       "  LAST_CAREUNIT  FIRST_WARDID  LAST_WARDID               INTIME   \n",
       "0          MICU            52           52  2198-02-14 23:27:38  \\\n",
       "\n",
       "               OUTTIME    LOS  \n",
       "0  2198-02-18 05:26:11  3.249  "
      ]
     },
     "execution_count": 5,
     "metadata": {},
     "output_type": "execute_result"
    }
   ],
   "source": [
    "icustays = pd.read_csv('./mimic-iii/ICUSTAYS.csv')\n",
    "icustays.head(1)\n"
   ]
  },
  {
   "cell_type": "code",
   "execution_count": 6,
   "metadata": {},
   "outputs": [],
   "source": [
    "# print(len(icustays.groupby(['HADM_ID'])))\n",
    "# test = (icustays.groupby(['HADM_ID']).size() > 1).reset_index()\n",
    "# test[test[0]==True]"
   ]
  },
  {
   "attachments": {},
   "cell_type": "markdown",
   "metadata": {},
   "source": [
    "## NOTE: Organ Donors\n",
    "\n",
    "There are some cases where a patient as multiple inconsistent death times in duplicated records. Either the patient has 2 different death times or the admit and discharge times do not align with death time.\n",
    "It appears that the organ donor collection is processed under a different HADM_ID number and the entries are inconsistent."
   ]
  },
  {
   "cell_type": "code",
   "execution_count": 7,
   "metadata": {},
   "outputs": [
    {
     "data": {
      "text/html": [
       "<div>\n",
       "<style scoped>\n",
       "    .dataframe tbody tr th:only-of-type {\n",
       "        vertical-align: middle;\n",
       "    }\n",
       "\n",
       "    .dataframe tbody tr th {\n",
       "        vertical-align: top;\n",
       "    }\n",
       "\n",
       "    .dataframe thead th {\n",
       "        text-align: right;\n",
       "    }\n",
       "</style>\n",
       "<table border=\"1\" class=\"dataframe\">\n",
       "  <thead>\n",
       "    <tr style=\"text-align: right;\">\n",
       "      <th></th>\n",
       "      <th>ROW_ID</th>\n",
       "      <th>SUBJECT_ID</th>\n",
       "      <th>HADM_ID</th>\n",
       "      <th>ADMITTIME</th>\n",
       "      <th>DISCHTIME</th>\n",
       "      <th>DEATHTIME</th>\n",
       "      <th>ADMISSION_TYPE</th>\n",
       "      <th>ADMISSION_LOCATION</th>\n",
       "      <th>DISCHARGE_LOCATION</th>\n",
       "      <th>INSURANCE</th>\n",
       "      <th>LANGUAGE</th>\n",
       "      <th>RELIGION</th>\n",
       "      <th>MARITAL_STATUS</th>\n",
       "      <th>ETHNICITY</th>\n",
       "      <th>EDREGTIME</th>\n",
       "      <th>EDOUTTIME</th>\n",
       "      <th>DIAGNOSIS</th>\n",
       "      <th>HOSPITAL_EXPIRE_FLAG</th>\n",
       "      <th>HAS_CHARTEVENTS_DATA</th>\n",
       "    </tr>\n",
       "  </thead>\n",
       "  <tbody>\n",
       "    <tr>\n",
       "      <th>43</th>\n",
       "      <td>533</td>\n",
       "      <td>417</td>\n",
       "      <td>178013</td>\n",
       "      <td>2177-03-22 22:24:00</td>\n",
       "      <td>2177-03-23 07:20:00</td>\n",
       "      <td>2177-03-23 07:20:00</td>\n",
       "      <td>EMERGENCY</td>\n",
       "      <td>EMERGENCY ROOM ADMIT</td>\n",
       "      <td>DEAD/EXPIRED</td>\n",
       "      <td>Private</td>\n",
       "      <td>NaN</td>\n",
       "      <td>UNOBTAINABLE</td>\n",
       "      <td>MARRIED</td>\n",
       "      <td>WHITE</td>\n",
       "      <td>2177-03-22 22:01:00</td>\n",
       "      <td>2177-03-23 00:20:00</td>\n",
       "      <td>SUBARACHNOID HEMORRHAGE</td>\n",
       "      <td>1</td>\n",
       "      <td>1</td>\n",
       "    </tr>\n",
       "    <tr>\n",
       "      <th>44</th>\n",
       "      <td>534</td>\n",
       "      <td>417</td>\n",
       "      <td>102633</td>\n",
       "      <td>2177-03-23 16:17:00</td>\n",
       "      <td>2177-03-23 07:20:00</td>\n",
       "      <td>2177-03-23 07:20:00</td>\n",
       "      <td>URGENT</td>\n",
       "      <td>PHYS REFERRAL/NORMAL DELI</td>\n",
       "      <td>DEAD/EXPIRED</td>\n",
       "      <td>Private</td>\n",
       "      <td>NaN</td>\n",
       "      <td>UNOBTAINABLE</td>\n",
       "      <td>MARRIED</td>\n",
       "      <td>WHITE</td>\n",
       "      <td>NaN</td>\n",
       "      <td>NaN</td>\n",
       "      <td>ORGAN DONOR ACCOUNT</td>\n",
       "      <td>1</td>\n",
       "      <td>1</td>\n",
       "    </tr>\n",
       "  </tbody>\n",
       "</table>\n",
       "</div>"
      ],
      "text/plain": [
       "    ROW_ID  SUBJECT_ID  HADM_ID            ADMITTIME            DISCHTIME   \n",
       "43     533         417   178013  2177-03-22 22:24:00  2177-03-23 07:20:00  \\\n",
       "44     534         417   102633  2177-03-23 16:17:00  2177-03-23 07:20:00   \n",
       "\n",
       "              DEATHTIME ADMISSION_TYPE         ADMISSION_LOCATION   \n",
       "43  2177-03-23 07:20:00      EMERGENCY       EMERGENCY ROOM ADMIT  \\\n",
       "44  2177-03-23 07:20:00         URGENT  PHYS REFERRAL/NORMAL DELI   \n",
       "\n",
       "   DISCHARGE_LOCATION INSURANCE LANGUAGE      RELIGION MARITAL_STATUS   \n",
       "43       DEAD/EXPIRED   Private      NaN  UNOBTAINABLE        MARRIED  \\\n",
       "44       DEAD/EXPIRED   Private      NaN  UNOBTAINABLE        MARRIED   \n",
       "\n",
       "   ETHNICITY            EDREGTIME            EDOUTTIME   \n",
       "43     WHITE  2177-03-22 22:01:00  2177-03-23 00:20:00  \\\n",
       "44     WHITE                  NaN                  NaN   \n",
       "\n",
       "                  DIAGNOSIS  HOSPITAL_EXPIRE_FLAG  HAS_CHARTEVENTS_DATA  \n",
       "43  SUBARACHNOID HEMORRHAGE                     1                     1  \n",
       "44      ORGAN DONOR ACCOUNT                     1                     1  "
      ]
     },
     "execution_count": 7,
     "metadata": {},
     "output_type": "execute_result"
    }
   ],
   "source": [
    "# addmissions where DEATH IN HOSPITAL\n",
    "organ = admissions[admissions['HOSPITAL_EXPIRE_FLAG']==1].reset_index(drop=True)\n",
    "\n",
    "organ[organ.duplicated('SUBJECT_ID',keep=False)].sort_values('SUBJECT_ID').head(2)"
   ]
  },
  {
   "attachments": {},
   "cell_type": "markdown",
   "metadata": {},
   "source": [
    "## Example\n",
    "\n",
    "Patient with `SUBJECT_ID = 250`"
   ]
  },
  {
   "cell_type": "code",
   "execution_count": 8,
   "metadata": {},
   "outputs": [],
   "source": [
    "# patients[patients['SUBJECT_ID'] == 250]"
   ]
  },
  {
   "cell_type": "code",
   "execution_count": 9,
   "metadata": {},
   "outputs": [],
   "source": [
    "# admissions[admissions['SUBJECT_ID'] == 250]"
   ]
  },
  {
   "cell_type": "code",
   "execution_count": 10,
   "metadata": {},
   "outputs": [],
   "source": [
    "# transfers[transfers['SUBJECT_ID'] == 250]"
   ]
  },
  {
   "attachments": {},
   "cell_type": "markdown",
   "metadata": {},
   "source": [
    "## Create Dataset"
   ]
  },
  {
   "attachments": {},
   "cell_type": "markdown",
   "metadata": {},
   "source": [
    "SUBJECT_ID exmaples  291, 283, 250"
   ]
  },
  {
   "cell_type": "code",
   "execution_count": 11,
   "metadata": {},
   "outputs": [],
   "source": [
    "patients = patients.drop('ROW_ID', axis=1)\n",
    "admissions = admissions.drop('ROW_ID', axis=1)\n",
    "icustays = icustays.drop('ROW_ID', axis=1)\n",
    "\n",
    "patients_columns = ['SUBJECT_ID', 'GENDER', 'DOB', 'DOD', 'EXPIRE_FLAG']\n",
    "admissions_columns = ['SUBJECT_ID', 'HADM_ID', 'ADMITTIME', 'DISCHTIME', 'DEATHTIME',\n",
    "                    'INSURANCE', 'LANGUAGE', 'RELIGION', 'MARITAL_STATUS', 'ETHNICITY',\n",
    "                    'DIAGNOSIS', 'HOSPITAL_EXPIRE_FLAG', 'HAS_CHARTEVENTS_DATA']\n",
    "icustays_columns = ['SUBJECT_ID','HADM_ID','ICUSTAY_ID','FIRST_CAREUNIT',\n",
    "                    'LAST_CAREUNIT','FIRST_WARDID','LAST_WARDID','INTIME','OUTTIME','LOS']"
   ]
  },
  {
   "cell_type": "code",
   "execution_count": 12,
   "metadata": {},
   "outputs": [],
   "source": [
    "dataset = pd.merge(icustays[icustays_columns],admissions[admissions_columns],'left',['SUBJECT_ID','HADM_ID'])\n",
    "dataset = dataset.merge(patients[patients_columns],'left',['SUBJECT_ID'])"
   ]
  },
  {
   "cell_type": "code",
   "execution_count": 13,
   "metadata": {},
   "outputs": [
    {
     "data": {
      "text/plain": [
       "Index(['SUBJECT_ID', 'HADM_ID', 'ICUSTAY_ID', 'FIRST_CAREUNIT',\n",
       "       'LAST_CAREUNIT', 'FIRST_WARDID', 'LAST_WARDID', 'INTIME', 'OUTTIME',\n",
       "       'LOS', 'ADMITTIME', 'DISCHTIME', 'DEATHTIME', 'INSURANCE', 'LANGUAGE',\n",
       "       'RELIGION', 'MARITAL_STATUS', 'ETHNICITY', 'DIAGNOSIS',\n",
       "       'HOSPITAL_EXPIRE_FLAG', 'HAS_CHARTEVENTS_DATA', 'GENDER', 'DOB', 'DOD',\n",
       "       'EXPIRE_FLAG'],\n",
       "      dtype='object')"
      ]
     },
     "execution_count": 13,
     "metadata": {},
     "output_type": "execute_result"
    }
   ],
   "source": [
    "dataset.columns"
   ]
  },
  {
   "cell_type": "code",
   "execution_count": 14,
   "metadata": {},
   "outputs": [
    {
     "name": "stdout",
     "output_type": "stream",
     "text": [
      "(61532, 25)\n"
     ]
    },
    {
     "data": {
      "text/html": [
       "<div>\n",
       "<style scoped>\n",
       "    .dataframe tbody tr th:only-of-type {\n",
       "        vertical-align: middle;\n",
       "    }\n",
       "\n",
       "    .dataframe tbody tr th {\n",
       "        vertical-align: top;\n",
       "    }\n",
       "\n",
       "    .dataframe thead th {\n",
       "        text-align: right;\n",
       "    }\n",
       "</style>\n",
       "<table border=\"1\" class=\"dataframe\">\n",
       "  <thead>\n",
       "    <tr style=\"text-align: right;\">\n",
       "      <th></th>\n",
       "      <th>SUBJECT_ID</th>\n",
       "      <th>HADM_ID</th>\n",
       "      <th>ICUSTAY_ID</th>\n",
       "      <th>FIRST_CAREUNIT</th>\n",
       "      <th>LAST_CAREUNIT</th>\n",
       "      <th>FIRST_WARDID</th>\n",
       "      <th>LAST_WARDID</th>\n",
       "      <th>INTIME</th>\n",
       "      <th>OUTTIME</th>\n",
       "      <th>LOS</th>\n",
       "      <th>...</th>\n",
       "      <th>RELIGION</th>\n",
       "      <th>MARITAL_STATUS</th>\n",
       "      <th>ETHNICITY</th>\n",
       "      <th>DIAGNOSIS</th>\n",
       "      <th>HOSPITAL_EXPIRE_FLAG</th>\n",
       "      <th>HAS_CHARTEVENTS_DATA</th>\n",
       "      <th>GENDER</th>\n",
       "      <th>DOB</th>\n",
       "      <th>DOD</th>\n",
       "      <th>EXPIRE_FLAG</th>\n",
       "    </tr>\n",
       "  </thead>\n",
       "  <tbody>\n",
       "    <tr>\n",
       "      <th>0</th>\n",
       "      <td>268</td>\n",
       "      <td>110404</td>\n",
       "      <td>280836</td>\n",
       "      <td>MICU</td>\n",
       "      <td>MICU</td>\n",
       "      <td>52</td>\n",
       "      <td>52</td>\n",
       "      <td>2198-02-14 23:27:38</td>\n",
       "      <td>2198-02-18 05:26:11</td>\n",
       "      <td>3.249</td>\n",
       "      <td>...</td>\n",
       "      <td>CATHOLIC</td>\n",
       "      <td>SEPARATED</td>\n",
       "      <td>HISPANIC OR LATINO</td>\n",
       "      <td>DYSPNEA</td>\n",
       "      <td>1</td>\n",
       "      <td>1</td>\n",
       "      <td>F</td>\n",
       "      <td>2132-02-21 00:00:00</td>\n",
       "      <td>2198-02-18 00:00:00</td>\n",
       "      <td>1</td>\n",
       "    </tr>\n",
       "  </tbody>\n",
       "</table>\n",
       "<p>1 rows × 25 columns</p>\n",
       "</div>"
      ],
      "text/plain": [
       "   SUBJECT_ID  HADM_ID  ICUSTAY_ID FIRST_CAREUNIT LAST_CAREUNIT  FIRST_WARDID   \n",
       "0         268   110404      280836           MICU          MICU            52  \\\n",
       "\n",
       "   LAST_WARDID               INTIME              OUTTIME    LOS  ...   \n",
       "0           52  2198-02-14 23:27:38  2198-02-18 05:26:11  3.249  ...  \\\n",
       "\n",
       "   RELIGION MARITAL_STATUS           ETHNICITY DIAGNOSIS HOSPITAL_EXPIRE_FLAG   \n",
       "0  CATHOLIC      SEPARATED  HISPANIC OR LATINO   DYSPNEA                    1  \\\n",
       "\n",
       "  HAS_CHARTEVENTS_DATA GENDER                  DOB                  DOD   \n",
       "0                    1      F  2132-02-21 00:00:00  2198-02-18 00:00:00  \\\n",
       "\n",
       "   EXPIRE_FLAG  \n",
       "0            1  \n",
       "\n",
       "[1 rows x 25 columns]"
      ]
     },
     "execution_count": 14,
     "metadata": {},
     "output_type": "execute_result"
    }
   ],
   "source": [
    "print(dataset.shape)\n",
    "dataset.head(1)"
   ]
  },
  {
   "cell_type": "code",
   "execution_count": 15,
   "metadata": {},
   "outputs": [],
   "source": [
    "dataset['DOB'] = pd.to_datetime(dataset['DOB'], errors='coerce')\n",
    "dataset['DOD'] = pd.to_datetime(dataset['DOD'], errors='coerce')\n",
    "dataset['ADMITTIME'] = pd.to_datetime(dataset['ADMITTIME'], errors='coerce')\n",
    "dataset['DISCHTIME'] = pd.to_datetime(dataset['DISCHTIME'], errors='coerce')\n",
    "dataset['DEATHTIME'] = pd.to_datetime(dataset['DEATHTIME'], errors='coerce')\n",
    "dataset['INTIME'] = pd.to_datetime(dataset['INTIME'], errors='coerce')\n",
    "dataset['OUTTIME'] = pd.to_datetime(dataset['OUTTIME'], errors='coerce')\n"
   ]
  },
  {
   "cell_type": "code",
   "execution_count": 16,
   "metadata": {},
   "outputs": [],
   "source": [
    "dataset_columns = ['SUBJECT_ID', 'HADM_ID', 'ICUSTAY_ID',  'ADMITTIME', 'DISCHTIME', 'DEATHTIME', \n",
    "                   'INTIME', 'OUTTIME','DOB', 'DOD', 'EXPIRE_FLAG', 'HOSPITAL_EXPIRE_FLAG', \n",
    "                   'HAS_CHARTEVENTS_DATA', 'FIRST_CAREUNIT', 'LAST_CAREUNIT', \n",
    "                   'FIRST_WARDID', 'LAST_WARDID', 'LOS', 'INSURANCE', 'LANGUAGE',\n",
    "                   'RELIGION', 'MARITAL_STATUS', 'ETHNICITY', 'DIAGNOSIS', 'GENDER']"
   ]
  },
  {
   "cell_type": "code",
   "execution_count": 17,
   "metadata": {},
   "outputs": [],
   "source": [
    "dataset = dataset[dataset_columns]"
   ]
  },
  {
   "cell_type": "code",
   "execution_count": 18,
   "metadata": {},
   "outputs": [],
   "source": [
    "dataset = dataset[(dataset['DIAGNOSIS'] != 'ORGAN DONOR ACCOUNT') & (dataset['DIAGNOSIS'] != 'DONOR ACCOUNT') & \n",
    "                  (dataset['DIAGNOSIS'] != 'ORGAN DONOR') & (dataset['DIAGNOSIS'].notnull())].reset_index(drop=True)"
   ]
  },
  {
   "attachments": {},
   "cell_type": "markdown",
   "metadata": {},
   "source": [
    "## Goal: Find cases of readmission\n",
    "\n",
    "1. Transferred & returned               = 3555\n",
    "2. Transferred & died                   = 1974\n",
    "3. Discharged & returned < 30 days      = 3205\n",
    "4. Discharged & died < 30 days          = 2556\n"
   ]
  },
  {
   "attachments": {},
   "cell_type": "markdown",
   "metadata": {},
   "source": [
    "### 1. Transferred & Returned\n",
    "\n",
    "```python\n",
    "dataset['TRANSFERRED_RETURNED'] = icustays.duplicated(subset=['HADM_ID']).astype(int)\n",
    "```"
   ]
  },
  {
   "cell_type": "code",
   "execution_count": 19,
   "metadata": {},
   "outputs": [],
   "source": [
    "dataset = dataset.sort_values(['HADM_ID','ADMITTIME','INTIME']).reset_index(drop=True)\n",
    "# same HADM_ID, but diff ICUSTAY_ID\n",
    "dataset['ICU_VISIT_PER_ADMIT'] = dataset.groupby('HADM_ID')['ICUSTAY_ID'].cumcount()\n",
    "dataset['TRANSFERRED_RETURNED'] = 0\n",
    "dataset.loc[dataset['ICU_VISIT_PER_ADMIT'] > 0, 'TRANSFERRED_RETURNED'] = 1"
   ]
  },
  {
   "cell_type": "code",
   "execution_count": 20,
   "metadata": {},
   "outputs": [
    {
     "data": {
      "text/plain": [
       "3746"
      ]
     },
     "execution_count": 20,
     "metadata": {},
     "output_type": "execute_result"
    }
   ],
   "source": [
    "np.sum(dataset['TRANSFERRED_RETURNED']).astype(int)"
   ]
  },
  {
   "cell_type": "markdown",
   "metadata": {},
   "source": [
    "### 2. Transferred & Died\n",
    "\n",
    "```python\n",
    "dataset['TRANSFERRED_DEATH'] = admissions['HOSPITAL_EXPIRE_FLAG'] and not dataset['DEATH_IN_ICU']\n",
    "```"
   ]
  },
  {
   "attachments": {},
   "cell_type": "markdown",
   "metadata": {},
   "source": [
    "### Define death\n",
    "\n",
    "```python\n",
    "patients['EXPIRE_FLAG'] == 1\n",
    "```\n",
    "\n",
    "### Define death in hospital\n",
    "\n",
    "```python\n",
    "admissions['HOSPITAL_EXPIRE_FLAG'] == 1\n",
    "```\n",
    "\n",
    "### Define death in ICU (merge addmissions & icustays)\n",
    "\n",
    "```python\n",
    "dataset['DEATH_IN_ICU'] = (admissions['DEATHTIME'] > icustays['INTIME']) & (admissions['DEATHTIME'] < icustays['OUTTIME']).astype(int)\n",
    "```"
   ]
  },
  {
   "cell_type": "code",
   "execution_count": 21,
   "metadata": {},
   "outputs": [],
   "source": [
    "dataset['TRANSFERRED_DEATH'] = ((dataset['DEATHTIME'].notnull()) & \n",
    "                                (dataset['HOSPITAL_EXPIRE_FLAG'] == 1) & \n",
    "                                ((dataset['DEATHTIME'] < dataset['INTIME']) | \n",
    "                                 (dataset['DEATHTIME'] > dataset['OUTTIME']))).astype(int)"
   ]
  },
  {
   "cell_type": "code",
   "execution_count": 22,
   "metadata": {},
   "outputs": [
    {
     "data": {
      "text/plain": [
       "2093"
      ]
     },
     "execution_count": 22,
     "metadata": {},
     "output_type": "execute_result"
    }
   ],
   "source": [
    "np.sum(dataset['TRANSFERRED_DEATH']).astype(int)"
   ]
  },
  {
   "attachments": {},
   "cell_type": "markdown",
   "metadata": {},
   "source": [
    "### 3. Discharged & Returned < 30\n",
    "\n",
    "This is the wrong way. This labels the return visit instead of discharged visit\n",
    "\n",
    "```python\n",
    "sort admissions by SUBJECT_ID, ADMITTIME\n",
    "shifted = admissions.shift(1)\n",
    "shifted['DISCHTIME'] = pd.to_datetime(shifted['DISCHTIME'], errors='coerce')\n",
    "dataset['DISCHARGED_RETURNED'] = (shifted['SUBJECT_ID'] == admissions['SUBJECT_ID']) & (admissions['ADMITTIME'] - shifted['DISCHTIME'] <= np.timedelta64(30, 'D')) \n",
    "```"
   ]
  },
  {
   "cell_type": "code",
   "execution_count": 23,
   "metadata": {},
   "outputs": [],
   "source": [
    "dataset.sort_values(by=['SUBJECT_ID', 'DISCHTIME'], ignore_index=True, inplace=True)\n",
    "shifted = dataset.shift(-1)\n",
    "dataset['DISCHARGED_RETURNED'] = ((shifted['SUBJECT_ID'] == dataset['SUBJECT_ID']) & \n",
    "                                  (shifted['HADM_ID'] != dataset['HADM_ID']) & \n",
    "                                  (shifted['INTIME'] - dataset['DISCHTIME'] < np.timedelta64(30, 'D'))).astype(int)"
   ]
  },
  {
   "cell_type": "code",
   "execution_count": 24,
   "metadata": {},
   "outputs": [
    {
     "data": {
      "text/plain": [
       "3001"
      ]
     },
     "execution_count": 24,
     "metadata": {},
     "output_type": "execute_result"
    }
   ],
   "source": [
    "np.sum(dataset['DISCHARGED_RETURNED']).astype(int)"
   ]
  },
  {
   "attachments": {},
   "cell_type": "markdown",
   "metadata": {},
   "source": [
    "### 4. Discharged & Died < 30 (merge patients, addmisions)\n",
    "\n",
    "Need last discharged visit HADM_ID\n",
    "\n",
    "```python\n",
    "dataset['DISCHARGED_DEATH'] = patients['EXPIRE_FLAG'] & not admissions['HOSPITAL_EXPIRE_FLAG'] & (patients['DOD'] - admissions['DISCHTIME'] <= np.timedelta64(30, 'D')) \n",
    "```"
   ]
  },
  {
   "cell_type": "code",
   "execution_count": 25,
   "metadata": {},
   "outputs": [],
   "source": [
    "# dataset.sort_values(by=['SUBJECT_ID', 'DISCHTIME'], ignore_index=True, inplace=True)\n",
    "dataset['DISCHARGED_DEATH'] = ((dataset['EXPIRE_FLAG']==1) & (dataset['HOSPITAL_EXPIRE_FLAG']==0) & \n",
    "                               (dataset['DOD'].notnull()) & \n",
    "                               (dataset['DOD'] - dataset['DISCHTIME'] <= np.timedelta64(30, 'D')) ).astype(int)"
   ]
  },
  {
   "cell_type": "code",
   "execution_count": 26,
   "metadata": {},
   "outputs": [
    {
     "data": {
      "text/plain": [
       "2476"
      ]
     },
     "execution_count": 26,
     "metadata": {},
     "output_type": "execute_result"
    }
   ],
   "source": [
    "np.sum(dataset['DISCHARGED_DEATH']).astype(int)"
   ]
  },
  {
   "attachments": {},
   "cell_type": "markdown",
   "metadata": {},
   "source": [
    "## Age"
   ]
  },
  {
   "cell_type": "code",
   "execution_count": 27,
   "metadata": {},
   "outputs": [],
   "source": [
    "dataset['AGE'] = ((pd.to_datetime(dataset['ADMITTIME']).dt.date - pd.to_datetime(dataset['DOB']).dt.date) \n",
    "                  / np.timedelta64(1, 'Y')).astype(int)\n",
    "\n",
    "dataset = dataset[(dataset['TRANSFERRED_RETURNED'] == 1) | \n",
    "                  (dataset['TRANSFERRED_DEATH'] == 1) | \n",
    "                  (dataset['DISCHARGED_RETURNED'] == 1) | \n",
    "                  (dataset['DISCHARGED_DEATH'] == 1) |\n",
    "                  (dataset['AGE'] >= 18)]"
   ]
  },
  {
   "attachments": {},
   "cell_type": "markdown",
   "metadata": {},
   "source": [
    "## Goal: Find cases of readmission\n",
    "\n",
    "1. Transferred & returned               = 3555\n",
    "2. Transferred & died                   = 1974\n",
    "3. Discharged & returned < 30 days      = 3205\n",
    "4. Discharged & died < 30 days          = 2556"
   ]
  },
  {
   "cell_type": "code",
   "execution_count": 28,
   "metadata": {},
   "outputs": [
    {
     "name": "stdout",
     "output_type": "stream",
     "text": [
      "3746\n",
      "2093\n",
      "3001\n",
      "2476\n"
     ]
    }
   ],
   "source": [
    "print(np.sum(dataset['TRANSFERRED_RETURNED']==1))\n",
    "print(np.sum(dataset['TRANSFERRED_DEATH']==1))\n",
    "print(np.sum(dataset['DISCHARGED_RETURNED']==1))\n",
    "print(np.sum(dataset['DISCHARGED_DEATH']==1))"
   ]
  },
  {
   "cell_type": "code",
   "execution_count": null,
   "metadata": {},
   "outputs": [],
   "source": []
  }
 ],
 "metadata": {
  "kernelspec": {
   "display_name": ".venv",
   "language": "python",
   "name": "python3"
  },
  "language_info": {
   "codemirror_mode": {
    "name": "ipython",
    "version": 3
   },
   "file_extension": ".py",
   "mimetype": "text/x-python",
   "name": "python",
   "nbconvert_exporter": "python",
   "pygments_lexer": "ipython3",
   "version": "3.10.9"
  },
  "orig_nbformat": 4
 },
 "nbformat": 4,
 "nbformat_minor": 2
}
