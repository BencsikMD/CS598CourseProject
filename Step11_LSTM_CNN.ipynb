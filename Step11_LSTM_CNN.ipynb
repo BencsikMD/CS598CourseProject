{
 "cells": [
  {
   "cell_type": "code",
   "execution_count": 183,
   "metadata": {},
   "outputs": [],
   "source": [
    "import pandas as pd\n",
    "import numpy as np\n",
    "import os\n",
    "from tqdm.notebook import trange, tqdm\n",
    "import matplotlib.pyplot as plt\n",
    "import re\n",
    "import torch\n",
    "from torch.utils.data import DataLoader\n",
    "from torch.utils.data import Dataset\n",
    "from torch.utils.data import SubsetRandomSampler\n",
    "from torch.autograd import Variable\n",
    "from sklearn.model_selection import train_test_split\n",
    "from sklearn.model_selection import KFold\n",
    "from sklearn import metrics"
   ]
  },
  {
   "cell_type": "code",
   "execution_count": 184,
   "metadata": {},
   "outputs": [],
   "source": [
    "# DEMO = False\n",
    "# WRITE_ERRORS_TO_FILE = True"
   ]
  },
  {
   "cell_type": "code",
   "execution_count": 185,
   "metadata": {},
   "outputs": [],
   "source": [
    "\n",
    "# if DEMO:\n",
    "#     CHARTEVENTS_BY_ICUSTAY_ID = 'data_demo/parquet/'\n",
    "#     REDUCED_CE_BY_ICUSTAY_ID = 'data_demo/samples/'\n",
    "#     NUMERICAL_BY_ICUSTAY_ID = 'data_demo/samples_numerical/'\n",
    "#     STATB_BY_ICUSTAY_ID = 'data_demo/samples_statB/'\n",
    "#     STATB_CSV_BY_ICUSTAY_ID = 'data_demo/samples_statB_csv/'\n",
    "# else:\n",
    "\n",
    "CHARTEVENTS_BY_ICUSTAY_ID = 'data/parquet/'\n",
    "REDUCED_CE_BY_ICUSTAY_ID = 'data/samples/'\n",
    "NUMERICAL_BY_ICUSTAY_ID = 'data/samples_numerical/'\n",
    "STATB_BY_ICUSTAY_ID = 'data/samples_statB/'\n",
    "DEMO_BY_ICUSTAY_ID = 'data/samples_demographics/'\n",
    "ICD9_BY_ICUSTAY_ID = 'data/samples_icd9/'\n",
    "CHARTEVENTS_FILENAME = 'mimic-iii/CHARTEVENTS.csv'\n",
    "DIAGNOSES_FILENAME = 'mimic-iii/DIAGNOSES_ICD.csv'\n",
    "READMISSION_FILENAME = 'data/readmission.csv'\n",
    "EMBEDDED_FILENAME = 'resources/embedded.parquet'\n",
    "ANNOTATION_FILENAME = 'data/anotation.csv'\n",
    "STEP_FAIL_FILE = 'Step9_failed.txt'\n",
    "BASELINE_FILENAME = 'data/baseline_data.csv'\n"
   ]
  },
  {
   "cell_type": "code",
   "execution_count": 216,
   "metadata": {},
   "outputs": [],
   "source": [
    "K_FOLDS = 5\n",
    "TRAIN_SPLIT = 0.8\n",
    "TEST_SPLIT = 0.5\n",
    "RANDOM_STATE = 1234\n",
    "EPOCH = 50\n",
    "BATCH_SIZE = 32\n",
    "LEARNING_RATE = 0.0001\n",
    "BETA = 0.9"
   ]
  },
  {
   "cell_type": "code",
   "execution_count": null,
   "metadata": {},
   "outputs": [],
   "source": []
  },
  {
   "cell_type": "code",
   "execution_count": 187,
   "metadata": {},
   "outputs": [],
   "source": [
    "def reset_weights(m):\n",
    "    if isinstance(m, torch.nn.Conv2d) or isinstance(m, torch.nn.Linear):\n",
    "        m.reset_parameters()"
   ]
  },
  {
   "cell_type": "code",
   "execution_count": 188,
   "metadata": {},
   "outputs": [],
   "source": [
    "class ReadmissionDataset(Dataset):\n",
    "    def __init__(self, annotations_file, numerical_dir=None, icd9_dir=None, demo_dir=None):\n",
    "        self.labels = pd.read_csv(annotations_file)\n",
    "        self.numerical_dir = numerical_dir\n",
    "        # self.statB_dir = statB_dir\n",
    "        self.icd9_dir = icd9_dir\n",
    "        self.demo_dir = demo_dir\n",
    "\n",
    "    def __len__(self):\n",
    "        return len(self.labels)\n",
    "\n",
    "    def __getitem__(self, idx):\n",
    "        if self.numerical_dir:\n",
    "            numerical_path = os.path.join(self.numerical_dir, 'ICUSTAY_ID='+str(self.labels.iloc[idx, 0]))\n",
    "            data = pd.read_parquet(numerical_path).to_numpy()\n",
    "        if self.icd9_dir:\n",
    "            icd9_path = os.path.join(self.icd9_dir, 'ICUSTAY_ID='+str(self.labels.iloc[idx, 0]))\n",
    "            icd9 = pd.read_parquet(icd9_path).reset_index(drop=True).to_numpy()\n",
    "            icd9 = np.vstack([icd9]*data.shape[0])\n",
    "            data = np.hstack([data, icd9]) \n",
    "            # assert icd9.shape[1] == 300, f'Stay = {self.labels.iloc[idx, 0]}'\n",
    "        if self.demo_dir:\n",
    "            demo_path = os.path.join(self.demo_dir, 'ICUSTAY_ID='+str(self.labels.iloc[idx, 0]))\n",
    "            demo = pd.read_parquet(demo_path).reset_index(drop=True).to_numpy()\n",
    "            demo = np.vstack([demo]*data.shape[0])\n",
    "            data = np.hstack([data, demo])\n",
    "            # assert demo.shape[1] == 4, f'Stay = {self.labels.iloc[idx, 0]}'\n",
    "\n",
    "        data = np.nan_to_num(data)\n",
    "        data = data.astype(np.float32)\n",
    "        label = np.ndarray((1,1))\n",
    "        label[0,0] = self.labels.iloc[idx, 1]\n",
    "        \n",
    "        return data, label"
   ]
  },
  {
   "cell_type": "code",
   "execution_count": 189,
   "metadata": {},
   "outputs": [],
   "source": [
    "dataset = ReadmissionDataset(ANNOTATION_FILENAME, numerical_dir=NUMERICAL_BY_ICUSTAY_ID, icd9_dir=ICD9_BY_ICUSTAY_ID, demo_dir=DEMO_BY_ICUSTAY_ID)"
   ]
  },
  {
   "cell_type": "code",
   "execution_count": 190,
   "metadata": {},
   "outputs": [],
   "source": [
    "train_dataset, remaining = train_test_split(dataset, train_size=TRAIN_SPLIT, random_state=RANDOM_STATE,shuffle=False)\n",
    "valid_dataset, test_dataset = train_test_split(remaining, test_size=TEST_SPLIT, random_state=RANDOM_STATE,shuffle=False)"
   ]
  },
  {
   "cell_type": "code",
   "execution_count": 191,
   "metadata": {},
   "outputs": [],
   "source": [
    "train_dataloader = DataLoader(train_dataset, batch_size=BATCH_SIZE, shuffle=False)\n",
    "valid_dataloader = DataLoader(valid_dataset, batch_size=BATCH_SIZE, shuffle=False)\n",
    "test_dataloader = DataLoader(test_dataset, batch_size=BATCH_SIZE, shuffle=False)"
   ]
  },
  {
   "cell_type": "code",
   "execution_count": 192,
   "metadata": {},
   "outputs": [],
   "source": [
    "DROPOUT = 0.5"
   ]
  },
  {
   "cell_type": "code",
   "execution_count": 222,
   "metadata": {},
   "outputs": [],
   "source": [
    "class LSTMCNN(torch.nn.Module):\n",
    "    def __init__(self, inputSize, outputSize):\n",
    "        super(LSTMCNN, self).__init__()\n",
    "        \n",
    "        \n",
    "        self.lstm1 = torch.nn.LSTM(338,16,num_layers=2, bidirectional=True, dropout=DROPOUT, batch_first=True)\n",
    "        self.lstm2 = torch.nn.LSTM(32,16,num_layers=4, bidirectional=False, dropout=DROPOUT, batch_first=True)\n",
    "        self.act1 = torch.nn.Tanh()\n",
    "\n",
    "\n",
    "        self.conv1 = torch.nn.Conv1d(48, 100, padding=16, kernel_size=2)\n",
    "        self.conv2 = torch.nn.Conv1d(48, 100, padding=16, kernel_size=3)\n",
    "        self.conv3 = torch.nn.Conv1d(48, 100, padding=16, kernel_size=4)\n",
    "\n",
    "        self.maxpool1 = torch.nn.MaxPool1d(2)\n",
    "\n",
    "        self.flat1 = torch.nn.Flatten()\n",
    "        self.drop1 = torch.nn.Dropout()\n",
    "        # self.dense1 = torch.nn.\n",
    "        self.act2 = torch.nn.Softmax(dim=1)\n",
    "        self.fc1 = torch.nn.Linear(6800,1)\n",
    "\n",
    "    def forward(self, x):\n",
    "\n",
    "        x, (h_n, c_n) = self.lstm1(x)\n",
    "        x, (h_n, c_n) = self.lstm2(x, (h_n, c_n))\n",
    "        \n",
    "        x = self.act1(x)\n",
    "        x1 = self.conv1(x)\n",
    "        x2 = self.conv2(x)\n",
    "        x3 = self.conv3(x)\n",
    "        x1 = self.maxpool1(x1)\n",
    "        x2 = self.maxpool1(x2)\n",
    "        x3 = self.maxpool1(x3)\n",
    "        x1 = self.flat1(x1)\n",
    "        x2 = self.flat1(x2)\n",
    "        x3 = self.flat1(x3)\n",
    "        x = torch.cat([x1,x2,x3],dim=1)\n",
    "        x = self.drop1(x)\n",
    "        x = self.act2(x)\n",
    "        x = self.fc1(x)\n",
    "        return x"
   ]
  },
  {
   "cell_type": "code",
   "execution_count": 194,
   "metadata": {},
   "outputs": [],
   "source": [
    "# for d,l in train_dataloader:\n",
    "#     break"
   ]
  },
  {
   "cell_type": "code",
   "execution_count": 195,
   "metadata": {},
   "outputs": [],
   "source": [
    "# d.shape"
   ]
  },
  {
   "cell_type": "code",
   "execution_count": 223,
   "metadata": {},
   "outputs": [
    {
     "name": "stdout",
     "output_type": "stream",
     "text": [
      "torch.Size([4, 32, 16])\n",
      "torch.Size([4, 32, 16])\n",
      "torch.Size([32, 48, 16])\n",
      "torch.Size([32, 100, 47])\n",
      "torch.Size([32, 100, 46])\n",
      "torch.Size([32, 100, 45])\n",
      "torch.Size([32, 100, 23])\n",
      "torch.Size([32, 100, 23])\n",
      "torch.Size([32, 100, 22])\n",
      "torch.Size([32, 2300])\n",
      "torch.Size([32, 2300])\n",
      "torch.Size([32, 2200])\n",
      "torch.Size([32, 1])\n"
     ]
    }
   ],
   "source": [
    "model = LSTMCNN(0,0)\n",
    "input = torch.randn(32, 48, 338)\n",
    "# x1,x2,x3 = model.forward(input)\n",
    "x = model.forward(input)\n",
    "# # print(x1.shape)\n",
    "# # print(x2.shape)\n",
    "# # print(x3.shape)\n",
    "print(x.shape)\n"
   ]
  },
  {
   "cell_type": "code",
   "execution_count": null,
   "metadata": {},
   "outputs": [],
   "source": []
  },
  {
   "cell_type": "code",
   "execution_count": null,
   "metadata": {},
   "outputs": [],
   "source": []
  },
  {
   "cell_type": "code",
   "execution_count": null,
   "metadata": {},
   "outputs": [],
   "source": []
  },
  {
   "cell_type": "code",
   "execution_count": null,
   "metadata": {},
   "outputs": [],
   "source": []
  },
  {
   "cell_type": "code",
   "execution_count": 197,
   "metadata": {},
   "outputs": [],
   "source": [
    "model = LSTMCNN(0,0)\n",
    "criterion = torch.nn.BCELoss() \n",
    "optimizer = torch.optim.Adam(model.parameters(), lr=LEARNING_RATE)"
   ]
  },
  {
   "cell_type": "code",
   "execution_count": 211,
   "metadata": {},
   "outputs": [],
   "source": [
    "def getMetrics(dataloader, model):\n",
    "    with torch.no_grad():\n",
    "        loss = 0.0\n",
    "        y_predict = []\n",
    "        y_actual = []\n",
    "        y_score = []\n",
    "        for i, (x_input, label) in enumerate(dataloader):\n",
    "        # Calculating the loss and accuracy for the test dataset\n",
    "\n",
    "            predicted = model(torch.nan_to_num(x_input))\n",
    "            # print(predicted)\n",
    "            if hasattr(predicted.tolist(),'__len__'):\n",
    "                y_score.extend(predicted.tolist())\n",
    "                y_predict.extend(torch.round(predicted).tolist())\n",
    "            else:\n",
    "                y_score.append(predicted.tolist())\n",
    "                y_predict.append(torch.round(predicted).tolist())\n",
    "\n",
    "            if hasattr(torch.squeeze(label).tolist(),'__len__'):\n",
    "                # print(label)\n",
    "                y_actual.extend(torch.round(torch.squeeze(label)).tolist())\n",
    "            else:\n",
    "                y_actual.append(torch.round(torch.squeeze(label)).tolist())\n",
    "\n",
    "\n",
    "        precision = metrics.precision_score(y_actual,y_predict)\n",
    "        accuracy = metrics.accuracy_score(y_actual,y_predict)\n",
    "        recall = metrics.recall_score(y_actual,y_predict)\n",
    "        #auc = metrics.roc_auc_score(y_actual, y_score)\n",
    "        auc = 0\n",
    "\n",
    "        \n",
    "    return precision, accuracy, recall, auc"
   ]
  },
  {
   "cell_type": "code",
   "execution_count": null,
   "metadata": {},
   "outputs": [],
   "source": [
    "pr, ac, rc, auc = getMetrics(train_dataloader, model)"
   ]
  },
  {
   "cell_type": "code",
   "execution_count": 199,
   "metadata": {},
   "outputs": [],
   "source": [
    "def rocCurve(dataloader, model):\n",
    "    with torch.no_grad():\n",
    "        loss = 0.0\n",
    "        y_predict = []\n",
    "        y_actual = []\n",
    "        y_score = []\n",
    "        for i, (x_input, label) in enumerate(dataloader):\n",
    "        # Calculating the loss and accuracy for the test dataset\n",
    "\n",
    "\n",
    "            \n",
    "\n",
    "            predicted = torch.squeeze(model(torch.nan_to_num(x_input)))\n",
    "            y_score.extend(predicted.tolist())\n",
    "            y_predict.extend(torch.round(predicted).tolist())\n",
    "            y_actual.extend(torch.round(torch.squeeze(label)).tolist())\n",
    "\n",
    "\n",
    "        precision = metrics.precision_score(y_actual,y_predict)\n",
    "        accuracy = metrics.accuracy_score(y_actual,y_predict)\n",
    "        recall = metrics.recall_score(y_actual,y_predict)\n",
    "        auc = metrics.roc_auc_score(y_actual, y_score)\n",
    "\n",
    "        '''Example\n",
    "        import matplotlib.pyplot as plt\n",
    "        from sklearn.datasets import make_classification\n",
    "        from sklearn.metrics import RocCurveDisplay\n",
    "        RocCurveDisplay.from_predictions(y_test, y_pred)\n",
    "        plt.show()\n",
    "        '''\n",
    "        #https://scikit-learn.org/stable/modules/generated/sklearn.metrics.RocCurveDisplay.html#sklearn.metrics.RocCurveDisplay.from_predictions\n",
    "        # Should produce same as below\n",
    "\n",
    "\n",
    "        fpr, tpr, thresholds = metrics.roc_curve(y_actual, y_score)\n",
    "        roc_auc = metrics.auc(fpr, tpr)\n",
    "        display = metrics.RocCurveDisplay(fpr=fpr, tpr=tpr, roc_auc=roc_auc)\n",
    "        display.plot()\n",
    "        plt.show()\n",
    "        \n",
    "        \n",
    "    return precision, accuracy, recall, auc"
   ]
  },
  {
   "cell_type": "code",
   "execution_count": 217,
   "metadata": {},
   "outputs": [
    {
     "name": "stderr",
     "output_type": "stream",
     "text": [
      "/media/Bencsik/SSD1/CS 598 Project/CS598CourseProject/.venv/lib/python3.10/site-packages/sklearn/metrics/_classification.py:1344: UndefinedMetricWarning: Precision is ill-defined and being set to 0.0 due to no predicted samples. Use `zero_division` parameter to control this behavior.\n",
      "  _warn_prf(average, modifier, msg_start, len(result))\n"
     ]
    },
    {
     "name": "stdout",
     "output_type": "stream",
     "text": [
      "Epoch: 0. Training \tLoss: 0.4466. \tAcc: 0.8059\n"
     ]
    },
    {
     "name": "stderr",
     "output_type": "stream",
     "text": [
      "/media/Bencsik/SSD1/CS 598 Project/CS598CourseProject/.venv/lib/python3.10/site-packages/sklearn/metrics/_classification.py:1344: UndefinedMetricWarning: Precision is ill-defined and being set to 0.0 due to no predicted samples. Use `zero_division` parameter to control this behavior.\n",
      "  _warn_prf(average, modifier, msg_start, len(result))\n"
     ]
    },
    {
     "name": "stdout",
     "output_type": "stream",
     "text": [
      "Epoch: 0. Validation \t\t\tAcc: 0.8085\n"
     ]
    },
    {
     "name": "stderr",
     "output_type": "stream",
     "text": [
      "/media/Bencsik/SSD1/CS 598 Project/CS598CourseProject/.venv/lib/python3.10/site-packages/sklearn/metrics/_classification.py:1344: UndefinedMetricWarning: Precision is ill-defined and being set to 0.0 due to no predicted samples. Use `zero_division` parameter to control this behavior.\n",
      "  _warn_prf(average, modifier, msg_start, len(result))\n"
     ]
    },
    {
     "name": "stdout",
     "output_type": "stream",
     "text": [
      "Epoch: 1. Training \tLoss: 0.4435. \tAcc: 0.8059\n"
     ]
    },
    {
     "name": "stderr",
     "output_type": "stream",
     "text": [
      "/media/Bencsik/SSD1/CS 598 Project/CS598CourseProject/.venv/lib/python3.10/site-packages/sklearn/metrics/_classification.py:1344: UndefinedMetricWarning: Precision is ill-defined and being set to 0.0 due to no predicted samples. Use `zero_division` parameter to control this behavior.\n",
      "  _warn_prf(average, modifier, msg_start, len(result))\n"
     ]
    },
    {
     "name": "stdout",
     "output_type": "stream",
     "text": [
      "Epoch: 1. Validation \t\t\tAcc: 0.8085\n"
     ]
    },
    {
     "name": "stderr",
     "output_type": "stream",
     "text": [
      "/media/Bencsik/SSD1/CS 598 Project/CS598CourseProject/.venv/lib/python3.10/site-packages/sklearn/metrics/_classification.py:1344: UndefinedMetricWarning: Precision is ill-defined and being set to 0.0 due to no predicted samples. Use `zero_division` parameter to control this behavior.\n",
      "  _warn_prf(average, modifier, msg_start, len(result))\n"
     ]
    },
    {
     "name": "stdout",
     "output_type": "stream",
     "text": [
      "Epoch: 2. Training \tLoss: 0.4401. \tAcc: 0.8059\n"
     ]
    },
    {
     "name": "stderr",
     "output_type": "stream",
     "text": [
      "/media/Bencsik/SSD1/CS 598 Project/CS598CourseProject/.venv/lib/python3.10/site-packages/sklearn/metrics/_classification.py:1344: UndefinedMetricWarning: Precision is ill-defined and being set to 0.0 due to no predicted samples. Use `zero_division` parameter to control this behavior.\n",
      "  _warn_prf(average, modifier, msg_start, len(result))\n"
     ]
    },
    {
     "name": "stdout",
     "output_type": "stream",
     "text": [
      "Epoch: 2. Validation \t\t\tAcc: 0.8085\n"
     ]
    },
    {
     "name": "stderr",
     "output_type": "stream",
     "text": [
      "/media/Bencsik/SSD1/CS 598 Project/CS598CourseProject/.venv/lib/python3.10/site-packages/sklearn/metrics/_classification.py:1344: UndefinedMetricWarning: Precision is ill-defined and being set to 0.0 due to no predicted samples. Use `zero_division` parameter to control this behavior.\n",
      "  _warn_prf(average, modifier, msg_start, len(result))\n"
     ]
    },
    {
     "name": "stdout",
     "output_type": "stream",
     "text": [
      "Epoch: 3. Training \tLoss: 0.4372. \tAcc: 0.8059\n"
     ]
    },
    {
     "name": "stderr",
     "output_type": "stream",
     "text": [
      "/media/Bencsik/SSD1/CS 598 Project/CS598CourseProject/.venv/lib/python3.10/site-packages/sklearn/metrics/_classification.py:1344: UndefinedMetricWarning: Precision is ill-defined and being set to 0.0 due to no predicted samples. Use `zero_division` parameter to control this behavior.\n",
      "  _warn_prf(average, modifier, msg_start, len(result))\n"
     ]
    },
    {
     "name": "stdout",
     "output_type": "stream",
     "text": [
      "Epoch: 3. Validation \t\t\tAcc: 0.8085\n"
     ]
    },
    {
     "name": "stderr",
     "output_type": "stream",
     "text": [
      "/media/Bencsik/SSD1/CS 598 Project/CS598CourseProject/.venv/lib/python3.10/site-packages/sklearn/metrics/_classification.py:1344: UndefinedMetricWarning: Precision is ill-defined and being set to 0.0 due to no predicted samples. Use `zero_division` parameter to control this behavior.\n",
      "  _warn_prf(average, modifier, msg_start, len(result))\n"
     ]
    },
    {
     "name": "stdout",
     "output_type": "stream",
     "text": [
      "Epoch: 4. Training \tLoss: 0.4346. \tAcc: 0.8059\n"
     ]
    },
    {
     "name": "stderr",
     "output_type": "stream",
     "text": [
      "/media/Bencsik/SSD1/CS 598 Project/CS598CourseProject/.venv/lib/python3.10/site-packages/sklearn/metrics/_classification.py:1344: UndefinedMetricWarning: Precision is ill-defined and being set to 0.0 due to no predicted samples. Use `zero_division` parameter to control this behavior.\n",
      "  _warn_prf(average, modifier, msg_start, len(result))\n"
     ]
    },
    {
     "name": "stdout",
     "output_type": "stream",
     "text": [
      "Epoch: 4. Validation \t\t\tAcc: 0.8085\n"
     ]
    },
    {
     "name": "stderr",
     "output_type": "stream",
     "text": [
      "/media/Bencsik/SSD1/CS 598 Project/CS598CourseProject/.venv/lib/python3.10/site-packages/sklearn/metrics/_classification.py:1344: UndefinedMetricWarning: Precision is ill-defined and being set to 0.0 due to no predicted samples. Use `zero_division` parameter to control this behavior.\n",
      "  _warn_prf(average, modifier, msg_start, len(result))\n"
     ]
    },
    {
     "name": "stdout",
     "output_type": "stream",
     "text": [
      "Epoch: 5. Training \tLoss: 0.4330. \tAcc: 0.8059\n"
     ]
    },
    {
     "name": "stderr",
     "output_type": "stream",
     "text": [
      "/media/Bencsik/SSD1/CS 598 Project/CS598CourseProject/.venv/lib/python3.10/site-packages/sklearn/metrics/_classification.py:1344: UndefinedMetricWarning: Precision is ill-defined and being set to 0.0 due to no predicted samples. Use `zero_division` parameter to control this behavior.\n",
      "  _warn_prf(average, modifier, msg_start, len(result))\n"
     ]
    },
    {
     "name": "stdout",
     "output_type": "stream",
     "text": [
      "Epoch: 5. Validation \t\t\tAcc: 0.8085\n"
     ]
    },
    {
     "name": "stderr",
     "output_type": "stream",
     "text": [
      "/media/Bencsik/SSD1/CS 598 Project/CS598CourseProject/.venv/lib/python3.10/site-packages/sklearn/metrics/_classification.py:1344: UndefinedMetricWarning: Precision is ill-defined and being set to 0.0 due to no predicted samples. Use `zero_division` parameter to control this behavior.\n",
      "  _warn_prf(average, modifier, msg_start, len(result))\n"
     ]
    },
    {
     "name": "stdout",
     "output_type": "stream",
     "text": [
      "Epoch: 6. Training \tLoss: 0.4305. \tAcc: 0.8059\n"
     ]
    },
    {
     "name": "stderr",
     "output_type": "stream",
     "text": [
      "/media/Bencsik/SSD1/CS 598 Project/CS598CourseProject/.venv/lib/python3.10/site-packages/sklearn/metrics/_classification.py:1344: UndefinedMetricWarning: Precision is ill-defined and being set to 0.0 due to no predicted samples. Use `zero_division` parameter to control this behavior.\n",
      "  _warn_prf(average, modifier, msg_start, len(result))\n"
     ]
    },
    {
     "name": "stdout",
     "output_type": "stream",
     "text": [
      "Epoch: 6. Validation \t\t\tAcc: 0.8085\n"
     ]
    },
    {
     "name": "stderr",
     "output_type": "stream",
     "text": [
      "/media/Bencsik/SSD1/CS 598 Project/CS598CourseProject/.venv/lib/python3.10/site-packages/sklearn/metrics/_classification.py:1344: UndefinedMetricWarning: Precision is ill-defined and being set to 0.0 due to no predicted samples. Use `zero_division` parameter to control this behavior.\n",
      "  _warn_prf(average, modifier, msg_start, len(result))\n"
     ]
    },
    {
     "name": "stdout",
     "output_type": "stream",
     "text": [
      "Epoch: 7. Training \tLoss: 0.4284. \tAcc: 0.8059\n"
     ]
    },
    {
     "name": "stderr",
     "output_type": "stream",
     "text": [
      "/media/Bencsik/SSD1/CS 598 Project/CS598CourseProject/.venv/lib/python3.10/site-packages/sklearn/metrics/_classification.py:1344: UndefinedMetricWarning: Precision is ill-defined and being set to 0.0 due to no predicted samples. Use `zero_division` parameter to control this behavior.\n",
      "  _warn_prf(average, modifier, msg_start, len(result))\n"
     ]
    },
    {
     "name": "stdout",
     "output_type": "stream",
     "text": [
      "Epoch: 7. Validation \t\t\tAcc: 0.8085\n"
     ]
    },
    {
     "name": "stderr",
     "output_type": "stream",
     "text": [
      "/media/Bencsik/SSD1/CS 598 Project/CS598CourseProject/.venv/lib/python3.10/site-packages/sklearn/metrics/_classification.py:1344: UndefinedMetricWarning: Precision is ill-defined and being set to 0.0 due to no predicted samples. Use `zero_division` parameter to control this behavior.\n",
      "  _warn_prf(average, modifier, msg_start, len(result))\n"
     ]
    },
    {
     "name": "stdout",
     "output_type": "stream",
     "text": [
      "Epoch: 8. Training \tLoss: 0.4273. \tAcc: 0.8059\n"
     ]
    },
    {
     "name": "stderr",
     "output_type": "stream",
     "text": [
      "/media/Bencsik/SSD1/CS 598 Project/CS598CourseProject/.venv/lib/python3.10/site-packages/sklearn/metrics/_classification.py:1344: UndefinedMetricWarning: Precision is ill-defined and being set to 0.0 due to no predicted samples. Use `zero_division` parameter to control this behavior.\n",
      "  _warn_prf(average, modifier, msg_start, len(result))\n"
     ]
    },
    {
     "name": "stdout",
     "output_type": "stream",
     "text": [
      "Epoch: 8. Validation \t\t\tAcc: 0.8085\n"
     ]
    },
    {
     "name": "stderr",
     "output_type": "stream",
     "text": [
      "/media/Bencsik/SSD1/CS 598 Project/CS598CourseProject/.venv/lib/python3.10/site-packages/sklearn/metrics/_classification.py:1344: UndefinedMetricWarning: Precision is ill-defined and being set to 0.0 due to no predicted samples. Use `zero_division` parameter to control this behavior.\n",
      "  _warn_prf(average, modifier, msg_start, len(result))\n"
     ]
    },
    {
     "name": "stdout",
     "output_type": "stream",
     "text": [
      "Epoch: 9. Training \tLoss: 0.4259. \tAcc: 0.8059\n"
     ]
    },
    {
     "name": "stderr",
     "output_type": "stream",
     "text": [
      "/media/Bencsik/SSD1/CS 598 Project/CS598CourseProject/.venv/lib/python3.10/site-packages/sklearn/metrics/_classification.py:1344: UndefinedMetricWarning: Precision is ill-defined and being set to 0.0 due to no predicted samples. Use `zero_division` parameter to control this behavior.\n",
      "  _warn_prf(average, modifier, msg_start, len(result))\n"
     ]
    },
    {
     "name": "stdout",
     "output_type": "stream",
     "text": [
      "Epoch: 9. Validation \t\t\tAcc: 0.8085\n"
     ]
    },
    {
     "name": "stderr",
     "output_type": "stream",
     "text": [
      "/media/Bencsik/SSD1/CS 598 Project/CS598CourseProject/.venv/lib/python3.10/site-packages/sklearn/metrics/_classification.py:1344: UndefinedMetricWarning: Precision is ill-defined and being set to 0.0 due to no predicted samples. Use `zero_division` parameter to control this behavior.\n",
      "  _warn_prf(average, modifier, msg_start, len(result))\n"
     ]
    },
    {
     "name": "stdout",
     "output_type": "stream",
     "text": [
      "Epoch: 10. Training \tLoss: 0.4243. \tAcc: 0.8059\n"
     ]
    },
    {
     "name": "stderr",
     "output_type": "stream",
     "text": [
      "/media/Bencsik/SSD1/CS 598 Project/CS598CourseProject/.venv/lib/python3.10/site-packages/sklearn/metrics/_classification.py:1344: UndefinedMetricWarning: Precision is ill-defined and being set to 0.0 due to no predicted samples. Use `zero_division` parameter to control this behavior.\n",
      "  _warn_prf(average, modifier, msg_start, len(result))\n"
     ]
    },
    {
     "name": "stdout",
     "output_type": "stream",
     "text": [
      "Epoch: 10. Validation \t\t\tAcc: 0.8085\n"
     ]
    },
    {
     "name": "stderr",
     "output_type": "stream",
     "text": [
      "/media/Bencsik/SSD1/CS 598 Project/CS598CourseProject/.venv/lib/python3.10/site-packages/sklearn/metrics/_classification.py:1344: UndefinedMetricWarning: Precision is ill-defined and being set to 0.0 due to no predicted samples. Use `zero_division` parameter to control this behavior.\n",
      "  _warn_prf(average, modifier, msg_start, len(result))\n"
     ]
    },
    {
     "name": "stdout",
     "output_type": "stream",
     "text": [
      "Epoch: 11. Training \tLoss: 0.4226. \tAcc: 0.8059\n"
     ]
    },
    {
     "name": "stderr",
     "output_type": "stream",
     "text": [
      "/media/Bencsik/SSD1/CS 598 Project/CS598CourseProject/.venv/lib/python3.10/site-packages/sklearn/metrics/_classification.py:1344: UndefinedMetricWarning: Precision is ill-defined and being set to 0.0 due to no predicted samples. Use `zero_division` parameter to control this behavior.\n",
      "  _warn_prf(average, modifier, msg_start, len(result))\n"
     ]
    },
    {
     "name": "stdout",
     "output_type": "stream",
     "text": [
      "Epoch: 11. Validation \t\t\tAcc: 0.8085\n"
     ]
    },
    {
     "name": "stderr",
     "output_type": "stream",
     "text": [
      "/media/Bencsik/SSD1/CS 598 Project/CS598CourseProject/.venv/lib/python3.10/site-packages/sklearn/metrics/_classification.py:1344: UndefinedMetricWarning: Precision is ill-defined and being set to 0.0 due to no predicted samples. Use `zero_division` parameter to control this behavior.\n",
      "  _warn_prf(average, modifier, msg_start, len(result))\n"
     ]
    },
    {
     "name": "stdout",
     "output_type": "stream",
     "text": [
      "Epoch: 12. Training \tLoss: 0.4218. \tAcc: 0.8059\n"
     ]
    },
    {
     "name": "stderr",
     "output_type": "stream",
     "text": [
      "/media/Bencsik/SSD1/CS 598 Project/CS598CourseProject/.venv/lib/python3.10/site-packages/sklearn/metrics/_classification.py:1344: UndefinedMetricWarning: Precision is ill-defined and being set to 0.0 due to no predicted samples. Use `zero_division` parameter to control this behavior.\n",
      "  _warn_prf(average, modifier, msg_start, len(result))\n"
     ]
    },
    {
     "name": "stdout",
     "output_type": "stream",
     "text": [
      "Epoch: 12. Validation \t\t\tAcc: 0.8085\n"
     ]
    },
    {
     "name": "stderr",
     "output_type": "stream",
     "text": [
      "/media/Bencsik/SSD1/CS 598 Project/CS598CourseProject/.venv/lib/python3.10/site-packages/sklearn/metrics/_classification.py:1344: UndefinedMetricWarning: Precision is ill-defined and being set to 0.0 due to no predicted samples. Use `zero_division` parameter to control this behavior.\n",
      "  _warn_prf(average, modifier, msg_start, len(result))\n"
     ]
    },
    {
     "name": "stdout",
     "output_type": "stream",
     "text": [
      "Epoch: 13. Training \tLoss: 0.4199. \tAcc: 0.8059\n"
     ]
    },
    {
     "name": "stderr",
     "output_type": "stream",
     "text": [
      "/media/Bencsik/SSD1/CS 598 Project/CS598CourseProject/.venv/lib/python3.10/site-packages/sklearn/metrics/_classification.py:1344: UndefinedMetricWarning: Precision is ill-defined and being set to 0.0 due to no predicted samples. Use `zero_division` parameter to control this behavior.\n",
      "  _warn_prf(average, modifier, msg_start, len(result))\n"
     ]
    },
    {
     "name": "stdout",
     "output_type": "stream",
     "text": [
      "Epoch: 13. Validation \t\t\tAcc: 0.8085\n"
     ]
    },
    {
     "name": "stderr",
     "output_type": "stream",
     "text": [
      "/media/Bencsik/SSD1/CS 598 Project/CS598CourseProject/.venv/lib/python3.10/site-packages/sklearn/metrics/_classification.py:1344: UndefinedMetricWarning: Precision is ill-defined and being set to 0.0 due to no predicted samples. Use `zero_division` parameter to control this behavior.\n",
      "  _warn_prf(average, modifier, msg_start, len(result))\n"
     ]
    },
    {
     "name": "stdout",
     "output_type": "stream",
     "text": [
      "Epoch: 14. Training \tLoss: 0.4191. \tAcc: 0.8059\n"
     ]
    },
    {
     "name": "stderr",
     "output_type": "stream",
     "text": [
      "/media/Bencsik/SSD1/CS 598 Project/CS598CourseProject/.venv/lib/python3.10/site-packages/sklearn/metrics/_classification.py:1344: UndefinedMetricWarning: Precision is ill-defined and being set to 0.0 due to no predicted samples. Use `zero_division` parameter to control this behavior.\n",
      "  _warn_prf(average, modifier, msg_start, len(result))\n"
     ]
    },
    {
     "name": "stdout",
     "output_type": "stream",
     "text": [
      "Epoch: 14. Validation \t\t\tAcc: 0.8085\n"
     ]
    },
    {
     "name": "stderr",
     "output_type": "stream",
     "text": [
      "/media/Bencsik/SSD1/CS 598 Project/CS598CourseProject/.venv/lib/python3.10/site-packages/sklearn/metrics/_classification.py:1344: UndefinedMetricWarning: Precision is ill-defined and being set to 0.0 due to no predicted samples. Use `zero_division` parameter to control this behavior.\n",
      "  _warn_prf(average, modifier, msg_start, len(result))\n"
     ]
    },
    {
     "name": "stdout",
     "output_type": "stream",
     "text": [
      "Epoch: 15. Training \tLoss: 0.4179. \tAcc: 0.8059\n"
     ]
    },
    {
     "name": "stderr",
     "output_type": "stream",
     "text": [
      "/media/Bencsik/SSD1/CS 598 Project/CS598CourseProject/.venv/lib/python3.10/site-packages/sklearn/metrics/_classification.py:1344: UndefinedMetricWarning: Precision is ill-defined and being set to 0.0 due to no predicted samples. Use `zero_division` parameter to control this behavior.\n",
      "  _warn_prf(average, modifier, msg_start, len(result))\n"
     ]
    },
    {
     "name": "stdout",
     "output_type": "stream",
     "text": [
      "Epoch: 15. Validation \t\t\tAcc: 0.8085\n",
      "Epoch: 16. Training \tLoss: 0.4172. \tAcc: 0.8087\n",
      "Epoch: 16. Validation \t\t\tAcc: 0.8146\n",
      "Epoch: 17. Training \tLoss: 0.4150. \tAcc: 0.8126\n",
      "Epoch: 17. Validation \t\t\tAcc: 0.8092\n",
      "Epoch: 18. Training \tLoss: 0.4146. \tAcc: 0.8114\n",
      "Epoch: 18. Validation \t\t\tAcc: 0.8162\n",
      "Epoch: 19. Training \tLoss: 0.4133. \tAcc: 0.8151\n",
      "Epoch: 19. Validation \t\t\tAcc: 0.8133\n",
      "Epoch: 20. Training \tLoss: 0.4124. \tAcc: 0.8154\n",
      "Epoch: 20. Validation \t\t\tAcc: 0.8146\n",
      "Epoch: 21. Training \tLoss: 0.4121. \tAcc: 0.8132\n",
      "Epoch: 21. Validation \t\t\tAcc: 0.8139\n",
      "Epoch: 22. Training \tLoss: 0.4105. \tAcc: 0.8181\n",
      "Epoch: 22. Validation \t\t\tAcc: 0.8179\n",
      "Epoch: 23. Training \tLoss: 0.4098. \tAcc: 0.8169\n",
      "Epoch: 23. Validation \t\t\tAcc: 0.8206\n",
      "Epoch: 24. Training \tLoss: 0.4086. \tAcc: 0.8176\n",
      "Epoch: 24. Validation \t\t\tAcc: 0.8194\n",
      "Epoch: 25. Training \tLoss: 0.4079. \tAcc: 0.8193\n",
      "Epoch: 25. Validation \t\t\tAcc: 0.8133\n",
      "Epoch: 26. Training \tLoss: 0.4076. \tAcc: 0.8188\n",
      "Epoch: 26. Validation \t\t\tAcc: 0.8191\n",
      "Epoch: 27. Training \tLoss: 0.4060. \tAcc: 0.8208\n",
      "Epoch: 27. Validation \t\t\tAcc: 0.8173\n",
      "Epoch: 28. Training \tLoss: 0.4044. \tAcc: 0.8205\n",
      "Epoch: 28. Validation \t\t\tAcc: 0.8202\n",
      "Epoch: 29. Training \tLoss: 0.4045. \tAcc: 0.8217\n",
      "Epoch: 29. Validation \t\t\tAcc: 0.8142\n",
      "Epoch: 30. Training \tLoss: 0.4038. \tAcc: 0.8226\n",
      "Epoch: 30. Validation \t\t\tAcc: 0.8173\n",
      "Epoch: 31. Training \tLoss: 0.4027. \tAcc: 0.8234\n",
      "Epoch: 31. Validation \t\t\tAcc: 0.8169\n",
      "Epoch: 32. Training \tLoss: 0.4020. \tAcc: 0.8224\n",
      "Epoch: 32. Validation \t\t\tAcc: 0.8146\n",
      "Epoch: 33. Training \tLoss: 0.4012. \tAcc: 0.8229\n",
      "Epoch: 33. Validation \t\t\tAcc: 0.8194\n",
      "Epoch: 34. Training \tLoss: 0.4005. \tAcc: 0.8243\n",
      "Epoch: 34. Validation \t\t\tAcc: 0.8202\n",
      "Epoch: 35. Training \tLoss: 0.4001. \tAcc: 0.8239\n",
      "Epoch: 35. Validation \t\t\tAcc: 0.8154\n",
      "Epoch: 36. Training \tLoss: 0.3985. \tAcc: 0.8242\n",
      "Epoch: 36. Validation \t\t\tAcc: 0.8173\n",
      "Epoch: 37. Training \tLoss: 0.3977. \tAcc: 0.8247\n",
      "Epoch: 37. Validation \t\t\tAcc: 0.8191\n",
      "Epoch: 38. Training \tLoss: 0.3968. \tAcc: 0.8265\n",
      "Epoch: 38. Validation \t\t\tAcc: 0.8185\n",
      "Epoch: 39. Training \tLoss: 0.3956. \tAcc: 0.8271\n",
      "Epoch: 39. Validation \t\t\tAcc: 0.8162\n",
      "Epoch: 40. Training \tLoss: 0.3955. \tAcc: 0.8274\n",
      "Epoch: 40. Validation \t\t\tAcc: 0.8212\n",
      "Epoch: 41. Training \tLoss: 0.3944. \tAcc: 0.8281\n",
      "Epoch: 41. Validation \t\t\tAcc: 0.8210\n",
      "Epoch: 42. Training \tLoss: 0.3935. \tAcc: 0.8276\n",
      "Epoch: 42. Validation \t\t\tAcc: 0.8221\n",
      "Epoch: 43. Training \tLoss: 0.3922. \tAcc: 0.8260\n",
      "Epoch: 43. Validation \t\t\tAcc: 0.8139\n",
      "Epoch: 44. Training \tLoss: 0.3917. \tAcc: 0.8302\n",
      "Epoch: 44. Validation \t\t\tAcc: 0.8156\n",
      "Epoch: 45. Training \tLoss: 0.3923. \tAcc: 0.8282\n",
      "Epoch: 45. Validation \t\t\tAcc: 0.8152\n",
      "Epoch: 46. Training \tLoss: 0.3909. \tAcc: 0.8294\n",
      "Epoch: 46. Validation \t\t\tAcc: 0.8194\n",
      "Epoch: 47. Training \tLoss: 0.3897. \tAcc: 0.8297\n",
      "Epoch: 47. Validation \t\t\tAcc: 0.8158\n",
      "Epoch: 48. Training \tLoss: 0.3908. \tAcc: 0.8303\n",
      "Epoch: 48. Validation \t\t\tAcc: 0.8164\n",
      "Epoch: 49. Training \tLoss: 0.3885. \tAcc: 0.8313\n",
      "Epoch: 49. Validation \t\t\tAcc: 0.8204\n"
     ]
    }
   ],
   "source": [
    "\n",
    "loss_list = []\n",
    "losses_train =[]\n",
    "losses_valid = []\n",
    "acc_train = []\n",
    "acc_valid = []\n",
    "\n",
    "\n",
    "for epoch in range(EPOCH):\n",
    "    current_loss = 0.0\n",
    "    for i, (x_input, y_actual) in enumerate(train_dataloader):\n",
    "        \n",
    "        optimizer.zero_grad()\n",
    "        # print((torch.nan_to_num(x_input)))\n",
    "        # x_input = x_input.type(torch.DoubleTensor)\n",
    "        # print(x_input)\n",
    "        # y_predict = model(x_input)\n",
    "        y_predict = model(torch.nan_to_num(x_input))\n",
    "        # print(y_predict.reshape(1,-1))\n",
    "        # print(y_actual.reshape(1,-1))\n",
    "        \n",
    "        loss = criterion(y_predict.reshape(1,-1).float(),y_actual.reshape(1,-1).float())\n",
    "        loss.backward()\n",
    "        optimizer.step()\n",
    "        current_loss += loss.item()\n",
    "    \n",
    "    \n",
    "    losses_train.append(current_loss / len(train_dataloader))\n",
    "    pr, ac, rc, auc = getMetrics(train_dataloader, model)\n",
    "    acc_train.append(ac)\n",
    "    \n",
    "    print('Epoch: {}. Training \\tLoss: {:.4f}. \\tAcc: {:.4f}'.format(epoch, (current_loss / len(train_dataloader)), ac))\n",
    "\n",
    "    \n",
    "    pr, ac, rc, auc = getMetrics(valid_dataloader, model)\n",
    "    acc_valid.append(ac)\n",
    "    print('Epoch: {}. Validation \\t\\t\\tAcc: {:.4f}'.format(epoch, ac))\n",
    "        \n",
    "    \n",
    "    "
   ]
  },
  {
   "cell_type": "code",
   "execution_count": 218,
   "metadata": {},
   "outputs": [
    {
     "data": {
      "text/plain": [
       "0.564625850340136"
      ]
     },
     "execution_count": 218,
     "metadata": {},
     "output_type": "execute_result"
    }
   ],
   "source": [
    "pr"
   ]
  },
  {
   "cell_type": "code",
   "execution_count": 219,
   "metadata": {},
   "outputs": [
    {
     "data": {
      "image/png": "[encoded data removed]",
      "text/plain": [
       "<Figure size 640x480 with 1 Axes>"
      ]
     },
     "metadata": {},
     "output_type": "display_data"
    }
   ],
   "source": [
    "plt.plot(losses_train, label='Loss Train')\n",
    "plt.xlabel('epoch')\n",
    "plt.title('LSTM+CNN Loss')\n",
    "plt.legend()\n",
    "plt.show()"
   ]
  },
  {
   "cell_type": "code",
   "execution_count": 220,
   "metadata": {},
   "outputs": [
    {
     "data": {
      "image/png": "[encoded data removed]",
      "text/plain": [
       "<Figure size 640x480 with 1 Axes>"
      ]
     },
     "metadata": {},
     "output_type": "display_data"
    }
   ],
   "source": [
    "plt.plot(acc_train, label='Acc Train')\n",
    "plt.plot(acc_valid, label='Acc Valid')\n",
    "plt.xlabel('epoch')\n",
    "plt.title('LSTM_CNN Accuracy')\n",
    "plt.legend()\n",
    "plt.show()"
   ]
  },
  {
   "cell_type": "code",
   "execution_count": 221,
   "metadata": {},
   "outputs": [
    {
     "name": "stdout",
     "output_type": "stream",
     "text": [
      "Testing Metrics: \n",
      "Precision: \t0.5364 \n",
      "Accuracy: \t0.8238 \n",
      "Recall: \t0.2761 \n",
      "AUC: \t\t0.0000\n"
     ]
    }
   ],
   "source": [
    "\n",
    "pr, ac, rc, auc = getMetrics(test_dataloader, model)\n",
    "print('Testing Metrics: \\nPrecision: \\t{:.4f} \\nAccuracy: \\t{:.4f} \\nRecall: \\t{:.4f} \\nAUC: \\t\\t{:.4f}'.format(pr, ac, rc, auc))"
   ]
  },
  {
   "cell_type": "code",
   "execution_count": null,
   "metadata": {},
   "outputs": [],
   "source": []
  }
 ],
 "metadata": {
  "kernelspec": {
   "display_name": ".venv",
   "language": "python",
   "name": "python3"
  },
  "language_info": {
   "codemirror_mode": {
    "name": "ipython",
    "version": 3
   },
   "file_extension": ".py",
   "mimetype": "text/x-python",
   "name": "python",
   "nbconvert_exporter": "python",
   "pygments_lexer": "ipython3",
   "version": "3.10.9"
  },
  "orig_nbformat": 4
 },
 "nbformat": 4,
 "nbformat_minor": 2
}
