{
 "cells": [
  {
   "attachments": {},
   "cell_type": "markdown",
   "metadata": {},
   "source": [
    "# Chart Events for last 48 period"
   ]
  },
  {
   "attachments": {},
   "cell_type": "markdown",
   "metadata": {},
   "source": [
    "TODO:\n",
    "\n",
    "1. [ ] Create or find list of `ITEMID`s that correlate to the 17 dimmensions from paper.\n",
    "2. [ ] Extract the 17 dims from `CHARTEVENTS.csv` for each sample"
   ]
  },
  {
   "attachments": {},
   "cell_type": "markdown",
   "metadata": {},
   "source": [
    "|\tChart Event\t|\tDim\t|\tNormal\t|\n",
    "| --- | :--- | :--- |\n",
    "|\t1. Glasgow coma scale eye opening\t|\t4\t|\t4 Spontaneously\t|\n",
    "|\t2. Glasgow coma scale verbal response\t|\t5\t|\t5 Oriented\t|\n",
    "|\t3. Glasgow coma scale motor response\t|\t6\t|\t6 Obeys Commands\t|\n",
    "|\t4. Glasgow coma scale total\t|\t13\t|\t15\t|\n",
    "|\t5. Capillary refill rate\t|\t2\t|\tNormal < 3 secs\t|\n",
    "|\t6. Diastolic blood pressure\t|\t1\t|\t70\t|\n",
    "|\t7. Systolic blood pressure\t|\t1\t|\t105\t|\n",
    "|\t8. Mean blood pressure\t|\t1\t|\t87.5\t|\n",
    "|\t9. Heart Rate\t|\t1\t|\t80\t|\n",
    "|\t10. Glucose\t|\t1\t|\t85\t|\n",
    "|\t11. Fraction inspired oxygen\t|\t1\t|\t0.21\t|\n",
    "|\t12. Oxygen saturation\t|\t1\t|\t97.5\t|\n",
    "|\t13. Respiratory rate\t|\t1\t|\t15\t|\n",
    "|\t14. Body Temperature\t|\t1\t|\t37\t|\n",
    "|\t15. pH\t|\t1\t|\t7.4\t|\n",
    "|\t16. Weight\t|\t1\t|\t80.7\t|\n",
    "|\t17. Height\t|\t1\t|\t168.8\t|\n",
    "\n",
    "![Glascow](assets/images/GCS.jpg)\n",
    "\n",
    "https://www.firstaidforfree.com/glasgow-coma-scale-gcs-first-aiders/"
   ]
  },
  {
   "cell_type": "code",
   "execution_count": 1,
   "metadata": {},
   "outputs": [],
   "source": [
    "event_to_id =[\n",
    "{'CHAREVENT':'GCS_EYE', 'DESCRIPTION':'','ITEMID':['184','220739'],'UNIT':['NONE','NONE']},\n",
    "{'CHAREVENT':'GCS_MOTOR', 'DESCRIPTION':'','ITEMID':['454','223901'],'UNIT':['NONE','NONE']},\n",
    "{'CHAREVENT':'GCS_VERBAL', 'DESCRIPTION':'','ITEMID':['723','223900'],'UNIT':['NONE','NONE']},\n",
    "{'CHAREVENT':'GCS_TOTAL', 'DESCRIPTION':'Sum of the 3 GCS events','ITEMID':['198'],'UNIT':['NONE']},\n",
    "{'CHAREVENT':'CAPILLARY_REFILL', 'DESCRIPTION':'','ITEMID':['3348','115','8377','223951','224308'],'UNIT':['BINARY','BINARY','BINARY','BINARY','BINARY']},\n",
    "{'CHAREVENT':'D_BLOOD_PRESSURE', 'DESCRIPTION':'','ITEMID':['8368','220051','225310','8555','8441','220180','8502','8440','8503','8504','8507','8506','224643','227242'],'UNIT':['mmHg','mmHg','mmHg','mmHg','mmHg','mmHg','mmHg','mmHg','mmHg','mmHg','mmHg','mmHg','mmHg','mmHg']},\n",
    "{'CHAREVENT':'M_BLOOD_PRESSURE', 'DESCRIPTION':'','ITEMID':['52', '220052', '225312', '224', '6702', '224322', '456', '220181', '3312', '3314', '3316', '3322', '3320'],'UNIT':['mmHg','mmHg','mmHg','mmHg','mmHg','mmHg','mmHg','mmHg','mmHg','mmHg','mmHg','mmHg','mmHg']},\n",
    "{'CHAREVENT':'S_BLOOD_PRESSURE', 'DESCRIPTION':'','ITEMID':['51','220050','225309','6701','455','220179','3313','3315','442','3317','3323','3321','224167','227243'],'UNIT':['mmHg','mmHg','mmHg','mmHg','mmHg','mmHg','mmHg','mmHg','mmHg','mmHg','mmHg','mmHg','mmHg','mmHg']},\n",
    "{'CHAREVENT':'HEART_RATE', 'DESCRIPTION':'','ITEMID':['211','220045'],'UNIT':['bpm','bpm']},\n",
    "{'CHAREVENT':'GLUCOSE', 'DESCRIPTION':'','ITEMID':['807', '811', '1529', '3745', '225664', '220621', '226537', '3447', '3816', '3744', '227015', '227016', '1310', '1455', '2338', '1812', '228388'],'UNIT':['','']},\n",
    "{'CHAREVENT':'FRAC_OXYGEN', 'DESCRIPTION':'','ITEMID':['3420', '223835', '3422', '189', '727'],'UNIT':['%','%','%','%','%']},\n",
    "{'CHAREVENT':'O2_SAT', 'DESCRIPTION':'','ITEMID':['834', '8498', '220227', '646', '220277'],'UNIT':['%','%','%','%','%']},\n",
    "{'CHAREVENT':'RESP_RATE', 'DESCRIPTION':'','ITEMID':['618', '220210', '3603', '224689', '614', '651', '224422', '615', '224690', '619', '224688'],'UNIT':['insp/min','']},\n",
    "{'CHAREVENT':'BODY_TEMP', 'DESCRIPTION':'','ITEMID':['3655','677','676','223762','3654','678','223761','679','8537','645','591','226329','597','227054','228242'],'UNIT':['C','C','C','C','F','F','F','F','C','','','','C','','F']},\n",
    "{'CHAREVENT':'PH', 'DESCRIPTION':'','ITEMID':['3839','1673','780','1126','223830','4753','4202','860','220274','8387','1880','3777','227586','8385','1352','4755','7966'],'UNIT':['NONE','NONE','NONE','NONE','NONE','NONE','NONE','NONE','NONE','NONE','NONE','NONE','NONE','NONE','NONE','NONE','NONE']},\n",
    "{'CHAREVENT':'WEIGHT', 'DESCRIPTION':'','ITEMID':['763','224639','226512','3580','3693','3581','226531','3582'],'UNIT':['?','kg','kg','kg','kg','lb','lb','oz']},\n",
    "{'CHAREVENT':'HEIGHT', 'DESCRIPTION':'','ITEMID':['226707', '226730', '1394'],'UNIT':['?','cm','in']},\n",
    "]"
   ]
  },
  {
   "cell_type": "code",
   "execution_count": 2,
   "metadata": {},
   "outputs": [],
   "source": [
    "import pandas as pd\n",
    "import numpy as np\n",
    "from tqdm.notebook import trange, tqdm\n",
    "import traceback\n",
    "import os\n",
    "import dask.dataframe as dd\n",
    "from dask.distributed import Client"
   ]
  },
  {
   "cell_type": "code",
   "execution_count": 3,
   "metadata": {},
   "outputs": [],
   "source": [
    "CHARTEVENTS_FILENAME = 'mimic-iii/CHARTEVENTS.csv'\n",
    "READMISSION_FILENAME = 'data/readmission.csv'\n",
    "SAMPLES_DIR = 'data/parquet/'\n",
    "DATASTORE_FILENAME = 'samples.h5'\n",
    "FEATHER_EXT = '.feather'\n",
    "ROWS_TO_READ = 1000000\n",
    "MAX_ROWS_CHARTEVENTS = 330712483\n",
    "\n",
    "skip_rows = 0"
   ]
  },
  {
   "cell_type": "code",
   "execution_count": 4,
   "metadata": {},
   "outputs": [],
   "source": [
    "chartevents_columns = [\"ROW_ID\",\"SUBJECT_ID\",\"HADM_ID\",\"ICUSTAY_ID\",\"ITEMID\",\"CHARTTIME\",\"STORETIME\",\"CGID\",\"VALUE\",\"VALUENUM\",\"VALUEUOM\",\"WARNING\",\"ERROR\",\"RESULTSTATUS\",\"STOPPED\"]\n",
    "\n",
    "\n",
    "\n",
    "# chartevents_dtype = {'ROW_ID':object,\n",
    "# 'SUBJECT_ID':np.int64,\n",
    "# 'HADM_ID':np.int64,\n",
    "# 'ICUSTAY_ID':np.int64,\n",
    "# 'ITEMID':np.int64,\n",
    "# 'CHARTTIME':object,\n",
    "# 'STORETIME':object,\n",
    "# 'CGID':np.int64,\n",
    "# 'VALUE':object,\n",
    "# 'VALUENUM':np.int64,\n",
    "# 'VALUEUOM':object,\n",
    "# 'WARNING':np.int64,\n",
    "# 'ERROR':np.int64,\n",
    "# 'RESULTSTATUS':object,\n",
    "# 'STOPPED':object}\n",
    "\n",
    "chartevents_dtype = {'ROW_ID':str,\n",
    "'SUBJECT_ID':np.float64,\n",
    "'HADM_ID':np.float64,\n",
    "'ICUSTAY_ID':np.float64,\n",
    "'ITEMID':np.float64,\n",
    "'CHARTTIME':str,\n",
    "'STORETIME':str,\n",
    "'CGID':str,\n",
    "'VALUE':str,\n",
    "'VALUENUM':str,\n",
    "'VALUEUOM':str,\n",
    "'WARNING':str,\n",
    "'ERROR':str,\n",
    "'RESULTSTATUS':str,\n",
    "'STOPPED':str}"
   ]
  },
  {
   "cell_type": "code",
   "execution_count": 5,
   "metadata": {},
   "outputs": [],
   "source": [
    "readmission = pd.read_csv(READMISSION_FILENAME).sort_values(['SUBJECT_ID','HADM_ID','ICUSTAY_ID']).reset_index(drop=True)\n",
    "\n",
    "# d = readmission.dtypes.to_dict()\n",
    "# d"
   ]
  },
  {
   "cell_type": "code",
   "execution_count": 6,
   "metadata": {},
   "outputs": [],
   "source": [
    "# print(readmission.shape)\n",
    "# readmission.nunique()"
   ]
  },
  {
   "cell_type": "code",
   "execution_count": 7,
   "metadata": {},
   "outputs": [],
   "source": [
    "# icustay_id = list(readmission['ICUSTAY_ID'].values)\n",
    "# icustay_id.insert(0,0)\n",
    "# icustay_id.sort()\n",
    "# print(icustay_id[:5])"
   ]
  },
  {
   "cell_type": "code",
   "execution_count": 8,
   "metadata": {},
   "outputs": [],
   "source": [
    "# readmission.dtypes"
   ]
  },
  {
   "cell_type": "code",
   "execution_count": 9,
   "metadata": {},
   "outputs": [
    {
     "name": "stderr",
     "output_type": "stream",
     "text": [
      "2023-05-01 21:41:54,847 - distributed.diskutils - INFO - Found stale lock file and directory '/tmp/dask-worker-space/worker-q5nmiug2', purging\n",
      "2023-05-01 21:41:54,847 - distributed.diskutils - INFO - Found stale lock file and directory '/tmp/dask-worker-space/worker-9b_ng_y2', purging\n",
      "2023-05-01 21:41:54,847 - distributed.diskutils - INFO - Found stale lock file and directory '/tmp/dask-worker-space/worker-6fd_24lx', purging\n",
      "2023-05-01 21:41:54,847 - distributed.diskutils - INFO - Found stale lock file and directory '/tmp/dask-worker-space/worker-pumw74ne', purging\n"
     ]
    },
    {
     "data": {
      "text/html": [
       "<div>\n",
       "    <div style=\"width: 24px; height: 24px; background-color: #e1e1e1; border: 3px solid #9D9D9D; border-radius: 5px; position: absolute;\"> </div>\n",
       "    <div style=\"margin-left: 48px;\">\n",
       "        <h3 style=\"margin-bottom: 0px;\">Client</h3>\n",
       "        <p style=\"color: #9D9D9D; margin-bottom: 0px;\">Client-8456e56c-e88a-11ed-aa1c-d85ed38748de</p>\n",
       "        <table style=\"width: 100%; text-align: left;\">\n",
       "\n",
       "        <tr>\n",
       "        \n",
       "            <td style=\"text-align: left;\"><strong>Connection method:</strong> Cluster object</td>\n",
       "            <td style=\"text-align: left;\"><strong>Cluster type:</strong> distributed.LocalCluster</td>\n",
       "        \n",
       "        </tr>\n",
       "\n",
       "        \n",
       "            <tr>\n",
       "                <td style=\"text-align: left;\">\n",
       "                    <strong>Dashboard: </strong> <a href=\"http://127.0.0.1:8787/status\" target=\"_blank\">http://127.0.0.1:8787/status</a>\n",
       "                </td>\n",
       "                <td style=\"text-align: left;\"></td>\n",
       "            </tr>\n",
       "        \n",
       "\n",
       "        </table>\n",
       "\n",
       "        \n",
       "\n",
       "        \n",
       "            <details>\n",
       "            <summary style=\"margin-bottom: 20px;\"><h3 style=\"display: inline;\">Cluster Info</h3></summary>\n",
       "            <div class=\"jp-RenderedHTMLCommon jp-RenderedHTML jp-mod-trusted jp-OutputArea-output\">\n",
       "    <div style=\"width: 24px; height: 24px; background-color: #e1e1e1; border: 3px solid #9D9D9D; border-radius: 5px; position: absolute;\">\n",
       "    </div>\n",
       "    <div style=\"margin-left: 48px;\">\n",
       "        <h3 style=\"margin-bottom: 0px; margin-top: 0px;\">LocalCluster</h3>\n",
       "        <p style=\"color: #9D9D9D; margin-bottom: 0px;\">27ac71b2</p>\n",
       "        <table style=\"width: 100%; text-align: left;\">\n",
       "            <tr>\n",
       "                <td style=\"text-align: left;\">\n",
       "                    <strong>Dashboard:</strong> <a href=\"http://127.0.0.1:8787/status\" target=\"_blank\">http://127.0.0.1:8787/status</a>\n",
       "                </td>\n",
       "                <td style=\"text-align: left;\">\n",
       "                    <strong>Workers:</strong> 4\n",
       "                </td>\n",
       "            </tr>\n",
       "            <tr>\n",
       "                <td style=\"text-align: left;\">\n",
       "                    <strong>Total threads:</strong> 16\n",
       "                </td>\n",
       "                <td style=\"text-align: left;\">\n",
       "                    <strong>Total memory:</strong> 62.57 GiB\n",
       "                </td>\n",
       "            </tr>\n",
       "            \n",
       "            <tr>\n",
       "    <td style=\"text-align: left;\"><strong>Status:</strong> running</td>\n",
       "    <td style=\"text-align: left;\"><strong>Using processes:</strong> True</td>\n",
       "</tr>\n",
       "\n",
       "            \n",
       "        </table>\n",
       "\n",
       "        <details>\n",
       "            <summary style=\"margin-bottom: 20px;\">\n",
       "                <h3 style=\"display: inline;\">Scheduler Info</h3>\n",
       "            </summary>\n",
       "\n",
       "            <div style=\"\">\n",
       "    <div>\n",
       "        <div style=\"width: 24px; height: 24px; background-color: #FFF7E5; border: 3px solid #FF6132; border-radius: 5px; position: absolute;\"> </div>\n",
       "        <div style=\"margin-left: 48px;\">\n",
       "            <h3 style=\"margin-bottom: 0px;\">Scheduler</h3>\n",
       "            <p style=\"color: #9D9D9D; margin-bottom: 0px;\">Scheduler-c3081787-e331-4bbb-aa9d-f255e462c493</p>\n",
       "            <table style=\"width: 100%; text-align: left;\">\n",
       "                <tr>\n",
       "                    <td style=\"text-align: left;\">\n",
       "                        <strong>Comm:</strong> tcp://127.0.0.1:36953\n",
       "                    </td>\n",
       "                    <td style=\"text-align: left;\">\n",
       "                        <strong>Workers:</strong> 4\n",
       "                    </td>\n",
       "                </tr>\n",
       "                <tr>\n",
       "                    <td style=\"text-align: left;\">\n",
       "                        <strong>Dashboard:</strong> <a href=\"http://127.0.0.1:8787/status\" target=\"_blank\">http://127.0.0.1:8787/status</a>\n",
       "                    </td>\n",
       "                    <td style=\"text-align: left;\">\n",
       "                        <strong>Total threads:</strong> 16\n",
       "                    </td>\n",
       "                </tr>\n",
       "                <tr>\n",
       "                    <td style=\"text-align: left;\">\n",
       "                        <strong>Started:</strong> Just now\n",
       "                    </td>\n",
       "                    <td style=\"text-align: left;\">\n",
       "                        <strong>Total memory:</strong> 62.57 GiB\n",
       "                    </td>\n",
       "                </tr>\n",
       "            </table>\n",
       "        </div>\n",
       "    </div>\n",
       "\n",
       "    <details style=\"margin-left: 48px;\">\n",
       "        <summary style=\"margin-bottom: 20px;\">\n",
       "            <h3 style=\"display: inline;\">Workers</h3>\n",
       "        </summary>\n",
       "\n",
       "        \n",
       "        <div style=\"margin-bottom: 20px;\">\n",
       "            <div style=\"width: 24px; height: 24px; background-color: #DBF5FF; border: 3px solid #4CC9FF; border-radius: 5px; position: absolute;\"> </div>\n",
       "            <div style=\"margin-left: 48px;\">\n",
       "            <details>\n",
       "                <summary>\n",
       "                    <h4 style=\"margin-bottom: 0px; display: inline;\">Worker: 0</h4>\n",
       "                </summary>\n",
       "                <table style=\"width: 100%; text-align: left;\">\n",
       "                    <tr>\n",
       "                        <td style=\"text-align: left;\">\n",
       "                            <strong>Comm: </strong> tcp://127.0.0.1:43973\n",
       "                        </td>\n",
       "                        <td style=\"text-align: left;\">\n",
       "                            <strong>Total threads: </strong> 4\n",
       "                        </td>\n",
       "                    </tr>\n",
       "                    <tr>\n",
       "                        <td style=\"text-align: left;\">\n",
       "                            <strong>Dashboard: </strong> <a href=\"http://127.0.0.1:35231/status\" target=\"_blank\">http://127.0.0.1:35231/status</a>\n",
       "                        </td>\n",
       "                        <td style=\"text-align: left;\">\n",
       "                            <strong>Memory: </strong> 15.64 GiB\n",
       "                        </td>\n",
       "                    </tr>\n",
       "                    <tr>\n",
       "                        <td style=\"text-align: left;\">\n",
       "                            <strong>Nanny: </strong> tcp://127.0.0.1:46691\n",
       "                        </td>\n",
       "                        <td style=\"text-align: left;\"></td>\n",
       "                    </tr>\n",
       "                    <tr>\n",
       "                        <td colspan=\"2\" style=\"text-align: left;\">\n",
       "                            <strong>Local directory: </strong> /tmp/dask-worker-space/worker-sg7rf6so\n",
       "                        </td>\n",
       "                    </tr>\n",
       "\n",
       "                    \n",
       "\n",
       "                    \n",
       "\n",
       "                </table>\n",
       "            </details>\n",
       "            </div>\n",
       "        </div>\n",
       "        \n",
       "        <div style=\"margin-bottom: 20px;\">\n",
       "            <div style=\"width: 24px; height: 24px; background-color: #DBF5FF; border: 3px solid #4CC9FF; border-radius: 5px; position: absolute;\"> </div>\n",
       "            <div style=\"margin-left: 48px;\">\n",
       "            <details>\n",
       "                <summary>\n",
       "                    <h4 style=\"margin-bottom: 0px; display: inline;\">Worker: 1</h4>\n",
       "                </summary>\n",
       "                <table style=\"width: 100%; text-align: left;\">\n",
       "                    <tr>\n",
       "                        <td style=\"text-align: left;\">\n",
       "                            <strong>Comm: </strong> tcp://127.0.0.1:38291\n",
       "                        </td>\n",
       "                        <td style=\"text-align: left;\">\n",
       "                            <strong>Total threads: </strong> 4\n",
       "                        </td>\n",
       "                    </tr>\n",
       "                    <tr>\n",
       "                        <td style=\"text-align: left;\">\n",
       "                            <strong>Dashboard: </strong> <a href=\"http://127.0.0.1:45837/status\" target=\"_blank\">http://127.0.0.1:45837/status</a>\n",
       "                        </td>\n",
       "                        <td style=\"text-align: left;\">\n",
       "                            <strong>Memory: </strong> 15.64 GiB\n",
       "                        </td>\n",
       "                    </tr>\n",
       "                    <tr>\n",
       "                        <td style=\"text-align: left;\">\n",
       "                            <strong>Nanny: </strong> tcp://127.0.0.1:37047\n",
       "                        </td>\n",
       "                        <td style=\"text-align: left;\"></td>\n",
       "                    </tr>\n",
       "                    <tr>\n",
       "                        <td colspan=\"2\" style=\"text-align: left;\">\n",
       "                            <strong>Local directory: </strong> /tmp/dask-worker-space/worker-l1g79miv\n",
       "                        </td>\n",
       "                    </tr>\n",
       "\n",
       "                    \n",
       "\n",
       "                    \n",
       "\n",
       "                </table>\n",
       "            </details>\n",
       "            </div>\n",
       "        </div>\n",
       "        \n",
       "        <div style=\"margin-bottom: 20px;\">\n",
       "            <div style=\"width: 24px; height: 24px; background-color: #DBF5FF; border: 3px solid #4CC9FF; border-radius: 5px; position: absolute;\"> </div>\n",
       "            <div style=\"margin-left: 48px;\">\n",
       "            <details>\n",
       "                <summary>\n",
       "                    <h4 style=\"margin-bottom: 0px; display: inline;\">Worker: 2</h4>\n",
       "                </summary>\n",
       "                <table style=\"width: 100%; text-align: left;\">\n",
       "                    <tr>\n",
       "                        <td style=\"text-align: left;\">\n",
       "                            <strong>Comm: </strong> tcp://127.0.0.1:43423\n",
       "                        </td>\n",
       "                        <td style=\"text-align: left;\">\n",
       "                            <strong>Total threads: </strong> 4\n",
       "                        </td>\n",
       "                    </tr>\n",
       "                    <tr>\n",
       "                        <td style=\"text-align: left;\">\n",
       "                            <strong>Dashboard: </strong> <a href=\"http://127.0.0.1:45269/status\" target=\"_blank\">http://127.0.0.1:45269/status</a>\n",
       "                        </td>\n",
       "                        <td style=\"text-align: left;\">\n",
       "                            <strong>Memory: </strong> 15.64 GiB\n",
       "                        </td>\n",
       "                    </tr>\n",
       "                    <tr>\n",
       "                        <td style=\"text-align: left;\">\n",
       "                            <strong>Nanny: </strong> tcp://127.0.0.1:39535\n",
       "                        </td>\n",
       "                        <td style=\"text-align: left;\"></td>\n",
       "                    </tr>\n",
       "                    <tr>\n",
       "                        <td colspan=\"2\" style=\"text-align: left;\">\n",
       "                            <strong>Local directory: </strong> /tmp/dask-worker-space/worker-l7nlpnn8\n",
       "                        </td>\n",
       "                    </tr>\n",
       "\n",
       "                    \n",
       "\n",
       "                    \n",
       "\n",
       "                </table>\n",
       "            </details>\n",
       "            </div>\n",
       "        </div>\n",
       "        \n",
       "        <div style=\"margin-bottom: 20px;\">\n",
       "            <div style=\"width: 24px; height: 24px; background-color: #DBF5FF; border: 3px solid #4CC9FF; border-radius: 5px; position: absolute;\"> </div>\n",
       "            <div style=\"margin-left: 48px;\">\n",
       "            <details>\n",
       "                <summary>\n",
       "                    <h4 style=\"margin-bottom: 0px; display: inline;\">Worker: 3</h4>\n",
       "                </summary>\n",
       "                <table style=\"width: 100%; text-align: left;\">\n",
       "                    <tr>\n",
       "                        <td style=\"text-align: left;\">\n",
       "                            <strong>Comm: </strong> tcp://127.0.0.1:46231\n",
       "                        </td>\n",
       "                        <td style=\"text-align: left;\">\n",
       "                            <strong>Total threads: </strong> 4\n",
       "                        </td>\n",
       "                    </tr>\n",
       "                    <tr>\n",
       "                        <td style=\"text-align: left;\">\n",
       "                            <strong>Dashboard: </strong> <a href=\"http://127.0.0.1:43767/status\" target=\"_blank\">http://127.0.0.1:43767/status</a>\n",
       "                        </td>\n",
       "                        <td style=\"text-align: left;\">\n",
       "                            <strong>Memory: </strong> 15.64 GiB\n",
       "                        </td>\n",
       "                    </tr>\n",
       "                    <tr>\n",
       "                        <td style=\"text-align: left;\">\n",
       "                            <strong>Nanny: </strong> tcp://127.0.0.1:40689\n",
       "                        </td>\n",
       "                        <td style=\"text-align: left;\"></td>\n",
       "                    </tr>\n",
       "                    <tr>\n",
       "                        <td colspan=\"2\" style=\"text-align: left;\">\n",
       "                            <strong>Local directory: </strong> /tmp/dask-worker-space/worker-mywjrckx\n",
       "                        </td>\n",
       "                    </tr>\n",
       "\n",
       "                    \n",
       "\n",
       "                    \n",
       "\n",
       "                </table>\n",
       "            </details>\n",
       "            </div>\n",
       "        </div>\n",
       "        \n",
       "\n",
       "    </details>\n",
       "</div>\n",
       "\n",
       "        </details>\n",
       "    </div>\n",
       "</div>\n",
       "            </details>\n",
       "        \n",
       "\n",
       "    </div>\n",
       "</div>"
      ],
      "text/plain": [
       "<Client: 'tcp://127.0.0.1:36953' processes=4 threads=16, memory=62.57 GiB>"
      ]
     },
     "execution_count": 9,
     "metadata": {},
     "output_type": "execute_result"
    }
   ],
   "source": [
    "client = Client()\n",
    "client"
   ]
  },
  {
   "cell_type": "code",
   "execution_count": 10,
   "metadata": {},
   "outputs": [],
   "source": [
    "df = dd.read_csv(CHARTEVENTS_FILENAME, dtype=chartevents_dtype ,assume_missing=True)"
   ]
  },
  {
   "cell_type": "code",
   "execution_count": 11,
   "metadata": {},
   "outputs": [],
   "source": [
    "df = df.dropna(subset=['SUBJECT_ID','HADM_ID','ICUSTAY_ID','CHARTTIME']).drop('ROW_ID',axis=1)"
   ]
  },
  {
   "cell_type": "code",
   "execution_count": 12,
   "metadata": {},
   "outputs": [
    {
     "name": "stderr",
     "output_type": "stream",
     "text": [
      "/tmp/ipykernel_223772/601393495.py:4: UserWarning: Could not infer format, so each element will be parsed individually, falling back to `dateutil`. To ensure parsing is consistent and as-expected, please specify a format.\n",
      "  df['CHARTTIME'] = df.map_partitions(lambda x: pd.to_datetime(x['CHARTTIME'], errors='coerce'))\n"
     ]
    }
   ],
   "source": [
    "df['SUBJECT_ID'] = df.map_partitions(lambda x: x['SUBJECT_ID'].astype(np.int64))\n",
    "df['HADM_ID'] = df.map_partitions(lambda x: x['HADM_ID'].astype(np.int64))\n",
    "df['ICUSTAY_ID'] = df.map_partitions(lambda x: x['ICUSTAY_ID'].astype(np.int64))\n",
    "df['CHARTTIME'] = df.map_partitions(lambda x: pd.to_datetime(x['CHARTTIME'], errors='coerce'))"
   ]
  },
  {
   "cell_type": "code",
   "execution_count": 13,
   "metadata": {},
   "outputs": [],
   "source": [
    "df = df.set_index('ICUSTAY_ID',drop=True, sorted=False)"
   ]
  },
  {
   "cell_type": "code",
   "execution_count": 14,
   "metadata": {},
   "outputs": [
    {
     "data": {
      "text/plain": [
       "<bound method DataFrame.info of Dask DataFrame Structure:\n",
       "                SUBJECT_ID HADM_ID   ITEMID       CHARTTIME STORETIME    CGID   VALUE VALUENUM VALUEUOM WARNING   ERROR RESULTSTATUS STOPPED\n",
       "npartitions=551                                                                                                                             \n",
       "200001               int64   int64  float64  datetime64[ns]    object  object  object   object   object  object  object       object  object\n",
       "200060                 ...     ...      ...             ...       ...     ...     ...      ...      ...     ...     ...          ...     ...\n",
       "...                    ...     ...      ...             ...       ...     ...     ...      ...      ...     ...     ...          ...     ...\n",
       "299930                 ...     ...      ...             ...       ...     ...     ...      ...      ...     ...     ...          ...     ...\n",
       "299999                 ...     ...      ...             ...       ...     ...     ...      ...      ...     ...     ...          ...     ...\n",
       "Dask Name: sort_index, 17 graph layers>"
      ]
     },
     "execution_count": 14,
     "metadata": {},
     "output_type": "execute_result"
    }
   ],
   "source": [
    "len(df.divisions)\n",
    "(df.divisions)\n",
    "df.info"
   ]
  },
  {
   "cell_type": "code",
   "execution_count": null,
   "metadata": {},
   "outputs": [],
   "source": []
  },
  {
   "cell_type": "code",
   "execution_count": 15,
   "metadata": {},
   "outputs": [],
   "source": [
    "# valid_chartevents = df.map_partitions(lambda df: dd.multi.merge(readmission[['SUBJECT_ID','HADM_ID','ICUSTAY_ID']],df,'inner',['SUBJECT_ID','HADM_ID','ICUSTAY_ID']))\n",
    "valid_chartevents = df.map_partitions(lambda df: dd.multi.merge(readmission[['ICUSTAY_ID']],df,'inner',['ICUSTAY_ID']))"
   ]
  },
  {
   "cell_type": "code",
   "execution_count": 16,
   "metadata": {},
   "outputs": [],
   "source": [
    "# df.get_partition(1).head()"
   ]
  },
  {
   "cell_type": "code",
   "execution_count": 17,
   "metadata": {},
   "outputs": [
    {
     "data": {
      "text/plain": [
       "<bound method DataFrame.info of Dask DataFrame Structure:\n",
       "                ICUSTAY_ID SUBJECT_ID HADM_ID   ITEMID       CHARTTIME STORETIME    CGID   VALUE VALUENUM VALUEUOM WARNING   ERROR RESULTSTATUS STOPPED\n",
       "npartitions=551                                                                                                                                        \n",
       "200001               int64      int64   int64  float64  datetime64[ns]    object  object  object   object   object  object  object       object  object\n",
       "200060                 ...        ...     ...      ...             ...       ...     ...     ...      ...      ...     ...     ...          ...     ...\n",
       "...                    ...        ...     ...      ...             ...       ...     ...     ...      ...      ...     ...     ...          ...     ...\n",
       "299930                 ...        ...     ...      ...             ...       ...     ...     ...      ...      ...     ...     ...          ...     ...\n",
       "299999                 ...        ...     ...      ...             ...       ...     ...     ...      ...      ...     ...     ...          ...     ...\n",
       "Dask Name: lambda, 18 graph layers>"
      ]
     },
     "execution_count": 17,
     "metadata": {},
     "output_type": "execute_result"
    }
   ],
   "source": [
    "valid_chartevents.info"
   ]
  },
  {
   "cell_type": "code",
   "execution_count": null,
   "metadata": {},
   "outputs": [],
   "source": []
  },
  {
   "cell_type": "code",
   "execution_count": 18,
   "metadata": {},
   "outputs": [
    {
     "name": "stderr",
     "output_type": "stream",
     "text": [
      "2023-05-01 21:46:13,388 - distributed.worker - WARNING - Compute Failed\n",
      "Key:       ('shuffle-p2p-0109c0bda0dd0ea5404b03892367842b', 0)\n",
      "Function:  shuffle_unpack\n",
      "args:      ('61b2cd87c84096a9402139b4a7f134bc', 0, 0)\n",
      "kwargs:    {}\n",
      "Exception: \"RuntimeError('shuffle_unpack failed during shuffle 61b2cd87c84096a9402139b4a7f134bc')\"\n",
      "\n"
     ]
    },
    {
     "ename": "RuntimeError",
     "evalue": "shuffle_unpack failed during shuffle 61b2cd87c84096a9402139b4a7f134bc",
     "output_type": "error",
     "traceback": [
      "\u001b[0;31m---------------------------------------------------------------------------\u001b[0m",
      "\u001b[0;31mArrowInvalid\u001b[0m                              Traceback (most recent call last)",
      "File \u001b[0;32m/media/Bencsik/SSD1/CS 598 Project/CS598CourseProject/.venv/lib/python3.10/site-packages/distributed/shuffle/_shuffle.py:77\u001b[0m, in \u001b[0;36mshuffle_unpack\u001b[0;34m()\u001b[0m\n\u001b[1;32m     76\u001b[0m \u001b[39mtry\u001b[39;00m:\n\u001b[0;32m---> 77\u001b[0m     \u001b[39mreturn\u001b[39;00m _get_worker_extension()\u001b[39m.\u001b[39mget_output_partition(\n\u001b[1;32m     78\u001b[0m         \u001b[39mid\u001b[39m, barrier_run_id, output_partition\n\u001b[1;32m     79\u001b[0m     )\n\u001b[1;32m     80\u001b[0m \u001b[39mexcept\u001b[39;00m \u001b[39mException\u001b[39;00m \u001b[39mas\u001b[39;00m e:\n",
      "File \u001b[0;32m/media/Bencsik/SSD1/CS 598 Project/CS598CourseProject/.venv/lib/python3.10/site-packages/distributed/shuffle/_worker_extension.py:903\u001b[0m, in \u001b[0;36mget_output_partition\u001b[0;34m()\u001b[0m\n\u001b[1;32m    902\u001b[0m shuffle \u001b[39m=\u001b[39m \u001b[39mself\u001b[39m\u001b[39m.\u001b[39mget_shuffle_run(shuffle_id, run_id)\n\u001b[0;32m--> 903\u001b[0m \u001b[39mreturn\u001b[39;00m sync(\u001b[39mself\u001b[39m\u001b[39m.\u001b[39mworker\u001b[39m.\u001b[39mloop, shuffle\u001b[39m.\u001b[39mget_output_partition, output_partition)\n",
      "File \u001b[0;32m/media/Bencsik/SSD1/CS 598 Project/CS598CourseProject/.venv/lib/python3.10/site-packages/distributed/utils.py:418\u001b[0m, in \u001b[0;36msync\u001b[0;34m()\u001b[0m\n\u001b[1;32m    417\u001b[0m     typ, exc, tb \u001b[39m=\u001b[39m error\n\u001b[0;32m--> 418\u001b[0m     \u001b[39mraise\u001b[39;00m exc\u001b[39m.\u001b[39mwith_traceback(tb)\n\u001b[1;32m    419\u001b[0m \u001b[39melse\u001b[39;00m:\n",
      "File \u001b[0;32m/media/Bencsik/SSD1/CS 598 Project/CS598CourseProject/.venv/lib/python3.10/site-packages/distributed/utils.py:391\u001b[0m, in \u001b[0;36mf\u001b[0;34m()\u001b[0m\n\u001b[1;32m    390\u001b[0m     future \u001b[39m=\u001b[39m asyncio\u001b[39m.\u001b[39mensure_future(future)\n\u001b[0;32m--> 391\u001b[0m     result \u001b[39m=\u001b[39m \u001b[39myield\u001b[39;00m future\n\u001b[1;32m    392\u001b[0m \u001b[39mexcept\u001b[39;00m \u001b[39mException\u001b[39;00m:\n",
      "File \u001b[0;32m/media/Bencsik/SSD1/CS 598 Project/CS598CourseProject/.venv/lib/python3.10/site-packages/tornado/gen.py:767\u001b[0m, in \u001b[0;36mrun\u001b[0;34m()\u001b[0m\n\u001b[1;32m    766\u001b[0m \u001b[39mtry\u001b[39;00m:\n\u001b[0;32m--> 767\u001b[0m     value \u001b[39m=\u001b[39m future\u001b[39m.\u001b[39mresult()\n\u001b[1;32m    768\u001b[0m \u001b[39mexcept\u001b[39;00m \u001b[39mException\u001b[39;00m \u001b[39mas\u001b[39;00m e:\n\u001b[1;32m    769\u001b[0m     \u001b[39m# Save the exception for later. It's important that\u001b[39;00m\n\u001b[1;32m    770\u001b[0m     \u001b[39m# gen.throw() not be called inside this try/except block\u001b[39;00m\n\u001b[1;32m    771\u001b[0m     \u001b[39m# because that makes sys.exc_info behave unexpectedly.\u001b[39;00m\n",
      "File \u001b[0;32m/media/Bencsik/SSD1/CS 598 Project/CS598CourseProject/.venv/lib/python3.10/site-packages/distributed/shuffle/_worker_extension.py:529\u001b[0m, in \u001b[0;36mget_output_partition\u001b[0;34m()\u001b[0m\n\u001b[1;32m    527\u001b[0m         \u001b[39mreturn\u001b[39;00m df\u001b[39m.\u001b[39mto_pandas()\n\u001b[0;32m--> 529\u001b[0m     out \u001b[39m=\u001b[39m \u001b[39mawait\u001b[39;00m \u001b[39mself\u001b[39m\u001b[39m.\u001b[39moffload(_)\n\u001b[1;32m    530\u001b[0m \u001b[39mexcept\u001b[39;00m \u001b[39mKeyError\u001b[39;00m:\n",
      "File \u001b[0;32m/media/Bencsik/SSD1/CS 598 Project/CS598CourseProject/.venv/lib/python3.10/site-packages/distributed/shuffle/_worker_extension.py:132\u001b[0m, in \u001b[0;36moffload\u001b[0;34m()\u001b[0m\n\u001b[1;32m    131\u001b[0m \u001b[39mwith\u001b[39;00m \u001b[39mself\u001b[39m\u001b[39m.\u001b[39mtime(\u001b[39m\"\u001b[39m\u001b[39mcpu\u001b[39m\u001b[39m\"\u001b[39m):\n\u001b[0;32m--> 132\u001b[0m     \u001b[39mreturn\u001b[39;00m \u001b[39mawait\u001b[39;00m asyncio\u001b[39m.\u001b[39mget_running_loop()\u001b[39m.\u001b[39mrun_in_executor(\n\u001b[1;32m    133\u001b[0m         \u001b[39mself\u001b[39m\u001b[39m.\u001b[39mexecutor,\n\u001b[1;32m    134\u001b[0m         func,\n\u001b[1;32m    135\u001b[0m         \u001b[39m*\u001b[39margs,\n\u001b[1;32m    136\u001b[0m     )\n",
      "File \u001b[0;32m/usr/local/lib/python3.10/concurrent/futures/thread.py:58\u001b[0m, in \u001b[0;36mrun\u001b[0;34m()\u001b[0m\n\u001b[1;32m     57\u001b[0m \u001b[39mtry\u001b[39;00m:\n\u001b[0;32m---> 58\u001b[0m     result \u001b[39m=\u001b[39m \u001b[39mself\u001b[39m\u001b[39m.\u001b[39mfn(\u001b[39m*\u001b[39m\u001b[39mself\u001b[39m\u001b[39m.\u001b[39margs, \u001b[39m*\u001b[39m\u001b[39m*\u001b[39m\u001b[39mself\u001b[39m\u001b[39m.\u001b[39mkwargs)\n\u001b[1;32m     59\u001b[0m \u001b[39mexcept\u001b[39;00m \u001b[39mBaseException\u001b[39;00m \u001b[39mas\u001b[39;00m exc:\n",
      "File \u001b[0;32m/media/Bencsik/SSD1/CS 598 Project/CS598CourseProject/.venv/lib/python3.10/site-packages/distributed/shuffle/_worker_extension.py:526\u001b[0m, in \u001b[0;36m_\u001b[0;34m()\u001b[0m\n\u001b[1;32m    525\u001b[0m \u001b[39mdef\u001b[39;00m \u001b[39m_\u001b[39m() \u001b[39m-\u001b[39m\u001b[39m>\u001b[39m pd\u001b[39m.\u001b[39mDataFrame:\n\u001b[0;32m--> 526\u001b[0m     df \u001b[39m=\u001b[39m convert_partition(data)\n\u001b[1;32m    527\u001b[0m     \u001b[39mreturn\u001b[39;00m df\u001b[39m.\u001b[39mto_pandas()\n",
      "File \u001b[0;32m/media/Bencsik/SSD1/CS 598 Project/CS598CourseProject/.venv/lib/python3.10/site-packages/distributed/shuffle/_arrow.py:57\u001b[0m, in \u001b[0;36mconvert_partition\u001b[0;34m()\u001b[0m\n\u001b[1;32m     56\u001b[0m     shards\u001b[39m.\u001b[39mappend(sr\u001b[39m.\u001b[39mread_all())\n\u001b[0;32m---> 57\u001b[0m \u001b[39mreturn\u001b[39;00m pa\u001b[39m.\u001b[39mconcat_tables(shards)\n",
      "File \u001b[0;32m/media/Bencsik/SSD1/CS 598 Project/CS598CourseProject/.venv/lib/python3.10/site-packages/pyarrow/table.pxi:5224\u001b[0m, in \u001b[0;36mpyarrow.lib.concat_tables\u001b[0;34m()\u001b[0m\n\u001b[1;32m   5223\u001b[0m options.unify_schemas = promote\n\u001b[0;32m-> 5224\u001b[0m c_result_table = GetResultValue(\n\u001b[1;32m   5225\u001b[0m     ConcatenateTables(c_tables, options, pool))\n",
      "File \u001b[0;32m/media/Bencsik/SSD1/CS 598 Project/CS598CourseProject/.venv/lib/python3.10/site-packages/pyarrow/error.pxi:144\u001b[0m, in \u001b[0;36mpyarrow.lib.pyarrow_internal_check_status\u001b[0;34m()\u001b[0m\n\u001b[1;32m    143\u001b[0m     nogil except -1:\n\u001b[0;32m--> 144\u001b[0m return check_status(status)\n\u001b[1;32m    145\u001b[0m \n",
      "File \u001b[0;32m/media/Bencsik/SSD1/CS 598 Project/CS598CourseProject/.venv/lib/python3.10/site-packages/pyarrow/error.pxi:100\u001b[0m, in \u001b[0;36mpyarrow.lib.check_status\u001b[0;34m()\u001b[0m\n\u001b[1;32m     99\u001b[0m if status.IsInvalid():\n\u001b[0;32m--> 100\u001b[0m     raise ArrowInvalid(message)\n\u001b[1;32m    101\u001b[0m elif status.IsIOError():\n",
      "\u001b[0;31mArrowInvalid\u001b[0m: Schema at index 4 was different: \nSUBJECT_ID: int64\nHADM_ID: int64\nICUSTAY_ID: int64\nITEMID: double\nCHARTTIME: timestamp[ns]\nSTORETIME: string\nCGID: string\nVALUE: string\nVALUENUM: string\nVALUEUOM: string\nWARNING: null\nERROR: null\nRESULTSTATUS: string\nSTOPPED: string\n_partitions: int64\n__index_level_0__: int64\nvs\nSUBJECT_ID: int64\nHADM_ID: int64\nICUSTAY_ID: int64\nITEMID: double\nCHARTTIME: timestamp[ns]\nSTORETIME: string\nCGID: string\nVALUE: string\nVALUENUM: string\nVALUEUOM: string\nWARNING: string\nERROR: string\nRESULTSTATUS: null\nSTOPPED: null\n_partitions: int64\n__index_level_0__: int64",
      "\nThe above exception was the direct cause of the following exception:\n",
      "\u001b[0;31mRuntimeError\u001b[0m                              Traceback (most recent call last)",
      "Cell \u001b[0;32mIn[18], line 1\u001b[0m\n\u001b[0;32m----> 1\u001b[0m valid_chartevents\u001b[39m.\u001b[39;49mget_partition(\u001b[39m0\u001b[39;49m)\u001b[39m.\u001b[39;49mto_parquet(SAMPLES_DIR, engine\u001b[39m=\u001b[39;49m\u001b[39m\"\u001b[39;49m\u001b[39mpyarrow\u001b[39;49m\u001b[39m\"\u001b[39;49m, partition_on\u001b[39m=\u001b[39;49m\u001b[39m'\u001b[39;49m\u001b[39mICUSTAY_ID\u001b[39;49m\u001b[39m'\u001b[39;49m, compute\u001b[39m=\u001b[39;49m\u001b[39mTrue\u001b[39;49;00m)\n",
      "File \u001b[0;32m/media/Bencsik/SSD1/CS 598 Project/CS598CourseProject/.venv/lib/python3.10/site-packages/dask/dataframe/core.py:5503\u001b[0m, in \u001b[0;36mDataFrame.to_parquet\u001b[0;34m(self, path, *args, **kwargs)\u001b[0m\n\u001b[1;32m   5500\u001b[0m \u001b[39m\u001b[39m\u001b[39m\"\"\"See dd.to_parquet docstring for more information\"\"\"\u001b[39;00m\n\u001b[1;32m   5501\u001b[0m \u001b[39mfrom\u001b[39;00m \u001b[39mdask\u001b[39;00m\u001b[39m.\u001b[39;00m\u001b[39mdataframe\u001b[39;00m\u001b[39m.\u001b[39;00m\u001b[39mio\u001b[39;00m \u001b[39mimport\u001b[39;00m to_parquet\n\u001b[0;32m-> 5503\u001b[0m \u001b[39mreturn\u001b[39;00m to_parquet(\u001b[39mself\u001b[39;49m, path, \u001b[39m*\u001b[39;49margs, \u001b[39m*\u001b[39;49m\u001b[39m*\u001b[39;49mkwargs)\n",
      "File \u001b[0;32m/media/Bencsik/SSD1/CS 598 Project/CS598CourseProject/.venv/lib/python3.10/site-packages/dask/dataframe/io/parquet/core.py:1060\u001b[0m, in \u001b[0;36mto_parquet\u001b[0;34m(df, path, engine, compression, write_index, append, overwrite, ignore_divisions, partition_on, storage_options, custom_metadata, write_metadata_file, compute, compute_kwargs, schema, name_function, filesystem, **kwargs)\u001b[0m\n\u001b[1;32m   1057\u001b[0m out \u001b[39m=\u001b[39m Scalar(graph, final_name, \u001b[39m\"\u001b[39m\u001b[39m\"\u001b[39m)\n\u001b[1;32m   1059\u001b[0m \u001b[39mif\u001b[39;00m compute:\n\u001b[0;32m-> 1060\u001b[0m     out \u001b[39m=\u001b[39m out\u001b[39m.\u001b[39;49mcompute(\u001b[39m*\u001b[39;49m\u001b[39m*\u001b[39;49mcompute_kwargs)\n\u001b[1;32m   1062\u001b[0m \u001b[39m# Invalidate the filesystem listing cache for the output path after write.\u001b[39;00m\n\u001b[1;32m   1063\u001b[0m \u001b[39m# We do this before returning, even if `compute=False`. This helps ensure\u001b[39;00m\n\u001b[1;32m   1064\u001b[0m \u001b[39m# that reading files that were just written succeeds.\u001b[39;00m\n\u001b[1;32m   1065\u001b[0m fs\u001b[39m.\u001b[39minvalidate_cache(path)\n",
      "File \u001b[0;32m/media/Bencsik/SSD1/CS 598 Project/CS598CourseProject/.venv/lib/python3.10/site-packages/dask/base.py:314\u001b[0m, in \u001b[0;36mDaskMethodsMixin.compute\u001b[0;34m(self, **kwargs)\u001b[0m\n\u001b[1;32m    290\u001b[0m \u001b[39mdef\u001b[39;00m \u001b[39mcompute\u001b[39m(\u001b[39mself\u001b[39m, \u001b[39m*\u001b[39m\u001b[39m*\u001b[39mkwargs):\n\u001b[1;32m    291\u001b[0m \u001b[39m    \u001b[39m\u001b[39m\"\"\"Compute this dask collection\u001b[39;00m\n\u001b[1;32m    292\u001b[0m \n\u001b[1;32m    293\u001b[0m \u001b[39m    This turns a lazy Dask collection into its in-memory equivalent.\u001b[39;00m\n\u001b[0;32m   (...)\u001b[0m\n\u001b[1;32m    312\u001b[0m \u001b[39m    dask.compute\u001b[39;00m\n\u001b[1;32m    313\u001b[0m \u001b[39m    \"\"\"\u001b[39;00m\n\u001b[0;32m--> 314\u001b[0m     (result,) \u001b[39m=\u001b[39m compute(\u001b[39mself\u001b[39;49m, traverse\u001b[39m=\u001b[39;49m\u001b[39mFalse\u001b[39;49;00m, \u001b[39m*\u001b[39;49m\u001b[39m*\u001b[39;49mkwargs)\n\u001b[1;32m    315\u001b[0m     \u001b[39mreturn\u001b[39;00m result\n",
      "File \u001b[0;32m/media/Bencsik/SSD1/CS 598 Project/CS598CourseProject/.venv/lib/python3.10/site-packages/dask/base.py:599\u001b[0m, in \u001b[0;36mcompute\u001b[0;34m(traverse, optimize_graph, scheduler, get, *args, **kwargs)\u001b[0m\n\u001b[1;32m    596\u001b[0m     keys\u001b[39m.\u001b[39mappend(x\u001b[39m.\u001b[39m__dask_keys__())\n\u001b[1;32m    597\u001b[0m     postcomputes\u001b[39m.\u001b[39mappend(x\u001b[39m.\u001b[39m__dask_postcompute__())\n\u001b[0;32m--> 599\u001b[0m results \u001b[39m=\u001b[39m schedule(dsk, keys, \u001b[39m*\u001b[39;49m\u001b[39m*\u001b[39;49mkwargs)\n\u001b[1;32m    600\u001b[0m \u001b[39mreturn\u001b[39;00m repack([f(r, \u001b[39m*\u001b[39ma) \u001b[39mfor\u001b[39;00m r, (f, a) \u001b[39min\u001b[39;00m \u001b[39mzip\u001b[39m(results, postcomputes)])\n",
      "File \u001b[0;32m/media/Bencsik/SSD1/CS 598 Project/CS598CourseProject/.venv/lib/python3.10/site-packages/distributed/client.py:3224\u001b[0m, in \u001b[0;36mClient.get\u001b[0;34m(self, dsk, keys, workers, allow_other_workers, resources, sync, asynchronous, direct, retries, priority, fifo_timeout, actors, **kwargs)\u001b[0m\n\u001b[1;32m   3222\u001b[0m         should_rejoin \u001b[39m=\u001b[39m \u001b[39mFalse\u001b[39;00m\n\u001b[1;32m   3223\u001b[0m \u001b[39mtry\u001b[39;00m:\n\u001b[0;32m-> 3224\u001b[0m     results \u001b[39m=\u001b[39m \u001b[39mself\u001b[39;49m\u001b[39m.\u001b[39;49mgather(packed, asynchronous\u001b[39m=\u001b[39;49masynchronous, direct\u001b[39m=\u001b[39;49mdirect)\n\u001b[1;32m   3225\u001b[0m \u001b[39mfinally\u001b[39;00m:\n\u001b[1;32m   3226\u001b[0m     \u001b[39mfor\u001b[39;00m f \u001b[39min\u001b[39;00m futures\u001b[39m.\u001b[39mvalues():\n",
      "File \u001b[0;32m/media/Bencsik/SSD1/CS 598 Project/CS598CourseProject/.venv/lib/python3.10/site-packages/distributed/client.py:2359\u001b[0m, in \u001b[0;36mClient.gather\u001b[0;34m(self, futures, errors, direct, asynchronous)\u001b[0m\n\u001b[1;32m   2357\u001b[0m \u001b[39melse\u001b[39;00m:\n\u001b[1;32m   2358\u001b[0m     local_worker \u001b[39m=\u001b[39m \u001b[39mNone\u001b[39;00m\n\u001b[0;32m-> 2359\u001b[0m \u001b[39mreturn\u001b[39;00m \u001b[39mself\u001b[39;49m\u001b[39m.\u001b[39;49msync(\n\u001b[1;32m   2360\u001b[0m     \u001b[39mself\u001b[39;49m\u001b[39m.\u001b[39;49m_gather,\n\u001b[1;32m   2361\u001b[0m     futures,\n\u001b[1;32m   2362\u001b[0m     errors\u001b[39m=\u001b[39;49merrors,\n\u001b[1;32m   2363\u001b[0m     direct\u001b[39m=\u001b[39;49mdirect,\n\u001b[1;32m   2364\u001b[0m     local_worker\u001b[39m=\u001b[39;49mlocal_worker,\n\u001b[1;32m   2365\u001b[0m     asynchronous\u001b[39m=\u001b[39;49masynchronous,\n\u001b[1;32m   2366\u001b[0m )\n",
      "File \u001b[0;32m/media/Bencsik/SSD1/CS 598 Project/CS598CourseProject/.venv/lib/python3.10/site-packages/distributed/utils.py:351\u001b[0m, in \u001b[0;36mSyncMethodMixin.sync\u001b[0;34m(self, func, asynchronous, callback_timeout, *args, **kwargs)\u001b[0m\n\u001b[1;32m    349\u001b[0m     \u001b[39mreturn\u001b[39;00m future\n\u001b[1;32m    350\u001b[0m \u001b[39melse\u001b[39;00m:\n\u001b[0;32m--> 351\u001b[0m     \u001b[39mreturn\u001b[39;00m sync(\n\u001b[1;32m    352\u001b[0m         \u001b[39mself\u001b[39;49m\u001b[39m.\u001b[39;49mloop, func, \u001b[39m*\u001b[39;49margs, callback_timeout\u001b[39m=\u001b[39;49mcallback_timeout, \u001b[39m*\u001b[39;49m\u001b[39m*\u001b[39;49mkwargs\n\u001b[1;32m    353\u001b[0m     )\n",
      "File \u001b[0;32m/media/Bencsik/SSD1/CS 598 Project/CS598CourseProject/.venv/lib/python3.10/site-packages/distributed/utils.py:418\u001b[0m, in \u001b[0;36msync\u001b[0;34m(loop, func, callback_timeout, *args, **kwargs)\u001b[0m\n\u001b[1;32m    416\u001b[0m \u001b[39mif\u001b[39;00m error:\n\u001b[1;32m    417\u001b[0m     typ, exc, tb \u001b[39m=\u001b[39m error\n\u001b[0;32m--> 418\u001b[0m     \u001b[39mraise\u001b[39;00m exc\u001b[39m.\u001b[39mwith_traceback(tb)\n\u001b[1;32m    419\u001b[0m \u001b[39melse\u001b[39;00m:\n\u001b[1;32m    420\u001b[0m     \u001b[39mreturn\u001b[39;00m result\n",
      "File \u001b[0;32m/media/Bencsik/SSD1/CS 598 Project/CS598CourseProject/.venv/lib/python3.10/site-packages/distributed/utils.py:391\u001b[0m, in \u001b[0;36msync.<locals>.f\u001b[0;34m()\u001b[0m\n\u001b[1;32m    389\u001b[0m         future \u001b[39m=\u001b[39m wait_for(future, callback_timeout)\n\u001b[1;32m    390\u001b[0m     future \u001b[39m=\u001b[39m asyncio\u001b[39m.\u001b[39mensure_future(future)\n\u001b[0;32m--> 391\u001b[0m     result \u001b[39m=\u001b[39m \u001b[39myield\u001b[39;00m future\n\u001b[1;32m    392\u001b[0m \u001b[39mexcept\u001b[39;00m \u001b[39mException\u001b[39;00m:\n\u001b[1;32m    393\u001b[0m     error \u001b[39m=\u001b[39m sys\u001b[39m.\u001b[39mexc_info()\n",
      "File \u001b[0;32m/media/Bencsik/SSD1/CS 598 Project/CS598CourseProject/.venv/lib/python3.10/site-packages/tornado/gen.py:767\u001b[0m, in \u001b[0;36mRunner.run\u001b[0;34m(self)\u001b[0m\n\u001b[1;32m    765\u001b[0m \u001b[39mtry\u001b[39;00m:\n\u001b[1;32m    766\u001b[0m     \u001b[39mtry\u001b[39;00m:\n\u001b[0;32m--> 767\u001b[0m         value \u001b[39m=\u001b[39m future\u001b[39m.\u001b[39;49mresult()\n\u001b[1;32m    768\u001b[0m     \u001b[39mexcept\u001b[39;00m \u001b[39mException\u001b[39;00m \u001b[39mas\u001b[39;00m e:\n\u001b[1;32m    769\u001b[0m         \u001b[39m# Save the exception for later. It's important that\u001b[39;00m\n\u001b[1;32m    770\u001b[0m         \u001b[39m# gen.throw() not be called inside this try/except block\u001b[39;00m\n\u001b[1;32m    771\u001b[0m         \u001b[39m# because that makes sys.exc_info behave unexpectedly.\u001b[39;00m\n\u001b[1;32m    772\u001b[0m         exc: Optional[\u001b[39mException\u001b[39;00m] \u001b[39m=\u001b[39m e\n",
      "File \u001b[0;32m/media/Bencsik/SSD1/CS 598 Project/CS598CourseProject/.venv/lib/python3.10/site-packages/distributed/client.py:2222\u001b[0m, in \u001b[0;36mClient._gather\u001b[0;34m(self, futures, errors, direct, local_worker)\u001b[0m\n\u001b[1;32m   2220\u001b[0m         exc \u001b[39m=\u001b[39m CancelledError(key)\n\u001b[1;32m   2221\u001b[0m     \u001b[39melse\u001b[39;00m:\n\u001b[0;32m-> 2222\u001b[0m         \u001b[39mraise\u001b[39;00m exception\u001b[39m.\u001b[39mwith_traceback(traceback)\n\u001b[1;32m   2223\u001b[0m     \u001b[39mraise\u001b[39;00m exc\n\u001b[1;32m   2224\u001b[0m \u001b[39mif\u001b[39;00m errors \u001b[39m==\u001b[39m \u001b[39m\"\u001b[39m\u001b[39mskip\u001b[39m\u001b[39m\"\u001b[39m:\n",
      "File \u001b[0;32m/media/Bencsik/SSD1/CS 598 Project/CS598CourseProject/.venv/lib/python3.10/site-packages/distributed/shuffle/_shuffle.py:81\u001b[0m, in \u001b[0;36mshuffle_unpack\u001b[0;34m()\u001b[0m\n\u001b[1;32m     77\u001b[0m     \u001b[39mreturn\u001b[39;00m _get_worker_extension()\u001b[39m.\u001b[39mget_output_partition(\n\u001b[1;32m     78\u001b[0m         \u001b[39mid\u001b[39m, barrier_run_id, output_partition\n\u001b[1;32m     79\u001b[0m     )\n\u001b[1;32m     80\u001b[0m \u001b[39mexcept\u001b[39;00m \u001b[39mException\u001b[39;00m \u001b[39mas\u001b[39;00m e:\n\u001b[0;32m---> 81\u001b[0m     \u001b[39mraise\u001b[39;00m \u001b[39mRuntimeError\u001b[39;00m(\u001b[39mf\u001b[39m\u001b[39m\"\u001b[39m\u001b[39mshuffle_unpack failed during shuffle \u001b[39m\u001b[39m{\u001b[39;00m\u001b[39mid\u001b[39m\u001b[39m}\u001b[39;00m\u001b[39m\"\u001b[39m) \u001b[39mfrom\u001b[39;00m \u001b[39me\u001b[39;00m\n",
      "\u001b[0;31mRuntimeError\u001b[0m: shuffle_unpack failed during shuffle 61b2cd87c84096a9402139b4a7f134bc"
     ]
    }
   ],
   "source": [
    "valid_chartevents.get_partition(0).to_parquet(SAMPLES_DIR, engine=\"pyarrow\", partition_on='ICUSTAY_ID', compute=True)"
   ]
  },
  {
   "cell_type": "code",
   "execution_count": null,
   "metadata": {},
   "outputs": [],
   "source": [
    "# def store_values(df, partition_info=None):\n",
    "#     div = str(partition_info['division'])\n",
    "#     dd.to_hdf(df, SAMPLES_DIR + div + '.hdf', div, mode=\"w\")"
   ]
  },
  {
   "cell_type": "code",
   "execution_count": null,
   "metadata": {},
   "outputs": [],
   "source": [
    "# stored_charts = valid_chartevents.map_partitions(store_values, meta=valid_chartevents)"
   ]
  },
  {
   "cell_type": "code",
   "execution_count": null,
   "metadata": {},
   "outputs": [],
   "source": [
    "# for p in valid_chartevents.partitions:\n",
    "#     div = str(p.divisions[0])\n",
    "#     p.to_hdf(SAMPLES_DIR+div+'.hdf', 'data',compute=True) "
   ]
  },
  {
   "cell_type": "code",
   "execution_count": null,
   "metadata": {},
   "outputs": [],
   "source": [
    "# valid_chartevents.to_parquet(SAMPLES_DIR,compute=True)"
   ]
  },
  {
   "cell_type": "code",
   "execution_count": null,
   "metadata": {},
   "outputs": [],
   "source": [
    "# valid_chartevents.to_parquet(SAMPLES_DIR, engine=\"pyarrow\", partition_on='ICUSTAY_ID', compute=False)"
   ]
  },
  {
   "cell_type": "code",
   "execution_count": null,
   "metadata": {},
   "outputs": [],
   "source": [
    "# total = int(MAX_ROWS_CHARTEVENTS/ROWS_TO_READ)+1\n",
    "\n",
    "# with pd.read_csv(CHARTEVENTS_FILENAME,names=chartevents_columns,dtype=chartevents_dtype,skiprows=1,chunksize=ROWS_TO_READ) as file:\n",
    "# # chartevents = dd.read_csv(CHARTEVENTS_FILENAME,dtype=chartevents_dtype)\n",
    "#     for chartevents in tqdm(file,total=total):\n",
    "#         chartevents = chartevents.dropna(subset=['SUBJECT_ID','HADM_ID','ICUSTAY_ID','CHARTTIME']).drop('ROW_ID',axis=1)\n",
    "#         #print(chartevents.head())\n",
    "#         try:\n",
    "#             chartevents['SUBJECT_ID'] = chartevents['SUBJECT_ID'].astype(np.int64)\n",
    "#             chartevents['HADM_ID'] = chartevents['HADM_ID'].astype(np.int64)\n",
    "#             chartevents['ICUSTAY_ID'] = chartevents['ICUSTAY_ID'].astype(np.int64)\n",
    "#             chartevents['CHARTTIME'] = pd.to_datetime(chartevents['CHARTTIME'], errors='coerce')\n",
    "#         except Exception as e:\n",
    "#             #print('\\nError converting IDs to int in range', lines, 'to', lines + ROWS_TO_READ)\n",
    "#             print(str(e))\n",
    "\n",
    "\n",
    "#         valid_chartevents = pd.merge(readmission[['SUBJECT_ID','HADM_ID','ICUSTAY_ID']],chartevents,'inner',['SUBJECT_ID','HADM_ID','ICUSTAY_ID'])\n",
    "#         #print(valid_chartevents.iloc[0]['SUBJECT_ID'])\n",
    "        \n",
    "#         while valid_chartevents.shape[0] > 0:\n",
    "#             subject_id = valid_chartevents.iloc[0]['SUBJECT_ID']\n",
    "#             hadm_id = valid_chartevents.iloc[0]['HADM_ID']\n",
    "#             icustay_id = valid_chartevents.iloc[0]['ICUSTAY_ID']\n",
    "\n",
    "#             df = valid_chartevents[(valid_chartevents['SUBJECT_ID'] == subject_id) & (valid_chartevents['HADM_ID'] == hadm_id) & (valid_chartevents['ICUSTAY_ID'] == icustay_id)]\n",
    "#             df = df.reset_index(drop=True)\n",
    "\n",
    "#             name = [str(subject_id),str(hadm_id),str(icustay_id)]\n",
    "#             filename = 'sample_' + '_'.join(name) + FEATHER_EXT\n",
    "#             df.to_feather(SAMPLES_DIR + filename)\n",
    "#             #df.to_hdf(''.join([SAMPLES_DIR,DATASTORE_FILENAME]),filename,'a',append=True, index=False)\n",
    "\n",
    "#             valid_chartevents = valid_chartevents[(valid_chartevents['SUBJECT_ID'] != subject_id) | (valid_chartevents['HADM_ID'] != hadm_id) | (valid_chartevents['ICUSTAY_ID'] != icustay_id)]\n",
    "\n"
   ]
  },
  {
   "cell_type": "code",
   "execution_count": null,
   "metadata": {},
   "outputs": [],
   "source": []
  },
  {
   "cell_type": "code",
   "execution_count": null,
   "metadata": {},
   "outputs": [],
   "source": []
  },
  {
   "cell_type": "code",
   "execution_count": null,
   "metadata": {},
   "outputs": [],
   "source": []
  },
  {
   "cell_type": "code",
   "execution_count": null,
   "metadata": {},
   "outputs": [],
   "source": []
  },
  {
   "cell_type": "code",
   "execution_count": null,
   "metadata": {},
   "outputs": [],
   "source": []
  },
  {
   "cell_type": "code",
   "execution_count": null,
   "metadata": {},
   "outputs": [],
   "source": []
  },
  {
   "cell_type": "code",
   "execution_count": null,
   "metadata": {},
   "outputs": [],
   "source": []
  }
 ],
 "metadata": {
  "kernelspec": {
   "display_name": ".venv",
   "language": "python",
   "name": "python3"
  },
  "language_info": {
   "codemirror_mode": {
    "name": "ipython",
    "version": 3
   },
   "file_extension": ".py",
   "mimetype": "text/x-python",
   "name": "python",
   "nbconvert_exporter": "python",
   "pygments_lexer": "ipython3",
   "version": "3.10.9"
  },
  "orig_nbformat": 4
 },
 "nbformat": 4,
 "nbformat_minor": 2
}
