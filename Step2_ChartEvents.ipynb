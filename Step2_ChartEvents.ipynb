{
 "cells": [
  {
   "attachments": {},
   "cell_type": "markdown",
   "metadata": {},
   "source": [
    "# Chart Events for last 48 period"
   ]
  },
  {
   "attachments": {},
   "cell_type": "markdown",
   "metadata": {},
   "source": [
    "TODO:\n",
    "\n",
    "1. [ ] Create or find list of `ITEMID`s that correlate to the 17 dimmensions from paper.\n",
    "2. [ ] Extract the 17 dims from `CHARTEVENTS.csv` for each sample"
   ]
  },
  {
   "attachments": {},
   "cell_type": "markdown",
   "metadata": {},
   "source": [
    "|\tChart Event\t|\tDim\t|\tNormal\t|\n",
    "| --- | :--- | :--- |\n",
    "|\t1. Glasgow coma scale eye opening\t|\t4\t|\t4 Spontaneously\t|\n",
    "|\t2. Glasgow coma scale verbal response\t|\t5\t|\t5 Oriented\t|\n",
    "|\t3. Glasgow coma scale motor response\t|\t6\t|\t6 Obeys Commands\t|\n",
    "|\t4. Glasgow coma scale total\t|\t13\t|\t15\t|\n",
    "|\t5. Capillary refill rate\t|\t2\t|\tNormal < 3 secs\t|\n",
    "|\t6. Diastolic blood pressure\t|\t1\t|\t70\t|\n",
    "|\t7. Systolic blood pressure\t|\t1\t|\t105\t|\n",
    "|\t8. Mean blood pressure\t|\t1\t|\t87.5\t|\n",
    "|\t9. Heart Rate\t|\t1\t|\t80\t|\n",
    "|\t10. Glucose\t|\t1\t|\t85\t|\n",
    "|\t11. Fraction inspired oxygen\t|\t1\t|\t0.21\t|\n",
    "|\t12. Oxygen saturation\t|\t1\t|\t97.5\t|\n",
    "|\t13. Respiratory rate\t|\t1\t|\t15\t|\n",
    "|\t14. Body Temperature\t|\t1\t|\t37\t|\n",
    "|\t15. pH\t|\t1\t|\t7.4\t|\n",
    "|\t16. Weight\t|\t1\t|\t80.7\t|\n",
    "|\t17. Height\t|\t1\t|\t168.8\t|\n",
    "\n",
    "![Glascow](assets/images/GCS.jpg)\n",
    "\n",
    "https://www.firstaidforfree.com/glasgow-coma-scale-gcs-first-aiders/"
   ]
  },
  {
   "cell_type": "code",
   "execution_count": 1,
   "metadata": {},
   "outputs": [
    {
     "data": {
      "text/plain": [
       "{'CHAREVENT': 'GCS_TOTAL',\n",
       " 'DESCRIPTION': '',\n",
       " 'ITEMID': ['198'],\n",
       " 'UNIT': ['NONE']}"
      ]
     },
     "execution_count": 1,
     "metadata": {},
     "output_type": "execute_result"
    }
   ],
   "source": [
    "{'CHAREVENT':'GCS_EYE', 'DESCRIPTION':'','ITEMID':['184','220739'],'UNIT':['NONE','NONE']}\n",
    "{'CHAREVENT':'GCS_MOTOR', 'DESCRIPTION':'','ITEMID':['454','223901'],'UNIT':['NONE','NONE']}\n",
    "{'CHAREVENT':'GCS_VERBAL', 'DESCRIPTION':'','ITEMID':['723','223900'],'UNIT':['NONE','NONE']}\n",
    "{'CHAREVENT':'GCS_TOTAL', 'DESCRIPTION':'Sum of the 3 GCS events','ITEMID':['198'],'UNIT':['NONE']}\n",
    "{'CHAREVENT':'CAPILLARY_REFILL', 'DESCRIPTION':'','ITEMID':['3348','115','8377','223951','224308'],'UNIT':['BINARY','BINARY','BINARY','BINARY','BINARY']}\n",
    "{'CHAREVENT':'D_BLOOD_PRESSURE', 'DESCRIPTION':'','ITEMID':['8368','220051','225310','8555','8441','220180','8502','8440','8503','8504','8507','8506','224643','227242'],'UNIT':['mmHg','mmHg','mmHg','mmHg','mmHg','mmHg','mmHg','mmHg','mmHg','mmHg','mmHg','mmHg','mmHg','mmHg']}\n",
    "{'CHAREVENT':'M_BLOOD_PRESSURE', 'DESCRIPTION':'','ITEMID':['52', '220052', '225312', '224', '6702', '224322', '456', '220181', '3312', '3314', '3316', '3322', '3320'],'UNIT':['mmHg','mmHg','mmHg','mmHg','mmHg','mmHg','mmHg','mmHg','mmHg','mmHg','mmHg','mmHg','mmHg']}\n",
    "{'CHAREVENT':'S_BLOOD_PRESSURE', 'DESCRIPTION':'','ITEMID':['51','220050','225309','6701','455','220179','3313','3315','442','3317','3323','3321','224167','227243'],'UNIT':['mmHg','mmHg','mmHg','mmHg','mmHg','mmHg','mmHg','mmHg','mmHg','mmHg','mmHg','mmHg','mmHg','mmHg']}\n",
    "{'CHAREVENT':'HEART_RATE', 'DESCRIPTION':'','ITEMID':['211','220045'],'UNIT':['bpm','bpm']}\n",
    "\n",
    "{'CHAREVENT':'GLUCOSE', 'DESCRIPTION':'','ITEMID':['807', '811', '1529', '3745', '225664', '220621', '226537', '3447', '3816', '3744', '227015', '227016', '1310', '1455', '2338', '1812', '228388'],'UNIT':['','']}\n",
    "\n",
    "{'CHAREVENT':'FRAC_OXYGEN', 'DESCRIPTION':'','ITEMID':['3420', '223835', '3422', '189', '727'],'UNIT':['','']}\n",
    "\n",
    "{'CHAREVENT':'O2_SAT', 'DESCRIPTION':'','ITEMID':['834', '8498', '220227', '646', '220277'],'UNIT':['','']}\n",
    "\n",
    "{'CHAREVENT':'RESP_RATE', 'DESCRIPTION':'','ITEMID':['618', '220210', '3603', '224689', '614', '651', '224422', '615', '224690', '619', '224688'],'UNIT':['insp/min','']}\n",
    "\n",
    "{'CHAREVENT':'BODY_TEMP', 'DESCRIPTION':'','ITEMID':['',''],'UNIT':['','']}\n",
    "\n",
    "{'CHAREVENT':'PH', 'DESCRIPTION':'','ITEMID':['',''],'UNIT':['','']}\n",
    "{'CHAREVENT':'WEIGHT', 'DESCRIPTION':'','ITEMID':['',''],'UNIT':['','']}\n",
    "{'CHAREVENT':'HEIGHT', 'DESCRIPTION':'','ITEMID':['',''],'UNIT':['','']}\n",
    "\n",
    "\n"
   ]
  },
  {
   "cell_type": "code",
   "execution_count": 41,
   "metadata": {},
   "outputs": [
    {
     "name": "stdout",
     "output_type": "stream",
     "text": [
      "11\n",
      "respiratory rate,respiratory rate,rr,ready,,618,respiratory rate,,chartevents,3395998,,,,,carevue,,,\n",
      "\n"
     ]
    },
    {
     "data": {
      "text/plain": [
       "['618',\n",
       " '220210',\n",
       " '3603',\n",
       " '224689',\n",
       " '614',\n",
       " '651',\n",
       " '224422',\n",
       " '615',\n",
       " '224690',\n",
       " '619',\n",
       " '224688']"
      ]
     },
     "execution_count": 41,
     "metadata": {},
     "output_type": "execute_result"
    }
   ],
   "source": [
    "import csv\n",
    "keyword = 'respiratory rate'\n",
    "event = 'chartevents'\n",
    "samples = []\n",
    "with open('./resources/itemid_to_variable_map.csv', 'r') as f:\n",
    "    # r = reader(f)\n",
    "    for line in f:\n",
    "        \n",
    "        l = line.lower()\n",
    "        if keyword in l and event in l:\n",
    "            # print(l)\n",
    "            samples.append(l)\n",
    "\n",
    "\n",
    "print(len(samples))\n",
    "print(samples[0])\n",
    "\n",
    "itemid = []\n",
    "for s in samples:\n",
    "    s = s.split(',')\n",
    "    itemid.append(s[5])\n",
    "\n",
    "itemid"
   ]
  },
  {
   "cell_type": "code",
   "execution_count": null,
   "metadata": {},
   "outputs": [],
   "source": []
  }
 ],
 "metadata": {
  "kernelspec": {
   "display_name": ".venv",
   "language": "python",
   "name": "python3"
  },
  "language_info": {
   "codemirror_mode": {
    "name": "ipython",
    "version": 3
   },
   "file_extension": ".py",
   "mimetype": "text/x-python",
   "name": "python",
   "nbconvert_exporter": "python",
   "pygments_lexer": "ipython3",
   "version": "3.10.9"
  },
  "orig_nbformat": 4
 },
 "nbformat": 4,
 "nbformat_minor": 2
}
