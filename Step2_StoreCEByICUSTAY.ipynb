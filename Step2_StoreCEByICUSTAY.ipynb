{
 "cells": [
  {
   "attachments": {},
   "cell_type": "markdown",
   "metadata": {},
   "source": [
    "# Chart Events for last 48 period"
   ]
  },
  {
   "attachments": {},
   "cell_type": "markdown",
   "metadata": {},
   "source": [
    "TODO:\n",
    "\n",
    "1. [ ] Create or find list of `ITEMID`s that correlate to the 17 dimmensions from paper.\n",
    "2. [ ] Extract the 17 dims from `CHARTEVENTS.csv` for each sample"
   ]
  },
  {
   "attachments": {},
   "cell_type": "markdown",
   "metadata": {},
   "source": [
    "|\tChart Event\t|\tDim\t|\tNormal\t|\n",
    "| --- | :--- | :--- |\n",
    "|\t1. Glasgow coma scale eye opening\t|\t4\t|\t4 Spontaneously\t|\n",
    "|\t2. Glasgow coma scale verbal response\t|\t5\t|\t5 Oriented\t|\n",
    "|\t3. Glasgow coma scale motor response\t|\t6\t|\t6 Obeys Commands\t|\n",
    "|\t4. Glasgow coma scale total\t|\t13\t|\t15\t|\n",
    "|\t5. Capillary refill rate\t|\t2\t|\tNormal < 3 secs\t|\n",
    "|\t6. Diastolic blood pressure\t|\t1\t|\t70\t|\n",
    "|\t7. Systolic blood pressure\t|\t1\t|\t105\t|\n",
    "|\t8. Mean blood pressure\t|\t1\t|\t87.5\t|\n",
    "|\t9. Heart Rate\t|\t1\t|\t80\t|\n",
    "|\t10. Glucose\t|\t1\t|\t85\t|\n",
    "|\t11. Fraction inspired oxygen\t|\t1\t|\t0.21\t|\n",
    "|\t12. Oxygen saturation\t|\t1\t|\t97.5\t|\n",
    "|\t13. Respiratory rate\t|\t1\t|\t15\t|\n",
    "|\t14. Body Temperature\t|\t1\t|\t37\t|\n",
    "|\t15. pH\t|\t1\t|\t7.4\t|\n",
    "|\t16. Weight\t|\t1\t|\t80.7\t|\n",
    "|\t17. Height\t|\t1\t|\t168.8\t|\n",
    "\n",
    "![Glascow](assets/images/GCS.jpg)\n",
    "\n",
    "https://www.firstaidforfree.com/glasgow-coma-scale-gcs-first-aiders/"
   ]
  },
  {
   "cell_type": "code",
   "execution_count": 1,
   "metadata": {},
   "outputs": [],
   "source": [
    "event_to_id =[\n",
    "{'CHAREVENT':'GCS_EYE', 'DESCRIPTION':'','ITEMID':['184','220739'],'UNIT':['NONE','NONE']},\n",
    "{'CHAREVENT':'GCS_MOTOR', 'DESCRIPTION':'','ITEMID':['454','223901'],'UNIT':['NONE','NONE']},\n",
    "{'CHAREVENT':'GCS_VERBAL', 'DESCRIPTION':'','ITEMID':['723','223900'],'UNIT':['NONE','NONE']},\n",
    "{'CHAREVENT':'GCS_TOTAL', 'DESCRIPTION':'Sum of the 3 GCS events','ITEMID':['198'],'UNIT':['NONE']},\n",
    "{'CHAREVENT':'CAPILLARY_REFILL', 'DESCRIPTION':'','ITEMID':['3348','115','8377','223951','224308'],'UNIT':['BINARY','BINARY','BINARY','BINARY','BINARY']},\n",
    "{'CHAREVENT':'D_BLOOD_PRESSURE', 'DESCRIPTION':'','ITEMID':['8368','220051','225310','8555','8441','220180','8502','8440','8503','8504','8507','8506','224643','227242'],'UNIT':['mmHg','mmHg','mmHg','mmHg','mmHg','mmHg','mmHg','mmHg','mmHg','mmHg','mmHg','mmHg','mmHg','mmHg']},\n",
    "{'CHAREVENT':'M_BLOOD_PRESSURE', 'DESCRIPTION':'','ITEMID':['52', '220052', '225312', '224', '6702', '224322', '456', '220181', '3312', '3314', '3316', '3322', '3320'],'UNIT':['mmHg','mmHg','mmHg','mmHg','mmHg','mmHg','mmHg','mmHg','mmHg','mmHg','mmHg','mmHg','mmHg']},\n",
    "{'CHAREVENT':'S_BLOOD_PRESSURE', 'DESCRIPTION':'','ITEMID':['51','220050','225309','6701','455','220179','3313','3315','442','3317','3323','3321','224167','227243'],'UNIT':['mmHg','mmHg','mmHg','mmHg','mmHg','mmHg','mmHg','mmHg','mmHg','mmHg','mmHg','mmHg','mmHg','mmHg']},\n",
    "{'CHAREVENT':'HEART_RATE', 'DESCRIPTION':'','ITEMID':['211','220045'],'UNIT':['bpm','bpm']},\n",
    "{'CHAREVENT':'GLUCOSE', 'DESCRIPTION':'','ITEMID':['807', '811', '1529', '3745', '225664', '220621', '226537', '3447', '3816', '3744', '227015', '227016', '1310', '1455', '2338', '1812', '228388'],'UNIT':['','']},\n",
    "{'CHAREVENT':'FRAC_OXYGEN', 'DESCRIPTION':'','ITEMID':['3420', '223835', '3422', '189', '727'],'UNIT':['%','%','%','%','%']},\n",
    "{'CHAREVENT':'O2_SAT', 'DESCRIPTION':'','ITEMID':['834', '8498', '220227', '646', '220277'],'UNIT':['%','%','%','%','%']},\n",
    "{'CHAREVENT':'RESP_RATE', 'DESCRIPTION':'','ITEMID':['618', '220210', '3603', '224689', '614', '651', '224422', '615', '224690', '619', '224688'],'UNIT':['insp/min','']},\n",
    "{'CHAREVENT':'BODY_TEMP', 'DESCRIPTION':'','ITEMID':['3655','677','676','223762','3654','678','223761','679','8537','645','591','226329','597','227054','228242'],'UNIT':['C','C','C','C','F','F','F','F','C','','','','C','','F']},\n",
    "{'CHAREVENT':'PH', 'DESCRIPTION':'','ITEMID':['3839','1673','780','1126','223830','4753','4202','860','220274','8387','1880','3777','227586','8385','1352','4755','7966'],'UNIT':['NONE','NONE','NONE','NONE','NONE','NONE','NONE','NONE','NONE','NONE','NONE','NONE','NONE','NONE','NONE','NONE','NONE']},\n",
    "{'CHAREVENT':'WEIGHT', 'DESCRIPTION':'','ITEMID':['763','224639','226512','3580','3693','3581','226531','3582'],'UNIT':['?','kg','kg','kg','kg','lb','lb','oz']},\n",
    "{'CHAREVENT':'HEIGHT', 'DESCRIPTION':'','ITEMID':['226707', '226730', '1394'],'UNIT':['?','cm','in']},\n",
    "]"
   ]
  },
  {
   "cell_type": "code",
   "execution_count": 2,
   "metadata": {},
   "outputs": [],
   "source": [
    "import pandas as pd\n",
    "import numpy as np\n",
    "from tqdm.notebook import trange, tqdm\n",
    "import traceback\n",
    "import os\n",
    "# import dask.dataframe as dd"
   ]
  },
  {
   "cell_type": "code",
   "execution_count": 3,
   "metadata": {},
   "outputs": [],
   "source": [
    "CHARTEVENTS_FILENAME = 'mimic-iii/CHARTEVENTS.csv'\n",
    "READMISSION_FILENAME = 'data/readmission.csv'\n",
    "SAMPLES_DIR = 'data/samples/'\n",
    "DATASTORE_FILENAME = 'samples.h5'\n",
    "FEATHER_EXT = '.feather'\n",
    "ROWS_TO_READ = 1000000\n",
    "MAX_ROWS_CHARTEVENTS = 330712483\n",
    "\n",
    "skip_rows = 0"
   ]
  },
  {
   "cell_type": "code",
   "execution_count": 4,
   "metadata": {},
   "outputs": [],
   "source": [
    "chartevents_columns = [\"ROW_ID\",\"SUBJECT_ID\",\"HADM_ID\",\"ICUSTAY_ID\",\"ITEMID\",\"CHARTTIME\",\"STORETIME\",\"CGID\",\"VALUE\",\"VALUENUM\",\"VALUEUOM\",\"WARNING\",\"ERROR\",\"RESULTSTATUS\",\"STOPPED\"]\n",
    "\n",
    "\n",
    "\n",
    "# chartevents_dtype = {'ROW_ID':object,\n",
    "# 'SUBJECT_ID':np.int64,\n",
    "# 'HADM_ID':np.int64,\n",
    "# 'ICUSTAY_ID':np.int64,\n",
    "# 'ITEMID':np.int64,\n",
    "# 'CHARTTIME':object,\n",
    "# 'STORETIME':object,\n",
    "# 'CGID':np.int64,\n",
    "# 'VALUE':object,\n",
    "# 'VALUENUM':np.int64,\n",
    "# 'VALUEUOM':object,\n",
    "# 'WARNING':np.int64,\n",
    "# 'ERROR':np.int64,\n",
    "# 'RESULTSTATUS':object,\n",
    "# 'STOPPED':object}\n",
    "\n",
    "chartevents_dtype = {'ROW_ID':object,\n",
    "'SUBJECT_ID':object,\n",
    "'HADM_ID':object,\n",
    "'ICUSTAY_ID':object,\n",
    "'ITEMID':object,\n",
    "'CHARTTIME':object,\n",
    "'STORETIME':object,\n",
    "'CGID':object,\n",
    "'VALUE':object,\n",
    "'VALUENUM':object,\n",
    "'VALUEUOM':object,\n",
    "'WARNING':object,\n",
    "'ERROR':object,\n",
    "'RESULTSTATUS':object,\n",
    "'STOPPED':object}"
   ]
  },
  {
   "cell_type": "code",
   "execution_count": 5,
   "metadata": {},
   "outputs": [],
   "source": [
    "readmission = pd.read_csv(READMISSION_FILENAME).sort_values(['SUBJECT_ID','HADM_ID','ICUSTAY_ID']).reset_index(drop=True)\n",
    "\n",
    "# d = readmission.dtypes.to_dict()\n",
    "# d"
   ]
  },
  {
   "cell_type": "code",
   "execution_count": 6,
   "metadata": {},
   "outputs": [],
   "source": [
    "# print(readmission.shape)\n",
    "# readmission.nunique()"
   ]
  },
  {
   "cell_type": "code",
   "execution_count": 7,
   "metadata": {},
   "outputs": [],
   "source": [
    "# icustay_id = list(readmission['ICUSTAY_ID'].values)\n",
    "# icustay_id.insert(0,0)\n",
    "# icustay_id.sort()\n",
    "# print(icustay_id[:5])"
   ]
  },
  {
   "cell_type": "code",
   "execution_count": 8,
   "metadata": {},
   "outputs": [],
   "source": [
    "# readmission.dtypes"
   ]
  },
  {
   "cell_type": "code",
   "execution_count": 9,
   "metadata": {},
   "outputs": [
    {
     "data": {
      "application/vnd.jupyter.widget-view+json": {
       "model_id": "796fffd48ed54557986d17f89583a2c6",
       "version_major": 2,
       "version_minor": 0
      },
      "text/plain": [
       "  0%|          | 0/331 [00:00<?, ?it/s]"
      ]
     },
     "metadata": {},
     "output_type": "display_data"
    }
   ],
   "source": [
    "total = int(MAX_ROWS_CHARTEVENTS/ROWS_TO_READ)+1\n",
    "# 1.5 hours\n",
    "with pd.read_csv(CHARTEVENTS_FILENAME,names=chartevents_columns,dtype=chartevents_dtype,skiprows=1,chunksize=ROWS_TO_READ) as file:\n",
    "# chartevents = dd.read_csv(CHARTEVENTS_FILENAME,dtype=chartevents_dtype)\n",
    "    for chartevents in tqdm(file,total=total):\n",
    "        chartevents = chartevents.dropna(subset=['SUBJECT_ID','HADM_ID','ICUSTAY_ID','CHARTTIME']).drop('ROW_ID',axis=1)\n",
    "        #print(chartevents.head())\n",
    "        try:\n",
    "            chartevents['SUBJECT_ID'] = chartevents['SUBJECT_ID'].astype(np.int64)\n",
    "            chartevents['HADM_ID'] = chartevents['HADM_ID'].astype(np.int64)\n",
    "            chartevents['ICUSTAY_ID'] = chartevents['ICUSTAY_ID'].astype(np.int64)\n",
    "            chartevents['CHARTTIME'] = pd.to_datetime(chartevents['CHARTTIME'], errors='coerce')\n",
    "        except Exception as e:\n",
    "            #print('\\nError converting IDs to int in range', lines, 'to', lines + ROWS_TO_READ)\n",
    "            print(str(e))\n",
    "\n",
    "\n",
    "        valid_chartevents = pd.merge(readmission[['SUBJECT_ID','HADM_ID','ICUSTAY_ID']],chartevents,'inner',['SUBJECT_ID','HADM_ID','ICUSTAY_ID'])\n",
    "        #print(valid_chartevents.iloc[0]['SUBJECT_ID'])\n",
    "        \n",
    "        while valid_chartevents.shape[0] > 0:\n",
    "            subject_id = valid_chartevents.iloc[0]['SUBJECT_ID']\n",
    "            hadm_id = valid_chartevents.iloc[0]['HADM_ID']\n",
    "            icustay_id = valid_chartevents.iloc[0]['ICUSTAY_ID']\n",
    "\n",
    "            df = valid_chartevents[(valid_chartevents['SUBJECT_ID'] == subject_id) & (valid_chartevents['HADM_ID'] == hadm_id) & (valid_chartevents['ICUSTAY_ID'] == icustay_id)]\n",
    "            df = df.reset_index(drop=True)\n",
    "\n",
    "            name = [str(subject_id),str(hadm_id),str(icustay_id)]\n",
    "            filename = 'sample_' + '_'.join(name) + FEATHER_EXT\n",
    "            df.to_feather(SAMPLES_DIR + filename)\n",
    "            #df.to_hdf(''.join([SAMPLES_DIR,DATASTORE_FILENAME]),filename,'a',append=True, index=False)\n",
    "\n",
    "            valid_chartevents = valid_chartevents[(valid_chartevents['SUBJECT_ID'] != subject_id) | (valid_chartevents['HADM_ID'] != hadm_id) | (valid_chartevents['ICUSTAY_ID'] != icustay_id)]\n",
    "\n"
   ]
  },
  {
   "cell_type": "code",
   "execution_count": null,
   "metadata": {},
   "outputs": [],
   "source": []
  },
  {
   "cell_type": "code",
   "execution_count": null,
   "metadata": {},
   "outputs": [],
   "source": []
  },
  {
   "cell_type": "code",
   "execution_count": null,
   "metadata": {},
   "outputs": [],
   "source": []
  }
 ],
 "metadata": {
  "kernelspec": {
   "display_name": ".venv",
   "language": "python",
   "name": "python3"
  },
  "language_info": {
   "codemirror_mode": {
    "name": "ipython",
    "version": 3
   },
   "file_extension": ".py",
   "mimetype": "text/x-python",
   "name": "python",
   "nbconvert_exporter": "python",
   "pygments_lexer": "ipython3",
   "version": "3.10.9"
  },
  "orig_nbformat": 4
 },
 "nbformat": 4,
 "nbformat_minor": 2
}
