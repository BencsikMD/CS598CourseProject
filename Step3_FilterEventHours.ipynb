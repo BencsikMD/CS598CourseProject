{
 "cells": [
  {
   "cell_type": "code",
   "execution_count": 1,
   "metadata": {},
   "outputs": [],
   "source": [
    "import pandas as pd\n",
    "import numpy as np\n",
    "import os\n",
    "import timeit\n",
    "from tqdm.notebook import trange, tqdm"
   ]
  },
  {
   "cell_type": "code",
   "execution_count": 2,
   "metadata": {},
   "outputs": [],
   "source": [
    "CHARTEVENTS_BY_ICUSTAY_ID = 'data/parquet/'\n",
    "REDUCED_CE_BY_ICUSTAY_ID = 'data/samples/'\n",
    "ICUSTAY_ID_TEXT = 'ICUSTAY_ID'\n",
    "MAX_HOURS = 48"
   ]
  },
  {
   "cell_type": "code",
   "execution_count": 3,
   "metadata": {},
   "outputs": [
    {
     "data": {
      "text/plain": [
       "48251"
      ]
     },
     "execution_count": 3,
     "metadata": {},
     "output_type": "execute_result"
    }
   ],
   "source": [
    "chartevents_dir_list = os.listdir(CHARTEVENTS_BY_ICUSTAY_ID)\n",
    "len(chartevents_dir_list)"
   ]
  },
  {
   "cell_type": "code",
   "execution_count": 4,
   "metadata": {},
   "outputs": [],
   "source": [
    "event_to_id =[\n",
    "{'CHAREVENT':'GCS_EYE', 'DESCRIPTION':'','ITEMID':[184, 220739],'UNIT':['NONE','NONE']},\n",
    "{'CHAREVENT':'GCS_MOTOR', 'DESCRIPTION':'','ITEMID':[454, 223901],'UNIT':['NONE','NONE']},\n",
    "{'CHAREVENT':'GCS_VERBAL', 'DESCRIPTION':'','ITEMID':[723, 223900],'UNIT':['NONE','NONE']},\n",
    "{'CHAREVENT':'GCS_TOTAL', 'DESCRIPTION':'Sum of the 3 GCS events','ITEMID':[198],'UNIT':['NONE']},\n",
    "{'CHAREVENT':'CAPILLARY_REFILL', 'DESCRIPTION':'','ITEMID':[3348, 115, 8377, 223951, 224308],'UNIT':['BINARY','BINARY','BINARY','BINARY','BINARY']},\n",
    "{'CHAREVENT':'D_BLOOD_PRESSURE', 'DESCRIPTION':'','ITEMID':[8368, 220051, 225310, 8555, 8441, 220180, 8502, 8440, 8503, 8504, 8507, 8506, 224643, 227242],'UNIT':['mmHg','mmHg','mmHg','mmHg','mmHg','mmHg','mmHg','mmHg','mmHg','mmHg','mmHg','mmHg','mmHg','mmHg']},\n",
    "{'CHAREVENT':'M_BLOOD_PRESSURE', 'DESCRIPTION':'','ITEMID':[52, 220052, 225312, 224, 6702, 224322, 456, 220181, 3312, 3314, 3316, 3322, 3320],'UNIT':['mmHg','mmHg','mmHg','mmHg','mmHg','mmHg','mmHg','mmHg','mmHg','mmHg','mmHg','mmHg','mmHg']},\n",
    "{'CHAREVENT':'S_BLOOD_PRESSURE', 'DESCRIPTION':'','ITEMID':[51, 220050, 225309, 6701, 455, 220179, 3313, 3315, 442, 3317, 3323, 3321, 224167, 227243],'UNIT':['mmHg','mmHg','mmHg','mmHg','mmHg','mmHg','mmHg','mmHg','mmHg','mmHg','mmHg','mmHg','mmHg','mmHg']},\n",
    "{'CHAREVENT':'HEART_RATE', 'DESCRIPTION':'','ITEMID':[211, 220045],'UNIT':['bpm','bpm']},\n",
    "{'CHAREVENT':'GLUCOSE', 'DESCRIPTION':'','ITEMID':[807, 811, 1529, 3745, 225664, 220621, 226537, 3447, 3816, 3744, 227015, 227016, 1310, 1455, 2338, 1812, 228388],'UNIT':['','']},\n",
    "{'CHAREVENT':'FRAC_OXYGEN', 'DESCRIPTION':'','ITEMID':[3420, 223835, 3422, 189, 727],'UNIT':['%','%','%','%','%']},\n",
    "{'CHAREVENT':'O2_SAT', 'DESCRIPTION':'','ITEMID':[834, 8498, 220227, 646, 220277],'UNIT':['%','%','%','%','%']},\n",
    "{'CHAREVENT':'RESP_RATE', 'DESCRIPTION':'','ITEMID':[618, 220210, 3603, 224689, 614, 651, 224422, 615, 224690, 619, 224688],'UNIT':['insp/min','']},\n",
    "{'CHAREVENT':'BODY_TEMP', 'DESCRIPTION':'','ITEMID':[3655, 677, 676, 223762, 3654, 678, 223761, 679, 8537, 645, 591, 226329, 597, 227054, 228242],'UNIT':['C','C','C','C','F','F','F','F','C','','','','C','','F']},\n",
    "{'CHAREVENT':'PH', 'DESCRIPTION':'','ITEMID':[3839, 1673, 780, 1126, 223830, 4753, 4202, 860, 220274, 8387, 1880, 3777, 227586, 8385, 1352, 4755, 7966],'UNIT':['NONE','NONE','NONE','NONE','NONE','NONE','NONE','NONE','NONE','NONE','NONE','NONE','NONE','NONE','NONE','NONE','NONE']},\n",
    "{'CHAREVENT':'WEIGHT', 'DESCRIPTION':'','ITEMID':[763, 224639, 226512, 3580, 3693, 3581, 226531, 3582],'UNIT':['?','kg','kg','kg','kg','lb','lb','oz']},\n",
    "{'CHAREVENT':'HEIGHT', 'DESCRIPTION':'','ITEMID':[226707, 226730, 1394],'UNIT':['?','cm','in']},\n",
    "]"
   ]
  },
  {
   "cell_type": "code",
   "execution_count": 5,
   "metadata": {},
   "outputs": [
    {
     "name": "stdout",
     "output_type": "stream",
     "text": [
      "[184, 220739]\n",
      "[454, 223901]\n",
      "[723, 223900]\n",
      "[198]\n",
      "[3348, 115, 8377, 223951, 224308]\n",
      "[8368, 220051, 225310, 8555, 8441, 220180, 8502, 8440, 8503, 8504, 8507, 8506, 224643, 227242]\n",
      "[52, 220052, 225312, 224, 6702, 224322, 456, 220181, 3312, 3314, 3316, 3322, 3320]\n",
      "[51, 220050, 225309, 6701, 455, 220179, 3313, 3315, 442, 3317, 3323, 3321, 224167, 227243]\n",
      "[211, 220045]\n",
      "[807, 811, 1529, 3745, 225664, 220621, 226537, 3447, 3816, 3744, 227015, 227016, 1310, 1455, 2338, 1812, 228388]\n",
      "[3420, 223835, 3422, 189, 727]\n",
      "[834, 8498, 220227, 646, 220277]\n",
      "[618, 220210, 3603, 224689, 614, 651, 224422, 615, 224690, 619, 224688]\n",
      "[3655, 677, 676, 223762, 3654, 678, 223761, 679, 8537, 645, 591, 226329, 597, 227054, 228242]\n",
      "[3839, 1673, 780, 1126, 223830, 4753, 4202, 860, 220274, 8387, 1880, 3777, 227586, 8385, 1352, 4755, 7966]\n",
      "[763, 224639, 226512, 3580, 3693, 3581, 226531, 3582]\n",
      "[226707, 226730, 1394]\n"
     ]
    }
   ],
   "source": [
    "itemid_list =[]\n",
    "for d in event_to_id:\n",
    "    a = np.array(d['ITEMID']).astype(np.int64).tolist()\n",
    "    print(a)\n"
   ]
  },
  {
   "cell_type": "code",
   "execution_count": 6,
   "metadata": {},
   "outputs": [],
   "source": [
    "items =[]\n",
    "for d in event_to_id:\n",
    "    items.extend(d['ITEMID'])\n",
    "items = np.array(items).astype(np.int64).tolist()"
   ]
  },
  {
   "cell_type": "code",
   "execution_count": 7,
   "metadata": {},
   "outputs": [],
   "source": [
    "def size_list(l: list) -> list:\n",
    "    out = l.copy()\n",
    "    length = len(out)\n",
    "    if length > MAX_HOURS:\n",
    "        out = out[:48]\n",
    "    elif length < MAX_HOURS:\n",
    "        out[:0] = [out[0]]*(MAX_HOURS-length)\n",
    "    return out"
   ]
  },
  {
   "cell_type": "code",
   "execution_count": 8,
   "metadata": {},
   "outputs": [],
   "source": [
    "# %%timeit\n",
    "\n",
    "# test = pd.read_parquet(CHARTEVENTS_BY_ICUSTAY_ID + chartevents_dir_list[0])\n",
    "# test = test.reset_index(drop=True)\n",
    "# # TODO:need to insert try block, capture failed cases by ICUSTAY_ID\n",
    "# test['ITEMID'] = test['ITEMID'].astype(np.int64)\n"
   ]
  },
  {
   "cell_type": "code",
   "execution_count": 9,
   "metadata": {},
   "outputs": [],
   "source": [
    "test = pd.read_parquet(CHARTEVENTS_BY_ICUSTAY_ID + chartevents_dir_list[0])\n",
    "test = test.reset_index(drop=True)\n",
    "# TODO:need to insert try block, capture failed cases by ICUSTAY_ID\n",
    "test['ITEMID'] = test['ITEMID'].astype(np.int64)"
   ]
  },
  {
   "cell_type": "code",
   "execution_count": 10,
   "metadata": {},
   "outputs": [
    {
     "data": {
      "text/html": [
       "<div>\n",
       "<style scoped>\n",
       "    .dataframe tbody tr th:only-of-type {\n",
       "        vertical-align: middle;\n",
       "    }\n",
       "\n",
       "    .dataframe tbody tr th {\n",
       "        vertical-align: top;\n",
       "    }\n",
       "\n",
       "    .dataframe thead th {\n",
       "        text-align: right;\n",
       "    }\n",
       "</style>\n",
       "<table border=\"1\" class=\"dataframe\">\n",
       "  <thead>\n",
       "    <tr style=\"text-align: right;\">\n",
       "      <th></th>\n",
       "      <th>SUBJECT_ID</th>\n",
       "      <th>HADM_ID</th>\n",
       "      <th>ITEMID</th>\n",
       "      <th>CHARTTIME</th>\n",
       "      <th>STORETIME</th>\n",
       "      <th>CGID</th>\n",
       "      <th>VALUE</th>\n",
       "      <th>VALUENUM</th>\n",
       "      <th>VALUEUOM</th>\n",
       "      <th>WARNING</th>\n",
       "      <th>ERROR</th>\n",
       "      <th>RESULTSTATUS</th>\n",
       "      <th>STOPPED</th>\n",
       "    </tr>\n",
       "  </thead>\n",
       "  <tbody>\n",
       "    <tr>\n",
       "      <th>0</th>\n",
       "      <td>55973</td>\n",
       "      <td>152234</td>\n",
       "      <td>220277</td>\n",
       "      <td>2181-11-28 12:00:00</td>\n",
       "      <td>2181-11-28 12:42:00</td>\n",
       "      <td>17474</td>\n",
       "      <td>94</td>\n",
       "      <td>94</td>\n",
       "      <td>%</td>\n",
       "      <td>0</td>\n",
       "      <td>0</td>\n",
       "      <td>None</td>\n",
       "      <td>None</td>\n",
       "    </tr>\n",
       "    <tr>\n",
       "      <th>1</th>\n",
       "      <td>55973</td>\n",
       "      <td>152234</td>\n",
       "      <td>223761</td>\n",
       "      <td>2181-11-28 12:00:00</td>\n",
       "      <td>2181-11-28 12:43:00</td>\n",
       "      <td>17474</td>\n",
       "      <td>96.4</td>\n",
       "      <td>96.4</td>\n",
       "      <td>?F</td>\n",
       "      <td>0</td>\n",
       "      <td>0</td>\n",
       "      <td>None</td>\n",
       "      <td>None</td>\n",
       "    </tr>\n",
       "    <tr>\n",
       "      <th>2</th>\n",
       "      <td>55973</td>\n",
       "      <td>152234</td>\n",
       "      <td>220045</td>\n",
       "      <td>2181-11-28 12:10:00</td>\n",
       "      <td>2181-11-28 14:53:00</td>\n",
       "      <td>17474</td>\n",
       "      <td>66</td>\n",
       "      <td>66</td>\n",
       "      <td>bpm</td>\n",
       "      <td>0</td>\n",
       "      <td>0</td>\n",
       "      <td>None</td>\n",
       "      <td>None</td>\n",
       "    </tr>\n",
       "    <tr>\n",
       "      <th>3</th>\n",
       "      <td>55973</td>\n",
       "      <td>152234</td>\n",
       "      <td>220050</td>\n",
       "      <td>2181-11-28 12:10:00</td>\n",
       "      <td>2181-11-28 14:53:00</td>\n",
       "      <td>17474</td>\n",
       "      <td>93</td>\n",
       "      <td>93</td>\n",
       "      <td>mmHg</td>\n",
       "      <td>0</td>\n",
       "      <td>0</td>\n",
       "      <td>None</td>\n",
       "      <td>None</td>\n",
       "    </tr>\n",
       "    <tr>\n",
       "      <th>4</th>\n",
       "      <td>55973</td>\n",
       "      <td>152234</td>\n",
       "      <td>220051</td>\n",
       "      <td>2181-11-28 12:10:00</td>\n",
       "      <td>2181-11-28 14:53:00</td>\n",
       "      <td>17474</td>\n",
       "      <td>43</td>\n",
       "      <td>43</td>\n",
       "      <td>mmHg</td>\n",
       "      <td>0</td>\n",
       "      <td>0</td>\n",
       "      <td>None</td>\n",
       "      <td>None</td>\n",
       "    </tr>\n",
       "    <tr>\n",
       "      <th>5</th>\n",
       "      <td>55973</td>\n",
       "      <td>152234</td>\n",
       "      <td>220052</td>\n",
       "      <td>2181-11-28 12:10:00</td>\n",
       "      <td>2181-11-28 14:53:00</td>\n",
       "      <td>17474</td>\n",
       "      <td>59</td>\n",
       "      <td>59</td>\n",
       "      <td>mmHg</td>\n",
       "      <td>0</td>\n",
       "      <td>0</td>\n",
       "      <td>None</td>\n",
       "      <td>None</td>\n",
       "    </tr>\n",
       "    <tr>\n",
       "      <th>6</th>\n",
       "      <td>55973</td>\n",
       "      <td>152234</td>\n",
       "      <td>220210</td>\n",
       "      <td>2181-11-28 12:10:00</td>\n",
       "      <td>2181-11-28 14:53:00</td>\n",
       "      <td>17474</td>\n",
       "      <td>14</td>\n",
       "      <td>14</td>\n",
       "      <td>insp/min</td>\n",
       "      <td>0</td>\n",
       "      <td>0</td>\n",
       "      <td>None</td>\n",
       "      <td>None</td>\n",
       "    </tr>\n",
       "    <tr>\n",
       "      <th>7</th>\n",
       "      <td>55973</td>\n",
       "      <td>152234</td>\n",
       "      <td>220277</td>\n",
       "      <td>2181-11-28 12:10:00</td>\n",
       "      <td>2181-11-28 14:53:00</td>\n",
       "      <td>17474</td>\n",
       "      <td>99</td>\n",
       "      <td>99</td>\n",
       "      <td>%</td>\n",
       "      <td>0</td>\n",
       "      <td>0</td>\n",
       "      <td>None</td>\n",
       "      <td>None</td>\n",
       "    </tr>\n",
       "    <tr>\n",
       "      <th>8</th>\n",
       "      <td>55973</td>\n",
       "      <td>152234</td>\n",
       "      <td>220045</td>\n",
       "      <td>2181-11-28 12:20:00</td>\n",
       "      <td>2181-11-28 14:53:00</td>\n",
       "      <td>17474</td>\n",
       "      <td>65</td>\n",
       "      <td>65</td>\n",
       "      <td>bpm</td>\n",
       "      <td>0</td>\n",
       "      <td>0</td>\n",
       "      <td>None</td>\n",
       "      <td>None</td>\n",
       "    </tr>\n",
       "    <tr>\n",
       "      <th>9</th>\n",
       "      <td>55973</td>\n",
       "      <td>152234</td>\n",
       "      <td>220050</td>\n",
       "      <td>2181-11-28 12:20:00</td>\n",
       "      <td>2181-11-28 14:53:00</td>\n",
       "      <td>17474</td>\n",
       "      <td>95</td>\n",
       "      <td>95</td>\n",
       "      <td>mmHg</td>\n",
       "      <td>0</td>\n",
       "      <td>0</td>\n",
       "      <td>None</td>\n",
       "      <td>None</td>\n",
       "    </tr>\n",
       "    <tr>\n",
       "      <th>10</th>\n",
       "      <td>55973</td>\n",
       "      <td>152234</td>\n",
       "      <td>220051</td>\n",
       "      <td>2181-11-28 12:20:00</td>\n",
       "      <td>2181-11-28 14:53:00</td>\n",
       "      <td>17474</td>\n",
       "      <td>44</td>\n",
       "      <td>44</td>\n",
       "      <td>mmHg</td>\n",
       "      <td>0</td>\n",
       "      <td>0</td>\n",
       "      <td>None</td>\n",
       "      <td>None</td>\n",
       "    </tr>\n",
       "    <tr>\n",
       "      <th>11</th>\n",
       "      <td>55973</td>\n",
       "      <td>152234</td>\n",
       "      <td>220052</td>\n",
       "      <td>2181-11-28 12:20:00</td>\n",
       "      <td>2181-11-28 14:53:00</td>\n",
       "      <td>17474</td>\n",
       "      <td>60</td>\n",
       "      <td>60</td>\n",
       "      <td>mmHg</td>\n",
       "      <td>0</td>\n",
       "      <td>0</td>\n",
       "      <td>None</td>\n",
       "      <td>None</td>\n",
       "    </tr>\n",
       "    <tr>\n",
       "      <th>12</th>\n",
       "      <td>55973</td>\n",
       "      <td>152234</td>\n",
       "      <td>220210</td>\n",
       "      <td>2181-11-28 12:20:00</td>\n",
       "      <td>2181-11-28 14:53:00</td>\n",
       "      <td>17474</td>\n",
       "      <td>13</td>\n",
       "      <td>13</td>\n",
       "      <td>insp/min</td>\n",
       "      <td>0</td>\n",
       "      <td>0</td>\n",
       "      <td>None</td>\n",
       "      <td>None</td>\n",
       "    </tr>\n",
       "    <tr>\n",
       "      <th>13</th>\n",
       "      <td>55973</td>\n",
       "      <td>152234</td>\n",
       "      <td>220277</td>\n",
       "      <td>2181-11-28 12:20:00</td>\n",
       "      <td>2181-11-28 14:53:00</td>\n",
       "      <td>17474</td>\n",
       "      <td>98</td>\n",
       "      <td>98</td>\n",
       "      <td>%</td>\n",
       "      <td>0</td>\n",
       "      <td>0</td>\n",
       "      <td>None</td>\n",
       "      <td>None</td>\n",
       "    </tr>\n",
       "    <tr>\n",
       "      <th>14</th>\n",
       "      <td>55973</td>\n",
       "      <td>152234</td>\n",
       "      <td>220045</td>\n",
       "      <td>2181-11-28 12:30:00</td>\n",
       "      <td>2181-11-28 14:53:00</td>\n",
       "      <td>17474</td>\n",
       "      <td>67</td>\n",
       "      <td>67</td>\n",
       "      <td>bpm</td>\n",
       "      <td>0</td>\n",
       "      <td>0</td>\n",
       "      <td>None</td>\n",
       "      <td>None</td>\n",
       "    </tr>\n",
       "    <tr>\n",
       "      <th>15</th>\n",
       "      <td>55973</td>\n",
       "      <td>152234</td>\n",
       "      <td>220050</td>\n",
       "      <td>2181-11-28 12:30:00</td>\n",
       "      <td>2181-11-28 14:53:00</td>\n",
       "      <td>17474</td>\n",
       "      <td>99</td>\n",
       "      <td>99</td>\n",
       "      <td>mmHg</td>\n",
       "      <td>0</td>\n",
       "      <td>0</td>\n",
       "      <td>None</td>\n",
       "      <td>None</td>\n",
       "    </tr>\n",
       "    <tr>\n",
       "      <th>16</th>\n",
       "      <td>55973</td>\n",
       "      <td>152234</td>\n",
       "      <td>220051</td>\n",
       "      <td>2181-11-28 12:30:00</td>\n",
       "      <td>2181-11-28 14:53:00</td>\n",
       "      <td>17474</td>\n",
       "      <td>47</td>\n",
       "      <td>47</td>\n",
       "      <td>mmHg</td>\n",
       "      <td>0</td>\n",
       "      <td>0</td>\n",
       "      <td>None</td>\n",
       "      <td>None</td>\n",
       "    </tr>\n",
       "    <tr>\n",
       "      <th>17</th>\n",
       "      <td>55973</td>\n",
       "      <td>152234</td>\n",
       "      <td>220052</td>\n",
       "      <td>2181-11-28 12:30:00</td>\n",
       "      <td>2181-11-28 14:53:00</td>\n",
       "      <td>17474</td>\n",
       "      <td>63</td>\n",
       "      <td>63</td>\n",
       "      <td>mmHg</td>\n",
       "      <td>0</td>\n",
       "      <td>0</td>\n",
       "      <td>None</td>\n",
       "      <td>None</td>\n",
       "    </tr>\n",
       "    <tr>\n",
       "      <th>18</th>\n",
       "      <td>55973</td>\n",
       "      <td>152234</td>\n",
       "      <td>220210</td>\n",
       "      <td>2181-11-28 12:30:00</td>\n",
       "      <td>2181-11-28 14:53:00</td>\n",
       "      <td>17474</td>\n",
       "      <td>12</td>\n",
       "      <td>12</td>\n",
       "      <td>insp/min</td>\n",
       "      <td>0</td>\n",
       "      <td>0</td>\n",
       "      <td>None</td>\n",
       "      <td>None</td>\n",
       "    </tr>\n",
       "    <tr>\n",
       "      <th>19</th>\n",
       "      <td>55973</td>\n",
       "      <td>152234</td>\n",
       "      <td>220277</td>\n",
       "      <td>2181-11-28 12:30:00</td>\n",
       "      <td>2181-11-28 14:53:00</td>\n",
       "      <td>17474</td>\n",
       "      <td>99</td>\n",
       "      <td>99</td>\n",
       "      <td>%</td>\n",
       "      <td>0</td>\n",
       "      <td>0</td>\n",
       "      <td>None</td>\n",
       "      <td>None</td>\n",
       "    </tr>\n",
       "  </tbody>\n",
       "</table>\n",
       "</div>"
      ],
      "text/plain": [
       "    SUBJECT_ID  HADM_ID  ITEMID           CHARTTIME            STORETIME   \n",
       "0        55973   152234  220277 2181-11-28 12:00:00  2181-11-28 12:42:00  \\\n",
       "1        55973   152234  223761 2181-11-28 12:00:00  2181-11-28 12:43:00   \n",
       "2        55973   152234  220045 2181-11-28 12:10:00  2181-11-28 14:53:00   \n",
       "3        55973   152234  220050 2181-11-28 12:10:00  2181-11-28 14:53:00   \n",
       "4        55973   152234  220051 2181-11-28 12:10:00  2181-11-28 14:53:00   \n",
       "5        55973   152234  220052 2181-11-28 12:10:00  2181-11-28 14:53:00   \n",
       "6        55973   152234  220210 2181-11-28 12:10:00  2181-11-28 14:53:00   \n",
       "7        55973   152234  220277 2181-11-28 12:10:00  2181-11-28 14:53:00   \n",
       "8        55973   152234  220045 2181-11-28 12:20:00  2181-11-28 14:53:00   \n",
       "9        55973   152234  220050 2181-11-28 12:20:00  2181-11-28 14:53:00   \n",
       "10       55973   152234  220051 2181-11-28 12:20:00  2181-11-28 14:53:00   \n",
       "11       55973   152234  220052 2181-11-28 12:20:00  2181-11-28 14:53:00   \n",
       "12       55973   152234  220210 2181-11-28 12:20:00  2181-11-28 14:53:00   \n",
       "13       55973   152234  220277 2181-11-28 12:20:00  2181-11-28 14:53:00   \n",
       "14       55973   152234  220045 2181-11-28 12:30:00  2181-11-28 14:53:00   \n",
       "15       55973   152234  220050 2181-11-28 12:30:00  2181-11-28 14:53:00   \n",
       "16       55973   152234  220051 2181-11-28 12:30:00  2181-11-28 14:53:00   \n",
       "17       55973   152234  220052 2181-11-28 12:30:00  2181-11-28 14:53:00   \n",
       "18       55973   152234  220210 2181-11-28 12:30:00  2181-11-28 14:53:00   \n",
       "19       55973   152234  220277 2181-11-28 12:30:00  2181-11-28 14:53:00   \n",
       "\n",
       "     CGID VALUE VALUENUM  VALUEUOM WARNING ERROR RESULTSTATUS STOPPED  \n",
       "0   17474    94       94         %       0     0         None    None  \n",
       "1   17474  96.4     96.4        ?F       0     0         None    None  \n",
       "2   17474    66       66       bpm       0     0         None    None  \n",
       "3   17474    93       93      mmHg       0     0         None    None  \n",
       "4   17474    43       43      mmHg       0     0         None    None  \n",
       "5   17474    59       59      mmHg       0     0         None    None  \n",
       "6   17474    14       14  insp/min       0     0         None    None  \n",
       "7   17474    99       99         %       0     0         None    None  \n",
       "8   17474    65       65       bpm       0     0         None    None  \n",
       "9   17474    95       95      mmHg       0     0         None    None  \n",
       "10  17474    44       44      mmHg       0     0         None    None  \n",
       "11  17474    60       60      mmHg       0     0         None    None  \n",
       "12  17474    13       13  insp/min       0     0         None    None  \n",
       "13  17474    98       98         %       0     0         None    None  \n",
       "14  17474    67       67       bpm       0     0         None    None  \n",
       "15  17474    99       99      mmHg       0     0         None    None  \n",
       "16  17474    47       47      mmHg       0     0         None    None  \n",
       "17  17474    63       63      mmHg       0     0         None    None  \n",
       "18  17474    12       12  insp/min       0     0         None    None  \n",
       "19  17474    99       99         %       0     0         None    None  "
      ]
     },
     "execution_count": 10,
     "metadata": {},
     "output_type": "execute_result"
    }
   ],
   "source": [
    "test.head(20)"
   ]
  },
  {
   "cell_type": "code",
   "execution_count": 11,
   "metadata": {},
   "outputs": [
    {
     "data": {
      "text/plain": [
       "SUBJECT_ID               int64\n",
       "HADM_ID                  int64\n",
       "ITEMID                   int64\n",
       "CHARTTIME       datetime64[ns]\n",
       "STORETIME               object\n",
       "CGID                    object\n",
       "VALUE                   object\n",
       "VALUENUM                object\n",
       "VALUEUOM                object\n",
       "WARNING                 object\n",
       "ERROR                   object\n",
       "RESULTSTATUS            object\n",
       "STOPPED                 object\n",
       "dtype: object"
      ]
     },
     "execution_count": 11,
     "metadata": {},
     "output_type": "execute_result"
    }
   ],
   "source": [
    "test.dtypes"
   ]
  },
  {
   "cell_type": "code",
   "execution_count": 12,
   "metadata": {},
   "outputs": [
    {
     "data": {
      "text/plain": [
       "(2863, 13)"
      ]
     },
     "execution_count": 12,
     "metadata": {},
     "output_type": "execute_result"
    }
   ],
   "source": [
    "test.shape"
   ]
  },
  {
   "cell_type": "code",
   "execution_count": 13,
   "metadata": {},
   "outputs": [
    {
     "data": {
      "text/plain": [
       "1"
      ]
     },
     "execution_count": 13,
     "metadata": {},
     "output_type": "execute_result"
    }
   ],
   "source": [
    "test['HADM_ID'].nunique()"
   ]
  },
  {
   "cell_type": "code",
   "execution_count": 14,
   "metadata": {},
   "outputs": [
    {
     "data": {
      "text/plain": [
       "(706, 13)"
      ]
     },
     "execution_count": 14,
     "metadata": {},
     "output_type": "execute_result"
    }
   ],
   "source": [
    "test = test[test['ITEMID'].isin(items)]\n",
    "test.shape"
   ]
  },
  {
   "cell_type": "code",
   "execution_count": 15,
   "metadata": {},
   "outputs": [],
   "source": [
    "test = test.sort_values(['CHARTTIME'])"
   ]
  },
  {
   "cell_type": "code",
   "execution_count": 16,
   "metadata": {},
   "outputs": [
    {
     "data": {
      "text/plain": [
       "Timestamp('2181-11-28 20:04:00')"
      ]
     },
     "execution_count": 16,
     "metadata": {},
     "output_type": "execute_result"
    }
   ],
   "source": [
    "test['CHARTTIME'].max()"
   ]
  },
  {
   "cell_type": "code",
   "execution_count": 17,
   "metadata": {},
   "outputs": [
    {
     "data": {
      "text/plain": [
       "72"
      ]
     },
     "execution_count": 17,
     "metadata": {},
     "output_type": "execute_result"
    }
   ],
   "source": [
    "(test['CHARTTIME'].max() - test['CHARTTIME'].min()) //  np.timedelta64(1, \"h\")"
   ]
  },
  {
   "cell_type": "code",
   "execution_count": null,
   "metadata": {},
   "outputs": [],
   "source": []
  },
  {
   "cell_type": "code",
   "execution_count": 18,
   "metadata": {},
   "outputs": [],
   "source": [
    "# Index 0 is oldest hour record\n",
    "hour_df_list = [g.reset_index(drop=True) for i, g in test.groupby([(test['CHARTTIME'].max() - test['CHARTTIME']) //  np.timedelta64(1, \"h\")])]"
   ]
  },
  {
   "cell_type": "code",
   "execution_count": 19,
   "metadata": {},
   "outputs": [
    {
     "data": {
      "text/plain": [
       "71"
      ]
     },
     "execution_count": 19,
     "metadata": {},
     "output_type": "execute_result"
    }
   ],
   "source": [
    "len(hour_df_list)"
   ]
  },
  {
   "cell_type": "code",
   "execution_count": null,
   "metadata": {},
   "outputs": [],
   "source": []
  },
  {
   "cell_type": "code",
   "execution_count": 20,
   "metadata": {},
   "outputs": [
    {
     "data": {
      "text/plain": [
       "48"
      ]
     },
     "execution_count": 20,
     "metadata": {},
     "output_type": "execute_result"
    }
   ],
   "source": [
    "hour_df_list = size_list(hour_df_list)\n",
    "len(hour_df_list)"
   ]
  },
  {
   "cell_type": "code",
   "execution_count": null,
   "metadata": {},
   "outputs": [],
   "source": []
  },
  {
   "cell_type": "code",
   "execution_count": null,
   "metadata": {},
   "outputs": [],
   "source": []
  },
  {
   "cell_type": "code",
   "execution_count": null,
   "metadata": {},
   "outputs": [],
   "source": []
  },
  {
   "cell_type": "code",
   "execution_count": 21,
   "metadata": {},
   "outputs": [
    {
     "data": {
      "text/plain": [
       "51"
      ]
     },
     "execution_count": 21,
     "metadata": {},
     "output_type": "execute_result"
    }
   ],
   "source": [
    "sample_columns = []\n",
    "sample_columns_ind = []\n",
    "for d in event_to_id:\n",
    "    sample_columns.append(d['CHAREVENT'])\n",
    "    sample_columns.append(d['CHAREVENT']+'_ID')\n",
    "    sample_columns_ind.append(d['CHAREVENT']+'_IND')\n",
    "\n",
    "sample_columns.extend(sample_columns_ind)\n",
    "len(sample_columns)"
   ]
  },
  {
   "cell_type": "code",
   "execution_count": 22,
   "metadata": {},
   "outputs": [
    {
     "name": "stdout",
     "output_type": "stream",
     "text": [
      "34\n",
      "17\n"
     ]
    }
   ],
   "source": [
    "nan_row = list(2 * len(event_to_id) * [None])\n",
    "indicator_row = list(len(event_to_id) * [0])\n",
    "print(len(nan_row))\n",
    "print(len(indicator_row))"
   ]
  },
  {
   "cell_type": "code",
   "execution_count": 23,
   "metadata": {},
   "outputs": [],
   "source": [
    "chartevents_dir_list = os.listdir(CHARTEVENTS_BY_ICUSTAY_ID)"
   ]
  },
  {
   "cell_type": "code",
   "execution_count": 24,
   "metadata": {},
   "outputs": [
    {
     "data": {
      "application/vnd.jupyter.widget-view+json": {
       "model_id": "501f17d1c0ac46d189798e39d2acf58e",
       "version_major": 2,
       "version_minor": 0
      },
      "text/plain": [
       "  0%|          | 0/48251 [00:00<?, ?it/s]"
      ]
     },
     "metadata": {},
     "output_type": "display_data"
    }
   ],
   "source": [
    "# cycle over all ICUSTAY_IDs in directory, get events and sort by hour,\n",
    "# keep last 48 hours, or duplicate last hour until 48 entries\n",
    "failed = []\n",
    "for stay in tqdm(chartevents_dir_list, total=len(chartevents_dir_list)):\n",
    "    try:\n",
    "        test = pd.read_parquet(CHARTEVENTS_BY_ICUSTAY_ID + stay)\n",
    "        test = test.reset_index(drop=True)\n",
    "        # TODO:need to insert try block, capture failed cases by ICUSTAY_ID\n",
    "        test['ITEMID'] = test['ITEMID'].astype(np.int64)\n",
    "        # remove non-needed ITEMIDs\n",
    "        test = test[test['ITEMID'].isin(items)]\n",
    "        test = test.sort_values(['CHARTTIME'])\n",
    "        hour_df_list = [g.reset_index(drop=True) for i, g in test.groupby([(test['CHARTTIME'].max() - test['CHARTTIME']) //  np.timedelta64(1, \"h\")])]\n",
    "        hour_df_list = size_list(hour_df_list)\n",
    "        hour_df_list = hour_df_list[::-1]\n",
    "\n",
    "        # Cycle over the list of hour dfs, store data into 1 df\n",
    "\n",
    "        # event_to_id\n",
    "\n",
    "        sample_df = pd.DataFrame(columns=sample_columns)\n",
    "        for df in hour_df_list:\n",
    "            new_row = nan_row.copy()\n",
    "            new_ind = indicator_row.copy()\n",
    "            for i, event in enumerate(event_to_id):\n",
    "                temp = df[df['ITEMID'].isin(event['ITEMID'])]\n",
    "                \n",
    "                if temp.shape[0] > 0:\n",
    "                    \n",
    "                    new_row[i*2] = temp.iloc[0]['VALUE']\n",
    "                    new_row[i*2 + 1] = temp.iloc[0]['ITEMID']\n",
    "                    new_ind[i] = 1\n",
    "                    # print(new_row)\n",
    "\n",
    "            new_row.extend(new_ind)\n",
    "            sample_df.loc[len(sample_df.index)] = new_row\n",
    "\n",
    "\n",
    "        sample_df.to_parquet(REDUCED_CE_BY_ICUSTAY_ID+stay)\n",
    "    except Exception as e:\n",
    "        failed.append(stay)\n",
    "        failed.append(str(e))\n",
    "        continue\n",
    "\n",
    "\n"
   ]
  },
  {
   "cell_type": "code",
   "execution_count": 27,
   "metadata": {},
   "outputs": [
    {
     "data": {
      "text/plain": [
       "352"
      ]
     },
     "execution_count": 27,
     "metadata": {},
     "output_type": "execute_result"
    }
   ],
   "source": [
    "len(failed)"
   ]
  },
  {
   "cell_type": "code",
   "execution_count": 29,
   "metadata": {},
   "outputs": [
    {
     "data": {
      "text/plain": [
       "'list index out of range'"
      ]
     },
     "execution_count": 29,
     "metadata": {},
     "output_type": "execute_result"
    }
   ],
   "source": [
    "failed[1]"
   ]
  },
  {
   "cell_type": "code",
   "execution_count": 25,
   "metadata": {},
   "outputs": [],
   "source": [
    "# sample_df = pd.DataFrame(columns=sample_columns)\n",
    "# sample_df"
   ]
  },
  {
   "cell_type": "code",
   "execution_count": null,
   "metadata": {},
   "outputs": [],
   "source": []
  },
  {
   "cell_type": "code",
   "execution_count": null,
   "metadata": {},
   "outputs": [],
   "source": []
  }
 ],
 "metadata": {
  "kernelspec": {
   "display_name": ".venv",
   "language": "python",
   "name": "python3"
  },
  "language_info": {
   "codemirror_mode": {
    "name": "ipython",
    "version": 3
   },
   "file_extension": ".py",
   "mimetype": "text/x-python",
   "name": "python",
   "nbconvert_exporter": "python",
   "pygments_lexer": "ipython3",
   "version": "3.10.9"
  },
  "orig_nbformat": 4
 },
 "nbformat": 4,
 "nbformat_minor": 2
}
