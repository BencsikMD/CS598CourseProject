{
 "cells": [
  {
   "cell_type": "code",
   "execution_count": 114,
   "metadata": {},
   "outputs": [],
   "source": [
    "import pandas as pd\n",
    "import numpy as np\n",
    "import os\n",
    "import timeit\n",
    "from tqdm.notebook import trange, tqdm"
   ]
  },
  {
   "cell_type": "code",
   "execution_count": 115,
   "metadata": {},
   "outputs": [],
   "source": [
    "CHARTEVENTS_BY_ICUSTAY_ID = 'data/parquet/'\n",
    "REDUCED_CE_BY_ICUSTAY_ID = 'data/samples/'\n",
    "ICUSTAY_ID_TEXT = 'ICUSTAY_ID'\n",
    "MAX_HOURS = 48"
   ]
  },
  {
   "cell_type": "code",
   "execution_count": 116,
   "metadata": {},
   "outputs": [],
   "source": [
    "# chartevents_dir_list = os.listdir(CHARTEVENTS_BY_ICUSTAY_ID)\n",
    "# len(chartevents_dir_list)"
   ]
  },
  {
   "cell_type": "code",
   "execution_count": 117,
   "metadata": {},
   "outputs": [],
   "source": [
    "event_to_id =[\n",
    "{'CHAREVENT':'GCS_EYE', 'DESCRIPTION':'','ITEMID':[184, 220739],'UNIT':['NONE','NONE']},\n",
    "{'CHAREVENT':'GCS_MOTOR', 'DESCRIPTION':'','ITEMID':[454, 223901],'UNIT':['NONE','NONE']},\n",
    "{'CHAREVENT':'GCS_VERBAL', 'DESCRIPTION':'','ITEMID':[723, 223900],'UNIT':['NONE','NONE']},\n",
    "{'CHAREVENT':'GCS_TOTAL', 'DESCRIPTION':'Sum of the 3 GCS events','ITEMID':[198],'UNIT':['NONE']},\n",
    "{'CHAREVENT':'CAPILLARY_REFILL', 'DESCRIPTION':'','ITEMID':[3348, 115, 8377, 223951, 224308],'UNIT':['BINARY','BINARY','BINARY','BINARY','BINARY']},\n",
    "{'CHAREVENT':'D_BLOOD_PRESSURE', 'DESCRIPTION':'','ITEMID':[8368, 220051, 225310, 8555, 8441, 220180, 8502, 8440, 8503, 8504, 8507, 8506, 224643, 227242],'UNIT':['mmHg','mmHg','mmHg','mmHg','mmHg','mmHg','mmHg','mmHg','mmHg','mmHg','mmHg','mmHg','mmHg','mmHg']},\n",
    "{'CHAREVENT':'M_BLOOD_PRESSURE', 'DESCRIPTION':'','ITEMID':[52, 220052, 225312, 224, 6702, 224322, 456, 220181, 3312, 3314, 3316, 3322, 3320],'UNIT':['mmHg','mmHg','mmHg','mmHg','mmHg','mmHg','mmHg','mmHg','mmHg','mmHg','mmHg','mmHg','mmHg']},\n",
    "{'CHAREVENT':'S_BLOOD_PRESSURE', 'DESCRIPTION':'','ITEMID':[51, 220050, 225309, 6701, 455, 220179, 3313, 3315, 442, 3317, 3323, 3321, 224167, 227243],'UNIT':['mmHg','mmHg','mmHg','mmHg','mmHg','mmHg','mmHg','mmHg','mmHg','mmHg','mmHg','mmHg','mmHg','mmHg']},\n",
    "{'CHAREVENT':'HEART_RATE', 'DESCRIPTION':'','ITEMID':[211, 220045],'UNIT':['bpm','bpm']},\n",
    "{'CHAREVENT':'GLUCOSE', 'DESCRIPTION':'','ITEMID':[807, 811, 1529, 3745, 225664, 220621, 226537, 3447, 3816, 3744, 227015, 227016, 1310, 1455, 2338, 1812, 228388],'UNIT':['','']},\n",
    "{'CHAREVENT':'FRAC_OXYGEN', 'DESCRIPTION':'','ITEMID':[3420, 223835, 3422, 189, 727],'UNIT':['%','%','%','%','%']},\n",
    "{'CHAREVENT':'O2_SAT', 'DESCRIPTION':'','ITEMID':[834, 8498, 220227, 646, 220277],'UNIT':['%','%','%','%','%']},\n",
    "{'CHAREVENT':'RESP_RATE', 'DESCRIPTION':'','ITEMID':[618, 220210, 3603, 224689, 614, 651, 224422, 615, 224690, 619, 224688],'UNIT':['insp/min','']},\n",
    "{'CHAREVENT':'BODY_TEMP', 'DESCRIPTION':'','ITEMID':[3655, 677, 676, 223762, 3654, 678, 223761, 679, 8537, 645, 591, 226329, 597, 227054, 228242],'UNIT':['C','C','C','C','F','F','F','F','C','','','','C','','F']},\n",
    "{'CHAREVENT':'PH', 'DESCRIPTION':'','ITEMID':[3839, 1673, 780, 1126, 223830, 4753, 4202, 860, 220274, 8387, 1880, 3777, 227586, 8385, 1352, 4755, 7966],'UNIT':['NONE','NONE','NONE','NONE','NONE','NONE','NONE','NONE','NONE','NONE','NONE','NONE','NONE','NONE','NONE','NONE','NONE']},\n",
    "{'CHAREVENT':'WEIGHT', 'DESCRIPTION':'','ITEMID':[763, 224639, 226512, 3580, 3693, 3581, 226531, 3582],'UNIT':['?','kg','kg','kg','kg','lb','lb','oz']},\n",
    "{'CHAREVENT':'HEIGHT', 'DESCRIPTION':'','ITEMID':[226707, 226730, 1394],'UNIT':['?','cm','in']},\n",
    "]"
   ]
  },
  {
   "cell_type": "code",
   "execution_count": 118,
   "metadata": {},
   "outputs": [],
   "source": [
    "# itemid_list =[]\n",
    "# for d in event_to_id:\n",
    "#     a = np.array(d['ITEMID']).astype(np.int64).tolist()\n",
    "#     print(a)\n"
   ]
  },
  {
   "cell_type": "code",
   "execution_count": 119,
   "metadata": {},
   "outputs": [],
   "source": [
    "items =[]\n",
    "for d in event_to_id:\n",
    "    items.extend(d['ITEMID'])\n",
    "items = np.array(items).astype(np.int64).tolist()"
   ]
  },
  {
   "cell_type": "code",
   "execution_count": 120,
   "metadata": {},
   "outputs": [],
   "source": [
    "def size_list(l: list) -> list:\n",
    "    out = l.copy()\n",
    "    length = len(out)\n",
    "    if length > MAX_HOURS:\n",
    "        out = out[:48]\n",
    "    elif length < MAX_HOURS:\n",
    "        out[:0] = [out[0]]*(MAX_HOURS-length)\n",
    "    return out"
   ]
  },
  {
   "cell_type": "code",
   "execution_count": 121,
   "metadata": {},
   "outputs": [],
   "source": [
    "# %%timeit\n",
    "\n",
    "# test = pd.read_parquet(CHARTEVENTS_BY_ICUSTAY_ID + chartevents_dir_list[0])\n",
    "# test = test.reset_index(drop=True)\n",
    "# # TODO:need to insert try block, capture failed cases by ICUSTAY_ID\n",
    "# test['ITEMID'] = test['ITEMID'].astype(np.int64)\n"
   ]
  },
  {
   "cell_type": "code",
   "execution_count": 122,
   "metadata": {},
   "outputs": [],
   "source": [
    "# test = pd.read_parquet(CHARTEVENTS_BY_ICUSTAY_ID + chartevents_dir_list[0])\n",
    "# test = test.reset_index(drop=True)\n",
    "# # TODO:need to insert try block, capture failed cases by ICUSTAY_ID\n",
    "# test['ITEMID'] = test['ITEMID'].astype(np.int64)"
   ]
  },
  {
   "cell_type": "code",
   "execution_count": 123,
   "metadata": {},
   "outputs": [],
   "source": [
    "# test.head(20)"
   ]
  },
  {
   "cell_type": "code",
   "execution_count": 124,
   "metadata": {},
   "outputs": [],
   "source": [
    "# test.dtypes"
   ]
  },
  {
   "cell_type": "code",
   "execution_count": 125,
   "metadata": {},
   "outputs": [],
   "source": [
    "# test.shape"
   ]
  },
  {
   "cell_type": "code",
   "execution_count": 126,
   "metadata": {},
   "outputs": [],
   "source": [
    "# test['HADM_ID'].nunique()"
   ]
  },
  {
   "cell_type": "code",
   "execution_count": 127,
   "metadata": {},
   "outputs": [],
   "source": [
    "# test = test[test['ITEMID'].isin(items)]\n",
    "# test.shape"
   ]
  },
  {
   "cell_type": "code",
   "execution_count": 128,
   "metadata": {},
   "outputs": [],
   "source": [
    "# test = test.sort_values(['CHARTTIME'])"
   ]
  },
  {
   "cell_type": "code",
   "execution_count": 129,
   "metadata": {},
   "outputs": [],
   "source": [
    "# test['CHARTTIME'].max()"
   ]
  },
  {
   "cell_type": "code",
   "execution_count": 130,
   "metadata": {},
   "outputs": [],
   "source": [
    "# (test['CHARTTIME'].max() - test['CHARTTIME'].min()) //  np.timedelta64(1, \"h\")"
   ]
  },
  {
   "cell_type": "code",
   "execution_count": 131,
   "metadata": {},
   "outputs": [],
   "source": [
    "# Index 0 is oldest hour record\n",
    "# hour_df_list = [g.reset_index(drop=True) for i, g in test.groupby([(test['CHARTTIME'].max() - test['CHARTTIME']) //  np.timedelta64(1, \"h\")])]"
   ]
  },
  {
   "cell_type": "code",
   "execution_count": 132,
   "metadata": {},
   "outputs": [],
   "source": [
    "# len(hour_df_list)"
   ]
  },
  {
   "cell_type": "code",
   "execution_count": null,
   "metadata": {},
   "outputs": [],
   "source": []
  },
  {
   "cell_type": "code",
   "execution_count": 133,
   "metadata": {},
   "outputs": [],
   "source": [
    "# hour_df_list = size_list(hour_df_list)\n",
    "# len(hour_df_list)"
   ]
  },
  {
   "cell_type": "code",
   "execution_count": null,
   "metadata": {},
   "outputs": [],
   "source": []
  },
  {
   "cell_type": "code",
   "execution_count": null,
   "metadata": {},
   "outputs": [],
   "source": []
  },
  {
   "cell_type": "code",
   "execution_count": 134,
   "metadata": {},
   "outputs": [],
   "source": [
    "# missed = missedstays_txt.split()"
   ]
  },
  {
   "cell_type": "code",
   "execution_count": 135,
   "metadata": {},
   "outputs": [],
   "source": [
    "\n",
    "# print(missed)"
   ]
  },
  {
   "cell_type": "code",
   "execution_count": null,
   "metadata": {},
   "outputs": [],
   "source": []
  },
  {
   "cell_type": "code",
   "execution_count": null,
   "metadata": {},
   "outputs": [],
   "source": []
  },
  {
   "cell_type": "code",
   "execution_count": 136,
   "metadata": {},
   "outputs": [
    {
     "data": {
      "text/plain": [
       "51"
      ]
     },
     "execution_count": 136,
     "metadata": {},
     "output_type": "execute_result"
    }
   ],
   "source": [
    "sample_columns = []\n",
    "sample_columns_ind = []\n",
    "for d in event_to_id:\n",
    "    sample_columns.append(d['CHAREVENT'])\n",
    "    sample_columns.append(d['CHAREVENT']+'_ID')\n",
    "    sample_columns_ind.append(d['CHAREVENT']+'_IND')\n",
    "\n",
    "sample_columns.extend(sample_columns_ind)\n",
    "len(sample_columns)"
   ]
  },
  {
   "cell_type": "code",
   "execution_count": 137,
   "metadata": {},
   "outputs": [
    {
     "name": "stdout",
     "output_type": "stream",
     "text": [
      "34\n",
      "17\n"
     ]
    }
   ],
   "source": [
    "nan_row = list(2 * len(event_to_id) * [None])\n",
    "indicator_row = list(len(event_to_id) * [0])\n",
    "print(len(nan_row))\n",
    "print(len(indicator_row))"
   ]
  },
  {
   "cell_type": "code",
   "execution_count": 138,
   "metadata": {},
   "outputs": [],
   "source": [
    "# chartevents_dir_list = os.listdir(CHARTEVENTS_BY_ICUSTAY_ID)"
   ]
  },
  {
   "cell_type": "code",
   "execution_count": null,
   "metadata": {},
   "outputs": [],
   "source": []
  },
  {
   "cell_type": "code",
   "execution_count": 139,
   "metadata": {},
   "outputs": [],
   "source": [
    "# ICU_TXT = 'ICUSTAY_ID='\n",
    "# missed_idx = ['172', '1018', '1110', '1170', '1890', '2723', '2924', '3159', '3470', '3753', '4032', '4332', '4653', '4814', '4934', '5000', '5113', '5123', '5472', '5633', '5640', '5667', '5731', '6307', '6351', '6511', '7291', '7829', '8778', '9647', '9789', '9843', '9983', '10499', '10750', '11898', '11985', '13149', '13180', '13424', '13893', '14323', '15403', '15582', '15609', '15754', '16356', '16681', '17270', '17643', '18538', '18572', '18648', '18703', '18949', '19280', '20522', '20626', '21152', '21385', '21649', '22418', '22717', '22809', '22923', '23113', '23356', '23502', '24060', '24398', '24458', '24561', '25045', '25610', '26326', '26626', '27338', '27870', '29028', '29291', '29303', '29688', '29917', '30577', '30961', '31539', '31628', '31705', '31854', '31866', '31872', '32470', '32840', '33034', '33488', '34914', '35036', '35779', '35926', '36388', '36475', '36820', '37212', '37312', '37460', '37494', '37545', '38084', '38118', '38133', '38480', '38752', '38920', '39915', '40597', '40678', '40772', '40809', '41299', '42132', '42335', '42539', '43135', '1216', '1341', '2695', '2946', '3302', '3569', '3642', '4022', '4181', '4243', '4457', '4640']\n",
    "# #172=235557"
   ]
  },
  {
   "cell_type": "code",
   "execution_count": 140,
   "metadata": {},
   "outputs": [],
   "source": [
    "# anno = pd.read_csv('data/anotation.csv')\n",
    "# anno.iloc[172]['ICUSTAY_ID']"
   ]
  },
  {
   "cell_type": "code",
   "execution_count": 141,
   "metadata": {},
   "outputs": [],
   "source": [
    "# missed_icustay_list =  []\n",
    "# for m in missed_idx:\n",
    "#     missed_icustay_list.append(str(anno.iloc[int(m)]['ICUSTAY_ID']))"
   ]
  },
  {
   "cell_type": "code",
   "execution_count": 142,
   "metadata": {},
   "outputs": [],
   "source": [
    "# print(missed_icustay_list)"
   ]
  },
  {
   "cell_type": "code",
   "execution_count": 143,
   "metadata": {},
   "outputs": [],
   "source": [
    "ICU_TXT = 'ICUSTAY_ID='\n",
    "missed_icustay_list = ['235557', '241818', '202092', '240486', '290401', '273909', '260462', '265380', '284071', '239584', '253638', '283573', '248457', '223240', '251107', '235392', '263481', '277476', '286008', '241950', '299393', '246438', '227800', '225500', '246137', '278150', '278850', '245630', '212859', '262641', '295147', '221698', '268945', '250543', '248546', '211512', '232465', '214502', '201102', '224849', '284459', '254188', '242700', '219601', '261149', '275551', '255012', '276690', '200559', '226237', '260735', '261232', '274027', '218746', '224037', '266631', '289647', '279090', '239751', '204508', '237798', '200890', '231624', '248159', '286712', '258588', '232587', '205409', '227552', '239493', '240865', '257665', '271814', '295017', '276442', '230034', '268187', '289680', '227461', '219050', '241804', '257263', '258774', '259389', '297925', '209237', '239621', '205858', '253641', '253796', '273526', '205464', '220514', '260840', '260354', '216256', '270360', '211306', '276680', '251565', '204432', '256334', '231314', '275349', '299911', '222558', '220860', '215053', '263414', '263461', '248350', '223238', '293512', '270835', '285340', '233066', '270057', '274265', '280177', '212187', '252283', '262101', '266395', '248427', '247366', '211619', '203493', '265660', '239830', '285934', '253540', '297117', '273981', '213515', '248413']\n"
   ]
  },
  {
   "attachments": {},
   "cell_type": "markdown",
   "metadata": {},
   "source": [
    "**5 Hours**"
   ]
  },
  {
   "cell_type": "code",
   "execution_count": 144,
   "metadata": {},
   "outputs": [
    {
     "data": {
      "application/vnd.jupyter.widget-view+json": {
       "model_id": "66094d171724445d85243ac0c253b2bc",
       "version_major": 2,
       "version_minor": 0
      },
      "text/plain": [
       "  0%|          | 0/135 [00:00<?, ?it/s]"
      ]
     },
     "metadata": {},
     "output_type": "display_data"
    }
   ],
   "source": [
    "# cycle over all ICUSTAY_IDs in directory, get events and sort by hour,\n",
    "# keep last 48 hours, or duplicate last hour until 48 entries\n",
    "failed = []\n",
    "for stay in tqdm(missed_icustay_list, total=len(missed_icustay_list)):\n",
    "    try:\n",
    "        test = pd.read_parquet(CHARTEVENTS_BY_ICUSTAY_ID + ICU_TXT + stay)\n",
    "        test = test.reset_index(drop=True)\n",
    "        \n",
    "        test['ITEMID'] = test['ITEMID'].astype(np.int64)\n",
    "        # remove non-needed ITEMIDs\n",
    "        test = test[test['ITEMID'].isin(items)]\n",
    "        \n",
    "        test = test.sort_values(['CHARTTIME'])\n",
    "        hour_df_list = [g.reset_index(drop=True) for i, g in test.groupby([(test['CHARTTIME'].max() - test['CHARTTIME']) //  np.timedelta64(1, \"h\")])]\n",
    "        hour_df_list = size_list(hour_df_list)\n",
    "        hour_df_list = hour_df_list[::-1]\n",
    "\n",
    "        # Cycle over the list of hour dfs, store data into 1 df\n",
    "\n",
    "        # event_to_id\n",
    "\n",
    "        sample_df = pd.DataFrame(columns=sample_columns)\n",
    "        for df in hour_df_list:\n",
    "            new_row = nan_row.copy()\n",
    "            new_ind = indicator_row.copy()\n",
    "            for i, event in enumerate(event_to_id):\n",
    "                temp = df[df['ITEMID'].isin(event['ITEMID'])]\n",
    "                \n",
    "                if temp.shape[0] > 0:\n",
    "                    \n",
    "                    if event['CHAREVENT'] == 'GCS_EYE' or event['CHAREVENT'] == 'GCS_MOTOR' or event['CHAREVENT'] == 'GCS_VERBAL':\n",
    "                        new_row[i*2] = temp.iloc[0]['VALUE']\n",
    "                    else:\n",
    "                        new_row[i*2] = temp.iloc[0]['VALUENUM']\n",
    "                        \n",
    "                    new_row[i*2 + 1] = temp.iloc[0]['ITEMID']\n",
    "                    new_ind[i] = 1\n",
    "                    # print(new_row)\n",
    "\n",
    "            new_row.extend(new_ind)\n",
    "            sample_df.loc[len(sample_df.index)] = new_row\n",
    "\n",
    "\n",
    "        sample_df.to_parquet(REDUCED_CE_BY_ICUSTAY_ID+ICU_TXT + stay)\n",
    "    except Exception as e:\n",
    "        failed.append(stay)\n",
    "        failed.append(str(e))\n",
    "        continue\n",
    "\n",
    "\n"
   ]
  },
  {
   "cell_type": "code",
   "execution_count": 145,
   "metadata": {},
   "outputs": [
    {
     "data": {
      "text/plain": [
       "0"
      ]
     },
     "execution_count": 145,
     "metadata": {},
     "output_type": "execute_result"
    }
   ],
   "source": [
    "len(failed)"
   ]
  },
  {
   "cell_type": "code",
   "execution_count": 146,
   "metadata": {},
   "outputs": [
    {
     "data": {
      "text/plain": [
       "[]"
      ]
     },
     "execution_count": 146,
     "metadata": {},
     "output_type": "execute_result"
    }
   ],
   "source": [
    "failed"
   ]
  },
  {
   "cell_type": "code",
   "execution_count": 147,
   "metadata": {},
   "outputs": [],
   "source": [
    "# sample_df = pd.DataFrame(columns=sample_columns)\n",
    "# sample_df"
   ]
  },
  {
   "cell_type": "code",
   "execution_count": 148,
   "metadata": {},
   "outputs": [],
   "source": [
    "with open('Step3_failed.txt', 'w') as f:\n",
    "    for line in failed:\n",
    "        f.write(line)\n",
    "        f.write('\\n')"
   ]
  },
  {
   "cell_type": "code",
   "execution_count": null,
   "metadata": {},
   "outputs": [],
   "source": []
  }
 ],
 "metadata": {
  "kernelspec": {
   "display_name": ".venv",
   "language": "python",
   "name": "python3"
  },
  "language_info": {
   "codemirror_mode": {
    "name": "ipython",
    "version": 3
   },
   "file_extension": ".py",
   "mimetype": "text/x-python",
   "name": "python",
   "nbconvert_exporter": "python",
   "pygments_lexer": "ipython3",
   "version": "3.10.9"
  },
  "orig_nbformat": 4
 },
 "nbformat": 4,
 "nbformat_minor": 2
}
