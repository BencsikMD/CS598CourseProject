{
 "cells": [
  {
   "cell_type": "code",
   "execution_count": 1,
   "metadata": {},
   "outputs": [],
   "source": [
    "import pandas as pd\n",
    "import numpy as np\n",
    "from tqdm.notebook import trange, tqdm\n",
    "import csv"
   ]
  },
  {
   "cell_type": "code",
   "execution_count": 2,
   "metadata": {},
   "outputs": [],
   "source": [
    "CHARTEVENTS_BY_ICUSTAY_ID = 'data/parquet/'\n",
    "REDUCED_CE_BY_ICUSTAY_ID = 'data/samples/'\n",
    "\n",
    "CHARTEVENTS_FILENAME = 'mimic-iii/CHARTEVENTS.csv'\n",
    "READMISSION_FILENAME = 'data/readmission.csv'\n",
    "\n",
    "DATASTORE_FILENAME = 'samples.h5'\n",
    "FEATHER_EXT = '.feather'\n",
    "ROWS_TO_READ = 1000000\n",
    "MAX_ROWS_CHARTEVENTS = 330712483\n",
    "\n",
    "STEP_UNIQUE_FILE = 'Step4_unique.txt'\n",
    "\n",
    "skip_rows = 0"
   ]
  },
  {
   "attachments": {},
   "cell_type": "markdown",
   "metadata": {},
   "source": [
    "\n",
    "![Glascow](assets/images/GCS.jpg)\n",
    "\n",
    "https://www.firstaidforfree.com/glasgow-coma-scale-gcs-first-aiders/"
   ]
  },
  {
   "attachments": {},
   "cell_type": "markdown",
   "metadata": {},
   "source": [
    "|\tChart Event\t|\tDim\t|\tNormal\t| Initial dtype | Change to dtype |\n",
    "| --- | :--- | :--- | :--- | :--- |\n",
    "|\t1. Glasgow coma scale eye opening\t|\t4\t|\t4 Spontaneously\t| str | int |\n",
    "|\t2. Glasgow coma scale verbal response\t|\t5\t|\t5 Oriented\t| str | int |\n",
    "|\t3. Glasgow coma scale motor response\t|\t6\t|\t6 Obeys Commands\t| str | int |\n",
    "|\t4. Glasgow coma scale total\t|\t13\t|\t15\t| none/int | int |\n",
    "|\t5. Capillary refill rate\t|\t2\t|\tNormal < 3 secs\t| str | int |\n",
    "|\t6. Diastolic blood pressure\t|\t1\t|\t70\t| int | int |\n",
    "|\t7. Systolic blood pressure\t|\t1\t|\t105\t| int | int |\n",
    "|\t8. Mean blood pressure\t|\t1\t|\t87.5\t| int/float | int |\n",
    "|\t9. Heart Rate\t|\t1\t|\t80\t| int | int |\n",
    "|\t10. Glucose\t|\t1\t|\t85\t| int | int |\n",
    "|\t11. Fraction inspired oxygen\t|\t1\t|\t0.21\t| int/float | float? |\n",
    "|\t12. Oxygen saturation\t|\t1\t|\t97.5\t| int | int |\n",
    "|\t13. Respiratory rate\t|\t1\t|\t15\t| int | int |\n",
    "|\t14. Body Temperature\t|\t1\t|\t37\t| float | float |\n",
    "|\t15. pH\t|\t1\t|\t7.4\t| float | float |\n",
    "|\t16. Weight\t|\t1\t|\t80.7\t| float | float |\n",
    "|\t17. Height\t|\t1\t|\t168.8\t| float | float |\n",
    "\n",
    "\n",
    "Since there are so many `NaN` values, everything should just be a float?"
   ]
  },
  {
   "cell_type": "code",
   "execution_count": 6,
   "metadata": {},
   "outputs": [],
   "source": []
  },
  {
   "cell_type": "code",
   "execution_count": 7,
   "metadata": {},
   "outputs": [],
   "source": []
  },
  {
   "cell_type": "code",
   "execution_count": 8,
   "metadata": {},
   "outputs": [],
   "source": [
    "chartevents_columns = [\"ROW_ID\",\"SUBJECT_ID\",\"HADM_ID\",\"ICUSTAY_ID\",\"ITEMID\",\"CHARTTIME\",\"STORETIME\",\"CGID\",\"VALUE\",\"VALUENUM\",\"VALUEUOM\",\"WARNING\",\"ERROR\",\"RESULTSTATUS\",\"STOPPED\"]"
   ]
  },
  {
   "cell_type": "code",
   "execution_count": 9,
   "metadata": {},
   "outputs": [],
   "source": [
    "event_to_id =[\n",
    "{'CHAREVENT':'GCS_EYE', 'DESCRIPTION':'','ITEMID':[184, 220739],'UNIT':['NONE','NONE']},\n",
    "{'CHAREVENT':'GCS_MOTOR', 'DESCRIPTION':'','ITEMID':[454, 223901],'UNIT':['NONE','NONE']},\n",
    "{'CHAREVENT':'GCS_VERBAL', 'DESCRIPTION':'','ITEMID':[723, 223900],'UNIT':['NONE','NONE']},\n",
    "{'CHAREVENT':'GCS_TOTAL', 'DESCRIPTION':'Sum of the 3 GCS events','ITEMID':[198],'UNIT':['NONE']},\n",
    "{'CHAREVENT':'CAPILLARY_REFILL', 'DESCRIPTION':'','ITEMID':[3348, 115, 8377, 223951, 224308],'UNIT':['BINARY','BINARY','BINARY','BINARY','BINARY']},\n",
    "]"
   ]
  },
  {
   "cell_type": "code",
   "execution_count": 10,
   "metadata": {},
   "outputs": [],
   "source": [
    "chartevents_dtype = {'ROW_ID':object,\n",
    "'SUBJECT_ID':object,\n",
    "'HADM_ID':object,\n",
    "'ICUSTAY_ID':object,\n",
    "'ITEMID':object,\n",
    "'CHARTTIME':object,\n",
    "'STORETIME':object,\n",
    "'CGID':object,\n",
    "'VALUE':object,\n",
    "'VALUENUM':object,\n",
    "'VALUEUOM':object,\n",
    "'WARNING':object,\n",
    "'ERROR':object,\n",
    "'RESULTSTATUS':object,\n",
    "'STOPPED':object}"
   ]
  },
  {
   "cell_type": "code",
   "execution_count": 11,
   "metadata": {},
   "outputs": [
    {
     "data": {
      "application/vnd.jupyter.widget-view+json": {
       "model_id": "1626ac21dc8549beaf2333df3942fa13",
       "version_major": 2,
       "version_minor": 0
      },
      "text/plain": [
       "  0%|          | 0/331 [00:00<?, ?it/s]"
      ]
     },
     "metadata": {},
     "output_type": "display_data"
    }
   ],
   "source": [
    "total = int(MAX_ROWS_CHARTEVENTS/ROWS_TO_READ)+1\n",
    "eye_unique = []\n",
    "motor_unique = []\n",
    "verbal_unique = []\n",
    "total_unique = []\n",
    "capillary_unique = []\n",
    "with pd.read_csv(CHARTEVENTS_FILENAME,names=chartevents_columns,dtype=chartevents_dtype,skiprows=1,chunksize=ROWS_TO_READ) as file:\n",
    "# chartevents = dd.read_csv(CHARTEVENTS_FILENAME,dtype=chartevents_dtype)\n",
    "    for chartevents in tqdm(file,total=total):\n",
    "        chartevents = chartevents.dropna(subset=['SUBJECT_ID','HADM_ID','ICUSTAY_ID','CHARTTIME','ITEMID']).drop('ROW_ID',axis=1)\n",
    "        chartevents['ITEMID'] = chartevents['ITEMID'].astype(np.int64)\n",
    "        eye_df = chartevents[(chartevents['ITEMID'].isin(event_to_id[0]['ITEMID']))]\n",
    "        motor_df = chartevents[(chartevents['ITEMID'].isin(event_to_id[1]['ITEMID']))]\n",
    "        verbal_df = chartevents[(chartevents['ITEMID'].isin(event_to_id[2]['ITEMID']))]\n",
    "        total_df = chartevents[(chartevents['ITEMID'].isin(event_to_id[3]['ITEMID']))]\n",
    "        cap_df = chartevents[(chartevents['ITEMID'].isin(event_to_id[4]['ITEMID']))]\n",
    "\n",
    "        eye_unique.extend(pd.unique(eye_df['VALUE']).tolist())\n",
    "        motor_unique.extend(pd.unique(motor_df['VALUE']).tolist())\n",
    "        verbal_unique.extend(pd.unique(verbal_df['VALUE']).tolist())\n",
    "        total_unique.extend(pd.unique(total_df['VALUE']).tolist())\n",
    "        capillary_unique.extend(pd.unique(cap_df['VALUE']).tolist())\n",
    "\n",
    "        # if len(eye_unique) > 0 or len(motor_unique) > 0 or len(verbal_unique) > 0 or len(total_unique) > 0:\n",
    "        #     break\n",
    "        "
   ]
  },
  {
   "cell_type": "code",
   "execution_count": null,
   "metadata": {},
   "outputs": [],
   "source": [
    "eye_unique      = pd.unique(np.array(eye_unique))\n",
    "motor_unique    = pd.unique(np.array(motor_unique))\n",
    "verbal_unique   = pd.unique(np.array(verbal_unique))\n",
    "total_unique    = pd.unique(np.array(total_unique))\n",
    "capillary_unique = pd.unique(np.array(capillary_unique))"
   ]
  },
  {
   "cell_type": "code",
   "execution_count": 13,
   "metadata": {},
   "outputs": [],
   "source": [
    "with open(STEP_UNIQUE_FILE , 'w') as f:\n",
    "    w = csv.writer(f)\n",
    "    w.writerow(eye_unique)\n",
    "    w.writerow(motor_unique)\n",
    "    w.writerow(verbal_unique)\n",
    "    w.writerow(total_unique)\n",
    "    w.writerow(capillary_unique)"
   ]
  },
  {
   "attachments": {},
   "cell_type": "markdown",
   "metadata": {},
   "source": [
    "The text file results were manually formed into dictionaries. These will be used to map strings to numerical values. \n",
    "\n",
    "Below are the resulting dictionaries."
   ]
  },
  {
   "cell_type": "code",
   "execution_count": null,
   "metadata": {},
   "outputs": [],
   "source": [
    "gcs_eye_map     = {'__missing__': np.NaN, '4 Spontaneously': '4', '1 No Response': '1', '2 To pain': '2', '3 To speech': '3', 'To Speech': '3', 'Spontaneously': '4', 'To Pain': '2'}\n",
    "gcs_motor_map   = {'__missing__': np.NaN, '6 Obeys Commands': '6', '5 Localizes Pain': '5', '1 No Response': '1', '4 Flex-withdraws': '4', '2 Abnorm extensn': '2', '3 Abnorm flexion': '3', 'Localizes Pain': '5', \n",
    "                    'Obeys Commands': '6', 'Flex-withdraws': '4', 'No response': '1', 'Abnormal Flexion': '3', 'Abnormal extension': '2'}\n",
    "gcs_verbal_map  = {'__missing__': np.NaN, '5 Oriented': '5', '1.0 ET/Trach': '1', '4 Confused': '4', '2 Incomp sounds': '2', '1 No Response': '1', '3 Inapprop words': '3', 'No Response-ETT': '1', \n",
    "                    'Oriented': '5', 'No Response': '1', 'Confused': '4', 'Incomprehensible sounds': '2', 'Inappropriate Words': '3'}\n",
    "capillary_map = {'__missing__': np.NaN, 'Brisk':'1', 'Delayed':'0', 'Comment':'0', 'Normal <3 secs':'1', 'Abnormal >3 secs':'0', 'Other/Remarks':'0', 'Normal <3 Seconds':'1', 'Abnormal >3 Seconds':'0'}"
   ]
  }
 ],
 "metadata": {
  "kernelspec": {
   "display_name": ".venv",
   "language": "python",
   "name": "python3"
  },
  "language_info": {
   "codemirror_mode": {
    "name": "ipython",
    "version": 3
   },
   "file_extension": ".py",
   "mimetype": "text/x-python",
   "name": "python",
   "nbconvert_exporter": "python",
   "pygments_lexer": "ipython3",
   "version": "3.10.9"
  },
  "orig_nbformat": 4
 },
 "nbformat": 4,
 "nbformat_minor": 2
}
