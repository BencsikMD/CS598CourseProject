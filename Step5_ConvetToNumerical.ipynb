{
 "cells": [
  {
   "cell_type": "code",
   "execution_count": 352,
   "metadata": {},
   "outputs": [],
   "source": [
    "import pandas as pd\n",
    "import numpy as np\n",
    "import os\n",
    "import timeit\n",
    "from tqdm.notebook import trange, tqdm\n",
    "import re\n",
    "from sklearn.linear_model import LinearRegression\n",
    "import matplotlib.pyplot as plt"
   ]
  },
  {
   "cell_type": "code",
   "execution_count": 353,
   "metadata": {},
   "outputs": [],
   "source": [
    "DEMO = True\n",
    "WRITE_ERRORS_TO_FILE = False"
   ]
  },
  {
   "cell_type": "code",
   "execution_count": 354,
   "metadata": {},
   "outputs": [],
   "source": [
    "\n",
    "if DEMO:\n",
    "    CHARTEVENTS_BY_ICUSTAY_ID = 'data_demo/parquet/'\n",
    "    REDUCED_CE_BY_ICUSTAY_ID = 'data_demo/samples/'\n",
    "    NUMERICAL_BY_ICUSTAY_ID = 'data_demo/samples_numerical/'\n",
    "else:\n",
    "    CHARTEVENTS_BY_ICUSTAY_ID = 'data/parquet/'\n",
    "    REDUCED_CE_BY_ICUSTAY_ID = 'data/samples/'\n",
    "    NUMERICAL_BY_ICUSTAY_ID = 'data/samples_numerical/'\n",
    "\n",
    "\n",
    "CHARTEVENTS_FILENAME = 'mimic-iii/CHARTEVENTS.csv'\n",
    "READMISSION_FILENAME = 'data/readmission.csv'\n",
    "PARQUET_EXT = '.parquet'\n"
   ]
  },
  {
   "cell_type": "code",
   "execution_count": 355,
   "metadata": {},
   "outputs": [],
   "source": [
    "OZ_TO_KG = 35.274\n",
    "LB_TO_KG = 2.205\n",
    "IN_TO_CM = 2.54\n",
    "MAX_FRACTION = 1.0\n",
    "MAX_PERCENT = 100\n"
   ]
  },
  {
   "cell_type": "code",
   "execution_count": 356,
   "metadata": {},
   "outputs": [],
   "source": [
    "# chartevents_dir_list = os.listdir(REDUCED_CE_BY_ICUSTAY_ID)\n",
    "# len(chartevents_dir_list)"
   ]
  },
  {
   "cell_type": "code",
   "execution_count": 357,
   "metadata": {},
   "outputs": [],
   "source": [
    "# test = pd.read_parquet(REDUCED_CE_BY_ICUSTAY_ID + chartevents_dir_list[5])\n",
    "# test = test.reset_index(drop=True)"
   ]
  },
  {
   "attachments": {},
   "cell_type": "markdown",
   "metadata": {},
   "source": [
    "\n",
    "![Glascow](assets/images/GCS.jpg)\n",
    "\n",
    "https://www.firstaidforfree.com/glasgow-coma-scale-gcs-first-aiders/"
   ]
  },
  {
   "attachments": {},
   "cell_type": "markdown",
   "metadata": {},
   "source": [
    "|\tChart Event\t|\tDim\t|\tNormal\t| Initial dtype | Change to dtype |\n",
    "| --- | :--- | :--- | :--- | :--- |\n",
    "|\t1. Glasgow coma scale eye opening\t|\t4\t|\t4 Spontaneously\t| str | int |\n",
    "|\t2. Glasgow coma scale verbal response\t|\t5\t|\t5 Oriented\t| str | int |\n",
    "|\t3. Glasgow coma scale motor response\t|\t6\t|\t6 Obeys Commands\t| str | int |\n",
    "|\t4. Glasgow coma scale total\t|\t13\t|\t15\t| none/int | int |\n",
    "|\t5. Capillary refill rate\t|\t2\t|\tNormal < 3 secs\t| str | int |\n",
    "|\t6. Diastolic blood pressure\t|\t1\t|\t70\t| int | int |\n",
    "|\t7. Systolic blood pressure\t|\t1\t|\t105\t| int | int |\n",
    "|\t8. Mean blood pressure\t|\t1\t|\t87.5\t| int/float | int |\n",
    "|\t9. Heart Rate\t|\t1\t|\t80\t| int | int |\n",
    "|\t10. Glucose\t|\t1\t|\t85\t| int | int |\n",
    "|\t11. Fraction inspired oxygen\t|\t1\t|\t0.21\t| int/float | float? |\n",
    "|\t12. Oxygen saturation\t|\t1\t|\t97.5\t| int | int |\n",
    "|\t13. Respiratory rate\t|\t1\t|\t15\t| int | int |\n",
    "|\t14. Body Temperature\t|\t1\t|\t37\t| float | float |\n",
    "|\t15. pH\t|\t1\t|\t7.4\t| float | float |\n",
    "|\t16. Weight\t|\t1\t|\t80.7\t| float | float |\n",
    "|\t17. Height\t|\t1\t|\t168.8\t| float | float |\n",
    "\n",
    "\n",
    "Since there are so many `NaN` values, everything should just be a float?"
   ]
  },
  {
   "cell_type": "code",
   "execution_count": 358,
   "metadata": {},
   "outputs": [],
   "source": [
    "gcs_eye_map     = {'__missing__': np.NaN, '4 Spontaneously': '4', '1 No Response': '1', '2 To pain': '2', '3 To speech': '3', 'To Speech': '3', 'Spontaneously': '4', 'To Pain': '2'}\n",
    "gcs_motor_map   = {'__missing__': np.NaN, '6 Obeys Commands': '6', '5 Localizes Pain': '5', '1 No Response': '1', '4 Flex-withdraws': '4', '2 Abnorm extensn': '2', '3 Abnorm flexion': '3', 'Localizes Pain': '5', \n",
    "                    'Obeys Commands': '6', 'Flex-withdraws': '4', 'No response': '1', 'Abnormal Flexion': '3', 'Abnormal extension': '2'}\n",
    "gcs_verbal_map  = {'__missing__': np.NaN, '5 Oriented': '5', '1.0 ET/Trach': '1', '4 Confused': '4', '2 Incomp sounds': '2', '1 No Response': '1', '3 Inapprop words': '3', 'No Response-ETT': '1', \n",
    "                    'Oriented': '5', 'No Response': '1', 'Confused': '4', 'Incomprehensible sounds': '2', 'Inappropriate Words': '3'}\n",
    "capillary_map = {'__missing__': np.NaN, 'Brisk':'1', 'Delayed':'0', 'Comment':'0', 'Normal <3 secs':'1', 'Abnormal >3 secs':'0', 'Other/Remarks':'0', 'Normal <3 Seconds':'1', 'Abnormal >3 Seconds':'0'}\n"
   ]
  },
  {
   "cell_type": "code",
   "execution_count": 359,
   "metadata": {},
   "outputs": [],
   "source": [
    "event_to_id =[\n",
    "{'CHAREVENT':'GCS_EYE', 'DESCRIPTION':'','ITEMID':[184, 220739],'UNIT':['NONE','NONE']},\n",
    "{'CHAREVENT':'GCS_MOTOR', 'DESCRIPTION':'','ITEMID':[454, 223901],'UNIT':['NONE','NONE']},\n",
    "{'CHAREVENT':'GCS_VERBAL', 'DESCRIPTION':'','ITEMID':[723, 223900],'UNIT':['NONE','NONE']},\n",
    "{'CHAREVENT':'GCS_TOTAL', 'DESCRIPTION':'Sum of the 3 GCS events','ITEMID':[198],'UNIT':['NONE']},\n",
    "{'CHAREVENT':'CAPILLARY_REFILL', 'DESCRIPTION':'','ITEMID':[3348, 115, 8377, 223951, 224308],'UNIT':['BINARY','BINARY','BINARY','BINARY','BINARY']},\n",
    "{'CHAREVENT':'D_BLOOD_PRESSURE', 'DESCRIPTION':'','ITEMID':[8368, 220051, 225310, 8555, 8441, 220180, 8502, 8440, 8503, 8504, 8507, 8506, 224643, 227242],'UNIT':['mmHg','mmHg','mmHg','mmHg','mmHg','mmHg','mmHg','mmHg','mmHg','mmHg','mmHg','mmHg','mmHg','mmHg']},\n",
    "{'CHAREVENT':'M_BLOOD_PRESSURE', 'DESCRIPTION':'','ITEMID':[52, 220052, 225312, 224, 6702, 224322, 456, 220181, 3312, 3314, 3316, 3322, 3320],'UNIT':['mmHg','mmHg','mmHg','mmHg','mmHg','mmHg','mmHg','mmHg','mmHg','mmHg','mmHg','mmHg','mmHg']},\n",
    "{'CHAREVENT':'S_BLOOD_PRESSURE', 'DESCRIPTION':'','ITEMID':[51, 220050, 225309, 6701, 455, 220179, 3313, 3315, 442, 3317, 3323, 3321, 224167, 227243],'UNIT':['mmHg','mmHg','mmHg','mmHg','mmHg','mmHg','mmHg','mmHg','mmHg','mmHg','mmHg','mmHg','mmHg','mmHg']},\n",
    "{'CHAREVENT':'HEART_RATE', 'DESCRIPTION':'','ITEMID':[211, 220045],'UNIT':['bpm','bpm']},\n",
    "{'CHAREVENT':'GLUCOSE', 'DESCRIPTION':'','ITEMID':[807, 811, 1529, 3745, 225664, 220621, 226537, 3447, 3816, 3744, 227015, 227016, 1310, 1455, 2338, 1812, 228388],'UNIT':['','']},\n",
    "{'CHAREVENT':'FRAC_OXYGEN', 'DESCRIPTION':'','ITEMID':[3420, 223835, 3422, 189, 727],'UNIT':['%','%','%','%','%']},\n",
    "{'CHAREVENT':'O2_SAT', 'DESCRIPTION':'','ITEMID':[834, 8498, 220227, 646, 220277],'UNIT':['%','%','%','%','%']},\n",
    "{'CHAREVENT':'RESP_RATE', 'DESCRIPTION':'','ITEMID':[618, 220210, 3603, 224689, 614, 651, 224422, 615, 224690, 619, 224688],'UNIT':['insp/min','']},\n",
    "{'CHAREVENT':'BODY_TEMP', 'DESCRIPTION':'','ITEMID':[3655, 677, 676, 223762, 3654, 678, 223761, 679, 8537, 645, 591, 226329, 597, 227054, 228242],'UNIT':['C','C','C','C','F','F','F','F','C','','','','C','','F']},\n",
    "{'CHAREVENT':'PH', 'DESCRIPTION':'','ITEMID':[3839, 1673, 780, 1126, 223830, 4753, 4202, 860, 220274, 8387, 1880, 3777, 227586, 8385, 1352, 4755, 7966],'UNIT':['NONE','NONE','NONE','NONE','NONE','NONE','NONE','NONE','NONE','NONE','NONE','NONE','NONE','NONE','NONE','NONE','NONE']},\n",
    "{'CHAREVENT':'WEIGHT', 'DESCRIPTION':'','ITEMID':[763, 224639, 226512, 3580, 3693, 3581, 226531, 3582],'UNIT':['kg','kg','kg','kg','kg','lb','lb','oz']},\n",
    "{'CHAREVENT':'HEIGHT', 'DESCRIPTION':'','ITEMID':[226707, 226730, 1394],'UNIT':['?','cm','in']},\n",
    "]"
   ]
  },
  {
   "cell_type": "code",
   "execution_count": 360,
   "metadata": {},
   "outputs": [],
   "source": [
    "sample_dtype_init = {'GCS_EYE': object, 'GCS_EYE_ID': np.float64, 'GCS_MOTOR': object, 'GCS_MOTOR_ID': np.float64, \n",
    "                     'GCS_VERBAL': object, 'GCS_VERBAL_ID': np.float64, 'GCS_TOTAL': object, 'GCS_TOTAL_ID': np.float64, \n",
    "                     'CAPILLARY_REFILL': object, 'CAPILLARY_REFILL_ID': np.float64, 'D_BLOOD_PRESSURE': object, \n",
    "                     'D_BLOOD_PRESSURE_ID': np.float64, 'M_BLOOD_PRESSURE': object, 'M_BLOOD_PRESSURE_ID': np.float64, \n",
    "                     'S_BLOOD_PRESSURE': object, 'S_BLOOD_PRESSURE_ID': np.float64, 'HEART_RATE': object, 'HEART_RATE_ID': np.float64, \n",
    "                     'GLUCOSE': object, 'GLUCOSE_ID': np.float64, 'FRAC_OXYGEN': object, 'FRAC_OXYGEN_ID': object, 'O2_SAT': object, \n",
    "                     'O2_SAT_ID': np.float64, 'RESP_RATE': object, 'RESP_RATE_ID': np.float64, 'BODY_TEMP': object, 'BODY_TEMP_ID': np.float64, \n",
    "                     'PH': object, 'PH_ID': np.float64, 'WEIGHT': object, 'WEIGHT_ID': np.float64, 'HEIGHT': object, 'HEIGHT_ID': np.float64, \n",
    "                     'GCS_EYE_IND': np.int8, 'GCS_MOTOR_IND': np.int8, 'GCS_VERBAL_IND': np.int8, 'GCS_TOTAL_IND': np.int8, \n",
    "                     'CAPILLARY_REFILL_IND': np.int8, 'D_BLOOD_PRESSURE_IND': np.int8, 'M_BLOOD_PRESSURE_IND': np.int8, 'S_BLOOD_PRESSURE_IND': np.int8, \n",
    "                     'HEART_RATE_IND': np.int8, 'GLUCOSE_IND': np.int8, 'FRAC_OXYGEN_IND': np.int8, 'O2_SAT_IND': np.int8, 'RESP_RATE_IND': np.int8, \n",
    "                     'BODY_TEMP_IND': np.int8, 'PH_IND': np.int8, 'WEIGHT_IND': np.int8, 'HEIGHT_IND': np.int8}"
   ]
  },
  {
   "cell_type": "code",
   "execution_count": 361,
   "metadata": {},
   "outputs": [],
   "source": [
    "sample_dtype_final = {'GCS_EYE': np.float64, 'GCS_EYE_ID': np.float64, 'GCS_MOTOR': np.float64, 'GCS_MOTOR_ID': np.float64, \n",
    "                     'GCS_VERBAL': np.float64, 'GCS_VERBAL_ID': np.float64, 'GCS_TOTAL': np.float64, 'GCS_TOTAL_ID': np.float64, \n",
    "                     'CAPILLARY_REFILL': np.float64, 'CAPILLARY_REFILL_ID': np.float64, 'D_BLOOD_PRESSURE': np.float64, \n",
    "                     'D_BLOOD_PRESSURE_ID': np.float64, 'M_BLOOD_PRESSURE': np.float64, 'M_BLOOD_PRESSURE_ID': np.float64, \n",
    "                     'S_BLOOD_PRESSURE': np.float64, 'S_BLOOD_PRESSURE_ID': np.float64, 'HEART_RATE': np.float64, 'HEART_RATE_ID': np.float64, \n",
    "                     'GLUCOSE': np.float64, 'GLUCOSE_ID': np.float64, 'FRAC_OXYGEN': np.float64, 'FRAC_OXYGEN_ID': np.float64, 'O2_SAT': np.float64, \n",
    "                     'O2_SAT_ID': np.float64, 'RESP_RATE': np.float64, 'RESP_RATE_ID': np.float64, 'BODY_TEMP': np.float64, 'BODY_TEMP_ID': np.float64, \n",
    "                     'PH': np.float64, 'PH_ID': np.float64, 'WEIGHT': np.float64, 'WEIGHT_ID': np.float64, 'HEIGHT': np.float64, 'HEIGHT_ID': np.float64, \n",
    "                     'GCS_EYE_IND': np.int8, 'GCS_MOTOR_IND': np.int8, 'GCS_VERBAL_IND': np.int8, 'GCS_TOTAL_IND': np.int8, \n",
    "                     'CAPILLARY_REFILL_IND': np.int8, 'D_BLOOD_PRESSURE_IND': np.int8, 'M_BLOOD_PRESSURE_IND': np.int8, 'S_BLOOD_PRESSURE_IND': np.int8, \n",
    "                     'HEART_RATE_IND': np.int8, 'GLUCOSE_IND': np.int8, 'FRAC_OXYGEN_IND': np.int8, 'O2_SAT_IND': np.int8, 'RESP_RATE_IND': np.int8, \n",
    "                     'BODY_TEMP_IND': np.int8, 'PH_IND': np.int8, 'WEIGHT_IND': np.int8, 'HEIGHT_IND': np.int8}\n"
   ]
  },
  {
   "cell_type": "code",
   "execution_count": 362,
   "metadata": {},
   "outputs": [],
   "source": [
    "id_column_list = ['GCS_EYE_ID','GCS_MOTOR_ID','GCS_VERBAL_ID','GCS_TOTAL_ID','CAPILLARY_REFILL_ID',\n",
    "                  'D_BLOOD_PRESSURE_ID','M_BLOOD_PRESSURE_ID','S_BLOOD_PRESSURE_ID','HEART_RATE_ID',\n",
    "                  'GLUCOSE_ID','FRAC_OXYGEN_ID','O2_SAT_ID','RESP_RATE_ID','BODY_TEMP_ID','PH_ID',\n",
    "                  'WEIGHT_ID','HEIGHT_ID']"
   ]
  },
  {
   "cell_type": "code",
   "execution_count": 363,
   "metadata": {},
   "outputs": [
    {
     "data": {
      "text/plain": [
       "6"
      ]
     },
     "execution_count": 363,
     "metadata": {},
     "output_type": "execute_result"
    }
   ],
   "source": [
    "chartevents_dir_list = os.listdir(REDUCED_CE_BY_ICUSTAY_ID)\n",
    "len(chartevents_dir_list)"
   ]
  },
  {
   "cell_type": "code",
   "execution_count": 364,
   "metadata": {},
   "outputs": [],
   "source": [
    "# test = pd.read_parquet(REDUCED_CE_BY_ICUSTAY_ID + chartevents_dir_list[0])\n",
    "# test.head(1)"
   ]
  },
  {
   "cell_type": "code",
   "execution_count": 365,
   "metadata": {},
   "outputs": [],
   "source": [
    "body_temp_f = [3654, 678, 223761, 679, 228242,227054]\n",
    "body_temp_unknown = [645, 591]\n",
    "\n",
    "\n",
    "weight_lb = [3581, 226531]\n",
    "weight_oz = [3582]\n",
    "\n",
    "height_in = [226707, 1394]\n",
    "\n",
    "body_temp_unknown_unit = {}\n",
    "weight_unknown_unit = {}\n",
    "\n",
    "for i in body_temp_unknown:\n",
    "    body_temp_unknown_unit[i] = []\n"
   ]
  },
  {
   "cell_type": "code",
   "execution_count": 366,
   "metadata": {},
   "outputs": [],
   "source": [
    "def convert_percent(val):\n",
    "    if val is not None:\n",
    "        if val < MAX_FRACTION:\n",
    "            return val * MAX_PERCENT"
   ]
  },
  {
   "cell_type": "code",
   "execution_count": null,
   "metadata": {},
   "outputs": [],
   "source": []
  },
  {
   "cell_type": "code",
   "execution_count": 367,
   "metadata": {},
   "outputs": [],
   "source": [
    "def convert_body_temp(row, stay):\n",
    "    #print('ROW: ', row['BODY_TEMP_ID'])\n",
    "    #if row['BODY_TEMP_ID'] is not None and row['HEIGHT_ID'] != np.NaN:\n",
    "    try:\n",
    "        id = int(row['BODY_TEMP_ID'])\n",
    "        if id in body_temp_f:\n",
    "            row['BODY_TEMP'] =(((row['BODY_TEMP'] - 32) * 5) / 9) \n",
    "        elif id in body_temp_unknown:\n",
    "            body_temp_unknown_unit[id].append([stay, row['BODY_TEMP']])\n",
    "    except Exception as e:\n",
    "        pass\n",
    "    \n",
    "        \n",
    "    return row"
   ]
  },
  {
   "cell_type": "code",
   "execution_count": 368,
   "metadata": {},
   "outputs": [],
   "source": [
    "def convert_weight(row):\n",
    "    # if row['WEIGHT_ID'] is not None and row['HEIGHT_ID'] != np.NaN:\n",
    "    try:\n",
    "        id = int(row['WEIGHT_ID'])\n",
    "        if id in weight_oz:\n",
    "            row['WEIGHT'] = row['WEIGHT'] * OZ_TO_KG\n",
    "        elif id in weight_lb:\n",
    "            row['WEIGHT'] = row['WEIGHT'] * LB_TO_KG\n",
    "    except Exception as e:\n",
    "        pass\n",
    "    \n",
    "    return row"
   ]
  },
  {
   "cell_type": "code",
   "execution_count": 369,
   "metadata": {},
   "outputs": [],
   "source": [
    "def convert_height(row):\n",
    "    # if row['HEIGHT_ID'] is not None and row['HEIGHT_ID'] != np.NaN:\n",
    "    try:\n",
    "        id = int(row['HEIGHT_ID'])\n",
    "        if id in height_in:\n",
    "            row['HEIGHT'] = row['HEIGHT'] * IN_TO_CM\n",
    "    except Exception as e:\n",
    "        pass\n",
    "    \n",
    "    return row"
   ]
  },
  {
   "cell_type": "code",
   "execution_count": 370,
   "metadata": {},
   "outputs": [],
   "source": [
    "def convert(row, stay):\n",
    "    row = convert_body_temp(row, stay)\n",
    "    row = convert_weight(row)\n",
    "    row = convert_height(row)\n",
    "    return row"
   ]
  },
  {
   "cell_type": "code",
   "execution_count": null,
   "metadata": {},
   "outputs": [],
   "source": []
  },
  {
   "attachments": {},
   "cell_type": "markdown",
   "metadata": {},
   "source": [
    "### Goals\n",
    "\n",
    "1. Transform columns to numerical values\n",
    "2. Transform dtypes\n",
    "3. "
   ]
  },
  {
   "cell_type": "code",
   "execution_count": 371,
   "metadata": {},
   "outputs": [
    {
     "data": {
      "application/vnd.jupyter.widget-view+json": {
       "model_id": "4ba75a14d79541f48a440d5d9dd32c56",
       "version_major": 2,
       "version_minor": 0
      },
      "text/plain": [
       "  0%|          | 0/6 [00:00<?, ?it/s]"
      ]
     },
     "metadata": {},
     "output_type": "display_data"
    }
   ],
   "source": [
    "failed = []\n",
    "\n",
    "\n",
    "for stay in tqdm(chartevents_dir_list, total=len(chartevents_dir_list)):\n",
    "    # try:\n",
    "        sample_df = pd.read_parquet(REDUCED_CE_BY_ICUSTAY_ID + stay)\n",
    "        sample_df = sample_df.reset_index(drop=True).astype(sample_dtype_init)\n",
    "        \n",
    "        sample_df['GCS_EYE'] = sample_df['GCS_EYE'].map(gcs_eye_map)\n",
    "        sample_df['GCS_MOTOR'] = sample_df['GCS_MOTOR'].map(gcs_motor_map)\n",
    "        sample_df['GCS_VERBAL'] = sample_df['GCS_VERBAL'].map(gcs_verbal_map)\n",
    "        sample_df['CAPILLARY_REFILL'] = sample_df['CAPILLARY_REFILL'].map(capillary_map)\n",
    "\n",
    "        sample_df['BODY_TEMP'] = pd.to_numeric(sample_df['BODY_TEMP'],errors='coerce')\n",
    "        sample_df['BODY_TEMP_IND'] = sample_df['BODY_TEMP'].notnull().astype(np.int8)\n",
    "\n",
    "        if sample_df['GLUCOSE'].dtype != np.float64:\n",
    "            sample_df['GLUCOSE'] = pd.to_numeric(sample_df['GLUCOSE'].apply(lambda x: re.sub(r'[^1-9]*','',x) if x is not None else np.NaN), errors='coerce')\n",
    "            sample_df['GLUCOSE_IND'] = sample_df['GLUCOSE'].notnull().astype(np.int8)\n",
    "\n",
    "        sample_df['PH'] = pd.to_numeric(sample_df['PH'], errors='coerce')\n",
    "        sample_df['PH_IND'] = sample_df['PH'].notnull().astype(np.int8)\n",
    "\n",
    "        sample_df = sample_df.astype(sample_dtype_final)\n",
    "\n",
    "        sample_df['GCS_TOTAL'] = sample_df[['GCS_EYE','GCS_MOTOR','GCS_VERBAL']].sum(axis=1,min_count=3)\n",
    "\n",
    "        sample_df['GCS_TOTAL_IND'] = sample_df['GCS_TOTAL_IND'].where((sample_df['GCS_TOTAL'] >= 3) & (sample_df['GCS_TOTAL'] <= 15), 1)\n",
    "\n",
    "        # TODO: need to convert columns to same units\n",
    "        # i.e. some of the temp readings are in F, some C. [cm,in], [kg,lb], [C,F]\n",
    "            # height, weight, temp\n",
    "        # confirm the columns below are the same type. i.e. 21 = 0.21\n",
    "            # FRAC_OXYGEN, O2_SAT, RESP_RATE\n",
    "        # Remove ID columns\n",
    "        \n",
    "        sample_df['FRAC_OXYGEN'] = sample_df['FRAC_OXYGEN'].apply(convert_percent)\n",
    "        sample_df['O2_SAT'] = sample_df['O2_SAT'].apply(convert_percent)\n",
    "        sample_df = sample_df.apply(convert, axis=1, stay = stay)\n",
    "\n",
    "        # # BODY_TEMP need C\n",
    "        # # body_temp_f = [3654, 678, 223761, 679, 228242,227054]\n",
    "        # # body_temp_unknown = [645, 591]\n",
    "        # sample_df = sample_df.apply(convert_body_temp, axis=1)\n",
    "        # bt_idx = sample_df['BODY_TEMP_ID'].first_valid_index()\n",
    "        # if bt_idx is not None:\n",
    "        #     bt_id_val = int(sample_df.at[bt_idx,'BODY_TEMP_ID'])\n",
    "        #     if bt_id_val in body_temp_f:\n",
    "        #         sample_df['BODY_TEMP'] = sample_df['BODY_TEMP'].apply(lambda x: (((x - 32) * 5) / 9) if x is not np.NaN else np.NaN)\n",
    "        #     elif bt_id_val in body_temp_unknown:\n",
    "        #         body_temp_unknown_unit[bt_id_val].append([stay, sample_df.at[bt_idx,'BODY_TEMP']])\n",
    "\n",
    "            \n",
    "\n",
    "        # # WEIGHT need kg\n",
    "        # # weight_lb = [3581, 226531]\n",
    "        # # weight_oz = [3582]\n",
    "        # # weight_unknown = [763]\n",
    "        # w_idx = sample_df['WEIGHT_ID'].first_valid_index()\n",
    "        # if w_idx is not None:\n",
    "        #     w_id_val = int(sample_df.at[w_idx,'WEIGHT_ID'])\n",
    "        #     if w_id_val in weight_oz:\n",
    "        #         sample_df['WEIGHT'] = sample_df['WEIGHT'].apply(lambda x: x * OZ_TO_KG if x is not np.NaN else np.NaN)\n",
    "        #     elif w_id_val in weight_lb:\n",
    "        #         sample_df['WEIGHT'] = sample_df['WEIGHT'].apply(lambda x: x * LB_TO_KG if x is not np.NaN else np.NaN)\n",
    "\n",
    "\n",
    "        \n",
    "        # # HEIGHT need cm\n",
    "        # # height_in = [226707, 1394]\n",
    "        # h_idx = sample_df['HEIGHT_ID'].first_valid_index()\n",
    "        # if h_idx is not None:\n",
    "        #     h_id_val = int(sample_df.at[h_idx,'HEIGHT_ID'])\n",
    "        #     if h_id_val in height_in:\n",
    "        #         sample_df['HEIGHT'] = sample_df['HEIGHT'].apply(lambda x: x * IN_TO_CM if x is not np.NaN else np.NaN)\n",
    "\n",
    "\n",
    "        sample_df = sample_df.drop(id_column_list, axis=1).reset_index(drop=True)\n",
    "\n",
    "        sample_df.to_parquet(NUMERICAL_BY_ICUSTAY_ID+stay)\n",
    "        # break\n",
    "    # except Exception as e:\n",
    "    #     failed.append(stay)\n",
    "    #     failed.append(str(e))\n",
    "    #     continue\n"
   ]
  },
  {
   "cell_type": "code",
   "execution_count": 372,
   "metadata": {},
   "outputs": [
    {
     "data": {
      "text/plain": [
       "0"
      ]
     },
     "execution_count": 372,
     "metadata": {},
     "output_type": "execute_result"
    }
   ],
   "source": [
    "len(failed)"
   ]
  },
  {
   "cell_type": "code",
   "execution_count": 373,
   "metadata": {},
   "outputs": [
    {
     "data": {
      "text/plain": [
       "[]"
      ]
     },
     "execution_count": 373,
     "metadata": {},
     "output_type": "execute_result"
    }
   ],
   "source": [
    "failed"
   ]
  },
  {
   "cell_type": "code",
   "execution_count": 374,
   "metadata": {},
   "outputs": [],
   "source": [
    "if WRITE_ERRORS_TO_FILE:\n",
    "    with open('Step5_failed.txt', 'w') as f:\n",
    "        for line in failed:\n",
    "            f.write(line)\n",
    "            f.write('\\n')"
   ]
  },
  {
   "cell_type": "code",
   "execution_count": 375,
   "metadata": {},
   "outputs": [
    {
     "data": {
      "text/plain": [
       "{645: [], 591: []}"
      ]
     },
     "execution_count": 375,
     "metadata": {},
     "output_type": "execute_result"
    }
   ],
   "source": [
    "body_temp_unknown_unit"
   ]
  },
  {
   "cell_type": "code",
   "execution_count": 376,
   "metadata": {},
   "outputs": [
    {
     "data": {
      "text/plain": [
       "(48, 34)"
      ]
     },
     "execution_count": 376,
     "metadata": {},
     "output_type": "execute_result"
    }
   ],
   "source": [
    "sample_df.shape"
   ]
  },
  {
   "cell_type": "code",
   "execution_count": 377,
   "metadata": {},
   "outputs": [
    {
     "data": {
      "text/html": [
       "<div>\n",
       "<style scoped>\n",
       "    .dataframe tbody tr th:only-of-type {\n",
       "        vertical-align: middle;\n",
       "    }\n",
       "\n",
       "    .dataframe tbody tr th {\n",
       "        vertical-align: top;\n",
       "    }\n",
       "\n",
       "    .dataframe thead th {\n",
       "        text-align: right;\n",
       "    }\n",
       "</style>\n",
       "<table border=\"1\" class=\"dataframe\">\n",
       "  <thead>\n",
       "    <tr style=\"text-align: right;\">\n",
       "      <th></th>\n",
       "      <th>GCS_EYE</th>\n",
       "      <th>GCS_MOTOR</th>\n",
       "      <th>GCS_VERBAL</th>\n",
       "      <th>GCS_TOTAL</th>\n",
       "      <th>CAPILLARY_REFILL</th>\n",
       "      <th>D_BLOOD_PRESSURE</th>\n",
       "      <th>M_BLOOD_PRESSURE</th>\n",
       "      <th>S_BLOOD_PRESSURE</th>\n",
       "      <th>HEART_RATE</th>\n",
       "      <th>GLUCOSE</th>\n",
       "      <th>...</th>\n",
       "      <th>S_BLOOD_PRESSURE_IND</th>\n",
       "      <th>HEART_RATE_IND</th>\n",
       "      <th>GLUCOSE_IND</th>\n",
       "      <th>FRAC_OXYGEN_IND</th>\n",
       "      <th>O2_SAT_IND</th>\n",
       "      <th>RESP_RATE_IND</th>\n",
       "      <th>BODY_TEMP_IND</th>\n",
       "      <th>PH_IND</th>\n",
       "      <th>WEIGHT_IND</th>\n",
       "      <th>HEIGHT_IND</th>\n",
       "    </tr>\n",
       "  </thead>\n",
       "  <tbody>\n",
       "    <tr>\n",
       "      <th>0</th>\n",
       "      <td>4.0</td>\n",
       "      <td>6.0</td>\n",
       "      <td>5.0</td>\n",
       "      <td>15.0</td>\n",
       "      <td>NaN</td>\n",
       "      <td>78.0</td>\n",
       "      <td>92.0</td>\n",
       "      <td>138.0</td>\n",
       "      <td>109.0</td>\n",
       "      <td>149.0</td>\n",
       "      <td>...</td>\n",
       "      <td>1</td>\n",
       "      <td>1</td>\n",
       "      <td>1</td>\n",
       "      <td>0</td>\n",
       "      <td>1</td>\n",
       "      <td>1</td>\n",
       "      <td>1</td>\n",
       "      <td>0</td>\n",
       "      <td>1</td>\n",
       "      <td>0</td>\n",
       "    </tr>\n",
       "    <tr>\n",
       "      <th>1</th>\n",
       "      <td>NaN</td>\n",
       "      <td>NaN</td>\n",
       "      <td>NaN</td>\n",
       "      <td>NaN</td>\n",
       "      <td>NaN</td>\n",
       "      <td>95.0</td>\n",
       "      <td>111.0</td>\n",
       "      <td>157.0</td>\n",
       "      <td>112.0</td>\n",
       "      <td>NaN</td>\n",
       "      <td>...</td>\n",
       "      <td>1</td>\n",
       "      <td>1</td>\n",
       "      <td>0</td>\n",
       "      <td>0</td>\n",
       "      <td>1</td>\n",
       "      <td>1</td>\n",
       "      <td>0</td>\n",
       "      <td>0</td>\n",
       "      <td>0</td>\n",
       "      <td>0</td>\n",
       "    </tr>\n",
       "    <tr>\n",
       "      <th>2</th>\n",
       "      <td>NaN</td>\n",
       "      <td>NaN</td>\n",
       "      <td>NaN</td>\n",
       "      <td>NaN</td>\n",
       "      <td>NaN</td>\n",
       "      <td>79.0</td>\n",
       "      <td>88.0</td>\n",
       "      <td>116.0</td>\n",
       "      <td>86.0</td>\n",
       "      <td>NaN</td>\n",
       "      <td>...</td>\n",
       "      <td>1</td>\n",
       "      <td>1</td>\n",
       "      <td>0</td>\n",
       "      <td>0</td>\n",
       "      <td>1</td>\n",
       "      <td>1</td>\n",
       "      <td>0</td>\n",
       "      <td>0</td>\n",
       "      <td>0</td>\n",
       "      <td>0</td>\n",
       "    </tr>\n",
       "    <tr>\n",
       "      <th>3</th>\n",
       "      <td>4.0</td>\n",
       "      <td>6.0</td>\n",
       "      <td>5.0</td>\n",
       "      <td>15.0</td>\n",
       "      <td>NaN</td>\n",
       "      <td>96.0</td>\n",
       "      <td>104.0</td>\n",
       "      <td>132.0</td>\n",
       "      <td>88.0</td>\n",
       "      <td>127.0</td>\n",
       "      <td>...</td>\n",
       "      <td>1</td>\n",
       "      <td>1</td>\n",
       "      <td>1</td>\n",
       "      <td>0</td>\n",
       "      <td>1</td>\n",
       "      <td>1</td>\n",
       "      <td>1</td>\n",
       "      <td>0</td>\n",
       "      <td>0</td>\n",
       "      <td>0</td>\n",
       "    </tr>\n",
       "    <tr>\n",
       "      <th>4</th>\n",
       "      <td>NaN</td>\n",
       "      <td>NaN</td>\n",
       "      <td>NaN</td>\n",
       "      <td>NaN</td>\n",
       "      <td>NaN</td>\n",
       "      <td>102.0</td>\n",
       "      <td>109.0</td>\n",
       "      <td>140.0</td>\n",
       "      <td>87.0</td>\n",
       "      <td>NaN</td>\n",
       "      <td>...</td>\n",
       "      <td>1</td>\n",
       "      <td>1</td>\n",
       "      <td>0</td>\n",
       "      <td>0</td>\n",
       "      <td>1</td>\n",
       "      <td>1</td>\n",
       "      <td>0</td>\n",
       "      <td>0</td>\n",
       "      <td>0</td>\n",
       "      <td>0</td>\n",
       "    </tr>\n",
       "  </tbody>\n",
       "</table>\n",
       "<p>5 rows × 34 columns</p>\n",
       "</div>"
      ],
      "text/plain": [
       "   GCS_EYE  GCS_MOTOR  GCS_VERBAL  GCS_TOTAL  CAPILLARY_REFILL   \n",
       "0      4.0        6.0         5.0       15.0               NaN  \\\n",
       "1      NaN        NaN         NaN        NaN               NaN   \n",
       "2      NaN        NaN         NaN        NaN               NaN   \n",
       "3      4.0        6.0         5.0       15.0               NaN   \n",
       "4      NaN        NaN         NaN        NaN               NaN   \n",
       "\n",
       "   D_BLOOD_PRESSURE  M_BLOOD_PRESSURE  S_BLOOD_PRESSURE  HEART_RATE  GLUCOSE   \n",
       "0              78.0              92.0             138.0       109.0    149.0  \\\n",
       "1              95.0             111.0             157.0       112.0      NaN   \n",
       "2              79.0              88.0             116.0        86.0      NaN   \n",
       "3              96.0             104.0             132.0        88.0    127.0   \n",
       "4             102.0             109.0             140.0        87.0      NaN   \n",
       "\n",
       "   ... S_BLOOD_PRESSURE_IND HEART_RATE_IND  GLUCOSE_IND  FRAC_OXYGEN_IND   \n",
       "0  ...                    1              1            1                0  \\\n",
       "1  ...                    1              1            0                0   \n",
       "2  ...                    1              1            0                0   \n",
       "3  ...                    1              1            1                0   \n",
       "4  ...                    1              1            0                0   \n",
       "\n",
       "   O2_SAT_IND  RESP_RATE_IND  BODY_TEMP_IND  PH_IND  WEIGHT_IND  HEIGHT_IND  \n",
       "0           1              1              1       0           1           0  \n",
       "1           1              1              0       0           0           0  \n",
       "2           1              1              0       0           0           0  \n",
       "3           1              1              1       0           0           0  \n",
       "4           1              1              0       0           0           0  \n",
       "\n",
       "[5 rows x 34 columns]"
      ]
     },
     "execution_count": 377,
     "metadata": {},
     "output_type": "execute_result"
    }
   ],
   "source": [
    "sample_df.head()"
   ]
  },
  {
   "cell_type": "code",
   "execution_count": null,
   "metadata": {},
   "outputs": [],
   "source": []
  }
 ],
 "metadata": {
  "kernelspec": {
   "display_name": ".venv",
   "language": "python",
   "name": "python3"
  },
  "language_info": {
   "codemirror_mode": {
    "name": "ipython",
    "version": 3
   },
   "file_extension": ".py",
   "mimetype": "text/x-python",
   "name": "python",
   "nbconvert_exporter": "python",
   "pygments_lexer": "ipython3",
   "version": "3.10.9"
  },
  "orig_nbformat": 4
 },
 "nbformat": 4,
 "nbformat_minor": 2
}
