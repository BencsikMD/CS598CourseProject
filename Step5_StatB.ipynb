{
 "cells": [
  {
   "cell_type": "code",
   "execution_count": 1,
   "metadata": {},
   "outputs": [],
   "source": [
    "import pandas as pd\n",
    "import numpy as np\n",
    "import os\n",
    "import timeit\n",
    "from tqdm.notebook import trange, tqdm\n",
    "import re"
   ]
  },
  {
   "cell_type": "code",
   "execution_count": 2,
   "metadata": {},
   "outputs": [],
   "source": [
    "CHARTEVENTS_BY_ICUSTAY_ID = 'data/parquet/'\n",
    "REDUCED_CE_BY_ICUSTAY_ID = 'data/samples/'\n",
    "NUMERICAL_BY_ICUSTAY_ID = 'data/samples_numerical/'\n",
    "CHARTEVENTS_FILENAME = 'mimic-iii/CHARTEVENTS.csv'\n",
    "READMISSION_FILENAME = 'data/readmission.csv'\n",
    "PARQUET_EXT = '.parquet'\n"
   ]
  },
  {
   "cell_type": "code",
   "execution_count": 3,
   "metadata": {},
   "outputs": [],
   "source": [
    "# chartevents_dir_list = os.listdir(REDUCED_CE_BY_ICUSTAY_ID)\n",
    "# len(chartevents_dir_list)"
   ]
  },
  {
   "cell_type": "code",
   "execution_count": 4,
   "metadata": {},
   "outputs": [],
   "source": [
    "# test = pd.read_parquet(REDUCED_CE_BY_ICUSTAY_ID + chartevents_dir_list[5])\n",
    "# test = test.reset_index(drop=True)"
   ]
  },
  {
   "attachments": {},
   "cell_type": "markdown",
   "metadata": {},
   "source": [
    "\n",
    "![Glascow](assets/images/GCS.jpg)\n",
    "\n",
    "https://www.firstaidforfree.com/glasgow-coma-scale-gcs-first-aiders/"
   ]
  },
  {
   "attachments": {},
   "cell_type": "markdown",
   "metadata": {},
   "source": [
    "|\tChart Event\t|\tDim\t|\tNormal\t| Initial dtype | Change to dtype |\n",
    "| --- | :--- | :--- | :--- | :--- |\n",
    "|\t1. Glasgow coma scale eye opening\t|\t4\t|\t4 Spontaneously\t| str | int |\n",
    "|\t2. Glasgow coma scale verbal response\t|\t5\t|\t5 Oriented\t| str | int |\n",
    "|\t3. Glasgow coma scale motor response\t|\t6\t|\t6 Obeys Commands\t| str | int |\n",
    "|\t4. Glasgow coma scale total\t|\t13\t|\t15\t| none/int | int |\n",
    "|\t5. Capillary refill rate\t|\t2\t|\tNormal < 3 secs\t| str | int |\n",
    "|\t6. Diastolic blood pressure\t|\t1\t|\t70\t| int | int |\n",
    "|\t7. Systolic blood pressure\t|\t1\t|\t105\t| int | int |\n",
    "|\t8. Mean blood pressure\t|\t1\t|\t87.5\t| int/float | int |\n",
    "|\t9. Heart Rate\t|\t1\t|\t80\t| int | int |\n",
    "|\t10. Glucose\t|\t1\t|\t85\t| int | int |\n",
    "|\t11. Fraction inspired oxygen\t|\t1\t|\t0.21\t| int/float | float? |\n",
    "|\t12. Oxygen saturation\t|\t1\t|\t97.5\t| int | int |\n",
    "|\t13. Respiratory rate\t|\t1\t|\t15\t| int | int |\n",
    "|\t14. Body Temperature\t|\t1\t|\t37\t| float | float |\n",
    "|\t15. pH\t|\t1\t|\t7.4\t| float | float |\n",
    "|\t16. Weight\t|\t1\t|\t80.7\t| float | float |\n",
    "|\t17. Height\t|\t1\t|\t168.8\t| float | float |\n",
    "\n",
    "\n",
    "Since there are so many `NaN` values, everything should just be a float?"
   ]
  },
  {
   "cell_type": "code",
   "execution_count": 5,
   "metadata": {},
   "outputs": [],
   "source": [
    "gcs_eye_map     = {'__missing__': np.NaN, '4 Spontaneously': '4', '1 No Response': '1', '2 To pain': '2', '3 To speech': '3', 'To Speech': '3', 'Spontaneously': '4', 'To Pain': '2'}\n",
    "gcs_motor_map   = {'__missing__': np.NaN, '6 Obeys Commands': '6', '5 Localizes Pain': '5', '1 No Response': '1', '4 Flex-withdraws': '4', '2 Abnorm extensn': '2', '3 Abnorm flexion': '3', 'Localizes Pain': '5', \n",
    "                    'Obeys Commands': '6', 'Flex-withdraws': '4', 'No response': '1', 'Abnormal Flexion': '3', 'Abnormal extension': '2'}\n",
    "gcs_verbal_map  = {'__missing__': np.NaN, '5 Oriented': '5', '1.0 ET/Trach': '1', '4 Confused': '4', '2 Incomp sounds': '2', '1 No Response': '1', '3 Inapprop words': '3', 'No Response-ETT': '1', \n",
    "                    'Oriented': '5', 'No Response': '1', 'Confused': '4', 'Incomprehensible sounds': '2', 'Inappropriate Words': '3'}\n",
    "capillary_map = {'__missing__': np.NaN, 'Brisk':'1', 'Delayed':'0', 'Comment':'0', 'Normal <3 secs':'1', 'Abnormal >3 secs':'0', 'Other/Remarks':'0', 'Normal <3 Seconds':'1', 'Abnormal >3 Seconds':'0'}\n"
   ]
  },
  {
   "cell_type": "code",
   "execution_count": 6,
   "metadata": {},
   "outputs": [],
   "source": [
    "chartevents_columns = [\"ROW_ID\",\"SUBJECT_ID\",\"HADM_ID\",\"ICUSTAY_ID\",\"ITEMID\",\"CHARTTIME\",\"STORETIME\",\"CGID\",\"VALUE\",\"VALUENUM\",\"VALUEUOM\",\"WARNING\",\"ERROR\",\"RESULTSTATUS\",\"STOPPED\"]"
   ]
  },
  {
   "cell_type": "code",
   "execution_count": 7,
   "metadata": {},
   "outputs": [],
   "source": [
    "event_to_id =[\n",
    "{'CHAREVENT':'GCS_EYE', 'DESCRIPTION':'','ITEMID':[184, 220739],'UNIT':['NONE','NONE']},\n",
    "{'CHAREVENT':'GCS_MOTOR', 'DESCRIPTION':'','ITEMID':[454, 223901],'UNIT':['NONE','NONE']},\n",
    "{'CHAREVENT':'GCS_VERBAL', 'DESCRIPTION':'','ITEMID':[723, 223900],'UNIT':['NONE','NONE']},\n",
    "{'CHAREVENT':'GCS_TOTAL', 'DESCRIPTION':'Sum of the 3 GCS events','ITEMID':[198],'UNIT':['NONE']},\n",
    "{'CHAREVENT':'CAPILLARY_REFILL', 'DESCRIPTION':'','ITEMID':[3348, 115, 8377, 223951, 224308],'UNIT':['BINARY','BINARY','BINARY','BINARY','BINARY']},\n",
    "]"
   ]
  },
  {
   "cell_type": "code",
   "execution_count": 8,
   "metadata": {},
   "outputs": [],
   "source": [
    "chartevents_dtype = {'ROW_ID':object,\n",
    "'SUBJECT_ID':object,\n",
    "'HADM_ID':object,\n",
    "'ICUSTAY_ID':object,\n",
    "'ITEMID':object,\n",
    "'CHARTTIME':object,\n",
    "'STORETIME':object,\n",
    "'CGID':object,\n",
    "'VALUE':object,\n",
    "'VALUENUM':object,\n",
    "'VALUEUOM':object,\n",
    "'WARNING':object,\n",
    "'ERROR':object,\n",
    "'RESULTSTATUS':object,\n",
    "'STOPPED':object}"
   ]
  },
  {
   "cell_type": "code",
   "execution_count": 9,
   "metadata": {},
   "outputs": [],
   "source": [
    "sample_dtype_init = {'GCS_EYE': object, 'GCS_EYE_ID': np.float64, 'GCS_MOTOR': object, 'GCS_MOTOR_ID': np.float64, \n",
    "                     'GCS_VERBAL': object, 'GCS_VERBAL_ID': np.float64, 'GCS_TOTAL': object, 'GCS_TOTAL_ID': np.float64, \n",
    "                     'CAPILLARY_REFILL': object, 'CAPILLARY_REFILL_ID': np.float64, 'D_BLOOD_PRESSURE': object, \n",
    "                     'D_BLOOD_PRESSURE_ID': np.float64, 'M_BLOOD_PRESSURE': object, 'M_BLOOD_PRESSURE_ID': np.float64, \n",
    "                     'S_BLOOD_PRESSURE': object, 'S_BLOOD_PRESSURE_ID': np.float64, 'HEART_RATE': object, 'HEART_RATE_ID': np.float64, \n",
    "                     'GLUCOSE': object, 'GLUCOSE_ID': np.float64, 'FRAC_OXYGEN': object, 'FRAC_OXYGEN_ID': object, 'O2_SAT': object, \n",
    "                     'O2_SAT_ID': np.float64, 'RESP_RATE': object, 'RESP_RATE_ID': np.float64, 'BODY_TEMP': object, 'BODY_TEMP_ID': np.float64, \n",
    "                     'PH': object, 'PH_ID': np.float64, 'WEIGHT': object, 'WEIGHT_ID': np.float64, 'HEIGHT': object, 'HEIGHT_ID': np.float64, \n",
    "                     'GCS_EYE_IND': np.int8, 'GCS_MOTOR_IND': np.int8, 'GCS_VERBAL_IND': np.int8, 'GCS_TOTAL_IND': np.int8, \n",
    "                     'CAPILLARY_REFILL_IND': np.int8, 'D_BLOOD_PRESSURE_IND': np.int8, 'M_BLOOD_PRESSURE_IND': np.int8, 'S_BLOOD_PRESSURE_IND': np.int8, \n",
    "                     'HEART_RATE_IND': np.int8, 'GLUCOSE_IND': np.int8, 'FRAC_OXYGEN_IND': np.int8, 'O2_SAT_IND': np.int8, 'RESP_RATE_IND': np.int8, \n",
    "                     'BODY_TEMP_IND': np.int8, 'PH_IND': np.int8, 'WEIGHT_IND': np.int8, 'HEIGHT_IND': np.int8}"
   ]
  },
  {
   "cell_type": "code",
   "execution_count": 10,
   "metadata": {},
   "outputs": [],
   "source": [
    "sample_dtype_final = {'GCS_EYE': np.float64, 'GCS_EYE_ID': np.float64, 'GCS_MOTOR': np.float64, 'GCS_MOTOR_ID': np.float64, \n",
    "                     'GCS_VERBAL': np.float64, 'GCS_VERBAL_ID': np.float64, 'GCS_TOTAL': np.float64, 'GCS_TOTAL_ID': np.float64, \n",
    "                     'CAPILLARY_REFILL': np.float64, 'CAPILLARY_REFILL_ID': np.float64, 'D_BLOOD_PRESSURE': np.float64, \n",
    "                     'D_BLOOD_PRESSURE_ID': np.float64, 'M_BLOOD_PRESSURE': np.float64, 'M_BLOOD_PRESSURE_ID': np.float64, \n",
    "                     'S_BLOOD_PRESSURE': np.float64, 'S_BLOOD_PRESSURE_ID': np.float64, 'HEART_RATE': np.float64, 'HEART_RATE_ID': np.float64, \n",
    "                     'GLUCOSE': np.float64, 'GLUCOSE_ID': np.float64, 'FRAC_OXYGEN': np.float64, 'FRAC_OXYGEN_ID': np.float64, 'O2_SAT': np.float64, \n",
    "                     'O2_SAT_ID': np.float64, 'RESP_RATE': np.float64, 'RESP_RATE_ID': np.float64, 'BODY_TEMP': np.float64, 'BODY_TEMP_ID': np.float64, \n",
    "                     'PH': np.float64, 'PH_ID': np.float64, 'WEIGHT': np.float64, 'WEIGHT_ID': np.float64, 'HEIGHT': np.float64, 'HEIGHT_ID': np.float64, \n",
    "                     'GCS_EYE_IND': np.int8, 'GCS_MOTOR_IND': np.int8, 'GCS_VERBAL_IND': np.int8, 'GCS_TOTAL_IND': np.int8, \n",
    "                     'CAPILLARY_REFILL_IND': np.int8, 'D_BLOOD_PRESSURE_IND': np.int8, 'M_BLOOD_PRESSURE_IND': np.int8, 'S_BLOOD_PRESSURE_IND': np.int8, \n",
    "                     'HEART_RATE_IND': np.int8, 'GLUCOSE_IND': np.int8, 'FRAC_OXYGEN_IND': np.int8, 'O2_SAT_IND': np.int8, 'RESP_RATE_IND': np.int8, \n",
    "                     'BODY_TEMP_IND': np.int8, 'PH_IND': np.int8, 'WEIGHT_IND': np.int8, 'HEIGHT_IND': np.int8}\n"
   ]
  },
  {
   "cell_type": "code",
   "execution_count": 11,
   "metadata": {},
   "outputs": [
    {
     "data": {
      "text/plain": [
       "48075"
      ]
     },
     "execution_count": 11,
     "metadata": {},
     "output_type": "execute_result"
    }
   ],
   "source": [
    "chartevents_dir_list = os.listdir(REDUCED_CE_BY_ICUSTAY_ID)\n",
    "len(chartevents_dir_list)"
   ]
  },
  {
   "cell_type": "code",
   "execution_count": 12,
   "metadata": {},
   "outputs": [
    {
     "data": {
      "text/html": [
       "<div>\n",
       "<style scoped>\n",
       "    .dataframe tbody tr th:only-of-type {\n",
       "        vertical-align: middle;\n",
       "    }\n",
       "\n",
       "    .dataframe tbody tr th {\n",
       "        vertical-align: top;\n",
       "    }\n",
       "\n",
       "    .dataframe thead th {\n",
       "        text-align: right;\n",
       "    }\n",
       "</style>\n",
       "<table border=\"1\" class=\"dataframe\">\n",
       "  <thead>\n",
       "    <tr style=\"text-align: right;\">\n",
       "      <th></th>\n",
       "      <th>GCS_EYE</th>\n",
       "      <th>GCS_EYE_ID</th>\n",
       "      <th>GCS_MOTOR</th>\n",
       "      <th>GCS_MOTOR_ID</th>\n",
       "      <th>GCS_VERBAL</th>\n",
       "      <th>GCS_VERBAL_ID</th>\n",
       "      <th>GCS_TOTAL</th>\n",
       "      <th>GCS_TOTAL_ID</th>\n",
       "      <th>CAPILLARY_REFILL</th>\n",
       "      <th>CAPILLARY_REFILL_ID</th>\n",
       "      <th>...</th>\n",
       "      <th>S_BLOOD_PRESSURE_IND</th>\n",
       "      <th>HEART_RATE_IND</th>\n",
       "      <th>GLUCOSE_IND</th>\n",
       "      <th>FRAC_OXYGEN_IND</th>\n",
       "      <th>O2_SAT_IND</th>\n",
       "      <th>RESP_RATE_IND</th>\n",
       "      <th>BODY_TEMP_IND</th>\n",
       "      <th>PH_IND</th>\n",
       "      <th>WEIGHT_IND</th>\n",
       "      <th>HEIGHT_IND</th>\n",
       "    </tr>\n",
       "  </thead>\n",
       "  <tbody>\n",
       "    <tr>\n",
       "      <th>0</th>\n",
       "      <td>None</td>\n",
       "      <td>NaN</td>\n",
       "      <td>None</td>\n",
       "      <td>NaN</td>\n",
       "      <td>None</td>\n",
       "      <td>NaN</td>\n",
       "      <td>None</td>\n",
       "      <td>None</td>\n",
       "      <td>None</td>\n",
       "      <td>NaN</td>\n",
       "      <td>...</td>\n",
       "      <td>1</td>\n",
       "      <td>1</td>\n",
       "      <td>0</td>\n",
       "      <td>0</td>\n",
       "      <td>1</td>\n",
       "      <td>1</td>\n",
       "      <td>0</td>\n",
       "      <td>1</td>\n",
       "      <td>0</td>\n",
       "      <td>0</td>\n",
       "    </tr>\n",
       "  </tbody>\n",
       "</table>\n",
       "<p>1 rows × 51 columns</p>\n",
       "</div>"
      ],
      "text/plain": [
       "  GCS_EYE  GCS_EYE_ID GCS_MOTOR  GCS_MOTOR_ID GCS_VERBAL  GCS_VERBAL_ID   \n",
       "0    None         NaN      None           NaN       None            NaN  \\\n",
       "\n",
       "  GCS_TOTAL GCS_TOTAL_ID CAPILLARY_REFILL  CAPILLARY_REFILL_ID  ...   \n",
       "0      None         None             None                  NaN  ...  \\\n",
       "\n",
       "  S_BLOOD_PRESSURE_IND  HEART_RATE_IND GLUCOSE_IND  FRAC_OXYGEN_IND   \n",
       "0                    1               1           0                0  \\\n",
       "\n",
       "  O2_SAT_IND  RESP_RATE_IND BODY_TEMP_IND  PH_IND WEIGHT_IND  HEIGHT_IND  \n",
       "0          1              1             0       1          0           0  \n",
       "\n",
       "[1 rows x 51 columns]"
      ]
     },
     "execution_count": 12,
     "metadata": {},
     "output_type": "execute_result"
    }
   ],
   "source": [
    "test = pd.read_parquet(REDUCED_CE_BY_ICUSTAY_ID + chartevents_dir_list[0])\n",
    "test.head(1)"
   ]
  },
  {
   "cell_type": "code",
   "execution_count": null,
   "metadata": {},
   "outputs": [],
   "source": []
  },
  {
   "cell_type": "code",
   "execution_count": 13,
   "metadata": {},
   "outputs": [],
   "source": [
    "def process_body_temp(x):\n",
    "    if x is None:\n",
    "        return np.NaN\n",
    "    elif x.isalpha():\n",
    "        return np.NaN\n",
    "    else:\n",
    "        return x"
   ]
  },
  {
   "attachments": {},
   "cell_type": "markdown",
   "metadata": {},
   "source": [
    "### Goals\n",
    "\n",
    "1. Transform columns to numerical values\n",
    "2. Transform dtypes\n",
    "3. "
   ]
  },
  {
   "cell_type": "code",
   "execution_count": 14,
   "metadata": {},
   "outputs": [
    {
     "data": {
      "application/vnd.jupyter.widget-view+json": {
       "model_id": "530227657ec648e19ba310160edbba56",
       "version_major": 2,
       "version_minor": 0
      },
      "text/plain": [
       "  0%|          | 0/48075 [00:00<?, ?it/s]"
      ]
     },
     "metadata": {},
     "output_type": "display_data"
    }
   ],
   "source": [
    "failed = []\n",
    "for stay in tqdm(chartevents_dir_list, total=len(chartevents_dir_list)):\n",
    "    try:\n",
    "        sample_df = pd.read_parquet(REDUCED_CE_BY_ICUSTAY_ID + stay)\n",
    "        sample_df = sample_df.reset_index(drop=True).astype(sample_dtype_init)\n",
    "        \n",
    "        sample_df['GCS_EYE'] = sample_df['GCS_EYE'].map(gcs_eye_map)\n",
    "        sample_df['GCS_MOTOR'] = sample_df['GCS_MOTOR'].map(gcs_motor_map)\n",
    "        sample_df['GCS_VERBAL'] = sample_df['GCS_VERBAL'].map(gcs_verbal_map)\n",
    "        sample_df['CAPILLARY_REFILL'] = sample_df['CAPILLARY_REFILL'].map(capillary_map)\n",
    "\n",
    "        sample_df['BODY_TEMP'] = pd.to_numeric(sample_df['BODY_TEMP'],errors='coerce')\n",
    "        sample_df['BODY_TEMP'] = sample_df['BODY_TEMP'].notnull().astype(np.int8)\n",
    "\n",
    "        if sample_df['GLUCOSE'].dtype != np.float64:\n",
    "            sample_df['GLUCOSE'] = pd.to_numeric(sample_df['GLUCOSE'].apply(lambda x: re.sub(r'[^1-9]*','',x) if x is not None else np.NaN), errors='coerce')\n",
    "            sample_df['GLUCOSE_IND'] = sample_df['GLUCOSE'].notnull().astype(np.int8)\n",
    "\n",
    "        sample_df['PH'] = pd.to_numeric(sample_df['PH'], errors='coerce')\n",
    "        sample_df['PH'] = sample_df['PH'].notnull().astype(np.int8)\n",
    "\n",
    "        sample_df = sample_df.astype(sample_dtype_final)\n",
    "\n",
    "        sample_df['GCS_TOTAL'] = sample_df[['GCS_EYE','GCS_MOTOR','GCS_VERBAL']].sum(axis=1,min_count=3)\n",
    "\n",
    "        sample_df['GCS_TOTAL_IND'] = sample_df['GCS_TOTAL_IND'].where((sample_df['GCS_TOTAL'] >= 3) & (sample_df['GCS_TOTAL'] <= 15), 1)\n",
    "\n",
    "\n",
    "        sample_df.to_parquet(NUMERICAL_BY_ICUSTAY_ID+stay+PARQUET_EXT)\n",
    "        # break\n",
    "    except Exception as e:\n",
    "        failed.append(stay)\n",
    "        failed.append(str(e))\n",
    "        continue\n"
   ]
  },
  {
   "cell_type": "code",
   "execution_count": 15,
   "metadata": {},
   "outputs": [
    {
     "data": {
      "text/plain": [
       "16"
      ]
     },
     "execution_count": 15,
     "metadata": {},
     "output_type": "execute_result"
    }
   ],
   "source": [
    "len(failed)"
   ]
  },
  {
   "cell_type": "code",
   "execution_count": 16,
   "metadata": {},
   "outputs": [],
   "source": [
    "\n",
    "# re.sub(r'[a-zA-Z]*|-*| *','','208CS')"
   ]
  },
  {
   "cell_type": "code",
   "execution_count": 17,
   "metadata": {},
   "outputs": [],
   "source": [
    "# uniq = []\n",
    "# for l in failed:\n",
    "#     if 'ICUSTAY' in l:\n",
    "#         pass\n",
    "#     else:\n",
    "#         l = l.split(' ')\n",
    "#         # print(l[-1])\n",
    "#         uniq.append(l[-1])\n",
    "#         # break\n",
    "\n",
    "# uniq = pd.unique(uniq)\n",
    "# uniq"
   ]
  },
  {
   "cell_type": "code",
   "execution_count": null,
   "metadata": {},
   "outputs": [],
   "source": [
    "# pd.Series([np.NaN]).str.isalnum()\n",
    "# s1=re.sub('[a-zA-Z]|-| ','',np.NaN)"
   ]
  },
  {
   "cell_type": "code",
   "execution_count": 19,
   "metadata": {},
   "outputs": [
    {
     "data": {
      "text/plain": [
       "['ICUSTAY_ID=241818',\n",
       " 'expected string or bytes-like object',\n",
       " 'ICUSTAY_ID=257263',\n",
       " 'expected string or bytes-like object',\n",
       " 'ICUSTAY_ID=284071',\n",
       " 'expected string or bytes-like object',\n",
       " 'ICUSTAY_ID=270057',\n",
       " 'expected string or bytes-like object',\n",
       " 'ICUSTAY_ID=246137',\n",
       " 'expected string or bytes-like object',\n",
       " 'ICUSTAY_ID=222558',\n",
       " 'expected string or bytes-like object',\n",
       " 'ICUSTAY_ID=268945',\n",
       " 'expected string or bytes-like object',\n",
       " 'ICUSTAY_ID=226237',\n",
       " 'expected string or bytes-like object']"
      ]
     },
     "execution_count": 19,
     "metadata": {},
     "output_type": "execute_result"
    }
   ],
   "source": [
    "failed"
   ]
  },
  {
   "cell_type": "code",
   "execution_count": 23,
   "metadata": {},
   "outputs": [],
   "source": [
    "with open('Step5_failed.txt', 'w') as f:\n",
    "    for line in failed:\n",
    "        f.write(line)\n",
    "        f.write('\\n')"
   ]
  },
  {
   "cell_type": "code",
   "execution_count": 20,
   "metadata": {},
   "outputs": [],
   "source": [
    "# sample_df[['GCS_TOTAL_ID','RESP_RATE','BODY_TEMP']].dtypes"
   ]
  },
  {
   "cell_type": "code",
   "execution_count": 21,
   "metadata": {},
   "outputs": [],
   "source": [
    "# Need to convert dtypes after reading\n",
    "# sample_df = pd.read_parquet(NUMERICAL_BY_ICUSTAY_ID + 'ICUSTAY_ID=200001').astype(sample_dtype_final)\n"
   ]
  },
  {
   "cell_type": "code",
   "execution_count": 22,
   "metadata": {},
   "outputs": [],
   "source": [
    "# sample_df[['GCS_TOTAL_ID','RESP_RATE','BODY_TEMP']].dtypes"
   ]
  },
  {
   "cell_type": "code",
   "execution_count": 38,
   "metadata": {},
   "outputs": [
    {
     "data": {
      "text/plain": [
       "True"
      ]
     },
     "execution_count": 38,
     "metadata": {},
     "output_type": "execute_result"
    }
   ],
   "source": [
    "sample_df = pd.read_parquet(REDUCED_CE_BY_ICUSTAY_ID + failed[14])\n",
    "sample_df['GLUCOSE'].dtype == np.float64"
   ]
  },
  {
   "cell_type": "code",
   "execution_count": null,
   "metadata": {},
   "outputs": [],
   "source": []
  },
  {
   "cell_type": "code",
   "execution_count": null,
   "metadata": {},
   "outputs": [],
   "source": []
  }
 ],
 "metadata": {
  "kernelspec": {
   "display_name": ".venv",
   "language": "python",
   "name": "python3"
  },
  "language_info": {
   "codemirror_mode": {
    "name": "ipython",
    "version": 3
   },
   "file_extension": ".py",
   "mimetype": "text/x-python",
   "name": "python",
   "nbconvert_exporter": "python",
   "pygments_lexer": "ipython3",
   "version": "3.10.9"
  },
  "orig_nbformat": 4
 },
 "nbformat": 4,
 "nbformat_minor": 2
}
