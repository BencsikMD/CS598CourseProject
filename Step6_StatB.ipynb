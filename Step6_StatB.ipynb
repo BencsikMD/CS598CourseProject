{
 "cells": [
  {
   "cell_type": "code",
   "execution_count": 33,
   "metadata": {},
   "outputs": [],
   "source": [
    "import pandas as pd\n",
    "import numpy as np\n",
    "import os\n",
    "import timeit\n",
    "from tqdm.notebook import trange, tqdm\n",
    "import re\n",
    "from sklearn.linear_model import LinearRegression\n",
    "import matplotlib.pyplot as plt"
   ]
  },
  {
   "cell_type": "code",
   "execution_count": 34,
   "metadata": {},
   "outputs": [],
   "source": [
    "DEMO = False\n",
    "WRITE_ERRORS_TO_FILE = True"
   ]
  },
  {
   "cell_type": "code",
   "execution_count": 35,
   "metadata": {},
   "outputs": [],
   "source": [
    "\n",
    "if DEMO:\n",
    "    CHARTEVENTS_BY_ICUSTAY_ID = 'data_demo/parquet/'\n",
    "    REDUCED_CE_BY_ICUSTAY_ID = 'data_demo/samples/'\n",
    "    NUMERICAL_BY_ICUSTAY_ID = 'data_demo/samples_numerical/'\n",
    "    STATB_BY_ICUSTAY_ID = 'data_demo/samples_statB/'\n",
    "    STATB_CSV_BY_ICUSTAY_ID = 'data_demo/samples_statB_csv/'\n",
    "else:\n",
    "    CHARTEVENTS_BY_ICUSTAY_ID = 'data/parquet/'\n",
    "    REDUCED_CE_BY_ICUSTAY_ID = 'data/samples/'\n",
    "    NUMERICAL_BY_ICUSTAY_ID = 'data/samples_numerical/'\n",
    "    STATB_BY_ICUSTAY_ID = 'data/samples_statB/'\n",
    "\n",
    "\n",
    "CHARTEVENTS_FILENAME = 'mimic-iii/CHARTEVENTS.csv'\n",
    "READMISSION_FILENAME = 'data/readmission.csv'\n",
    "PARQUET_EXT = '.parquet'\n",
    "STEP_FAIL_FILE = 'Step6_failed.txt'\n",
    "SLOPE_TEXT = '_A'\n",
    "INTERCEPT_TEXT = '_B'"
   ]
  },
  {
   "cell_type": "code",
   "execution_count": 36,
   "metadata": {},
   "outputs": [],
   "source": [
    "# chartevents_dir_list = os.listdir(REDUCED_CE_BY_ICUSTAY_ID)\n",
    "# len(chartevents_dir_list)"
   ]
  },
  {
   "cell_type": "code",
   "execution_count": 37,
   "metadata": {},
   "outputs": [],
   "source": [
    "# test = pd.read_parquet(REDUCED_CE_BY_ICUSTAY_ID + chartevents_dir_list[5])\n",
    "# test = test.reset_index(drop=True)"
   ]
  },
  {
   "attachments": {},
   "cell_type": "markdown",
   "metadata": {},
   "source": [
    "\n",
    "![Glascow](assets/images/GCS.jpg)\n",
    "\n",
    "https://www.firstaidforfree.com/glasgow-coma-scale-gcs-first-aiders/"
   ]
  },
  {
   "attachments": {},
   "cell_type": "markdown",
   "metadata": {},
   "source": [
    "|\tChart Event\t|\tDim\t|\tNormal\t| Initial dtype | Change to dtype |\n",
    "| --- | :--- | :--- | :--- | :--- |\n",
    "|\t1. Glasgow coma scale eye opening\t|\t4\t|\t4 Spontaneously\t| str | int |\n",
    "|\t2. Glasgow coma scale verbal response\t|\t5\t|\t5 Oriented\t| str | int |\n",
    "|\t3. Glasgow coma scale motor response\t|\t6\t|\t6 Obeys Commands\t| str | int |\n",
    "|\t4. Glasgow coma scale total\t|\t13\t|\t15\t| none/int | int |\n",
    "|\t5. Capillary refill rate\t|\t2\t|\tNormal < 3 secs\t| str | int |\n",
    "|\t6. Diastolic blood pressure\t|\t1\t|\t70\t| int | int |\n",
    "|\t7. Systolic blood pressure\t|\t1\t|\t105\t| int | int |\n",
    "|\t8. Mean blood pressure\t|\t1\t|\t87.5\t| int/float | int |\n",
    "|\t9. Heart Rate\t|\t1\t|\t80\t| int | int |\n",
    "|\t10. Glucose\t|\t1\t|\t85\t| int | int |\n",
    "|\t11. Fraction inspired oxygen\t|\t1\t|\t0.21\t| int/float | float? |\n",
    "|\t12. Oxygen saturation\t|\t1\t|\t97.5\t| int | int |\n",
    "|\t13. Respiratory rate\t|\t1\t|\t15\t| int | int |\n",
    "|\t14. Body Temperature\t|\t1\t|\t37\t| float | float |\n",
    "|\t15. pH\t|\t1\t|\t7.4\t| float | float |\n",
    "|\t16. Weight\t|\t1\t|\t80.7\t| float | float |\n",
    "|\t17. Height\t|\t1\t|\t168.8\t| float | float |\n",
    "\n",
    "\n",
    "Since there are so many `NaN` values, everything should just be a float?"
   ]
  },
  {
   "cell_type": "code",
   "execution_count": 38,
   "metadata": {},
   "outputs": [],
   "source": [
    "gcs_eye_map     = {'__missing__': np.NaN, '4 Spontaneously': '4', '1 No Response': '1', '2 To pain': '2', '3 To speech': '3', 'To Speech': '3', 'Spontaneously': '4', 'To Pain': '2'}\n",
    "gcs_motor_map   = {'__missing__': np.NaN, '6 Obeys Commands': '6', '5 Localizes Pain': '5', '1 No Response': '1', '4 Flex-withdraws': '4', '2 Abnorm extensn': '2', '3 Abnorm flexion': '3', 'Localizes Pain': '5', \n",
    "                    'Obeys Commands': '6', 'Flex-withdraws': '4', 'No response': '1', 'Abnormal Flexion': '3', 'Abnormal extension': '2'}\n",
    "gcs_verbal_map  = {'__missing__': np.NaN, '5 Oriented': '5', '1.0 ET/Trach': '1', '4 Confused': '4', '2 Incomp sounds': '2', '1 No Response': '1', '3 Inapprop words': '3', 'No Response-ETT': '1', \n",
    "                    'Oriented': '5', 'No Response': '1', 'Confused': '4', 'Incomprehensible sounds': '2', 'Inappropriate Words': '3'}\n",
    "capillary_map = {'__missing__': np.NaN, 'Brisk':'1', 'Delayed':'0', 'Comment':'0', 'Normal <3 secs':'1', 'Abnormal >3 secs':'0', 'Other/Remarks':'0', 'Normal <3 Seconds':'1', 'Abnormal >3 Seconds':'0'}\n"
   ]
  },
  {
   "cell_type": "code",
   "execution_count": 39,
   "metadata": {},
   "outputs": [],
   "source": [
    "# sample_dtype_init = {'GCS_EYE': object, 'GCS_EYE_ID': np.float64, 'GCS_MOTOR': object, 'GCS_MOTOR_ID': np.float64, \n",
    "#                      'GCS_VERBAL': object, 'GCS_VERBAL_ID': np.float64, 'GCS_TOTAL': object, 'GCS_TOTAL_ID': np.float64, \n",
    "#                      'CAPILLARY_REFILL': object, 'CAPILLARY_REFILL_ID': np.float64, 'D_BLOOD_PRESSURE': object, \n",
    "#                      'D_BLOOD_PRESSURE_ID': np.float64, 'M_BLOOD_PRESSURE': object, 'M_BLOOD_PRESSURE_ID': np.float64, \n",
    "#                      'S_BLOOD_PRESSURE': object, 'S_BLOOD_PRESSURE_ID': np.float64, 'HEART_RATE': object, 'HEART_RATE_ID': np.float64, \n",
    "#                      'GLUCOSE': object, 'GLUCOSE_ID': np.float64, 'FRAC_OXYGEN': object, 'FRAC_OXYGEN_ID': object, 'O2_SAT': object, \n",
    "#                      'O2_SAT_ID': np.float64, 'RESP_RATE': object, 'RESP_RATE_ID': np.float64, 'BODY_TEMP': object, 'BODY_TEMP_ID': np.float64, \n",
    "#                      'PH': object, 'PH_ID': np.float64, 'WEIGHT': object, 'WEIGHT_ID': np.float64, 'HEIGHT': object, 'HEIGHT_ID': np.float64, \n",
    "#                      'GCS_EYE_IND': np.int8, 'GCS_MOTOR_IND': np.int8, 'GCS_VERBAL_IND': np.int8, 'GCS_TOTAL_IND': np.int8, \n",
    "#                      'CAPILLARY_REFILL_IND': np.int8, 'D_BLOOD_PRESSURE_IND': np.int8, 'M_BLOOD_PRESSURE_IND': np.int8, 'S_BLOOD_PRESSURE_IND': np.int8, \n",
    "#                      'HEART_RATE_IND': np.int8, 'GLUCOSE_IND': np.int8, 'FRAC_OXYGEN_IND': np.int8, 'O2_SAT_IND': np.int8, 'RESP_RATE_IND': np.int8, \n",
    "#                      'BODY_TEMP_IND': np.int8, 'PH_IND': np.int8, 'WEIGHT_IND': np.int8, 'HEIGHT_IND': np.int8}"
   ]
  },
  {
   "cell_type": "code",
   "execution_count": 40,
   "metadata": {},
   "outputs": [],
   "source": [
    "sample_dtype_final = {'GCS_EYE': np.float64, 'GCS_MOTOR': np.float64, 'GCS_VERBAL': np.float64, 'GCS_TOTAL': np.float64,\n",
    "                     'CAPILLARY_REFILL': np.float64, 'D_BLOOD_PRESSURE': np.float64, 'M_BLOOD_PRESSURE': np.float64, \n",
    "                     'S_BLOOD_PRESSURE': np.float64, 'HEART_RATE': np.float64, 'GLUCOSE': np.float64, 'FRAC_OXYGEN': np.float64, 'O2_SAT': np.float64, \n",
    "                     'RESP_RATE': np.float64, 'BODY_TEMP': np.float64, 'PH': np.float64, 'WEIGHT': np.float64, 'HEIGHT': np.float64,  \n",
    "                     'GCS_EYE_IND': np.int8, 'GCS_MOTOR_IND': np.int8, 'GCS_VERBAL_IND': np.int8, 'GCS_TOTAL_IND': np.int8, \n",
    "                     'CAPILLARY_REFILL_IND': np.int8, 'D_BLOOD_PRESSURE_IND': np.int8, 'M_BLOOD_PRESSURE_IND': np.int8, 'S_BLOOD_PRESSURE_IND': np.int8, \n",
    "                     'HEART_RATE_IND': np.int8, 'GLUCOSE_IND': np.int8, 'FRAC_OXYGEN_IND': np.int8, 'O2_SAT_IND': np.int8, 'RESP_RATE_IND': np.int8, \n",
    "                     'BODY_TEMP_IND': np.int8, 'PH_IND': np.int8, 'WEIGHT_IND': np.int8, 'HEIGHT_IND': np.int8}\n"
   ]
  },
  {
   "cell_type": "code",
   "execution_count": 41,
   "metadata": {},
   "outputs": [
    {
     "data": {
      "text/plain": [
       "48075"
      ]
     },
     "execution_count": 41,
     "metadata": {},
     "output_type": "execute_result"
    }
   ],
   "source": [
    "chartevents_dir_list = os.listdir(NUMERICAL_BY_ICUSTAY_ID)\n",
    "len(chartevents_dir_list)"
   ]
  },
  {
   "cell_type": "code",
   "execution_count": 42,
   "metadata": {},
   "outputs": [],
   "source": [
    "# test = pd.read_parquet(REDUCED_CE_BY_ICUSTAY_ID + chartevents_dir_list[0])\n",
    "# test.head(1)"
   ]
  },
  {
   "cell_type": "code",
   "execution_count": 43,
   "metadata": {},
   "outputs": [],
   "source": [
    "numerical_columns   = ['D_BLOOD_PRESSURE', 'M_BLOOD_PRESSURE', 'S_BLOOD_PRESSURE', 'HEART_RATE', 'GLUCOSE', 'FRAC_OXYGEN', 'O2_SAT', 'RESP_RATE', 'BODY_TEMP', 'PH', 'WEIGHT', 'HEIGHT']\n",
    "category_columns    = ['GCS_EYE', 'GCS_MOTOR',  'GCS_VERBAL', 'GCS_TOTAL', 'CAPILLARY_REFILL']"
   ]
  },
  {
   "cell_type": "code",
   "execution_count": 44,
   "metadata": {},
   "outputs": [],
   "source": [
    "stat_columns = category_columns.copy()\n",
    "for col in numerical_columns:\n",
    "    stat_columns.append(col+SLOPE_TEXT)\n",
    "    stat_columns.append(col+INTERCEPT_TEXT)\n",
    "# stat_columns"
   ]
  },
  {
   "attachments": {
    "image.png": {
     "image/png": "[encoded data removed]"
    }
   },
   "cell_type": "markdown",
   "metadata": {},
   "source": [
    "### Goals\n",
    "\n",
    "1. Transform columns to numerical values\n",
    "2. Transform dtypes\n",
    "\n",
    "\n",
    "### Question\n",
    "\n",
    "Should this be done before duplicating last entry on stays less than 48 hours???\n",
    "It messes with the linear regression and mean\n",
    "\n",
    "![image.png](attachment:image.png)"
   ]
  },
  {
   "cell_type": "code",
   "execution_count": 45,
   "metadata": {},
   "outputs": [
    {
     "data": {
      "application/vnd.jupyter.widget-view+json": {
       "model_id": "a1107e1856554b73bfa4d0a3823777e8",
       "version_major": 2,
       "version_minor": 0
      },
      "text/plain": [
       "  0%|          | 0/48075 [00:00<?, ?it/s]"
      ]
     },
     "metadata": {},
     "output_type": "display_data"
    }
   ],
   "source": [
    "# Should this be done before duplicating last entry on stays less than 48 hours???\n",
    "# It messes with the linear regression and mean\n",
    "failed = []\n",
    "\n",
    "for stay in tqdm(chartevents_dir_list, total=len(chartevents_dir_list)):\n",
    "    try:\n",
    "        sample_df = pd.read_parquet(NUMERICAL_BY_ICUSTAY_ID + stay)\n",
    "        sample_df = sample_df.reset_index(drop=True).astype(sample_dtype_final)\n",
    "        stat_df = pd.DataFrame(columns=stat_columns)\n",
    "        #numerical_df = sample_df[numerical_columns].dropna(axis=1,how='all')\n",
    "        #bool_df = sample_df[numerical_columns].notnull()\n",
    "\n",
    "        # Numerical Values (y = Ax + B). Store A and B\n",
    "        bool_count = np.sum(sample_df[numerical_columns].notnull(), axis=0)\n",
    "        numerical_df = sample_df[numerical_columns]\n",
    "        for i, col in enumerate(numerical_df.columns):\n",
    "            if sample_df[col].dtype == np.float64 and bool_count[i] >= 1:\n",
    "                # print(bool_count[i])\n",
    "                feature_series = sample_df[col].dropna(ignore_index=True)\n",
    "                # if col == 'WEIGHT':\n",
    "                #      print(stay)\n",
    "                #      print(feature_series)\n",
    "\n",
    "                x = np.array(list(range(len(feature_series)))).reshape(-1, 1)\n",
    "                y = feature_series.to_numpy()\n",
    "                reg = LinearRegression().fit(x, y)\n",
    "                stat_df[col+SLOPE_TEXT] = reg.coef_ \n",
    "                stat_df[col+INTERCEPT_TEXT] = reg.intercept_\n",
    "\n",
    "            # elif sample_df[col].dtype == np.float64 and bool_count[i] == 1:\n",
    "            #     # TODO: set single value as intercept, slope as 0\n",
    "            #     pass\n",
    "\n",
    "        # Categories (mean)\n",
    "        bool_count = np.sum(sample_df[category_columns].notnull(), axis=0)\n",
    "        category_df = sample_df[category_columns]\n",
    "        for i, col in enumerate(category_df):\n",
    "             if sample_df[col].dtype == np.float64 and bool_count[i] > 1:\n",
    "                # print(bool_count[i])\n",
    "                feature_series = sample_df[col].dropna(ignore_index=True)\n",
    "                stat_df[col] = feature_series.mean()\n",
    "\n",
    "\n",
    "        stat_df.to_parquet(STATB_BY_ICUSTAY_ID+stay)\n",
    "        # stat_df.to_csv(STATB_CSV_BY_ICUSTAY_ID+stay+'.csv')\n",
    "        # break\n",
    "    except Exception as e:\n",
    "        failed.append(stay)\n",
    "        failed.append(str(e))\n",
    "        continue\n"
   ]
  },
  {
   "cell_type": "code",
   "execution_count": 46,
   "metadata": {},
   "outputs": [
    {
     "data": {
      "text/html": [
       "<div>\n",
       "<style scoped>\n",
       "    .dataframe tbody tr th:only-of-type {\n",
       "        vertical-align: middle;\n",
       "    }\n",
       "\n",
       "    .dataframe tbody tr th {\n",
       "        vertical-align: top;\n",
       "    }\n",
       "\n",
       "    .dataframe thead th {\n",
       "        text-align: right;\n",
       "    }\n",
       "</style>\n",
       "<table border=\"1\" class=\"dataframe\">\n",
       "  <thead>\n",
       "    <tr style=\"text-align: right;\">\n",
       "      <th></th>\n",
       "      <th>GCS_EYE</th>\n",
       "      <th>GCS_MOTOR</th>\n",
       "      <th>GCS_VERBAL</th>\n",
       "      <th>GCS_TOTAL</th>\n",
       "      <th>CAPILLARY_REFILL</th>\n",
       "      <th>D_BLOOD_PRESSURE_A</th>\n",
       "      <th>D_BLOOD_PRESSURE_B</th>\n",
       "      <th>M_BLOOD_PRESSURE_A</th>\n",
       "      <th>M_BLOOD_PRESSURE_B</th>\n",
       "      <th>S_BLOOD_PRESSURE_A</th>\n",
       "      <th>...</th>\n",
       "      <th>RESP_RATE_A</th>\n",
       "      <th>RESP_RATE_B</th>\n",
       "      <th>BODY_TEMP_A</th>\n",
       "      <th>BODY_TEMP_B</th>\n",
       "      <th>PH_A</th>\n",
       "      <th>PH_B</th>\n",
       "      <th>WEIGHT_A</th>\n",
       "      <th>WEIGHT_B</th>\n",
       "      <th>HEIGHT_A</th>\n",
       "      <th>HEIGHT_B</th>\n",
       "    </tr>\n",
       "  </thead>\n",
       "  <tbody>\n",
       "    <tr>\n",
       "      <th>0</th>\n",
       "      <td>3.833333</td>\n",
       "      <td>6.0</td>\n",
       "      <td>3.0</td>\n",
       "      <td>12.833333</td>\n",
       "      <td>1.0</td>\n",
       "      <td>-0.072785</td>\n",
       "      <td>53.314626</td>\n",
       "      <td>-0.089937</td>\n",
       "      <td>74.467687</td>\n",
       "      <td>0.303029</td>\n",
       "      <td>...</td>\n",
       "      <td>0.176509</td>\n",
       "      <td>12.352041</td>\n",
       "      <td>-0.028166</td>\n",
       "      <td>35.918803</td>\n",
       "      <td>0.008</td>\n",
       "      <td>7.353</td>\n",
       "      <td>2.009718e-14</td>\n",
       "      <td>288.299333</td>\n",
       "      <td>NaN</td>\n",
       "      <td>NaN</td>\n",
       "    </tr>\n",
       "  </tbody>\n",
       "</table>\n",
       "<p>1 rows × 29 columns</p>\n",
       "</div>"
      ],
      "text/plain": [
       "    GCS_EYE  GCS_MOTOR  GCS_VERBAL  GCS_TOTAL  CAPILLARY_REFILL   \n",
       "0  3.833333        6.0         3.0  12.833333               1.0  \\\n",
       "\n",
       "   D_BLOOD_PRESSURE_A  D_BLOOD_PRESSURE_B  M_BLOOD_PRESSURE_A   \n",
       "0           -0.072785           53.314626           -0.089937  \\\n",
       "\n",
       "   M_BLOOD_PRESSURE_B  S_BLOOD_PRESSURE_A  ...  RESP_RATE_A  RESP_RATE_B   \n",
       "0           74.467687            0.303029  ...     0.176509    12.352041  \\\n",
       "\n",
       "   BODY_TEMP_A  BODY_TEMP_B   PH_A   PH_B      WEIGHT_A    WEIGHT_B HEIGHT_A   \n",
       "0    -0.028166    35.918803  0.008  7.353  2.009718e-14  288.299333      NaN  \\\n",
       "\n",
       "   HEIGHT_B  \n",
       "0       NaN  \n",
       "\n",
       "[1 rows x 29 columns]"
      ]
     },
     "execution_count": 46,
     "metadata": {},
     "output_type": "execute_result"
    }
   ],
   "source": [
    "stat_df"
   ]
  },
  {
   "cell_type": "code",
   "execution_count": 47,
   "metadata": {},
   "outputs": [
    {
     "data": {
      "text/plain": [
       "<matplotlib.legend.Legend at 0x7f5b28d5d7b0>"
      ]
     },
     "execution_count": 47,
     "metadata": {},
     "output_type": "execute_result"
    },
    {
     "data": {
      "image/png": "[encoded data removed]",
      "text/plain": [
       "<Figure size 500x270 with 1 Axes>"
      ]
     },
     "metadata": {},
     "output_type": "display_data"
    }
   ],
   "source": [
    "\n",
    "\n",
    "y_d_blood = numerical_df.loc[numerical_df['D_BLOOD_PRESSURE'].notnull(),'D_BLOOD_PRESSURE']\n",
    "x = np.linspace(0,48,len(y_d_blood))\n",
    "y = stat_df.loc[0,'D_BLOOD_PRESSURE_A'] * x + stat_df.loc[0,'D_BLOOD_PRESSURE_B']\n",
    "\n",
    "fig, ax = plt.subplots(figsize=(5, 2.7), layout='constrained')\n",
    "ax.scatter(x, y_d_blood, label='points')  # Plot some data on the axes.\n",
    "ax.plot(x,y,label='linear')\n",
    "ax.set_xlabel('x label')  # Add an x-label to the axes.\n",
    "ax.set_ylabel('y label')  # Add a y-label to the axes.\n",
    "ax.set_title(\"Simple Plot\")  # Add a title to the axes.\n",
    "ax.legend()  # Add a legend."
   ]
  },
  {
   "cell_type": "code",
   "execution_count": 48,
   "metadata": {},
   "outputs": [
    {
     "data": {
      "text/plain": [
       "0"
      ]
     },
     "execution_count": 48,
     "metadata": {},
     "output_type": "execute_result"
    }
   ],
   "source": [
    "len(failed)"
   ]
  },
  {
   "cell_type": "code",
   "execution_count": 49,
   "metadata": {},
   "outputs": [
    {
     "data": {
      "text/plain": [
       "[]"
      ]
     },
     "execution_count": 49,
     "metadata": {},
     "output_type": "execute_result"
    }
   ],
   "source": [
    "failed"
   ]
  },
  {
   "cell_type": "code",
   "execution_count": 50,
   "metadata": {},
   "outputs": [],
   "source": [
    "if WRITE_ERRORS_TO_FILE:\n",
    "    with open(STEP_FAIL_FILE, 'w') as f:\n",
    "        for line in failed:\n",
    "            f.write(line)\n",
    "            f.write('\\n')"
   ]
  },
  {
   "cell_type": "code",
   "execution_count": null,
   "metadata": {},
   "outputs": [],
   "source": []
  },
  {
   "cell_type": "code",
   "execution_count": null,
   "metadata": {},
   "outputs": [],
   "source": []
  },
  {
   "cell_type": "code",
   "execution_count": null,
   "metadata": {},
   "outputs": [],
   "source": []
  }
 ],
 "metadata": {
  "kernelspec": {
   "display_name": ".venv",
   "language": "python",
   "name": "python3"
  },
  "language_info": {
   "codemirror_mode": {
    "name": "ipython",
    "version": 3
   },
   "file_extension": ".py",
   "mimetype": "text/x-python",
   "name": "python",
   "nbconvert_exporter": "python",
   "pygments_lexer": "ipython3",
   "version": "3.10.9"
  },
  "orig_nbformat": 4
 },
 "nbformat": 4,
 "nbformat_minor": 2
}
