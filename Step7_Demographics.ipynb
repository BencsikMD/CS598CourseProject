{
 "cells": [
  {
   "cell_type": "code",
   "execution_count": 55,
   "metadata": {},
   "outputs": [],
   "source": [
    "import pandas as pd\n",
    "import numpy as np\n",
    "import os\n",
    "import timeit\n",
    "from tqdm.notebook import trange, tqdm\n",
    "import re\n",
    "import matplotlib.pyplot as plt"
   ]
  },
  {
   "cell_type": "code",
   "execution_count": 56,
   "metadata": {},
   "outputs": [],
   "source": [
    "DEMO = False\n",
    "WRITE_ERRORS_TO_FILE = True"
   ]
  },
  {
   "cell_type": "code",
   "execution_count": 57,
   "metadata": {},
   "outputs": [],
   "source": [
    "\n",
    "if DEMO:\n",
    "    CHARTEVENTS_BY_ICUSTAY_ID = 'data_demo/parquet/'\n",
    "    REDUCED_CE_BY_ICUSTAY_ID = 'data_demo/samples/'\n",
    "    NUMERICAL_BY_ICUSTAY_ID = 'data_demo/samples_numerical/'\n",
    "    STATB_BY_ICUSTAY_ID = 'data_demo/samples_statB/'\n",
    "    STATB_CSV_BY_ICUSTAY_ID = 'data_demo/samples_statB_csv/'\n",
    "else:\n",
    "    CHARTEVENTS_BY_ICUSTAY_ID = 'data/parquet/'\n",
    "    REDUCED_CE_BY_ICUSTAY_ID = 'data/samples/'\n",
    "    NUMERICAL_BY_ICUSTAY_ID = 'data/samples_numerical/'\n",
    "    STATB_BY_ICUSTAY_ID = 'data/samples_statB/'\n",
    "    DEMO_BY_ICUSTAY_ID = 'data/samples_demographics/'\n",
    "\n",
    "\n",
    "CHARTEVENTS_FILENAME = 'mimic-iii/CHARTEVENTS.csv'\n",
    "READMISSION_FILENAME = 'data/readmission.csv'\n",
    "PARQUET_EXT = '.parquet'\n",
    "STEP_FAIL_FILE = 'Step7_failed.txt'"
   ]
  },
  {
   "cell_type": "code",
   "execution_count": 58,
   "metadata": {},
   "outputs": [],
   "source": [
    "gender_map = {'__missing__': np.NaN, 'F': '0', 'M': '1'}\n",
    "insurance_map = {'__missing__': np.NaN,'Medicare':'0', 'Private':'1', 'Medicaid':'2', 'Government':'3', 'Self Pay':'4'}\n",
    "race_map = {'__missing__': np.NaN, 'AMERICAN INDIAN/ALASKA NATIVE': '4', 'AMERICAN INDIAN/ALASKA NATIVE FEDERALLY RECOGNIZED TRIBE': '4', 'ASIAN': '0', 'ASIAN - ASIAN INDIAN': '0', 'ASIAN - CAMBODIAN': '0', 'ASIAN - CHINESE': '0', 'ASIAN - FILIPINO': '0', 'ASIAN - JAPANESE': '0', 'ASIAN - KOREAN': '0', 'ASIAN - OTHER': '0', 'ASIAN - THAI': '0', 'ASIAN - VIETNAMESE': '0', 'BLACK/AFRICAN': '1', 'BLACK/AFRICAN AMERICAN': '1', 'BLACK/CAPE VERDEAN': '1', 'BLACK/HAITIAN': '1', 'CARIBBEAN ISLAND': '4', 'HISPANIC OR LATINO': '2', 'HISPANIC/LATINO - CENTRAL AMERICAN (OTHER)': '2', 'HISPANIC/LATINO - COLOMBIAN': '2', 'HISPANIC/LATINO - CUBAN': '2', 'HISPANIC/LATINO - DOMINICAN': '2', 'HISPANIC/LATINO - GUATEMALAN': '2', 'HISPANIC/LATINO - HONDURAN': '2', 'HISPANIC/LATINO - MEXICAN': '2', 'HISPANIC/LATINO - PUERTO RICAN': '2', 'HISPANIC/LATINO - SALVADORAN': '2', 'MIDDLE EASTERN': '4', 'MULTI RACE ETHNICITY': '4', 'NATIVE HAWAIIAN OR OTHER PACIFIC ISLANDER': '4', 'OTHER': '4', 'PATIENT DECLINED TO ANSWER': '5', 'PORTUGUESE': '4', 'SOUTH AMERICAN': '4', 'UNABLE TO OBTAIN': '5', 'UNKNOWN/NOT SPECIFIED': '5', 'WHITE': '3', 'WHITE - BRAZILIAN': '3', 'WHITE - EASTERN EUROPEAN': '3', 'WHITE - OTHER EUROPEAN': '3', 'WHITE - RUSSIAN': '3'}"
   ]
  },
  {
   "cell_type": "code",
   "execution_count": 59,
   "metadata": {},
   "outputs": [],
   "source": [
    "columns = ['ICUSTAY_ID', 'GENDER', 'AGE', 'ETHNICITY', 'INSURANCE']"
   ]
  },
  {
   "cell_type": "code",
   "execution_count": 60,
   "metadata": {},
   "outputs": [
    {
     "name": "stdout",
     "output_type": "stream",
     "text": [
      "ICUSTAY_ID     int64\n",
      "INSURANCE     object\n",
      "ETHNICITY     object\n",
      "GENDER        object\n",
      "AGE            int64\n",
      "dtype: object\n"
     ]
    },
    {
     "data": {
      "text/html": [
       "<div>\n",
       "<style scoped>\n",
       "    .dataframe tbody tr th:only-of-type {\n",
       "        vertical-align: middle;\n",
       "    }\n",
       "\n",
       "    .dataframe tbody tr th {\n",
       "        vertical-align: top;\n",
       "    }\n",
       "\n",
       "    .dataframe thead th {\n",
       "        text-align: right;\n",
       "    }\n",
       "</style>\n",
       "<table border=\"1\" class=\"dataframe\">\n",
       "  <thead>\n",
       "    <tr style=\"text-align: right;\">\n",
       "      <th></th>\n",
       "      <th>INSURANCE</th>\n",
       "      <th>ETHNICITY</th>\n",
       "      <th>GENDER</th>\n",
       "      <th>AGE</th>\n",
       "    </tr>\n",
       "    <tr>\n",
       "      <th>ICUSTAY_ID</th>\n",
       "      <th></th>\n",
       "      <th></th>\n",
       "      <th></th>\n",
       "      <th></th>\n",
       "    </tr>\n",
       "  </thead>\n",
       "  <tbody>\n",
       "    <tr>\n",
       "      <th>200001</th>\n",
       "      <td>Medicare</td>\n",
       "      <td>ASIAN - ASIAN INDIAN</td>\n",
       "      <td>F</td>\n",
       "      <td>61</td>\n",
       "    </tr>\n",
       "  </tbody>\n",
       "</table>\n",
       "</div>"
      ],
      "text/plain": [
       "           INSURANCE             ETHNICITY GENDER  AGE\n",
       "ICUSTAY_ID                                            \n",
       "200001      Medicare  ASIAN - ASIAN INDIAN      F   61"
      ]
     },
     "execution_count": 60,
     "metadata": {},
     "output_type": "execute_result"
    }
   ],
   "source": [
    "readmission = pd.read_csv(READMISSION_FILENAME,usecols=columns).sort_values(['ICUSTAY_ID']).reset_index(drop=True)\n",
    "print(readmission.dtypes)\n",
    "readmission = readmission.set_index('ICUSTAY_ID')\n",
    "readmission.head(1)"
   ]
  },
  {
   "cell_type": "code",
   "execution_count": 61,
   "metadata": {},
   "outputs": [
    {
     "data": {
      "text/plain": [
       "48075"
      ]
     },
     "execution_count": 61,
     "metadata": {},
     "output_type": "execute_result"
    }
   ],
   "source": [
    "chartevents_dir_list = os.listdir(NUMERICAL_BY_ICUSTAY_ID)\n",
    "len(chartevents_dir_list)"
   ]
  },
  {
   "cell_type": "code",
   "execution_count": 62,
   "metadata": {},
   "outputs": [
    {
     "data": {
      "application/vnd.jupyter.widget-view+json": {
       "model_id": "983ea635918549ea9dfc220bbf6e5ea0",
       "version_major": 2,
       "version_minor": 0
      },
      "text/plain": [
       "  0%|          | 0/48075 [00:00<?, ?it/s]"
      ]
     },
     "metadata": {},
     "output_type": "display_data"
    }
   ],
   "source": [
    "failed = []\n",
    "for stay in tqdm(chartevents_dir_list, total=len(chartevents_dir_list)):\n",
    "    try:\n",
    "        icustay_id = int(re.sub(r'[^0-9]*','',stay))\n",
    "        demo_df = readmission.loc[[icustay_id]]\n",
    "        #print(demo_df.head())\n",
    "        demo_df['GENDER'] = pd.to_numeric(demo_df['GENDER'].map(gender_map),errors='coerce')\n",
    "        demo_df['INSURANCE'] = pd.to_numeric(demo_df['INSURANCE'].map(insurance_map),errors='coerce')\n",
    "        demo_df['ETHNICITY'] = pd.to_numeric(demo_df['ETHNICITY'].map(race_map),errors='coerce')\n",
    "        demo_df['AGE'] = pd.to_numeric(demo_df['AGE'],errors='coerce')\n",
    "        # demo_df = pd.to_numeric(demo_df,errors='coerce')\n",
    "\n",
    "        demo_df.to_parquet(DEMO_BY_ICUSTAY_ID+stay)\n",
    "        # break\n",
    "    except Exception as e:\n",
    "        failed.append(stay)\n",
    "        failed.append(str(e))\n",
    "        continue"
   ]
  },
  {
   "cell_type": "code",
   "execution_count": 63,
   "metadata": {},
   "outputs": [
    {
     "data": {
      "text/plain": [
       "[]"
      ]
     },
     "execution_count": 63,
     "metadata": {},
     "output_type": "execute_result"
    }
   ],
   "source": [
    "failed"
   ]
  },
  {
   "cell_type": "code",
   "execution_count": 64,
   "metadata": {},
   "outputs": [],
   "source": [
    "if WRITE_ERRORS_TO_FILE:\n",
    "    with open(STEP_FAIL_FILE, 'w') as f:\n",
    "        for line in failed:\n",
    "            f.write(line)\n",
    "            f.write('\\n')"
   ]
  },
  {
   "cell_type": "code",
   "execution_count": 65,
   "metadata": {},
   "outputs": [
    {
     "data": {
      "text/html": [
       "<div>\n",
       "<style scoped>\n",
       "    .dataframe tbody tr th:only-of-type {\n",
       "        vertical-align: middle;\n",
       "    }\n",
       "\n",
       "    .dataframe tbody tr th {\n",
       "        vertical-align: top;\n",
       "    }\n",
       "\n",
       "    .dataframe thead th {\n",
       "        text-align: right;\n",
       "    }\n",
       "</style>\n",
       "<table border=\"1\" class=\"dataframe\">\n",
       "  <thead>\n",
       "    <tr style=\"text-align: right;\">\n",
       "      <th></th>\n",
       "      <th>INSURANCE</th>\n",
       "      <th>ETHNICITY</th>\n",
       "      <th>GENDER</th>\n",
       "      <th>AGE</th>\n",
       "    </tr>\n",
       "    <tr>\n",
       "      <th>ICUSTAY_ID</th>\n",
       "      <th></th>\n",
       "      <th></th>\n",
       "      <th></th>\n",
       "      <th></th>\n",
       "    </tr>\n",
       "  </thead>\n",
       "  <tbody>\n",
       "    <tr>\n",
       "      <th>254384</th>\n",
       "      <td>0</td>\n",
       "      <td>3</td>\n",
       "      <td>1</td>\n",
       "      <td>72</td>\n",
       "    </tr>\n",
       "  </tbody>\n",
       "</table>\n",
       "</div>"
      ],
      "text/plain": [
       "            INSURANCE  ETHNICITY  GENDER  AGE\n",
       "ICUSTAY_ID                                   \n",
       "254384              0          3       1   72"
      ]
     },
     "execution_count": 65,
     "metadata": {},
     "output_type": "execute_result"
    }
   ],
   "source": [
    "demo_df.head()"
   ]
  },
  {
   "cell_type": "code",
   "execution_count": null,
   "metadata": {},
   "outputs": [],
   "source": []
  }
 ],
 "metadata": {
  "kernelspec": {
   "display_name": ".venv",
   "language": "python",
   "name": "python3"
  },
  "language_info": {
   "codemirror_mode": {
    "name": "ipython",
    "version": 3
   },
   "file_extension": ".py",
   "mimetype": "text/x-python",
   "name": "python",
   "nbconvert_exporter": "python",
   "pygments_lexer": "ipython3",
   "version": "3.10.9"
  },
  "orig_nbformat": 4
 },
 "nbformat": 4,
 "nbformat_minor": 2
}
