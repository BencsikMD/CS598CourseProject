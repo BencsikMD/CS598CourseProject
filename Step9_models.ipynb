{
 "cells": [
  {
   "cell_type": "code",
   "execution_count": 706,
   "metadata": {},
   "outputs": [],
   "source": [
    "import pandas as pd\n",
    "import numpy as np\n",
    "import os\n",
    "from tqdm.notebook import trange, tqdm\n",
    "import matplotlib.pyplot as plt\n",
    "import re\n",
    "import torch\n",
    "from torch.utils.data import DataLoader\n",
    "from torch.utils.data import Dataset\n",
    "from torch.utils.data import SubsetRandomSampler\n",
    "from sklearn.model_selection import train_test_split\n",
    "from sklearn.model_selection import KFold\n",
    "from sklearn import metrics"
   ]
  },
  {
   "cell_type": "code",
   "execution_count": 707,
   "metadata": {},
   "outputs": [],
   "source": [
    "# DEMO = False\n",
    "# WRITE_ERRORS_TO_FILE = True"
   ]
  },
  {
   "cell_type": "code",
   "execution_count": 708,
   "metadata": {},
   "outputs": [],
   "source": [
    "\n",
    "# if DEMO:\n",
    "#     CHARTEVENTS_BY_ICUSTAY_ID = 'data_demo/parquet/'\n",
    "#     REDUCED_CE_BY_ICUSTAY_ID = 'data_demo/samples/'\n",
    "#     NUMERICAL_BY_ICUSTAY_ID = 'data_demo/samples_numerical/'\n",
    "#     STATB_BY_ICUSTAY_ID = 'data_demo/samples_statB/'\n",
    "#     STATB_CSV_BY_ICUSTAY_ID = 'data_demo/samples_statB_csv/'\n",
    "# else:\n",
    "\n",
    "CHARTEVENTS_BY_ICUSTAY_ID = 'data/parquet/'\n",
    "REDUCED_CE_BY_ICUSTAY_ID = 'data/samples/'\n",
    "NUMERICAL_BY_ICUSTAY_ID = 'data/samples_numerical/'\n",
    "STATB_BY_ICUSTAY_ID = 'data/samples_statB/'\n",
    "DEMO_BY_ICUSTAY_ID = 'data/samples_demographics/'\n",
    "ICD9_BY_ICUSTAY_ID = 'data/samples_icd9/'\n",
    "CHARTEVENTS_FILENAME = 'mimic-iii/CHARTEVENTS.csv'\n",
    "DIAGNOSES_FILENAME = 'mimic-iii/DIAGNOSES_ICD.csv'\n",
    "READMISSION_FILENAME = 'data/readmission.csv'\n",
    "EMBEDDED_FILENAME = 'resources/embedded.parquet'\n",
    "ANNOTATION_FILENAME = 'data/anotation.csv'\n",
    "STEP_FAIL_FILE = 'Step9_failed.txt'\n",
    "BASELINE_FILENAME = 'data/baseline_data.csv'\n"
   ]
  },
  {
   "cell_type": "code",
   "execution_count": 709,
   "metadata": {},
   "outputs": [],
   "source": [
    "K_FOLDS = 5\n",
    "TRAIN_SPLIT = 0.8\n",
    "TEST_SPLIT = 0.5\n",
    "RANDOM_STATE = 1234\n",
    "EPOCH = 50\n",
    "BATCH_SIZE = 32\n",
    "LEARNING_RATE = 0.0001\n",
    "BETA = 0.9"
   ]
  },
  {
   "cell_type": "code",
   "execution_count": 710,
   "metadata": {},
   "outputs": [],
   "source": [
    "class linearRegression(torch.nn.Module):\n",
    "    def __init__(self, inputSize, outputSize):\n",
    "        super(linearRegression, self).__init__()\n",
    "        self.linear = torch.nn.Linear(inputSize, outputSize,dtype=float)\n",
    "        #self.linear = torch.nn.Linear(inputSize, outputSize)\n",
    "\n",
    "    def forward(self, x):\n",
    "        out = torch.sigmoid(self.linear(x))\n",
    "        return out"
   ]
  },
  {
   "cell_type": "code",
   "execution_count": 711,
   "metadata": {},
   "outputs": [],
   "source": [
    "def reset_weights(m):\n",
    "    if isinstance(m, torch.nn.Conv2d) or isinstance(m, torch.nn.Linear):\n",
    "        m.reset_parameters()"
   ]
  },
  {
   "cell_type": "code",
   "execution_count": 712,
   "metadata": {},
   "outputs": [],
   "source": [
    "class ReadmissionDataset(Dataset):\n",
    "    def __init__(self, annotations_file, numerical_dir=None, statB_dir=None, icd9_dir=None, demo_dir=None):\n",
    "        self.labels = pd.read_csv(annotations_file)\n",
    "        self.numerical_dir = numerical_dir\n",
    "        self.statB_dir = statB_dir\n",
    "        self.icd9_dir = icd9_dir\n",
    "        self.demo_dir = demo_dir\n",
    "\n",
    "    def __len__(self):\n",
    "        return len(self.labels)\n",
    "\n",
    "    def __getitem__(self, idx):\n",
    "        if self.numerical_dir:\n",
    "            numerical_path = os.path.join(self.numerical_dir, 'ICUSTAY_ID='+str(self.labels.iloc[idx, 0]))\n",
    "            data = pd.read_parquet(numerical_path).to_numpy()\n",
    "        if self.statB_dir:\n",
    "            statB_path = os.path.join(self.statB_dir, 'ICUSTAY_ID='+str(self.labels.iloc[idx, 0]))\n",
    "            data = pd.read_parquet(statB_path).to_numpy().reshape(1,-1)\n",
    "            # assert data.shape[1] == 29, f'Stay = {self.labels.iloc[idx, 0]}'\n",
    "        if self.icd9_dir:\n",
    "            icd9_path = os.path.join(self.icd9_dir, 'ICUSTAY_ID='+str(self.labels.iloc[idx, 0]))\n",
    "            icd9 = pd.read_parquet(icd9_path).reset_index(drop=True).to_numpy()\n",
    "            #if self.numerical_dir:\n",
    "            icd9 = np.vstack([icd9]*data.shape[0])\n",
    "            data = np.hstack([data, icd9]) \n",
    "            # assert icd9.shape[1] == 300, f'Stay = {self.labels.iloc[idx, 0]}'\n",
    "        if self.demo_dir:\n",
    "            demo_path = os.path.join(self.demo_dir, 'ICUSTAY_ID='+str(self.labels.iloc[idx, 0]))\n",
    "            demo = pd.read_parquet(demo_path).reset_index(drop=True).to_numpy()\n",
    "            #if self.numerical_dir:\n",
    "            demo = np.vstack([demo]*data.shape[0])\n",
    "            data = np.hstack([data, demo])\n",
    "            # assert demo.shape[1] == 4, f'Stay = {self.labels.iloc[idx, 0]}'\n",
    "\n",
    "        #data = torch.from_numpy(data.astype(float))\n",
    "        data = data.astype(float)\n",
    "        label = np.ndarray((1,1))\n",
    "        label[0,0] = self.labels.iloc[idx, 1]\n",
    "        \n",
    "        return data, label"
   ]
  },
  {
   "cell_type": "code",
   "execution_count": 713,
   "metadata": {},
   "outputs": [],
   "source": [
    "class BaselineReadmissionDataset(Dataset):\n",
    "    def __init__(self, baseline_file):\n",
    "        self.baseline_file = baseline_file\n",
    "        self.dataframe = pd.read_csv(self.baseline_file)\n",
    "        self.labels = self.dataframe['READMISSION'].to_numpy().reshape(-1,1)\n",
    "        # print(self.labels)\n",
    "        self.data = self.dataframe.iloc[:,1:].to_numpy(dtype=np.float64,na_value=0.0)\n",
    "\n",
    "\n",
    "    def __len__(self):\n",
    "        return len(self.labels)\n",
    "\n",
    "    def __getitem__(self, idx):\n",
    "        data = torch.from_numpy(self.data[idx,:])\n",
    "        label = torch.from_numpy(self.labels[idx].astype(np.float64))\n",
    "\n",
    "        return data, label"
   ]
  },
  {
   "cell_type": "code",
   "execution_count": 714,
   "metadata": {},
   "outputs": [],
   "source": [
    "dataset = BaselineReadmissionDataset(BASELINE_FILENAME)"
   ]
  },
  {
   "cell_type": "code",
   "execution_count": 715,
   "metadata": {},
   "outputs": [],
   "source": [
    "train_dataset, remaining = train_test_split(dataset, train_size=TRAIN_SPLIT, random_state=RANDOM_STATE,shuffle=False)\n",
    "valid_dataset, test_dataset = train_test_split(remaining, test_size=TEST_SPLIT, random_state=RANDOM_STATE,shuffle=False)"
   ]
  },
  {
   "cell_type": "code",
   "execution_count": 716,
   "metadata": {},
   "outputs": [],
   "source": [
    "model = linearRegression(len(dataset[0][0]), 1)\n",
    "criterion = torch.nn.BCELoss() \n",
    "optimizer = torch.optim.SGD(model.parameters(), lr=LEARNING_RATE)"
   ]
  },
  {
   "cell_type": "code",
   "execution_count": 717,
   "metadata": {},
   "outputs": [],
   "source": [
    "train_dataloader = DataLoader(train_dataset, batch_size=BATCH_SIZE, shuffle=False)\n",
    "valid_dataloader = DataLoader(valid_dataset, batch_size=BATCH_SIZE, shuffle=False)\n",
    "test_dataloader = DataLoader(test_dataset, batch_size=BATCH_SIZE, shuffle=False)"
   ]
  },
  {
   "cell_type": "code",
   "execution_count": 718,
   "metadata": {},
   "outputs": [],
   "source": [
    "def getMetrics(dataloader, model):\n",
    "    with torch.no_grad():\n",
    "        loss = 0.0\n",
    "        y_predict = []\n",
    "        y_actual = []\n",
    "        y_score = []\n",
    "        for i, (x_input, label) in enumerate(dataloader):\n",
    "        # Calculating the loss and accuracy for the test dataset\n",
    "\n",
    "            predicted = torch.squeeze(model(torch.nan_to_num(x_input)))\n",
    "            \n",
    "            if hasattr(predicted.tolist(),'__len__'):\n",
    "                y_score.extend(predicted.tolist())\n",
    "                y_predict.extend(torch.round(predicted).tolist())\n",
    "            else:\n",
    "                y_score.append(predicted.tolist())\n",
    "                y_predict.append(torch.round(predicted).tolist())\n",
    "\n",
    "            if hasattr(torch.squeeze(label).tolist(),'__len__'):\n",
    "                # print(label)\n",
    "                y_actual.extend(torch.round(torch.squeeze(label)).tolist())\n",
    "            else:\n",
    "                y_actual.append(torch.round(torch.squeeze(label)).tolist())\n",
    "\n",
    "\n",
    "        precision = metrics.precision_score(y_actual,y_predict)\n",
    "        accuracy = metrics.accuracy_score(y_actual,y_predict)\n",
    "        recall = metrics.recall_score(y_actual,y_predict)\n",
    "        auc = metrics.roc_auc_score(y_actual, y_score)\n",
    "\n",
    "\n",
    "        \n",
    "    return precision, accuracy, recall, auc"
   ]
  },
  {
   "cell_type": "code",
   "execution_count": 719,
   "metadata": {},
   "outputs": [],
   "source": [
    "def rocCurve(dataloader, model):\n",
    "    with torch.no_grad():\n",
    "        loss = 0.0\n",
    "        y_predict = []\n",
    "        y_actual = []\n",
    "        y_score = []\n",
    "        for i, (x_input, label) in enumerate(dataloader):\n",
    "        # Calculating the loss and accuracy for the test dataset\n",
    "\n",
    "\n",
    "            \n",
    "\n",
    "            predicted = torch.squeeze(model(torch.nan_to_num(x_input)))\n",
    "            y_score.extend(predicted.tolist())\n",
    "            y_predict.extend(torch.round(predicted).tolist())\n",
    "            y_actual.extend(torch.round(torch.squeeze(label)).tolist())\n",
    "\n",
    "\n",
    "        precision = metrics.precision_score(y_actual,y_predict)\n",
    "        accuracy = metrics.accuracy_score(y_actual,y_predict)\n",
    "        recall = metrics.recall_score(y_actual,y_predict)\n",
    "        auc = metrics.roc_auc_score(y_actual, y_score)\n",
    "\n",
    "        '''Example\n",
    "        import matplotlib.pyplot as plt\n",
    "        from sklearn.datasets import make_classification\n",
    "        from sklearn.metrics import RocCurveDisplay\n",
    "        RocCurveDisplay.from_predictions(y_test, y_pred)\n",
    "        plt.show()\n",
    "        '''\n",
    "        #https://scikit-learn.org/stable/modules/generated/sklearn.metrics.RocCurveDisplay.html#sklearn.metrics.RocCurveDisplay.from_predictions\n",
    "        # Should produce same as below\n",
    "\n",
    "\n",
    "        fpr, tpr, thresholds = metrics.roc_curve(y_actual, y_score)\n",
    "        roc_auc = metrics.auc(fpr, tpr)\n",
    "        display = metrics.RocCurveDisplay(fpr=fpr, tpr=tpr, roc_auc=roc_auc)\n",
    "        display.plot()\n",
    "        plt.show()\n",
    "        \n",
    "        \n",
    "    return precision, accuracy, recall, auc"
   ]
  },
  {
   "cell_type": "code",
   "execution_count": 720,
   "metadata": {},
   "outputs": [
    {
     "name": "stdout",
     "output_type": "stream",
     "text": [
      "Epoch: 0. Training \tLoss: 0.5459. \tAcc: 0.8068\n",
      "Epoch: 0. Validation \t\t\tAcc: 0.8070\n",
      "Epoch: 1. Training \tLoss: 0.4778. \tAcc: 0.8081\n",
      "Epoch: 1. Validation \t\t\tAcc: 0.8081\n",
      "Epoch: 2. Training \tLoss: 0.4711. \tAcc: 0.8086\n",
      "Epoch: 2. Validation \t\t\tAcc: 0.8087\n",
      "Epoch: 3. Training \tLoss: 0.4668. \tAcc: 0.8092\n",
      "Epoch: 3. Validation \t\t\tAcc: 0.8091\n",
      "Epoch: 4. Training \tLoss: 0.4633. \tAcc: 0.8093\n",
      "Epoch: 4. Validation \t\t\tAcc: 0.8097\n",
      "Epoch: 5. Training \tLoss: 0.4607. \tAcc: 0.8096\n",
      "Epoch: 5. Validation \t\t\tAcc: 0.8104\n",
      "Epoch: 6. Training \tLoss: 0.4585. \tAcc: 0.8101\n",
      "Epoch: 6. Validation \t\t\tAcc: 0.8106\n",
      "Epoch: 7. Training \tLoss: 0.4576. \tAcc: 0.8104\n",
      "Epoch: 7. Validation \t\t\tAcc: 0.8097\n",
      "Epoch: 8. Training \tLoss: 0.4559. \tAcc: 0.8106\n",
      "Epoch: 8. Validation \t\t\tAcc: 0.8102\n",
      "Epoch: 9. Training \tLoss: 0.4547. \tAcc: 0.8107\n",
      "Epoch: 9. Validation \t\t\tAcc: 0.8110\n",
      "Epoch: 10. Training \tLoss: 0.4535. \tAcc: 0.8109\n",
      "Epoch: 10. Validation \t\t\tAcc: 0.8110\n",
      "Epoch: 11. Training \tLoss: 0.4525. \tAcc: 0.8110\n",
      "Epoch: 11. Validation \t\t\tAcc: 0.8114\n",
      "Epoch: 12. Training \tLoss: 0.4517. \tAcc: 0.8109\n",
      "Epoch: 12. Validation \t\t\tAcc: 0.8122\n",
      "Epoch: 13. Training \tLoss: 0.4497. \tAcc: 0.8111\n",
      "Epoch: 13. Validation \t\t\tAcc: 0.8118\n",
      "Epoch: 14. Training \tLoss: 0.4501. \tAcc: 0.8113\n",
      "Epoch: 14. Validation \t\t\tAcc: 0.8120\n",
      "Epoch: 15. Training \tLoss: 0.4496. \tAcc: 0.8114\n",
      "Epoch: 15. Validation \t\t\tAcc: 0.8127\n",
      "Epoch: 16. Training \tLoss: 0.4488. \tAcc: 0.8118\n",
      "Epoch: 16. Validation \t\t\tAcc: 0.8129\n",
      "Epoch: 17. Training \tLoss: 0.4487. \tAcc: 0.8116\n",
      "Epoch: 17. Validation \t\t\tAcc: 0.8127\n",
      "Epoch: 18. Training \tLoss: 0.4478. \tAcc: 0.8117\n",
      "Epoch: 18. Validation \t\t\tAcc: 0.8135\n",
      "Epoch: 19. Training \tLoss: 0.4474. \tAcc: 0.8123\n",
      "Epoch: 19. Validation \t\t\tAcc: 0.8131\n",
      "Epoch: 20. Training \tLoss: 0.4471. \tAcc: 0.8121\n",
      "Epoch: 20. Validation \t\t\tAcc: 0.8131\n",
      "Epoch: 21. Training \tLoss: 0.4464. \tAcc: 0.8122\n",
      "Epoch: 21. Validation \t\t\tAcc: 0.8133\n",
      "Epoch: 22. Training \tLoss: 0.4462. \tAcc: 0.8126\n",
      "Epoch: 22. Validation \t\t\tAcc: 0.8129\n",
      "Epoch: 23. Training \tLoss: 0.4460. \tAcc: 0.8125\n",
      "Epoch: 23. Validation \t\t\tAcc: 0.8131\n",
      "Epoch: 24. Training \tLoss: 0.4455. \tAcc: 0.8129\n",
      "Epoch: 24. Validation \t\t\tAcc: 0.8133\n",
      "Epoch: 25. Training \tLoss: 0.4453. \tAcc: 0.8127\n",
      "Epoch: 25. Validation \t\t\tAcc: 0.8131\n",
      "Epoch: 26. Training \tLoss: 0.4450. \tAcc: 0.8129\n",
      "Epoch: 26. Validation \t\t\tAcc: 0.8133\n",
      "Epoch: 27. Training \tLoss: 0.4448. \tAcc: 0.8129\n",
      "Epoch: 27. Validation \t\t\tAcc: 0.8131\n",
      "Epoch: 28. Training \tLoss: 0.4435. \tAcc: 0.8129\n",
      "Epoch: 28. Validation \t\t\tAcc: 0.8131\n",
      "Epoch: 29. Training \tLoss: 0.4443. \tAcc: 0.8130\n",
      "Epoch: 29. Validation \t\t\tAcc: 0.8139\n",
      "Epoch: 30. Training \tLoss: 0.4452. \tAcc: 0.8130\n",
      "Epoch: 30. Validation \t\t\tAcc: 0.8141\n",
      "Epoch: 31. Training \tLoss: 0.4450. \tAcc: 0.8131\n",
      "Epoch: 31. Validation \t\t\tAcc: 0.8141\n",
      "Epoch: 32. Training \tLoss: 0.4448. \tAcc: 0.8132\n",
      "Epoch: 32. Validation \t\t\tAcc: 0.8141\n",
      "Epoch: 33. Training \tLoss: 0.4446. \tAcc: 0.8132\n",
      "Epoch: 33. Validation \t\t\tAcc: 0.8141\n",
      "Epoch: 34. Training \tLoss: 0.4444. \tAcc: 0.8131\n",
      "Epoch: 34. Validation \t\t\tAcc: 0.8141\n",
      "Epoch: 35. Training \tLoss: 0.4442. \tAcc: 0.8132\n",
      "Epoch: 35. Validation \t\t\tAcc: 0.8141\n",
      "Epoch: 36. Training \tLoss: 0.4440. \tAcc: 0.8131\n",
      "Epoch: 36. Validation \t\t\tAcc: 0.8141\n",
      "Epoch: 37. Training \tLoss: 0.4438. \tAcc: 0.8133\n",
      "Epoch: 37. Validation \t\t\tAcc: 0.8141\n",
      "Epoch: 38. Training \tLoss: 0.4437. \tAcc: 0.8132\n",
      "Epoch: 38. Validation \t\t\tAcc: 0.8143\n",
      "Epoch: 39. Training \tLoss: 0.4435. \tAcc: 0.8132\n",
      "Epoch: 39. Validation \t\t\tAcc: 0.8143\n",
      "Epoch: 40. Training \tLoss: 0.4433. \tAcc: 0.8132\n",
      "Epoch: 40. Validation \t\t\tAcc: 0.8143\n",
      "Epoch: 41. Training \tLoss: 0.4432. \tAcc: 0.8133\n",
      "Epoch: 41. Validation \t\t\tAcc: 0.8143\n",
      "Epoch: 42. Training \tLoss: 0.4430. \tAcc: 0.8132\n",
      "Epoch: 42. Validation \t\t\tAcc: 0.8145\n",
      "Epoch: 43. Training \tLoss: 0.4429. \tAcc: 0.8132\n",
      "Epoch: 43. Validation \t\t\tAcc: 0.8145\n",
      "Epoch: 44. Training \tLoss: 0.4427. \tAcc: 0.8132\n",
      "Epoch: 44. Validation \t\t\tAcc: 0.8143\n",
      "Epoch: 45. Training \tLoss: 0.4426. \tAcc: 0.8132\n",
      "Epoch: 45. Validation \t\t\tAcc: 0.8145\n",
      "Epoch: 46. Training \tLoss: 0.4425. \tAcc: 0.8133\n",
      "Epoch: 46. Validation \t\t\tAcc: 0.8147\n",
      "Epoch: 47. Training \tLoss: 0.4423. \tAcc: 0.8133\n",
      "Epoch: 47. Validation \t\t\tAcc: 0.8147\n",
      "Epoch: 48. Training \tLoss: 0.4422. \tAcc: 0.8134\n",
      "Epoch: 48. Validation \t\t\tAcc: 0.8149\n",
      "Epoch: 49. Training \tLoss: 0.4421. \tAcc: 0.8134\n",
      "Epoch: 49. Validation \t\t\tAcc: 0.8152\n"
     ]
    }
   ],
   "source": [
    "\n",
    "loss_list = []\n",
    "losses_train =[]\n",
    "losses_valid = []\n",
    "acc_train = []\n",
    "acc_valid = []\n",
    "\n",
    "\n",
    "for epoch in range(EPOCH):\n",
    "    current_loss = 0.0\n",
    "    for i, (x_input, y_actual) in enumerate(train_dataloader):\n",
    "\n",
    "        optimizer.zero_grad()\n",
    "        y_predict = model(torch.nan_to_num(x_input))\n",
    "        loss = criterion(y_predict, y_actual)\n",
    "        loss.backward()\n",
    "        optimizer.step()\n",
    "        current_loss += loss.item()\n",
    "    \n",
    "    \n",
    "    losses_train.append(current_loss / len(train_dataloader))\n",
    "    pr, ac, rc, auc = getMetrics(train_dataloader, model)\n",
    "    acc_train.append(ac)\n",
    "    \n",
    "    print('Epoch: {}. Training \\tLoss: {:.4f}. \\tAcc: {:.4f}'.format(epoch, (current_loss / len(train_dataloader)), ac))\n",
    "\n",
    "    \n",
    "    pr, ac, rc, auc = getMetrics(valid_dataloader, model)\n",
    "    acc_valid.append(ac)\n",
    "    print('Epoch: {}. Validation \\t\\t\\tAcc: {:.4f}'.format(epoch, ac))\n",
    "        \n",
    "    \n",
    "    "
   ]
  },
  {
   "cell_type": "code",
   "execution_count": 722,
   "metadata": {},
   "outputs": [
    {
     "data": {
      "image/png": "[encoded data removed]",
      "text/plain": [
       "<Figure size 640x480 with 1 Axes>"
      ]
     },
     "metadata": {},
     "output_type": "display_data"
    }
   ],
   "source": [
    "plt.plot(losses_train, label='Loss Train')\n",
    "plt.xlabel('epoch')\n",
    "plt.title('LR Loss')\n",
    "plt.legend()\n",
    "plt.show()"
   ]
  },
  {
   "cell_type": "code",
   "execution_count": 723,
   "metadata": {},
   "outputs": [
    {
     "data": {
      "image/png": "[encoded data removed]",
      "text/plain": [
       "<Figure size 640x480 with 1 Axes>"
      ]
     },
     "metadata": {},
     "output_type": "display_data"
    }
   ],
   "source": [
    "plt.plot(acc_train, label='Acc Train')\n",
    "plt.plot(acc_valid, label='Acc Valid')\n",
    "plt.xlabel('epoch')\n",
    "plt.title('LR Accuracy')\n",
    "plt.legend()\n",
    "plt.show()"
   ]
  },
  {
   "cell_type": "code",
   "execution_count": 724,
   "metadata": {},
   "outputs": [
    {
     "name": "stdout",
     "output_type": "stream",
     "text": [
      "Testing Metrics: \n",
      "Precision: \t0.6354 \n",
      "Accuracy: \t0.8225 \n",
      "Recall: \t0.0694 \n",
      "AUC: \t\t0.7516\n"
     ]
    }
   ],
   "source": [
    "\n",
    "pr, ac, rc, auc = getMetrics(test_dataloader, model)\n",
    "print('Testing Metrics: \\nPrecision: \\t{:.4f} \\nAccuracy: \\t{:.4f} \\nRecall: \\t{:.4f} \\nAUC: \\t\\t{:.4f}'.format(pr, ac, rc, auc))"
   ]
  },
  {
   "cell_type": "code",
   "execution_count": null,
   "metadata": {},
   "outputs": [],
   "source": []
  }
 ],
 "metadata": {
  "kernelspec": {
   "display_name": ".venv",
   "language": "python",
   "name": "python3"
  },
  "language_info": {
   "codemirror_mode": {
    "name": "ipython",
    "version": 3
   },
   "file_extension": ".py",
   "mimetype": "text/x-python",
   "name": "python",
   "nbconvert_exporter": "python",
   "pygments_lexer": "ipython3",
   "version": "3.10.9"
  },
  "orig_nbformat": 4
 },
 "nbformat": 4,
 "nbformat_minor": 2
}
