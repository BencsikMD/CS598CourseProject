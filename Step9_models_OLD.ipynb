{
 "cells": [
  {
   "cell_type": "code",
   "execution_count": 295,
   "metadata": {},
   "outputs": [],
   "source": [
    "import pandas as pd\n",
    "import numpy as np\n",
    "import os\n",
    "from tqdm.notebook import trange, tqdm\n",
    "import matplotlib.pyplot as plt\n",
    "import re\n",
    "import torch\n",
    "from torch.utils.data import DataLoader\n",
    "from torch.utils.data import Dataset\n",
    "from torch.utils.data import SubsetRandomSampler\n",
    "from sklearn.model_selection import train_test_split\n",
    "from sklearn.model_selection import KFold"
   ]
  },
  {
   "cell_type": "code",
   "execution_count": 296,
   "metadata": {},
   "outputs": [],
   "source": [
    "DEMO = False\n",
    "WRITE_ERRORS_TO_FILE = True"
   ]
  },
  {
   "cell_type": "code",
   "execution_count": 297,
   "metadata": {},
   "outputs": [],
   "source": [
    "\n",
    "if DEMO:\n",
    "    CHARTEVENTS_BY_ICUSTAY_ID = 'data_demo/parquet/'\n",
    "    REDUCED_CE_BY_ICUSTAY_ID = 'data_demo/samples/'\n",
    "    NUMERICAL_BY_ICUSTAY_ID = 'data_demo/samples_numerical/'\n",
    "    STATB_BY_ICUSTAY_ID = 'data_demo/samples_statB/'\n",
    "    STATB_CSV_BY_ICUSTAY_ID = 'data_demo/samples_statB_csv/'\n",
    "else:\n",
    "    CHARTEVENTS_BY_ICUSTAY_ID = 'data/parquet/'\n",
    "    REDUCED_CE_BY_ICUSTAY_ID = 'data/samples/'\n",
    "    NUMERICAL_BY_ICUSTAY_ID = 'data/samples_numerical/'\n",
    "    STATB_BY_ICUSTAY_ID = 'data/samples_statB/'\n",
    "    DEMO_BY_ICUSTAY_ID = 'data/samples_demographics/'\n",
    "    ICD9_BY_ICUSTAY_ID = 'data/samples_icd9/'\n",
    "\n",
    "\n",
    "CHARTEVENTS_FILENAME = 'mimic-iii/CHARTEVENTS.csv'\n",
    "DIAGNOSES_FILENAME = 'mimic-iii/DIAGNOSES_ICD.csv'\n",
    "READMISSION_FILENAME = 'data/readmission.csv'\n",
    "EMBEDDED_FILENAME = 'resources/embedded.parquet'\n",
    "ANNOTATION_FILENAME = 'data/anotation.csv'\n",
    "STEP_FAIL_FILE = 'Step9_failed.txt'\n",
    "BASELINE_FILENAME = 'data/baseline_data.csv'\n"
   ]
  },
  {
   "cell_type": "code",
   "execution_count": 298,
   "metadata": {},
   "outputs": [],
   "source": [
    "K_FOLDS = 5\n",
    "TEST_SIZE = 0.1\n",
    "RANDOM_STATE = 1234\n",
    "EPOCH = 3\n",
    "BATCH_SIZE = 1\n",
    "LEARNING_RATE = 0.00001\n",
    "BETA = 0.9"
   ]
  },
  {
   "cell_type": "code",
   "execution_count": 299,
   "metadata": {},
   "outputs": [],
   "source": [
    "class linearRegression(torch.nn.Module):\n",
    "    def __init__(self, inputSize, outputSize):\n",
    "        super(linearRegression, self).__init__()\n",
    "        self.linear = torch.nn.Linear(inputSize, outputSize,dtype=float)\n",
    "        #self.linear = torch.nn.Linear(inputSize, outputSize)\n",
    "\n",
    "    def forward(self, x):\n",
    "        out = torch.sigmoid(self.linear(x))\n",
    "        return out"
   ]
  },
  {
   "cell_type": "code",
   "execution_count": 300,
   "metadata": {},
   "outputs": [],
   "source": [
    "def reset_weights(m):\n",
    "    if isinstance(m, torch.nn.Conv2d) or isinstance(m, torch.nn.Linear):\n",
    "        m.reset_parameters()"
   ]
  },
  {
   "cell_type": "code",
   "execution_count": 301,
   "metadata": {},
   "outputs": [],
   "source": [
    "class ReadmissionDataset(Dataset):\n",
    "    def __init__(self, annotations_file, numerical_dir=None, statB_dir=None, icd9_dir=None, demo_dir=None):\n",
    "        self.labels = pd.read_csv(annotations_file)\n",
    "        self.numerical_dir = numerical_dir\n",
    "        self.statB_dir = statB_dir\n",
    "        self.icd9_dir = icd9_dir\n",
    "        self.demo_dir = demo_dir\n",
    "\n",
    "    def __len__(self):\n",
    "        return len(self.labels)\n",
    "\n",
    "    def __getitem__(self, idx):\n",
    "        if self.numerical_dir:\n",
    "            numerical_path = os.path.join(self.numerical_dir, 'ICUSTAY_ID='+str(self.labels.iloc[idx, 0]))\n",
    "            data = pd.read_parquet(numerical_path).to_numpy()\n",
    "        if self.statB_dir:\n",
    "            statB_path = os.path.join(self.statB_dir, 'ICUSTAY_ID='+str(self.labels.iloc[idx, 0]))\n",
    "            data = pd.read_parquet(statB_path).to_numpy().reshape(1,-1)\n",
    "            # assert data.shape[1] == 29, f'Stay = {self.labels.iloc[idx, 0]}'\n",
    "        if self.icd9_dir:\n",
    "            icd9_path = os.path.join(self.icd9_dir, 'ICUSTAY_ID='+str(self.labels.iloc[idx, 0]))\n",
    "            icd9 = pd.read_parquet(icd9_path).reset_index(drop=True).to_numpy()\n",
    "            #if self.numerical_dir:\n",
    "            icd9 = np.vstack([icd9]*data.shape[0])\n",
    "            data = np.hstack([data, icd9]) \n",
    "            # assert icd9.shape[1] == 300, f'Stay = {self.labels.iloc[idx, 0]}'\n",
    "        if self.demo_dir:\n",
    "            demo_path = os.path.join(self.demo_dir, 'ICUSTAY_ID='+str(self.labels.iloc[idx, 0]))\n",
    "            demo = pd.read_parquet(demo_path).reset_index(drop=True).to_numpy()\n",
    "            #if self.numerical_dir:\n",
    "            demo = np.vstack([demo]*data.shape[0])\n",
    "            data = np.hstack([data, demo])\n",
    "            # assert demo.shape[1] == 4, f'Stay = {self.labels.iloc[idx, 0]}'\n",
    "\n",
    "        #data = torch.from_numpy(data.astype(float))\n",
    "        data = data.astype(float)\n",
    "        label = np.ndarray((1,1))\n",
    "        label[0,0] = self.labels.iloc[idx, 1]\n",
    "        \n",
    "        return data, label"
   ]
  },
  {
   "cell_type": "code",
   "execution_count": 302,
   "metadata": {},
   "outputs": [],
   "source": [
    "class BaselineReadmissionDataset(Dataset):\n",
    "    def __init__(self, baseline_file):\n",
    "        self.baseline_file = baseline_file\n",
    "        self.dataframe = pd.read_csv(self.baseline_file)\n",
    "        self.labels = self.dataframe['READMISSION'].to_numpy().reshape(-1,1)\n",
    "        # print(self.labels)\n",
    "        self.data = self.dataframe.iloc[:,1:].to_numpy(dtype=np.float64,na_value=0.0)\n",
    "\n",
    "\n",
    "    def __len__(self):\n",
    "        return len(self.labels)\n",
    "\n",
    "    def __getitem__(self, idx):\n",
    "        data = torch.from_numpy(self.data[idx,:])\n",
    "        label = torch.from_numpy(self.labels[idx].astype(np.float64))\n",
    "\n",
    "        return data, label"
   ]
  },
  {
   "cell_type": "code",
   "execution_count": 303,
   "metadata": {},
   "outputs": [],
   "source": [
    "# data_np = pd.read_parquet(STATB_BY_ICUSTAY_ID+'ICUSTAY_ID=200001').to_numpy()\n",
    "# icd9_np = pd.read_parquet(ICD9_BY_ICUSTAY_ID+'ICUSTAY_ID=200001').to_numpy()\n",
    "# demo_df = pd.read_parquet(DEMO_BY_ICUSTAY_ID+'ICUSTAY_ID=200001').to_numpy()\n",
    "# data_np = np.hstack([data_np,icd9_np])\n",
    "# data_np.shape\n",
    "\n",
    "# demo_df = np.vstack([demo_df]*1)\n",
    "# demo_df = np.hstack([demo_df,demo_df])\n",
    "# demo_df"
   ]
  },
  {
   "cell_type": "code",
   "execution_count": 304,
   "metadata": {},
   "outputs": [],
   "source": [
    "# dataset = ReadmissionDataset(ANNOTATION_FILENAME,NUMERICAL_BY_ICUSTAY_ID, STATB_BY_ICUSTAY_ID,ICD9_BY_ICUSTAY_ID, DEMO_BY_ICUSTAY_ID)\n",
    "# dataset = ReadmissionDataset(ANNOTATION_FILENAME, numerical_dir=None, statB_dir=STATB_BY_ICUSTAY_ID, icd9_dir=ICD9_BY_ICUSTAY_ID, demo_dir=DEMO_BY_ICUSTAY_ID)\n",
    "dataset = BaselineReadmissionDataset(BASELINE_FILENAME)"
   ]
  },
  {
   "cell_type": "code",
   "execution_count": 305,
   "metadata": {},
   "outputs": [],
   "source": [
    "# dataset.labels"
   ]
  },
  {
   "cell_type": "code",
   "execution_count": 306,
   "metadata": {},
   "outputs": [],
   "source": [
    "train, test = train_test_split(dataset, test_size=TEST_SIZE, random_state=RANDOM_STATE,shuffle=False)"
   ]
  },
  {
   "cell_type": "code",
   "execution_count": 307,
   "metadata": {},
   "outputs": [
    {
     "data": {
      "text/plain": [
       "torch.Size([333])"
      ]
     },
     "execution_count": 307,
     "metadata": {},
     "output_type": "execute_result"
    }
   ],
   "source": [
    "train[0][0].shape"
   ]
  },
  {
   "cell_type": "code",
   "execution_count": 308,
   "metadata": {},
   "outputs": [
    {
     "data": {
      "text/plain": [
       "tensor([0.], dtype=torch.float64)"
      ]
     },
     "execution_count": 308,
     "metadata": {},
     "output_type": "execute_result"
    }
   ],
   "source": [
    "train[0][1]"
   ]
  },
  {
   "cell_type": "code",
   "execution_count": 309,
   "metadata": {},
   "outputs": [
    {
     "data": {
      "text/plain": [
       "333"
      ]
     },
     "execution_count": 309,
     "metadata": {},
     "output_type": "execute_result"
    }
   ],
   "source": [
    "len(dataset[0][0])"
   ]
  },
  {
   "cell_type": "code",
   "execution_count": 310,
   "metadata": {},
   "outputs": [],
   "source": [
    "# kfold = KFold(n_splits=K_FOLDS, shuffle=True)"
   ]
  },
  {
   "cell_type": "code",
   "execution_count": 311,
   "metadata": {},
   "outputs": [],
   "source": [
    "\n",
    "model = linearRegression(len(dataset[0][0]), 1)\n",
    "criterion = torch.nn.BCELoss() \n",
    "optimizer = torch.optim.SGD(model.parameters(), lr=LEARNING_RATE)"
   ]
  },
  {
   "cell_type": "code",
   "execution_count": 320,
   "metadata": {},
   "outputs": [],
   "source": [
    "\n",
    "train_sampler = SubsetRandomSampler(train)\n",
    "valid_sampler = SubsetRandomSampler(test)\n",
    "\n",
    "# train_dataloader = DataLoader(train, batch_size=32, shuffle=False, sampler=train_sampler)\n",
    "# valid_dataloader = DataLoader(train, batch_size=32, shuffle=False, sampler=valid_sampler)\n",
    "\n",
    "train_dataloader = DataLoader(train, batch_size=32, shuffle=False)\n",
    "valid_dataloader = DataLoader(train, batch_size=32, shuffle=False)"
   ]
  },
  {
   "cell_type": "code",
   "execution_count": 321,
   "metadata": {},
   "outputs": [
    {
     "name": "stdout",
     "output_type": "stream",
     "text": [
      "current loss =  1.8764223470167605\n",
      "current loss =  0.8819695394672395\n",
      "Epoch: 0. Loss: 0.5451389058505249. \n",
      "current loss =  0.386095494604615\n",
      "current loss =  0.5015669729560275\n",
      "Epoch: 1. Loss: 0.5101079282370569. \n",
      "current loss =  0.37781770822816413\n",
      "current loss =  0.48136550798126776\n",
      "Epoch: 2. Loss: 0.47779631697683833. \n"
     ]
    }
   ],
   "source": [
    "# loss_list = [[] for i in range(K_FOLDS)]\n",
    "loss_list = []\n",
    "# for fold, (train_index, valid_index) in enumerate(kfold.split(train)):\n",
    "# print('-'*50)\n",
    "# print('FOLD = ', fold+1)\n",
    "# numpy arrays of indices are created from kfold\n",
    "\n",
    "\n",
    "# model.apply(reset_weights)\n",
    "\n",
    "for epoch in range(EPOCH):\n",
    "    current_loss = 0.0\n",
    "    for i, (x_input, y_actual) in enumerate(train_dataloader):\n",
    "        #print(i)\n",
    "        #print(data)\n",
    "        \n",
    "        # x_input, y_actual = data\n",
    "        #print(x_input)\n",
    "        optimizer.zero_grad()\n",
    "        #x_input = torch.nan_to_num(x_input)\n",
    "        #print(x_input)\n",
    "        y_predict = model(torch.nan_to_num(x_input))\n",
    "        #print(y_predict)\n",
    "        # print(y_actual)\n",
    "        loss = criterion(y_predict, y_actual)\n",
    "        loss.backward()\n",
    "        optimizer.step()\n",
    "        current_loss += loss.item()\n",
    "        #print('current loss = ',current_loss)\n",
    "        if i % 1000 == 0:\n",
    "            print('current loss = ',current_loss/(i+1))\n",
    "            \n",
    "    print('Epoch: {}. Loss: {} '.format(epoch, loss.item()))\n",
    "    # loss_list[fold].append(loss.item())\n",
    "    "
   ]
  },
  {
   "cell_type": "code",
   "execution_count": 316,
   "metadata": {},
   "outputs": [
    {
     "data": {
      "text/plain": [
       "43237"
      ]
     },
     "execution_count": 316,
     "metadata": {},
     "output_type": "execute_result"
    }
   ],
   "source": []
  },
  {
   "cell_type": "code",
   "execution_count": null,
   "metadata": {},
   "outputs": [],
   "source": []
  },
  {
   "cell_type": "code",
   "execution_count": 313,
   "metadata": {},
   "outputs": [
    {
     "data": {
      "image/png": "[encoded data removed]",
      "text/plain": [
       "<Figure size 640x480 with 1 Axes>"
      ]
     },
     "metadata": {},
     "output_type": "display_data"
    }
   ],
   "source": [
    "plt.plot(loss_list[0], label='epoch loss 1')\n",
    "plt.plot(loss_list[1], label='epoch loss 2')\n",
    "plt.plot(loss_list[2], label='epoch loss 3')\n",
    "plt.plot(loss_list[3], label='epoch loss 4')\n",
    "plt.plot(loss_list[4], label='epoch loss 5')\n",
    "plt.xlabel('epoch')\n",
    "plt.title('LR Loss')\n",
    "plt.legend()\n",
    "plt.show()"
   ]
  },
  {
   "cell_type": "code",
   "execution_count": 269,
   "metadata": {},
   "outputs": [],
   "source": [
    "# test_sampler = SubsetRandomSampler(valid_index)\n",
    "# # test_dataloader = DataLoader(train, batch_size=None, shuffle=False, sampler=valid_sampler)\n",
    "# # from torch.autograd import Variable\n",
    "# test_dataloader = DataLoader(test, batch_size=None, shuffle=False, sampler=None)\n",
    "# test\n",
    "Y_pred = []\n",
    "Y_true = []\n",
    "with torch.no_grad():\n",
    "    for data, target in test:\n",
    "        \n",
    "        # print(data)\n",
    "        # print(target)\n",
    "        \n",
    "        y_predict = model(torch.nan_to_num(data))\n",
    "        #prediction = model(data).softmax(1).argmax()\n",
    "        # prediction = torch.argmax(model(data).softmax(1), dim=1)\n",
    "        #print(prediction)\n",
    "        Y_pred.append(y_predict.numpy())\n",
    "        #print(Y_pred)\n",
    "        Y_true.append(target.numpy())\n",
    "    \n",
    "    \n",
    "Y_pred = np.concatenate(Y_pred, axis=0)\n",
    "Y_true = np.concatenate(Y_true, axis=0)"
   ]
  },
  {
   "cell_type": "code",
   "execution_count": 294,
   "metadata": {},
   "outputs": [
    {
     "name": "stdout",
     "output_type": "stream",
     "text": [
      "[2.44240811e-042 2.98648969e-041 7.45425533e-043 7.04132267e-043\n",
      " 1.57373457e-064 4.37922516e-044 2.62778666e-041 5.40128702e-043\n",
      " 1.82588601e-039 2.38521535e-067 3.50431339e-093 6.41739766e-052\n",
      " 1.44031745e-052 7.06943728e-050 8.94030885e-092 2.45884963e-059\n",
      " 2.85894802e-032 1.08826709e-081 1.34888644e-070 9.07642761e-040\n",
      " 6.83432824e-034 3.56709547e-030 1.94721761e-056 3.76127628e-043\n",
      " 1.39756397e-051 5.53735265e-077 2.10733811e-024 4.76408698e-125\n",
      " 1.10071414e-052 2.69026529e-043 3.86009855e-048 8.81199884e-046\n",
      " 6.84610531e-049 3.03598079e-048 1.54726220e-061 2.56458961e-044\n",
      " 3.72810144e-046 2.32983410e-035 2.48708647e-060 8.45100848e-046\n",
      " 4.17299201e-025 2.63255953e-039 3.71256819e-049 1.19996941e-066\n",
      " 6.97627381e-048 5.62571055e-042 3.12990999e-054 3.48530184e-049\n",
      " 1.56220342e-069 6.73482757e-056]\n"
     ]
    }
   ],
   "source": [
    "print(Y_pred[50:100])"
   ]
  },
  {
   "cell_type": "code",
   "execution_count": null,
   "metadata": {},
   "outputs": [],
   "source": [
    "for i,t in enumerate(train):\n",
    "    if train[i][0].shape != (1,333):\n",
    "        print(i)"
   ]
  },
  {
   "cell_type": "code",
   "execution_count": null,
   "metadata": {},
   "outputs": [
    {
     "name": "stdout",
     "output_type": "stream",
     "text": [
      "(1, 333)\n",
      "(1, 304)\n"
     ]
    }
   ],
   "source": [
    "print(train[172][0].shape)\n",
    "print(test[1214][0].shape)"
   ]
  },
  {
   "cell_type": "code",
   "execution_count": null,
   "metadata": {},
   "outputs": [
    {
     "name": "stdout",
     "output_type": "stream",
     "text": [
      "1214\n",
      "1339\n",
      "2693\n",
      "2944\n",
      "3300\n",
      "3567\n",
      "3640\n",
      "4020\n",
      "4179\n",
      "4241\n",
      "4455\n",
      "4638\n"
     ]
    }
   ],
   "source": [
    "for i,t in enumerate(test):\n",
    "    if test[i][0].shape != (1,333):\n",
    "        print(i)"
   ]
  },
  {
   "cell_type": "code",
   "execution_count": null,
   "metadata": {},
   "outputs": [],
   "source": []
  }
 ],
 "metadata": {
  "kernelspec": {
   "display_name": ".venv",
   "language": "python",
   "name": "python3"
  },
  "language_info": {
   "codemirror_mode": {
    "name": "ipython",
    "version": 3
   },
   "file_extension": ".py",
   "mimetype": "text/x-python",
   "name": "python",
   "nbconvert_exporter": "python",
   "pygments_lexer": "ipython3",
   "version": "3.10.9"
  },
  "orig_nbformat": 4
 },
 "nbformat": 4,
 "nbformat_minor": 2
}
