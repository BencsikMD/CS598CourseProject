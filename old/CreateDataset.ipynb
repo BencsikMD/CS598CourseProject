{
 "cells": [
  {
   "attachments": {},
   "cell_type": "markdown",
   "metadata": {},
   "source": [
    "# Prediction of Hospital Readmissions\n",
    "\n",
    "This notebook's goal is to reproduce the claims from Zebin and Chaussalet's paper, 'Design and implementation of a deep recurrent model for prediction of readadmission in urgent care using electronic health records'.\n",
    "\n"
   ]
  },
  {
   "attachments": {},
   "cell_type": "markdown",
   "metadata": {},
   "source": [
    "## Claims\n",
    "\n",
    "When predicting ICU readmissions:\n",
    "\n",
    "1. LSTM+CNN produced higher accuracy than logistic regression, random forest, and SVM.\n",
    "2. LSTM+CNN produced higher precision than logistic regression, random forest, and SVM.\n",
    "3. LSTM+CNN produced higher recall than logistic regression and SVM"
   ]
  },
  {
   "cell_type": "code",
   "execution_count": null,
   "metadata": {},
   "outputs": [],
   "source": [
    "import numpy as np\n",
    "import pandas as pd\n",
    "import torch\n",
    "import rdkit\n",
    "import sklearn\n",
    "import networkx\n",
    "import tqdm\n",
    "#import pyhealth\n",
    "import matplotlib.pyplot as plt\n",
    "import csv\n",
    "import os"
   ]
  },
  {
   "cell_type": "code",
   "execution_count": null,
   "metadata": {},
   "outputs": [],
   "source": [
    "patients = pd.read_csv('./mimic-iii/PATIENTS.csv')\n",
    "patients.head()"
   ]
  },
  {
   "cell_type": "code",
   "execution_count": null,
   "metadata": {},
   "outputs": [],
   "source": [
    "admissions = pd.read_csv('./mimic-iii/ADMISSIONS.csv')\n",
    "admissions.head()"
   ]
  },
  {
   "cell_type": "code",
   "execution_count": null,
   "metadata": {},
   "outputs": [],
   "source": [
    "transfers = pd.read_csv('./mimic-iii/TRANSFERS.csv')\n",
    "transfers.head()"
   ]
  },
  {
   "attachments": {},
   "cell_type": "markdown",
   "metadata": {},
   "source": [
    "## Example\n",
    "\n",
    "Patient with `SUBJECT_ID = 250`"
   ]
  },
  {
   "cell_type": "code",
   "execution_count": null,
   "metadata": {},
   "outputs": [],
   "source": [
    "patients[patients['SUBJECT_ID'] == 250]"
   ]
  },
  {
   "cell_type": "code",
   "execution_count": null,
   "metadata": {},
   "outputs": [],
   "source": [
    "admissions[admissions['SUBJECT_ID'] == 250]"
   ]
  },
  {
   "cell_type": "code",
   "execution_count": null,
   "metadata": {},
   "outputs": [],
   "source": [
    "transfers[transfers['SUBJECT_ID'] == 250]"
   ]
  },
  {
   "attachments": {},
   "cell_type": "markdown",
   "metadata": {},
   "source": [
    "## Create Dataset"
   ]
  },
  {
   "attachments": {},
   "cell_type": "markdown",
   "metadata": {},
   "source": [
    "SUBJECT_ID exmaples  291, 283, 250"
   ]
  },
  {
   "cell_type": "code",
   "execution_count": null,
   "metadata": {},
   "outputs": [],
   "source": [
    "patients['DOB'] = pd.to_datetime(patients['DOB'], errors='coerce')\n",
    "patients['DOD'] = pd.to_datetime(patients['DOD'], errors='coerce')\n",
    "patients['DOD_HOSP'] = pd.to_datetime(patients['DOD_HOSP'], errors='coerce')\n",
    "patients['DOD_SSN'] = pd.to_datetime(patients['DOD_SSN'], errors='coerce')"
   ]
  },
  {
   "cell_type": "code",
   "execution_count": null,
   "metadata": {},
   "outputs": [],
   "source": [
    "admissions['ADMITTIME'] = pd.to_datetime(admissions['ADMITTIME'], errors='coerce')\n",
    "admissions['DISCHTIME'] = pd.to_datetime(admissions['DISCHTIME'], errors='coerce')\n",
    "admissions['DEATHTIME'] = pd.to_datetime(admissions['DEATHTIME'], errors='coerce')"
   ]
  },
  {
   "cell_type": "code",
   "execution_count": null,
   "metadata": {},
   "outputs": [],
   "source": [
    "transfers['INTIME'] = pd.to_datetime(transfers['INTIME'], errors='coerce')\n",
    "transfers['OUTTIME'] = pd.to_datetime(transfers['OUTTIME'], errors='coerce')"
   ]
  },
  {
   "cell_type": "code",
   "execution_count": null,
   "metadata": {},
   "outputs": [],
   "source": [
    "dataset = admissions[['SUBJECT_ID', 'HADM_ID', 'ADMITTIME', 'DISCHTIME', 'DEATHTIME']]\n",
    "dataset = pd.merge(dataset, patients[['SUBJECT_ID','GENDER','DOB','DOD','DOD_HOSP','DOD_SSN','EXPIRE_FLAG']], how='left', on='SUBJECT_ID')\n",
    "#dataset = dataset.drop('DEATHTIME', axis=1)\n"
   ]
  },
  {
   "cell_type": "code",
   "execution_count": null,
   "metadata": {},
   "outputs": [],
   "source": [
    "print(len(dataset[dataset['DEATHTIME'].notnull()].SUBJECT_ID.unique()))\n"
   ]
  },
  {
   "cell_type": "code",
   "execution_count": null,
   "metadata": {},
   "outputs": [],
   "source": [
    "# Remove under 18\n",
    "dataset['AGE'] = ((pd.to_datetime(dataset['ADMITTIME']).dt.date - pd.to_datetime(dataset['DOB']).dt.date) / np.timedelta64(1, 'Y')).astype(int)\n",
    "dataset = dataset[dataset['AGE'] >= 18]"
   ]
  },
  {
   "cell_type": "code",
   "execution_count": null,
   "metadata": {},
   "outputs": [],
   "source": [
    "print(dataset.shape)\n",
    "dataset.head(5)\n"
   ]
  },
  {
   "attachments": {},
   "cell_type": "markdown",
   "metadata": {},
   "source": [
    "## Test"
   ]
  },
  {
   "cell_type": "code",
   "execution_count": null,
   "metadata": {},
   "outputs": [],
   "source": [
    "dataset = pd.merge(dataset, transfers[['SUBJECT_ID', 'HADM_ID', 'ICUSTAY_ID', 'EVENTTYPE', 'PREV_CAREUNIT', 'CURR_CAREUNIT', 'INTIME', 'OUTTIME', 'LOS']], how='left', on=['SUBJECT_ID','HADM_ID'])"
   ]
  },
  {
   "cell_type": "code",
   "execution_count": null,
   "metadata": {},
   "outputs": [],
   "source": [
    "\n",
    "# test_dataset_admissions = dataset\n",
    "# test_trasfers = transfers[['SUBJECT_ID', 'HADM_ID', 'ICUSTAY_ID', 'EVENTTYPE', 'PREV_CAREUNIT', 'CURR_CAREUNIT', 'INTIME', 'OUTTIME', 'LOS']]"
   ]
  },
  {
   "cell_type": "code",
   "execution_count": null,
   "metadata": {},
   "outputs": [],
   "source": [
    "# test_dataset = test_dataset_admissions.merge(test_trasfers, how='left', on=['SUBJECT_ID','HADM_ID'])"
   ]
  },
  {
   "cell_type": "code",
   "execution_count": null,
   "metadata": {},
   "outputs": [],
   "source": [
    "dataset.head()"
   ]
  },
  {
   "cell_type": "code",
   "execution_count": null,
   "metadata": {},
   "outputs": [],
   "source": [
    "mortality_test = dataset.copy()"
   ]
  },
  {
   "cell_type": "code",
   "execution_count": null,
   "metadata": {},
   "outputs": [],
   "source": [
    "dataset.shape"
   ]
  },
  {
   "cell_type": "code",
   "execution_count": null,
   "metadata": {},
   "outputs": [],
   "source": [
    "# died in hospital\n",
    "expired = dataset[~dataset['DOD_HOSP'].isnull()]\n"
   ]
  },
  {
   "cell_type": "code",
   "execution_count": null,
   "metadata": {},
   "outputs": [],
   "source": [
    "expired.head(5)"
   ]
  },
  {
   "cell_type": "code",
   "execution_count": null,
   "metadata": {},
   "outputs": [],
   "source": [
    "# create normalized transfer times for comparison to DOD\n",
    "expired.loc[:,'INTIME_NORM'] = expired.loc[:,'INTIME'].dt.normalize()\n",
    "expired.loc[:,'OUTTIME_NORM'] = expired.loc[:,'OUTTIME'].dt.normalize()"
   ]
  },
  {
   "cell_type": "code",
   "execution_count": null,
   "metadata": {},
   "outputs": [],
   "source": [
    "np.sum(expired['DOD'] == expired['INTIME_NORM'])"
   ]
  },
  {
   "cell_type": "code",
   "execution_count": null,
   "metadata": {},
   "outputs": [],
   "source": [
    "# died in icu if conditions met\n",
    "expired_in_icu = expired[(expired['EVENTTYPE']=='discharge') & (~expired['PREV_CAREUNIT'].isnull()) & (expired['INTIME_NORM'] == expired['DOD'])]"
   ]
  },
  {
   "cell_type": "code",
   "execution_count": null,
   "metadata": {},
   "outputs": [],
   "source": [
    "expired_in_icu.head()"
   ]
  },
  {
   "cell_type": "code",
   "execution_count": null,
   "metadata": {},
   "outputs": [],
   "source": [
    "# make mask of people who died in icu for use on HADM_ID\n",
    "print(dataset.shape)\n",
    "hadm_id_unique = expired_in_icu['HADM_ID'].unique()\n",
    "dataset = dataset[~np.in1d(dataset['HADM_ID'], hadm_id_unique )]\n",
    "print(dataset.shape)\n",
    "# out = chartEvents[np.in1d(chartEvents['ITEMID'], transferID )]"
   ]
  },
  {
   "cell_type": "code",
   "execution_count": null,
   "metadata": {},
   "outputs": [],
   "source": [
    "print('Total ICU stays:\\t', len(dataset.HADM_ID.unique()))\n",
    "print('Total Patients: \\t', len(dataset.SUBJECT_ID.unique()))"
   ]
  },
  {
   "attachments": {},
   "cell_type": "markdown",
   "metadata": {},
   "source": [
    "## Mortality Test"
   ]
  },
  {
   "cell_type": "code",
   "execution_count": null,
   "metadata": {},
   "outputs": [],
   "source": [
    "mortality_test.head()"
   ]
  },
  {
   "cell_type": "code",
   "execution_count": null,
   "metadata": {},
   "outputs": [],
   "source": [
    "mortality = mortality_test.DEATHTIME.notnull() & ((mortality_test.ADMITTIME <= mortality_test.DEATHTIME) & (mortality_test.DISCHTIME >= mortality_test.DEATHTIME))\n",
    "mortality_test['MORTALITY_INHOSPITAL'] = mortality.astype(int)\n",
    "\n",
    "mortality = mortality_test.DEATHTIME.notnull() & ((mortality_test.INTIME <= mortality_test.DEATHTIME) & (mortality_test.OUTTIME >= mortality_test.DEATHTIME))\n",
    "mortality_test['MORTALITY_INUNIT'] = mortality.astype(int)"
   ]
  },
  {
   "cell_type": "code",
   "execution_count": null,
   "metadata": {},
   "outputs": [],
   "source": [
    "dt = mortality_test[mortality_test['DEATHTIME'].notnull()]\n",
    "print(len(dt.SUBJECT_ID.unique()))\n",
    "dod = mortality_test[mortality_test['DOD_HOSP'].notnull()]\n",
    "print(len(dod.SUBJECT_ID.unique()))\n",
    "\n",
    "print('DEATHTIME', np.sum(mortality_test.DEATHTIME.notnull()))\n",
    "print('DOD_HOSP', np.sum(mortality_test.DOD_HOSP.notnull()))"
   ]
  },
  {
   "cell_type": "code",
   "execution_count": null,
   "metadata": {},
   "outputs": [],
   "source": []
  }
 ],
 "metadata": {
  "kernelspec": {
   "display_name": ".venv",
   "language": "python",
   "name": "python3"
  },
  "language_info": {
   "codemirror_mode": {
    "name": "ipython",
    "version": 3
   },
   "file_extension": ".py",
   "mimetype": "text/x-python",
   "name": "python",
   "nbconvert_exporter": "python",
   "pygments_lexer": "ipython3",
   "version": "3.10.9"
  },
  "orig_nbformat": 4
 },
 "nbformat": 4,
 "nbformat_minor": 2
}
