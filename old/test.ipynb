{
 "cells": [
  {
   "attachments": {},
   "cell_type": "markdown",
   "metadata": {},
   "source": [
    "# Prediction of Hospital Readmissions\n",
    "\n",
    "This notebook's goal is to reproduce the claims from Zebin and Chaussalet's paper, 'Design and implementation of a deep recurrent model for prediction of readadmission in urgent care using electronic health records'.\n",
    "\n"
   ]
  },
  {
   "attachments": {},
   "cell_type": "markdown",
   "metadata": {},
   "source": [
    "## Claims\n",
    "\n",
    "When predicting ICU readmissions:\n",
    "\n",
    "1. LSTM+CNN produced higher accuracy than logistic regression, random forest, and SVM.\n",
    "2. LSTM+CNN produced higher precision than logistic regression, random forest, and SVM.\n",
    "3. LSTM+CNN produced higher recall than logistic regression and SVM"
   ]
  },
  {
   "cell_type": "code",
   "execution_count": null,
   "metadata": {},
   "outputs": [],
   "source": [
    "import numpy as np\n",
    "import pandas as pd\n",
    "import torch\n",
    "import rdkit\n",
    "import sklearn\n",
    "import networkx\n",
    "import tqdm\n",
    "#import pyhealth\n",
    "import matplotlib.pyplot as plt\n",
    "import csv\n",
    "import os"
   ]
  },
  {
   "cell_type": "markdown",
   "metadata": {},
   "source": []
  },
  {
   "cell_type": "code",
   "execution_count": null,
   "metadata": {},
   "outputs": [],
   "source": [
    "patients = pd.read_csv('./mimic-iii/PATIENTS.csv')\n",
    "patients.head()"
   ]
  },
  {
   "cell_type": "code",
   "execution_count": null,
   "metadata": {},
   "outputs": [],
   "source": [
    "admissions = pd.read_csv('./mimic-iii/ADMISSIONS.csv')\n",
    "admissions.head()"
   ]
  },
  {
   "cell_type": "code",
   "execution_count": null,
   "metadata": {},
   "outputs": [],
   "source": [
    "transfers = pd.read_csv('./mimic-iii/TRANSFERS.csv')\n",
    "transfers.head()"
   ]
  },
  {
   "cell_type": "code",
   "execution_count": null,
   "metadata": {},
   "outputs": [],
   "source": [
    "# NOTE: This file is 34 GB!!!\n",
    "\n",
    "# chartEvents = pd.read_csv('./mimic-iii/CHARTEVENTS.csv')\n",
    "# chartEvents.head()\n"
   ]
  },
  {
   "cell_type": "code",
   "execution_count": null,
   "metadata": {},
   "outputs": [],
   "source": [
    "\n",
    "# rows_to_read = 10000000\n",
    "# rows_to_skip = 0\n",
    "# TOTAL_ROWS =  330712483\n",
    "# file_name = 'data1.csv'\n",
    "\n",
    "# chartEvents = pd.read_csv('./mimic-iii/CHARTEVENTS.csv', usecols=['SUBJECT_ID', 'HADM_ID', 'ICUSTAY_ID','ITEMID','CHARTTIME'], skiprows=rows_to_skip, nrows=rows_to_read)\n",
    "# chartEvents.head()"
   ]
  },
  {
   "cell_type": "code",
   "execution_count": null,
   "metadata": {},
   "outputs": [],
   "source": []
  },
  {
   "cell_type": "code",
   "execution_count": null,
   "metadata": {},
   "outputs": [],
   "source": [
    "# These are some of the IDs I found for admission, transfer, discharge\n",
    "transferID = [920, 924, 4175, 1517, 227088, 226892, 227022, 220003, 228111, 225279, 225406, 227345, 227848, 3543, 227089, 226516]"
   ]
  },
  {
   "cell_type": "code",
   "execution_count": null,
   "metadata": {},
   "outputs": [],
   "source": [
    "# if os.path.isfile(file_name):\n",
    "#     os.remove(file_name)\n",
    "# out = chartEvents[np.in1d(chartEvents['ITEMID'], transferID )]\n",
    "# print(out.head())\n",
    "# with open(file_name, 'w', newline='') as file:\n",
    "#     w = csv.writer(file)\n",
    "#     w.writerow(out.columns)\n",
    "#     for row in out.values:\n",
    "#         w.writerow(row)"
   ]
  },
  {
   "cell_type": "code",
   "execution_count": null,
   "metadata": {},
   "outputs": [],
   "source": [
    "# #out = chartEvents[(chartEvents['SUBJECT_ID'] == 250) & (chartEvents['CHARTTIME'] >= '2188-11-22 00:00:00') ]\n",
    "# while chartEvents.shape[0] >= rows_to_read:\n",
    "    \n",
    "#     rows_to_skip += rows_to_read\n",
    "#     chartEvents = pd.read_csv('./mimic-iii/CHARTEVENTS.csv', usecols=['SUBJECT_ID', 'HADM_ID', 'ICUSTAY_ID','ITEMID','CHARTTIME'], skiprows=range(1,rows_to_skip+1), nrows=rows_to_read)\n",
    "#     #chartEvents = pd.read_csv('./mimic-iii/CHARTEVENTS.csv',usecols=[0,1,2,3,4,5], skiprows=rows_to_skip, nrows=rows_to_read, header=None)\n",
    "#     #print(chartEvents.head())\n",
    "#     out = chartEvents[np.in1d(chartEvents['ITEMID'], transferID )]\n",
    "#     print('{:.2%}'.format(rows_to_skip / TOTAL_ROWS), ':\\t', chartEvents.shape[0])\n",
    "#     with open(file_name, 'a',newline='') as file:\n",
    "#         w = csv.writer(file)\n",
    "#         for row in out.values:\n",
    "#             w.writerow(row)\n",
    "    \n",
    "    \n",
    "    "
   ]
  },
  {
   "cell_type": "code",
   "execution_count": null,
   "metadata": {},
   "outputs": [],
   "source": [
    "# chartEvents = pd.read_csv('./CHARTEVENTS_TRANSFER.csv', usecols=['SUBJECT_ID', 'HADM_ID', 'ICUSTAY_ID','ITEMID','CHARTTIME'])\n",
    "# chartEvents = pd.read_csv('./CHARTEVENTS_TRANSFER.csv')\n",
    "# chartEvents.head()"
   ]
  },
  {
   "cell_type": "code",
   "execution_count": null,
   "metadata": {},
   "outputs": [],
   "source": []
  },
  {
   "cell_type": "code",
   "execution_count": null,
   "metadata": {},
   "outputs": [],
   "source": []
  },
  {
   "cell_type": "code",
   "execution_count": null,
   "metadata": {},
   "outputs": [],
   "source": [
    "#np.sum(patients['EXPIRE_FLAG'])"
   ]
  },
  {
   "attachments": {},
   "cell_type": "markdown",
   "metadata": {},
   "source": [
    "## Example\n",
    "\n",
    "Patient with `SUBJECT_ID = 250`"
   ]
  },
  {
   "cell_type": "code",
   "execution_count": null,
   "metadata": {},
   "outputs": [],
   "source": [
    "patients[patients['SUBJECT_ID'] == 250]"
   ]
  },
  {
   "cell_type": "code",
   "execution_count": null,
   "metadata": {},
   "outputs": [],
   "source": [
    "admissions[admissions['SUBJECT_ID'] == 250]"
   ]
  },
  {
   "cell_type": "code",
   "execution_count": null,
   "metadata": {},
   "outputs": [],
   "source": [
    "transfers[transfers['SUBJECT_ID'] == 250]"
   ]
  },
  {
   "attachments": {},
   "cell_type": "markdown",
   "metadata": {},
   "source": [
    "## Attempt to Read CHARTEVENTS"
   ]
  },
  {
   "cell_type": "code",
   "execution_count": null,
   "metadata": {},
   "outputs": [],
   "source": [
    "# chartEvents[chartEvents['SUBJECT_ID'] == 250]"
   ]
  },
  {
   "cell_type": "code",
   "execution_count": null,
   "metadata": {},
   "outputs": [],
   "source": [
    "import dask.dataframe as dd\n",
    "#pd.read_csv('./mimic-iii/CHARTEVENTS.csv', usecols=['SUBJECT_ID', 'HADM_ID', 'ICUSTAY_ID','ITEMID','CHARTTIME'], skiprows=rows_to_skip, nrows=rows_to_read)\n",
    "testdd = dd.read_csv('./mimic-iii/CHARTEVENTS.csv', usecols=['SUBJECT_ID', 'HADM_ID', 'ICUSTAY_ID','ITEMID','CHARTTIME'], \n",
    "                     dtype={'SUBJECT_ID':np.int64, 'HADM_ID':np.int64, 'ICUSTAY_ID':np.float64,'ITEMID':np.int64,'CHARTTIME':np.str_},\n",
    "                      assume_missing=True )\n",
    "\n",
    "\n",
    "# testpd = pd.read_csv('./mimic-iii/CHARTEVENTS.csv', usecols=['SUBJECT_ID', 'HADM_ID', 'ICUSTAY_ID','ITEMID','CHARTTIME'],\n",
    "#                      dtype={'SUBJECT_ID':np.int32, 'HADM_ID':np.int32, 'ICUSTAY_ID':np.int32,'ITEMID':np.int32,'CHARTTIME':np.str_},\n",
    "#                      nrows= 100 )\n",
    "\n",
    "\n",
    "testdd.head()"
   ]
  },
  {
   "attachments": {},
   "cell_type": "markdown",
   "metadata": {},
   "source": [
    "### Success\n",
    "\n",
    "Successful read of `CHARTEVENTS` using `Dask` and converting to `Pandas`"
   ]
  },
  {
   "cell_type": "code",
   "execution_count": null,
   "metadata": {},
   "outputs": [],
   "source": [
    "# testdd[testdd['SUBJECT_ID'] == 250].head()\n",
    "# testdd[testdd.ITEMID == 250]\n",
    "testpd = testdd.compute()"
   ]
  },
  {
   "cell_type": "code",
   "execution_count": null,
   "metadata": {},
   "outputs": [],
   "source": [
    "testpd[testpd['SUBJECT_ID']==250]"
   ]
  },
  {
   "cell_type": "code",
   "execution_count": null,
   "metadata": {},
   "outputs": [],
   "source": [
    "testpd.shape"
   ]
  },
  {
   "attachments": {},
   "cell_type": "markdown",
   "metadata": {},
   "source": [
    "## Find Unique Visits"
   ]
  },
  {
   "attachments": {},
   "cell_type": "markdown",
   "metadata": {},
   "source": [
    "SUBJECT_ID  291, 283, 250"
   ]
  },
  {
   "cell_type": "code",
   "execution_count": null,
   "metadata": {},
   "outputs": [],
   "source": [
    "len(transfers.HADM_ID.unique())"
   ]
  },
  {
   "cell_type": "code",
   "execution_count": null,
   "metadata": {},
   "outputs": [],
   "source": [
    "patients.head()"
   ]
  },
  {
   "cell_type": "code",
   "execution_count": null,
   "metadata": {},
   "outputs": [],
   "source": [
    "icustays = pd.read_csv('./mimic-iii/ICUSTAYS.csv')\n",
    "icustays[icustays.SUBJECT_ID == 291]"
   ]
  },
  {
   "cell_type": "code",
   "execution_count": null,
   "metadata": {},
   "outputs": [],
   "source": [
    "transfers[transfers['SUBJECT_ID'] == 291]"
   ]
  },
  {
   "cell_type": "code",
   "execution_count": null,
   "metadata": {},
   "outputs": [],
   "source": [
    "len(icustays.SUBJECT_ID.unique())"
   ]
  },
  {
   "cell_type": "code",
   "execution_count": null,
   "metadata": {},
   "outputs": [],
   "source": [
    "admissions[admissions.SUBJECT_ID == 291]"
   ]
  },
  {
   "cell_type": "code",
   "execution_count": null,
   "metadata": {},
   "outputs": [],
   "source": [
    "patients"
   ]
  },
  {
   "cell_type": "code",
   "execution_count": null,
   "metadata": {},
   "outputs": [],
   "source": [
    "patients['DOB'] = pd.to_datetime(patients['DOB'], errors='coerce')\n",
    "patients['DOD'] = pd.to_datetime(patients['DOD'], errors='coerce')\n",
    "patients"
   ]
  },
  {
   "cell_type": "code",
   "execution_count": null,
   "metadata": {},
   "outputs": [],
   "source": [
    "((patients.DOD[1] - patients.DOB[1]) / np.timedelta64(1, 'Y'))"
   ]
  },
  {
   "cell_type": "code",
   "execution_count": null,
   "metadata": {},
   "outputs": [],
   "source": [
    "# patients_over_18 = patients[(((patients['DOD'] - patients['DOB']) / np.timedelta64(1, 'Y')) > 18) | (patients.EXPIRE_FLAG == 0)]\n",
    "patients_over_18 = patients\n",
    "patients_over_18['AGE'] = ((patients.DOD[0] - patients.DOB[0]) )\n"
   ]
  },
  {
   "cell_type": "code",
   "execution_count": null,
   "metadata": {},
   "outputs": [],
   "source": [
    "patients_over_18"
   ]
  },
  {
   "cell_type": "code",
   "execution_count": null,
   "metadata": {},
   "outputs": [],
   "source": [
    "patients[patients['SUBJECT_ID'] == 1234]"
   ]
  },
  {
   "cell_type": "code",
   "execution_count": null,
   "metadata": {},
   "outputs": [],
   "source": [
    "admissions[admissions['SUBJECT_ID'] == 1234]"
   ]
  },
  {
   "cell_type": "code",
   "execution_count": null,
   "metadata": {},
   "outputs": [],
   "source": [
    "admissions['ADMITTIME'] = pd.to_datetime(admissions['ADMITTIME'], errors='coerce')\n",
    "admissions['DISCHTIME'] = pd.to_datetime(admissions['DISCHTIME'], errors='coerce')\n",
    "admissions['DEATHTIME'] = pd.to_datetime(admissions['DEATHTIME'], errors='coerce')\n",
    "\n",
    "admissions[admissions['SUBJECT_ID'] == 1234]"
   ]
  },
  {
   "cell_type": "code",
   "execution_count": null,
   "metadata": {},
   "outputs": [],
   "source": [
    "\n",
    "patients = patients.drop('AGE',axis=1)\n",
    "patients.head()"
   ]
  },
  {
   "cell_type": "code",
   "execution_count": null,
   "metadata": {},
   "outputs": [],
   "source": [
    "for pat in patients.itertuples(name='patient'):\n",
    "    print(pat)\n",
    "    print(len(pat))\n",
    "    break"
   ]
  },
  {
   "cell_type": "code",
   "execution_count": null,
   "metadata": {},
   "outputs": [],
   "source": [
    "addmissions_subset = admissions[['SUBJECT_ID', 'HADM_ID', 'ADMITTIME', 'DISCHTIME', 'DEATHTIME']]\n",
    "addmissions_subset.head()"
   ]
  },
  {
   "cell_type": "code",
   "execution_count": null,
   "metadata": {},
   "outputs": [],
   "source": [
    "addmissions_subset = pd.merge(addmissions_subset, patients[['SUBJECT_ID','GENDER','DOB','DOD','DOD_HOSP','DOD_SSN','EXPIRE_FLAG']], how='left', on='SUBJECT_ID')\n",
    "addmissions_subset.head(5)"
   ]
  },
  {
   "cell_type": "code",
   "execution_count": null,
   "metadata": {},
   "outputs": [],
   "source": [
    "addmissions_subset=addmissions_subset.drop('DEATHTIME', axis=1)"
   ]
  },
  {
   "cell_type": "code",
   "execution_count": null,
   "metadata": {},
   "outputs": [],
   "source": [
    "addmissions_subset.head(1)"
   ]
  },
  {
   "cell_type": "code",
   "execution_count": null,
   "metadata": {},
   "outputs": [],
   "source": [
    "addmissions_subset['ADMITTIME'] = pd.to_datetime(addmissions_subset['ADMITTIME'],errors='coerce')\n",
    "addmissions_subset['DISCHTIME'] = pd.to_datetime(addmissions_subset['DISCHTIME'],errors='coerce')\n",
    "addmissions_subset['DOB'] = pd.to_datetime(addmissions_subset['DOB'],errors='coerce')\n",
    "addmissions_subset['DOD'] = pd.to_datetime(addmissions_subset['DOD'],errors='coerce')\n",
    "addmissions_subset['DOD_HOSP'] = pd.to_datetime(addmissions_subset['DOD_HOSP'],errors='coerce')\n",
    "addmissions_subset['DOD_SSN'] = pd.to_datetime(addmissions_subset['DOD_SSN'],errors='coerce')"
   ]
  },
  {
   "cell_type": "code",
   "execution_count": null,
   "metadata": {},
   "outputs": [],
   "source": [
    "addmissions_subset['AGE'] = ((pd.to_datetime(addmissions_subset['ADMITTIME']).dt.date - pd.to_datetime(addmissions_subset['DOB']).dt.date) / np.timedelta64(1, 'Y')).astype(int)"
   ]
  },
  {
   "cell_type": "code",
   "execution_count": null,
   "metadata": {},
   "outputs": [],
   "source": [
    "addmissions_subset.head()"
   ]
  },
  {
   "cell_type": "code",
   "execution_count": null,
   "metadata": {},
   "outputs": [],
   "source": []
  }
 ],
 "metadata": {
  "kernelspec": {
   "display_name": ".venv",
   "language": "python",
   "name": "python3"
  },
  "language_info": {
   "codemirror_mode": {
    "name": "ipython",
    "version": 3
   },
   "file_extension": ".py",
   "mimetype": "text/x-python",
   "name": "python",
   "nbconvert_exporter": "python",
   "pygments_lexer": "ipython3",
   "version": "3.10.9"
  },
  "orig_nbformat": 4
 },
 "nbformat": 4,
 "nbformat_minor": 2
}
